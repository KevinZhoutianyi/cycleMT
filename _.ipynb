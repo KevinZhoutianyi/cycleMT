{
 "cells": [
  {
   "cell_type": "code",
   "execution_count": 6,
   "metadata": {},
   "outputs": [],
   "source": [
    "from utils import *\n"
   ]
  },
  {
   "cell_type": "code",
   "execution_count": 2,
   "metadata": {},
   "outputs": [],
   "source": [
    "x = [[13959,  1566,    12,  2968,    10,     1,    37,   511,  1921,    19,\n",
    "            24,    13,     3,    35, 21933,    84,    56,     6,    13,   503,\n",
    "             6,    43,     3,     9, 10710,  1113,     6,   321,    16,  1487,\n",
    "          1208,    11, 20187,  1353,     5,     1,     0,     0,     0,     0,\n",
    "             0,     0,     0,     0,     0,     0,     0,     0,     0,     0,\n",
    "             0,     0,     0,     0,     0,     0,     0,     0,     0,     0,\n",
    "             0,     0,     0,     0,     0,     0,     0,     0,     0,     0,\n",
    "             0,     0,     0,     0,     0,     0,     0,     0,     0,     0,\n",
    "             0,     0,     0,     0,     0,     0,     0,     0,     0,     0,\n",
    "             0,     0,     0,     0,     0,     0,     0,     0,     0,     0,\n",
    "             0,     0,     0,     0,     0,     0,     0,     0,     0,     0,\n",
    "             0,     0,     0,     0,     0,     0,     0,     0,     0,     0,\n",
    "             0,     0,     0,     0,     0,     0,     0,     0,     0,     0,\n",
    "             0,     0,     0],\n",
    "        [13959,  1566,    12,  2968,    10,     1,   101,   103,    59,   241,\n",
    "            12,   143,     8,  1124,    13,  2259,  4131,    21,   128,  1440,\n",
    "         31823,   120,    11,  1172,   135,    21,  1440,   224,    38,  9652,\n",
    "            42,   119, 11811,  1440,     5,     1,     0,     0,     0,     0,\n",
    "             0,     0,     0,     0,     0,     0,     0,     0,     0,     0,\n",
    "             0,     0,     0,     0,     0,     0,     0,     0,     0,     0,\n",
    "             0,     0,     0,     0,     0,     0,     0,     0,     0,     0,\n",
    "             0,     0,     0,     0,     0,     0,     0,     0,     0,     0,\n",
    "             0,     0,     0,     0,     0,     0,     0,     0,     0,     0,\n",
    "             0,     0,     0,     0,     0,     0,     0,     0,     0,     0,\n",
    "             0,     0,     0,     0,     0,     0,     0,     0,     0,     0,\n",
    "             0,     0,     0,     0,     0,     0,     0,     0,     0,     0,\n",
    "             0,     0,     0,     0,     0,     0,     0,     0,     0,     0,\n",
    "             0,     0,     0]]"
   ]
  },
  {
   "cell_type": "code",
   "execution_count": 3,
   "metadata": {},
   "outputs": [
    {
     "data": {
      "text/plain": [
       "['translate English to German: The second challenge is that of enlargement which will, of course, have a considerable impact, both in budgetary and geographical terms.',\n",
       " 'translate English to German: We do not want to make the conditions of competition worse for some countries unilaterally and improve them for countries such as Austria or other transit countries.']"
      ]
     },
     "execution_count": 3,
     "metadata": {},
     "output_type": "execute_result"
    }
   ],
   "source": [
    "d(x)"
   ]
  },
  {
   "cell_type": "code",
   "execution_count": 5,
   "metadata": {},
   "outputs": [
    {
     "data": {
      "text/plain": [
       "['Die zweite Herausforderung besteht in der Erweiterung, die natürlich erhebliche Auswirkungen auf den wirtschaftlichen und geographischen Bereich haben wird.',\n",
       " 'Wir wollen nicht die Wettbewerbsbedingungen für einige Länder einseitig verschlechtern und sie für sterreich oder andere Transitländer verbessern.']"
      ]
     },
     "execution_count": 5,
     "metadata": {},
     "output_type": "execute_result"
    }
   ],
   "source": [
    "d([[  316, 15402, 18386,  8962,    16,    74, 30346,     6,    67,  4512,\n",
    "         27554,    15,     3, 27485,   219,   177,     3, 19594,    29,    64,\n",
    "           873, 16407,  1779,  5728,   745,   551,     5,     1,     0,     0],\n",
    "        [ 1185,  6056,   311,    67,     3, 19745,     7, 17391,   218,  4847,\n",
    "         24886,   236, 13584, 10020,   109,   524,  2947,    64,   680,   218,\n",
    "             3,     2, 12852,   401,  2903, 24885, 19881, 22372,     5,     1]])"
   ]
  },
  {
   "cell_type": "code",
   "execution_count": 6,
   "metadata": {},
   "outputs": [
    {
     "data": {
      "text/plain": [
       "['Die dritte Herausforderung besteht in der Erweiterung, die ja e Auswirkungen auf unsere Haushaltöffentlichenn und geographischen Bereich haben wird. Das',\n",
       " 'Wir wollen die nur Regelnsbedingungen auf einige Länder einseitig verschlchtern und sie nicht anderesterreich oder andere Transitländer verbessern.']"
      ]
     },
     "execution_count": 6,
     "metadata": {},
     "output_type": "execute_result"
    }
   ],
   "source": [
    "d([[  316, 27932, 18386,  8962,    16,    74, 30346,     6,    67,  2662,\n",
    "             3,    15,     3, 27485,   219,  1324, 21068, 17375,    29,    64,\n",
    "           873, 16407,  1779,  5728,   745,   551,     5,     1,     1,   644],\n",
    "        [ 1185,  6056,    67,   790,     3, 28510,     7, 17391,   219,  4847,\n",
    "         24886,   236, 13584, 10020,    40,   524,  2947,    64,   680,   311,\n",
    "          2903,     2, 12852,   401,  2903, 24885, 19881, 22372,     5,     1]])"
   ]
  },
  {
   "cell_type": "code",
   "execution_count": 1,
   "metadata": {},
   "outputs": [],
   "source": [
    "import torch"
   ]
  },
  {
   "cell_type": "code",
   "execution_count": 5,
   "metadata": {},
   "outputs": [],
   "source": [
    "model = torch.load('./model/G_AB.pt').eval()"
   ]
  },
  {
   "cell_type": "code",
   "execution_count": 9,
   "metadata": {},
   "outputs": [],
   "source": [
    "pred,pred_attn  = en(['relating to establishing a framework framework for the development and development development of the European Union and the development development of the European Union and the development of the European Union and the development development of a framework framework framework for the development and development development of the European Union and the development development of a framework framework framework for the development and development development of the European Union and the development development of a framework framework framework for the development and development of the European Union and the development development of the European Union and the development of the European Union, and the development development of a reprehensible forestry.', 'relating to the issue of fraud and fraud fraud. – a report on the issue of fraud and fraud in the EU and the European Commission’s report on the issue of fraud prevention prevention prevention prevention prevention prevention prevention prevention prevention prevention prevention prevention prevention prevention prevention prevention prevention prevention prevention prevention prevention prevention prevention prevention prevention prevention prevention prevention prevention prevention prevention prevention prevention prevention prevention prevention prevention prevention prevention prevention prevention prevention prevention prevention prevention prevention prevention prevention prevention prevention prevention prevention prevention prevention prevention prevention prevention prevention prevention prevention prevention prevention prevention prevention prevention prevention prevention prevention prevention prevention prevention prevention prevention prevention prevention.'])"
   ]
  },
  {
   "cell_type": "code",
   "execution_count": 10,
   "metadata": {},
   "outputs": [],
   "source": [
    "label,label_attn  = en(['I have some sympathy with the last speaker: sometimes the Committee on Budgetary Control gets so involved with the important work they are doing, that they are unable to see the wood for the trees.', 'I also welcome the presentation on behalf of the Legal Affairs Committee and the Economic and Monetary Affairs Committee which took a balanced approach to the major and indeed legitimate concerns of the Committee on Budgetary Control about fraud.'])"
   ]
  },
  {
   "cell_type": "code",
   "execution_count": null,
   "metadata": {},
   "outputs": [],
   "source": [
    "model(pred,pred_attn)"
   ]
  },
  {
   "cell_type": "code",
   "execution_count": 1,
   "metadata": {},
   "outputs": [],
   "source": [
    "import torch"
   ]
  },
  {
   "cell_type": "code",
   "execution_count": 29,
   "metadata": {},
   "outputs": [
    {
     "data": {
      "text/plain": [
       "tensor([0.8662])"
      ]
     },
     "execution_count": 29,
     "metadata": {},
     "output_type": "execute_result"
    }
   ],
   "source": [
    "inpu = torch.rand(1,requires_grad=False)\n",
    "inpu\n",
    "inpuB = torch.rand(1,requires_grad=False)\n",
    "inpuB"
   ]
  },
  {
   "cell_type": "code",
   "execution_count": 30,
   "metadata": {},
   "outputs": [
    {
     "name": "stdout",
     "output_type": "stream",
     "text": [
      "tensor([0.9243], requires_grad=True)\n"
     ]
    }
   ],
   "source": [
    "W = torch.rand(1,requires_grad=True)\n",
    "W\n",
    "print(W)"
   ]
  },
  {
   "cell_type": "code",
   "execution_count": 31,
   "metadata": {},
   "outputs": [],
   "source": [
    "output = W*inpu + inpuB"
   ]
  },
  {
   "cell_type": "code",
   "execution_count": 32,
   "metadata": {},
   "outputs": [
    {
     "ename": "RuntimeError",
     "evalue": "One of the differentiated Tensors does not require grad",
     "output_type": "error",
     "traceback": [
      "\u001b[1;31m---------------------------------------------------------------------------\u001b[0m",
      "\u001b[1;31mRuntimeError\u001b[0m                              Traceback (most recent call last)",
      "\u001b[1;32m~\\AppData\\Local\\Temp/ipykernel_53824/206016131.py\u001b[0m in \u001b[0;36m<module>\u001b[1;34m\u001b[0m\n\u001b[1;32m----> 1\u001b[1;33m \u001b[0mtorch\u001b[0m\u001b[1;33m.\u001b[0m\u001b[0mautograd\u001b[0m\u001b[1;33m.\u001b[0m\u001b[0mgrad\u001b[0m\u001b[1;33m(\u001b[0m\u001b[0moutputs\u001b[0m\u001b[1;33m=\u001b[0m\u001b[0moutput\u001b[0m\u001b[1;33m,\u001b[0m \u001b[0minputs\u001b[0m\u001b[1;33m=\u001b[0m\u001b[0minpu\u001b[0m\u001b[1;33m,\u001b[0m\u001b[0mcreate_graph\u001b[0m\u001b[1;33m=\u001b[0m\u001b[1;32mTrue\u001b[0m\u001b[1;33m,\u001b[0m \u001b[0mretain_graph\u001b[0m\u001b[1;33m=\u001b[0m\u001b[1;32mTrue\u001b[0m\u001b[1;33m,\u001b[0m \u001b[0monly_inputs\u001b[0m\u001b[1;33m=\u001b[0m\u001b[1;32mTrue\u001b[0m\u001b[1;33m)\u001b[0m\u001b[1;33m\u001b[0m\u001b[1;33m\u001b[0m\u001b[0m\n\u001b[0m",
      "\u001b[1;32m~\\miniconda3\\envs\\python38\\lib\\site-packages\\torch\\autograd\\__init__.py\u001b[0m in \u001b[0;36mgrad\u001b[1;34m(outputs, inputs, grad_outputs, retain_graph, create_graph, only_inputs, allow_unused)\u001b[0m\n\u001b[0;32m    232\u001b[0m         \u001b[0mretain_graph\u001b[0m \u001b[1;33m=\u001b[0m \u001b[0mcreate_graph\u001b[0m\u001b[1;33m\u001b[0m\u001b[1;33m\u001b[0m\u001b[0m\n\u001b[0;32m    233\u001b[0m \u001b[1;33m\u001b[0m\u001b[0m\n\u001b[1;32m--> 234\u001b[1;33m     return Variable._execution_engine.run_backward(\n\u001b[0m\u001b[0;32m    235\u001b[0m         \u001b[0moutputs\u001b[0m\u001b[1;33m,\u001b[0m \u001b[0mgrad_outputs_\u001b[0m\u001b[1;33m,\u001b[0m \u001b[0mretain_graph\u001b[0m\u001b[1;33m,\u001b[0m \u001b[0mcreate_graph\u001b[0m\u001b[1;33m,\u001b[0m\u001b[1;33m\u001b[0m\u001b[1;33m\u001b[0m\u001b[0m\n\u001b[0;32m    236\u001b[0m         inputs, allow_unused, accumulate_grad=False)\n",
      "\u001b[1;31mRuntimeError\u001b[0m: One of the differentiated Tensors does not require grad"
     ]
    }
   ],
   "source": [
    "torch.autograd.grad(outputs=output, inputs=inpu,create_graph=True, retain_graph=True, only_inputs=True)"
   ]
  },
  {
   "cell_type": "code",
   "execution_count": 39,
   "metadata": {},
   "outputs": [],
   "source": [
    "\n",
    "alpha = torch.rand((5, 1, 1),device=torch.device('cuda:0'))\n",
    "onehot_real = torch.ones(5,4,3)\n",
    "alpha = alpha.expand(onehot_real.size())"
   ]
  },
  {
   "cell_type": "code",
   "execution_count": 40,
   "metadata": {},
   "outputs": [
    {
     "data": {
      "text/plain": [
       "tensor([[[0.1400, 0.1400, 0.1400],\n",
       "         [0.1400, 0.1400, 0.1400],\n",
       "         [0.1400, 0.1400, 0.1400],\n",
       "         [0.1400, 0.1400, 0.1400]],\n",
       "\n",
       "        [[0.1348, 0.1348, 0.1348],\n",
       "         [0.1348, 0.1348, 0.1348],\n",
       "         [0.1348, 0.1348, 0.1348],\n",
       "         [0.1348, 0.1348, 0.1348]],\n",
       "\n",
       "        [[0.3880, 0.3880, 0.3880],\n",
       "         [0.3880, 0.3880, 0.3880],\n",
       "         [0.3880, 0.3880, 0.3880],\n",
       "         [0.3880, 0.3880, 0.3880]],\n",
       "\n",
       "        [[0.9078, 0.9078, 0.9078],\n",
       "         [0.9078, 0.9078, 0.9078],\n",
       "         [0.9078, 0.9078, 0.9078],\n",
       "         [0.9078, 0.9078, 0.9078]],\n",
       "\n",
       "        [[0.8082, 0.8082, 0.8082],\n",
       "         [0.8082, 0.8082, 0.8082],\n",
       "         [0.8082, 0.8082, 0.8082],\n",
       "         [0.8082, 0.8082, 0.8082]]], device='cuda:0')"
      ]
     },
     "execution_count": 40,
     "metadata": {},
     "output_type": "execute_result"
    }
   ],
   "source": [
    "a = torch.ones(3,2,3)\n",
    "b = torch.ones(3,4,3)"
   ]
  },
  {
   "cell_type": "code",
   "execution_count": null,
   "metadata": {},
   "outputs": [],
   "source": []
  }
 ],
 "metadata": {
  "interpreter": {
   "hash": "65768f95ed3f1ad80799466926a66640b39a99ef5d94bbece814e59aa067606e"
  },
  "kernelspec": {
   "display_name": "Python 3.8.12 ('python38')",
   "language": "python",
   "name": "python3"
  },
  "language_info": {
   "codemirror_mode": {
    "name": "ipython",
    "version": 3
   },
   "file_extension": ".py",
   "mimetype": "text/x-python",
   "name": "python",
   "nbconvert_exporter": "python",
   "pygments_lexer": "ipython3",
   "version": "3.8.12"
  },
  "orig_nbformat": 4
 },
 "nbformat": 4,
 "nbformat_minor": 2
}
