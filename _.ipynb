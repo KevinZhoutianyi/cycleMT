{
 "cells": [
  {
   "cell_type": "code",
   "execution_count": 1,
   "metadata": {},
   "outputs": [],
   "source": [
    "from utils import *\n"
   ]
  },
  {
   "cell_type": "code",
   "execution_count": 2,
   "metadata": {},
   "outputs": [],
   "source": [
    "x = [[13959,  1566,    12,  2968,    10,     1,    37,   511,  1921,    19,\n",
    "            24,    13,     3,    35, 21933,    84,    56,     6,    13,   503,\n",
    "             6,    43,     3,     9, 10710,  1113,     6,   321,    16,  1487,\n",
    "          1208,    11, 20187,  1353,     5,     1,     0,     0,     0,     0,\n",
    "             0,     0,     0,     0,     0,     0,     0,     0,     0,     0,\n",
    "             0,     0,     0,     0,     0,     0,     0,     0,     0,     0,\n",
    "             0,     0,     0,     0,     0,     0,     0,     0,     0,     0,\n",
    "             0,     0,     0,     0,     0,     0,     0,     0,     0,     0,\n",
    "             0,     0,     0,     0,     0,     0,     0,     0,     0,     0,\n",
    "             0,     0,     0,     0,     0,     0,     0,     0,     0,     0,\n",
    "             0,     0,     0,     0,     0,     0,     0,     0,     0,     0,\n",
    "             0,     0,     0,     0,     0,     0,     0,     0,     0,     0,\n",
    "             0,     0,     0,     0,     0,     0,     0,     0,     0,     0,\n",
    "             0,     0,     0],\n",
    "        [13959,  1566,    12,  2968,    10,     1,   101,   103,    59,   241,\n",
    "            12,   143,     8,  1124,    13,  2259,  4131,    21,   128,  1440,\n",
    "         31823,   120,    11,  1172,   135,    21,  1440,   224,    38,  9652,\n",
    "            42,   119, 11811,  1440,     5,     1,     0,     0,     0,     0,\n",
    "             0,     0,     0,     0,     0,     0,     0,     0,     0,     0,\n",
    "             0,     0,     0,     0,     0,     0,     0,     0,     0,     0,\n",
    "             0,     0,     0,     0,     0,     0,     0,     0,     0,     0,\n",
    "             0,     0,     0,     0,     0,     0,     0,     0,     0,     0,\n",
    "             0,     0,     0,     0,     0,     0,     0,     0,     0,     0,\n",
    "             0,     0,     0,     0,     0,     0,     0,     0,     0,     0,\n",
    "             0,     0,     0,     0,     0,     0,     0,     0,     0,     0,\n",
    "             0,     0,     0,     0,     0,     0,     0,     0,     0,     0,\n",
    "             0,     0,     0,     0,     0,     0,     0,     0,     0,     0,\n",
    "             0,     0,     0]]"
   ]
  },
  {
   "cell_type": "code",
   "execution_count": 3,
   "metadata": {},
   "outputs": [
    {
     "data": {
      "text/plain": [
       "['translate English to German: The second challenge is that of enlargement which will, of course, have a considerable impact, both in budgetary and geographical terms.',\n",
       " 'translate English to German: We do not want to make the conditions of competition worse for some countries unilaterally and improve them for countries such as Austria or other transit countries.']"
      ]
     },
     "execution_count": 3,
     "metadata": {},
     "output_type": "execute_result"
    }
   ],
   "source": [
    "d(x)"
   ]
  },
  {
   "cell_type": "code",
   "execution_count": 5,
   "metadata": {},
   "outputs": [
    {
     "data": {
      "text/plain": [
       "['Die zweite Herausforderung besteht in der Erweiterung, die natürlich erhebliche Auswirkungen auf den wirtschaftlichen und geographischen Bereich haben wird.',\n",
       " 'Wir wollen nicht die Wettbewerbsbedingungen für einige Länder einseitig verschlechtern und sie für sterreich oder andere Transitländer verbessern.']"
      ]
     },
     "execution_count": 5,
     "metadata": {},
     "output_type": "execute_result"
    }
   ],
   "source": [
    "d([[  316, 15402, 18386,  8962,    16,    74, 30346,     6,    67,  4512,\n",
    "         27554,    15,     3, 27485,   219,   177,     3, 19594,    29,    64,\n",
    "           873, 16407,  1779,  5728,   745,   551,     5,     1,     0,     0],\n",
    "        [ 1185,  6056,   311,    67,     3, 19745,     7, 17391,   218,  4847,\n",
    "         24886,   236, 13584, 10020,   109,   524,  2947,    64,   680,   218,\n",
    "             3,     2, 12852,   401,  2903, 24885, 19881, 22372,     5,     1]])"
   ]
  },
  {
   "cell_type": "code",
   "execution_count": 6,
   "metadata": {},
   "outputs": [
    {
     "data": {
      "text/plain": [
       "['Die dritte Herausforderung besteht in der Erweiterung, die ja e Auswirkungen auf unsere Haushaltöffentlichenn und geographischen Bereich haben wird. Das',\n",
       " 'Wir wollen die nur Regelnsbedingungen auf einige Länder einseitig verschlchtern und sie nicht anderesterreich oder andere Transitländer verbessern.']"
      ]
     },
     "execution_count": 6,
     "metadata": {},
     "output_type": "execute_result"
    }
   ],
   "source": [
    "d([[  316, 27932, 18386,  8962,    16,    74, 30346,     6,    67,  2662,\n",
    "             3,    15,     3, 27485,   219,  1324, 21068, 17375,    29,    64,\n",
    "           873, 16407,  1779,  5728,   745,   551,     5,     1,     1,   644],\n",
    "        [ 1185,  6056,    67,   790,     3, 28510,     7, 17391,   219,  4847,\n",
    "         24886,   236, 13584, 10020,    40,   524,  2947,    64,   680,   311,\n",
    "          2903,     2, 12852,   401,  2903, 24885, 19881, 22372,     5,     1]])"
   ]
  },
  {
   "cell_type": "code",
   "execution_count": null,
   "metadata": {},
   "outputs": [],
   "source": []
  }
 ],
 "metadata": {
  "interpreter": {
   "hash": "65768f95ed3f1ad80799466926a66640b39a99ef5d94bbece814e59aa067606e"
  },
  "kernelspec": {
   "display_name": "Python 3.8.12 ('python38')",
   "language": "python",
   "name": "python3"
  },
  "language_info": {
   "codemirror_mode": {
    "name": "ipython",
    "version": 3
   },
   "file_extension": ".py",
   "mimetype": "text/x-python",
   "name": "python",
   "nbconvert_exporter": "python",
   "pygments_lexer": "ipython3",
   "version": "3.8.12"
  },
  "orig_nbformat": 4
 },
 "nbformat": 4,
 "nbformat_minor": 2
}
