{
 "cells": [
  {
   "cell_type": "code",
   "execution_count": 1,
   "metadata": {},
   "outputs": [
    {
     "name": "stdout",
     "output_type": "stream",
     "text": [
      "tensor([[-13.7053,   9.1435, -21.8582,  10.8497],\n",
      "        [ 13.3846, -18.5725, -16.1739, -11.5604],\n",
      "        [  2.3994,   0.2478, -10.9972,   6.5184]])\n"
     ]
    }
   ],
   "source": [
    "import torch\n",
    "import torch.nn.functional as F\n",
    "logits = torch.randn(3, 4)*10\n",
    "print(logits)\n"
   ]
  },
  {
   "cell_type": "code",
   "execution_count": 5,
   "metadata": {},
   "outputs": [],
   "source": [
    "a = torch.Tensor([[[-18.2558,  -9.6608, -15.5738,    -50.0866, -50.1331, -50.2364],\n",
    "         [-17.0320,  -5.4464,  -8.3393, -31.7471, -31.7737, -31.9135],\n",
    "         [-43.6341, -22.0459, -23.3187,    -64.4549, -64.7413, -64.8144],\n",
    "          \n",
    "         [-37.4918, -20.9379, -18.5400,    -55.9991, -55.9780, -56.0689],\n",
    "         [-22.0452,  -9.2300,  -8.3841,    -40.1369, -40.0837, -40.0113],\n",
    "         [-41.9367, -20.4680, -21.2568,    -66.0529, -65.9898, -66.0962]],\n",
    "\n",
    "        [[-15.4946, -10.1611, -16.0635,    -48.1857, -48.2550, -48.2414],\n",
    "         [-22.2560, -10.2582, -13.8651,    -42.1722, -42.1927, -42.2060],\n",
    "         [-22.9107,  -6.6016,  -8.0379,    -37.7596, -37.7748, -37.6419],\n",
    "          \n",
    "         [-32.9230, -14.5505, -16.7494,    -51.3574, -51.4561, -51.5225],\n",
    "         [-41.2204, -25.1509, -16.1806,    -62.8647, -63.0306, -62.8994],\n",
    "         [-51.8093, -30.5719, -26.5000,    -72.4618, -72.6369, -72.5331]],\n",
    "\n",
    "        [[-12.7670,  -5.9766, -12.2441,    -37.2750, -37.2353, -37.2623],\n",
    "         [-18.7271,  -9.5906, -12.4751,    -37.9014, -37.8288, -37.8236],\n",
    "         [-23.1169, -13.8109,  -4.2865,    -40.0670, -40.1864, -40.0178],\n",
    "          \n",
    "         [-55.5245, -27.0762, -26.6836,    -70.3255, -70.3861, -70.4303],\n",
    "         [-30.0465, -18.9549, -17.3846,    -57.4578, -57.4611, -57.3958],\n",
    "         [-28.7090, -12.5783, -16.4133,    -52.9247, -52.9540, -52.8771]]])"
   ]
  },
  {
   "cell_type": "code",
   "execution_count": 6,
   "metadata": {},
   "outputs": [
    {
     "name": "stdout",
     "output_type": "stream",
     "text": [
      "tensor([[[1.8450e-04, 9.9712e-01, 2.6963e-03, 2.7672e-18, 2.6415e-18,\n",
      "          2.3823e-18],\n",
      "         [8.8107e-06, 9.4749e-01, 5.2505e-02, 3.5836e-12, 3.4896e-12,\n",
      "          3.0343e-12],\n",
      "         [3.2896e-10, 7.8122e-01, 2.1878e-01, 2.9839e-19, 2.2408e-19,\n",
      "          2.0828e-19],\n",
      "         [5.3895e-09, 8.3333e-02, 9.1667e-01, 4.9423e-17, 5.0477e-17,\n",
      "          4.6091e-17],\n",
      "         [8.1654e-07, 3.0029e-01, 6.9971e-01, 1.1346e-14, 1.1966e-14,\n",
      "          1.2865e-14],\n",
      "         [3.2627e-10, 6.8757e-01, 3.1243e-01, 1.0966e-20, 1.1680e-20,\n",
      "          1.0501e-20]],\n",
      "\n",
      "        [[4.7909e-03, 9.9250e-01, 2.7124e-03, 3.0399e-17, 2.8363e-17,\n",
      "          2.8752e-17],\n",
      "         [5.9950e-06, 9.7358e-01, 2.6419e-02, 1.3437e-14, 1.3164e-14,\n",
      "          1.2990e-14],\n",
      "         [6.6741e-08, 8.0788e-01, 1.9212e-01, 2.3746e-14, 2.3388e-14,\n",
      "          2.6713e-14],\n",
      "         [9.4458e-09, 9.0015e-01, 9.9849e-02, 9.3171e-17, 8.4414e-17,\n",
      "          7.8991e-17],\n",
      "         [1.3344e-11, 1.2711e-04, 9.9987e-01, 5.3125e-21, 4.5004e-21,\n",
      "          5.1313e-21],\n",
      "         [1.0022e-11, 1.6759e-02, 9.8324e-01, 1.0757e-20, 9.0294e-21,\n",
      "          1.0017e-20]],\n",
      "\n",
      "        [[1.1211e-03, 9.9699e-01, 1.8913e-03, 2.5466e-14, 2.6498e-14,\n",
      "          2.5792e-14],\n",
      "         [1.0195e-04, 9.4698e-01, 5.2920e-02, 4.7986e-13, 5.1599e-13,\n",
      "          5.1868e-13],\n",
      "         [6.6379e-09, 7.3042e-05, 9.9993e-01, 2.8886e-16, 2.5635e-16,\n",
      "          3.0343e-16],\n",
      "         [1.7802e-13, 4.0309e-01, 5.9691e-01, 6.6446e-20, 6.2539e-20,\n",
      "          5.9836e-20],\n",
      "         [2.6239e-06, 1.7217e-01, 8.2782e-01, 3.2686e-18, 3.2579e-18,\n",
      "          3.4777e-18],\n",
      "         [9.6660e-08, 9.7886e-01, 2.1145e-02, 2.9410e-18, 2.8561e-18,\n",
      "          3.0844e-18]]])\n"
     ]
    }
   ],
   "source": [
    "print(torch.softmax(a,-1))"
   ]
  },
  {
   "cell_type": "code",
   "execution_count": 4,
   "metadata": {},
   "outputs": [
    {
     "name": "stderr",
     "output_type": "stream",
     "text": [
      "C:\\Users\\kevin\\AppData\\Local\\Temp/ipykernel_279196/3816613119.py:2: RuntimeWarning: invalid value encountered in log\n",
      "  b = np.log(a)\n"
     ]
    },
    {
     "data": {
      "text/plain": [
       "tensor([[[nan, nan, nan, nan, nan, nan],\n",
       "         [nan, nan, nan, nan, nan, nan],\n",
       "         [nan, nan, nan, nan, nan, nan],\n",
       "         [nan, nan, nan, nan, nan, nan],\n",
       "         [nan, nan, nan, nan, nan, nan],\n",
       "         [nan, nan, nan, nan, nan, nan]],\n",
       "\n",
       "        [[nan, nan, nan, nan, nan, nan],\n",
       "         [nan, nan, nan, nan, nan, nan],\n",
       "         [nan, nan, nan, nan, nan, nan],\n",
       "         [nan, nan, nan, nan, nan, nan],\n",
       "         [nan, nan, nan, nan, nan, nan],\n",
       "         [nan, nan, nan, nan, nan, nan]],\n",
       "\n",
       "        [[nan, nan, nan, nan, nan, nan],\n",
       "         [nan, nan, nan, nan, nan, nan],\n",
       "         [nan, nan, nan, nan, nan, nan],\n",
       "         [nan, nan, nan, nan, nan, nan],\n",
       "         [nan, nan, nan, nan, nan, nan],\n",
       "         [nan, nan, nan, nan, nan, nan]]])"
      ]
     },
     "execution_count": 4,
     "metadata": {},
     "output_type": "execute_result"
    }
   ],
   "source": [
    "import numpy as np\n",
    "a = np.log(np.e,a)"
   ]
  },
  {
   "cell_type": "code",
   "execution_count": 14,
   "metadata": {},
   "outputs": [
    {
     "name": "stdout",
     "output_type": "stream",
     "text": [
      "tensor([[[0., 1., 0., 0., 0., 0.],\n",
      "         [0., 1., 0., 0., 0., 0.],\n",
      "         [0., 1., 0., 0., 0., 0.],\n",
      "         [0., 0., 1., 0., 0., 0.],\n",
      "         [0., 0., 1., 0., 0., 0.],\n",
      "         [0., 1., 0., 0., 0., 0.]],\n",
      "\n",
      "        [[0., 1., 0., 0., 0., 0.],\n",
      "         [0., 1., 0., 0., 0., 0.],\n",
      "         [0., 0., 1., 0., 0., 0.],\n",
      "         [0., 1., 0., 0., 0., 0.],\n",
      "         [0., 0., 1., 0., 0., 0.],\n",
      "         [0., 0., 1., 0., 0., 0.]],\n",
      "\n",
      "        [[0., 1., 0., 0., 0., 0.],\n",
      "         [0., 1., 0., 0., 0., 0.],\n",
      "         [0., 0., 1., 0., 0., 0.],\n",
      "         [0., 1., 0., 0., 0., 0.],\n",
      "         [0., 0., 1., 0., 0., 0.],\n",
      "         [0., 1., 0., 0., 0., 0.]]])\n"
     ]
    }
   ],
   "source": [
    "# Sample soft categorical using reparametrization trick:\n",
    "soft = F.gumbel_softmax(a, tau=1, hard=False,dim=-1)\n",
    "# print(soft)\n",
    "# Sample hard categorical using \"Straight-through\" trick:\n",
    "soft = F.gumbel_softmax(a, tau=1, hard=True,dim=-1)\n",
    "print(soft)"
   ]
  },
  {
   "cell_type": "code",
   "execution_count": 70,
   "metadata": {},
   "outputs": [
    {
     "data": {
      "text/plain": [
       "tensor([[0.7472, 0.7472, 0.7472, 0.7472, 0.7472],\n",
       "        [0.6316, 0.6316, 0.6316, 0.6316, 0.6316],\n",
       "        [0.1300, 0.1300, 0.1300, 0.1300, 0.1300]])"
      ]
     },
     "execution_count": 70,
     "metadata": {},
     "output_type": "execute_result"
    }
   ],
   "source": [
    "real = torch.rand(3,5)\n",
    "alpha = torch.rand(3,1)\n",
    "alpha.expand(real.size())"
   ]
  },
  {
   "cell_type": "code",
   "execution_count": null,
   "metadata": {},
   "outputs": [],
   "source": []
  }
 ],
 "metadata": {
  "interpreter": {
   "hash": "65768f95ed3f1ad80799466926a66640b39a99ef5d94bbece814e59aa067606e"
  },
  "kernelspec": {
   "display_name": "Python 3.8.12 ('python38')",
   "language": "python",
   "name": "python3"
  },
  "language_info": {
   "codemirror_mode": {
    "name": "ipython",
    "version": 3
   },
   "file_extension": ".py",
   "mimetype": "text/x-python",
   "name": "python",
   "nbconvert_exporter": "python",
   "pygments_lexer": "ipython3",
   "version": "3.8.12"
  },
  "orig_nbformat": 4
 },
 "nbformat": 4,
 "nbformat_minor": 2
}
