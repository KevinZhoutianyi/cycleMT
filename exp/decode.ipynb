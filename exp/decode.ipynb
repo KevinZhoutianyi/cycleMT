{
 "cells": [
  {
   "cell_type": "code",
   "execution_count": 1,
   "metadata": {},
   "outputs": [],
   "source": [
    "from transformers import AutoTokenizer\n",
    "tokenizer = AutoTokenizer.from_pretrained('t5-small')\n",
    "def d(l):\n",
    "    return tokenizer.batch_decode(l,skip_special_tokens=True)"
   ]
  },
  {
   "cell_type": "code",
   "execution_count": null,
   "metadata": {},
   "outputs": [
    {
     "data": {
      "text/plain": [
       "['translate German to English: Diese kleineren Unternehmen entsorgen ihre Ladung oder vermischen sie mit anderen Fra',\n",
       " 'translate German to English: Einige Redner haben bereits die Arbeitslosigkeit und den Bevölkerungsrückgang erwähnt.',\n",
       " 'translate German to English: Ich möchte die Vizepräsidentin fragen, ob sie heute in der Lage ist']"
      ]
     },
     "execution_count": 22,
     "metadata": {},
     "output_type": "execute_result"
    }
   ],
   "source": [
    "d([[ 2858,    16,   325,   102,  3767,    26,  6595,    67, 13276,    74,\n",
    "          3371,  6594,     6,     3, 11616,   292,   289,     3, 13702],\n",
    "        [ 1122,   229,  7308,     6,   602,    67,  5877,    29, 14932,    35,\n",
    "             3,    18, 13636,    64,  5837,  5451,     3,    18,  4196],\n",
    "        [  316, 15402, 18386,   229,    67, 30346,     6,    67,  4512,     3,\n",
    "             7, 11413,    16,  5427,    32, 21068,   501,   319,    16]])"
   ]
  },
  {
   "cell_type": "code",
   "execution_count": null,
   "metadata": {},
   "outputs": [
    {
     "data": {
      "text/plain": [
       "['They are preparing their dung or securing their cargo with other freight, or ',\n",
       " 'Some of us have already mentioned unemployment and the demographic recovery.',\n",
       " 'I would like to ask the Vice-President if she is in a position to']"
      ]
     },
     "execution_count": 23,
     "metadata": {},
     "output_type": "execute_result"
    }
   ],
   "source": [
    "d([[  328,    33,     3,  6955,    70,     3,  8646,    42,     3,     7,\n",
    "         17348,    70, 15470,    28,   119, 17746,     6,    42,     3],\n",
    "        [  886,    13,   178,    43,   641,  2799, 17646,    11,     8, 14798,\n",
    "          3938,     5,     1,     0,     0,     0,     0,     0,     0],\n",
    "        [   27,   133,   114,    12,   987,     8,  8236,    18,   345, 15704,\n",
    "             3,    99,   255,    19,    16,     3,     9,  1102,    12]])"
   ]
  },
  {
   "cell_type": "code",
   "execution_count": null,
   "metadata": {},
   "outputs": [
    {
     "data": {
      "text/plain": [
       "['They are a to cargoshipments or dumpingm them cargo with other cargo. and they',\n",
       " 'Some speakers the have already mentioned unemployment and the decline decline.t   There Some',\n",
       " 'I would like to ask the Vice-President whetherif she is in a position to']"
      ]
     },
     "execution_count": 21,
     "metadata": {},
     "output_type": "execute_result"
    }
   ],
   "source": [
    "d([[  328,    33,     3,     9,    12, 15470, 30645,    42,     3, 30380,\n",
    "            51,   135, 15470,    28,   119, 15470,     5,    11,    79],\n",
    "        [  886,  7215,     8,    43,   641,  2799, 17646,    11,     8,  7198,\n",
    "          7198,     5,     1,    17,     1,     3,     3,   290,   886],\n",
    "        [   27,   133,   114,    12,   987,     8,  8236,    18,   345, 15704,\n",
    "           823,    99,   255,    19,    16,     3,     9,  1102,    12]])"
   ]
  },
  {
   "cell_type": "code",
   "execution_count": null,
   "metadata": {},
   "outputs": [
    {
     "data": {
      "text/plain": [
       "['Diese kleineren Unternehmen entsorgen ihre Ladung oder vermischen sie mit anderen Fra',\n",
       " 'Einige Redner haben bereits die Arbeitslosigkeit und den Bevölkerungsrückgang erwähnt.',\n",
       " 'Ich möchte die Vizepräsidentin fragen, ob sie heute in der Lage ist']"
      ]
     },
     "execution_count": 15,
     "metadata": {},
     "output_type": "execute_result"
    }
   ],
   "source": [
    "d([[  328,    33,     3,  6955,    70,     3,  8646,    42,     3,     7,\n",
    "         17348,    70, 15470,    28,   119, 17746,     6,    42,     3],\n",
    "        [  886,    13,   178,    43,   641,  2799, 17646,    11,     8, 14798,\n",
    "          3938,     5,     1,     0,     0,     0,     0,     0,     0],\n",
    "        [   27,   133,   114,    12,   987,     8,  8236,    18,   345, 15704,\n",
    "             3,    99,   255,    19,    16,     3,     9,  1102,    12]])"
   ]
  },
  {
   "cell_type": "code",
   "execution_count": null,
   "metadata": {},
   "outputs": [
    {
     "data": {
      "text/plain": [
       "['Diese kleineren Unternehmen entsorgen ihre Ladung oder vermischen sie mit anderen Fra',\n",
       " 'Einige Redner haben bereits die Arbeitslosigkeit und den Bevölkerungsrückgang erwähnt.',\n",
       " 'Ich möchte die Vizepräsidentin fragen, ob sie heute in der Lage ist']"
      ]
     },
     "execution_count": 16,
     "metadata": {},
     "output_type": "execute_result"
    }
   ],
   "source": [
    "d([[ 2167, 14071,    35,  4428,     3,   295, 18970,    29,  1159,   325,\n",
    "          8646,   401,   548,    51,  1779,   680,   181,  2778, 10323],\n",
    "        [    3, 22369,  1624,   687,   745,  3360,    67,  4827, 30126,    64,\n",
    "           177, 23749,     7,  7733,  3810, 25442,     5,     1,     0],\n",
    "        [ 1674,  6509,    67,   584,  1737, 28255,    77,     3, 13724,     6,\n",
    "             3,    32,   115,   680,  4270,    16,    74, 12693,   229]])"
   ]
  },
  {
   "cell_type": "code",
   "execution_count": null,
   "metadata": {},
   "outputs": [],
   "source": [
    "D_A D_ret tensor([[-0.0207],\n",
    "        [ 0.0472],\n",
    "        [-0.0239]],"
   ]
  }
 ],
 "metadata": {
  "interpreter": {
   "hash": "65768f95ed3f1ad80799466926a66640b39a99ef5d94bbece814e59aa067606e"
  },
  "kernelspec": {
   "display_name": "Python 3.8.12 ('python38')",
   "language": "python",
   "name": "python3"
  },
  "language_info": {
   "codemirror_mode": {
    "name": "ipython",
    "version": 3
   },
   "file_extension": ".py",
   "mimetype": "text/x-python",
   "name": "python",
   "nbconvert_exporter": "python",
   "pygments_lexer": "ipython3",
   "version": "3.8.12"
  },
  "orig_nbformat": 4
 },
 "nbformat": 4,
 "nbformat_minor": 2
}
