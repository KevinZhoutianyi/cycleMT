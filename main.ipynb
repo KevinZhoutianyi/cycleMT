{
 "cells": [
  {
   "cell_type": "code",
   "execution_count": 1,
   "metadata": {},
   "outputs": [],
   "source": [
    "\n",
    "import os\n",
    "os.getcwd() \n",
    "os.environ[\"TOKENIZERS_PARALLELISM\"] = \"false\"\n",
    "import warnings\n",
    "from test import *\n",
    "warnings.filterwarnings(\"ignore\")\n",
    "from datasets import load_dataset,load_metric\n",
    "from transformers import AutoTokenizer, AutoModelForSeq2SeqLM, pipeline\n",
    "import torch_optimizer as optim\n",
    "from transformers.optimization import Adafactor, AdafactorSchedule\n",
    "import torch.backends.cudnn as cudnn\n",
    "from utils import *\n",
    "from torch.utils.data import TensorDataset, DataLoader, RandomSampler, SequentialSampler, SubsetRandomSampler\n",
    "from torch.autograd import Variable\n",
    "import logging\n",
    "import sys\n",
    "import transformers\n",
    "from basic_model import *\n",
    "import time\n",
    "import argparse\n",
    "from tqdm import tqdm\n",
    "from torch.utils.tensorboard import SummaryWriter\n",
    "import string\n",
    "from cycle import *\n",
    "from train import *\n",
    "from parameter import *\n",
    "device = torch.device(\"cuda\" if torch.cuda.is_available() else \"cpu\")"
   ]
  },
  {
   "cell_type": "code",
   "execution_count": 2,
   "metadata": {},
   "outputs": [
    {
     "name": "stdout",
     "output_type": "stream",
     "text": [
      "args.test_iter 500\n",
      "args.rep_iter 100\n"
     ]
    }
   ],
   "source": [
    "if(True):\n",
    "    parser = argparse.ArgumentParser(\"main\")\n",
    "\n",
    "    parser.add_argument('--valid_num_points', type=int,             default = 300, help='validation data number')\n",
    "    parser.add_argument('--train_num_points', type=int,             default = 5000, help='train data number')\n",
    "\n",
    "    parser.add_argument('--batch_size', type=int,                   default=4,     help='Batch size')\n",
    "    parser.add_argument('--max_length', type=int,                   default=128,     help='max_length')\n",
    "\n",
    "    parser.add_argument('--gpu', type=int,                          default=0,      help='gpu device id')\n",
    "    parser.add_argument('--G_AB_model_name', type=str,              default='t5-small',      help='model_name')\n",
    "    parser.add_argument('--G_BA_model_name', type=str,              default='Onlydrinkwater/T5-small-de-en',      help='model_name')\n",
    "    parser.add_argument('--D_A_model_name', type=str,               default='Onlydrinkwater/T5-small-de-en',      help='model_name')\n",
    "    parser.add_argument('--D_B_model_name', type=str,               default='t5-small',      help='model_name')\n",
    "    parser.add_argument('--exp_name', type=str,                     default='CYCLE!',      help='experiment name')\n",
    "    parser.add_argument('--rep_iter', type=int,                     default=100,      help='report times for 1 epoch')\n",
    "    parser.add_argument('--test_iter', type=int,                    default=500,      help='report times for 1 epoch')\n",
    "\n",
    "    parser.add_argument('--epochs', type=int,                       default=50,     help='num of training epochs')\n",
    "\n",
    "    parser.add_argument('--G_lr', type=float,                       default=5e-6,   help='learning rate for G')\n",
    "    parser.add_argument('--G_weight_decay', type=float,             default=1e-3,   help='learning de for G')\n",
    "    parser.add_argument('--G_gamma', type=float,                    default=1,    help='lr*gamma after each test')\n",
    "    parser.add_argument('--G_grad_clip', type=float,                default=1,   help='grad_clip')\n",
    "    parser.add_argument('--D_lr', type=float,                       default=5e-5,   help='learning rate for D')\n",
    "    parser.add_argument('--D_weight_decay', type=float,             default=1e-3,   help='learning de for D')\n",
    "    parser.add_argument('--D_gamma', type=float,                    default=1,    help='lr*gamma after each test')\n",
    "    parser.add_argument('--D_grad_clip', type=float,                default=1e-2,   help='grad_clip')\n",
    "    parser.add_argument('--lambda_identity', type=float,            default=0.5,   help='')\n",
    "    parser.add_argument('--lambda_A', type=float,                   default=0,   help='')\n",
    "    parser.add_argument('--lambda_B', type=float,                   default=0,   help='')\n",
    "    parser.add_argument('--lambda_once', type=float,                default=1,   help='')\n",
    "    parser.add_argument('--lambda_GP', type=float,                  default=10,   help='WGANGP pentalty')\n",
    "    parser.add_argument('--DperG', type=int,                        default=2,    help='n_critc')\n",
    "    parser.add_argument('--GperD', type=int,                        default=2,    help='n_g')\n",
    "    parser.add_argument('--smoothing', type=float,                  default=0.5,    help='labelsmoothing')\n",
    "\n",
    "    parser.add_argument('--load_D', type=int,                       default=0,      help='load pretrained D')\n",
    "    parser.add_argument('--load_G', type=int,                       default=0,      help='load pretrained D')\n",
    "    parser.add_argument('--num_workers', type=int,                  default=0,      help='num_workers')\n",
    "    parser.add_argument('--valid_begin', type=int,                  default=0,      help='whether valid before train')\n",
    "    parser.add_argument('--train_G', type=int,                      default=1,      help='whether valid before train')\n",
    "    parser.add_argument('--train_D', type=int,                      default=1,      help='whether valid before train')\n",
    "    parser.add_argument('--D_pretrain_iter', type=int,              default=5000,      help='whether valid before train')\n",
    "    parser.add_argument('--poolsize', type=int,                     default=1,      help='whether valid before train')\n",
    "\n",
    "\n",
    "    args = parser.parse_args(args=[])#(args=['--batch_size', '8',  '--no_cuda'])#used in ipynb\n",
    "    args.test_iter = args.test_iter//args.batch_size * args.batch_size\n",
    "    args.rep_iter = args.rep_iter//args.batch_size * args.batch_size\n",
    "    print('args.test_iter',args.test_iter)\n",
    "    print('args.rep_iter',args.rep_iter)#1"
   ]
  },
  {
   "cell_type": "code",
   "execution_count": 3,
   "metadata": {},
   "outputs": [
    {
     "name": "stderr",
     "output_type": "stream",
     "text": [
      "Failed to detect the name of this notebook, you can set it manually with the WANDB_NOTEBOOK_NAME environment variable to enable code saving.\n",
      "\u001b[34m\u001b[1mwandb\u001b[0m: Currently logged in as: \u001b[33monlydrinkwater\u001b[0m (use `wandb login --relogin` to force relogin)\n"
     ]
    },
    {
     "data": {
      "text/html": [
       "wandb version 0.12.16 is available!  To upgrade, please run:\n",
       " $ pip install wandb --upgrade"
      ],
      "text/plain": [
       "<IPython.core.display.HTML object>"
      ]
     },
     "metadata": {},
     "output_type": "display_data"
    },
    {
     "data": {
      "text/html": [
       "Tracking run with wandb version 0.12.11"
      ],
      "text/plain": [
       "<IPython.core.display.HTML object>"
      ]
     },
     "metadata": {},
     "output_type": "display_data"
    },
    {
     "data": {
      "text/html": [
       "Run data is saved locally in <code>g:\\GitCode\\cycleMT\\wandb\\run-20220515_231826-2e0292ze</code>"
      ],
      "text/plain": [
       "<IPython.core.display.HTML object>"
      ]
     },
     "metadata": {},
     "output_type": "display_data"
    },
    {
     "data": {
      "text/html": [
       "Syncing run <strong><a href=\"https://wandb.ai/onlydrinkwater/CYCLEGAN2/runs/2e0292ze\" target=\"_blank\">CYCLE!</a></strong> to <a href=\"https://wandb.ai/onlydrinkwater/CYCLEGAN2\" target=\"_blank\">Weights & Biases</a> (<a href=\"https://wandb.me/run\" target=\"_blank\">docs</a>)<br/>"
      ],
      "text/plain": [
       "<IPython.core.display.HTML object>"
      ]
     },
     "metadata": {},
     "output_type": "display_data"
    },
    {
     "data": {
      "text/html": [
       "<button onClick=\"this.nextSibling.style.display='block';this.style.display='none';\">Display W&B run</button><iframe src=\"https://wandb.ai/onlydrinkwater/CYCLEGAN2/runs/2e0292ze?jupyter=true\" style=\"border:none;width:100%;height:420px;display:none;\"></iframe>"
      ],
      "text/plain": [
       "<wandb.sdk.wandb_run.Run at 0x1cd21ca2a60>"
      ]
     },
     "execution_count": 3,
     "metadata": {},
     "output_type": "execute_result"
    }
   ],
   "source": [
    "import wandb\n",
    "os.environ['WANDB_API_KEY']='a166474b1b7ad33a0549adaaec19a2f6d3f91d87'\n",
    "os.environ['WANDB_NAME']=args.exp_name\n",
    "wandb.init(project=\"CYCLEGAN2\",config=args)"
   ]
  },
  {
   "cell_type": "code",
   "execution_count": 4,
   "metadata": {},
   "outputs": [
    {
     "name": "stdout",
     "output_type": "stream",
     "text": [
      "05/15 11:18:33 PM |\t  Namespace(D_A_model_name='Onlydrinkwater/T5-small-de-en', D_B_model_name='t5-small', D_gamma=1, D_grad_clip=0.01, D_lr=5e-05, D_pretrain_iter=5000, D_weight_decay=0.001, DperG=2, G_AB_model_name='t5-small', G_BA_model_name='Onlydrinkwater/T5-small-de-en', G_gamma=1, G_grad_clip=1, G_lr=5e-06, G_weight_decay=0.001, batch_size=4, epochs=50, exp_name='CYCLE!', gpu=0, lambda_A=0, lambda_B=0, lambda_GP=100, lambda_identity=0.5, lambda_once=1, load_D=0, load_G=0, max_length=128, num_workers=0, poolsize=1, rep_iter=100, smoothing=0.5, test_iter=500, train_D=1, train_G=1, train_num_points=5000, valid_begin=0, valid_num_points=300)\n"
     ]
    }
   ],
   "source": [
    "#logging file\n",
    "now = time.strftime(\"%Y-%m-%d-%H_%M_%S\",time.localtime(time.time())) \n",
    "\n",
    "log_format = '%(asctime)s |\\t  %(message)s'\n",
    "logging.basicConfig(stream=sys.stdout, level=logging.INFO,\n",
    "    format=log_format, datefmt='%m/%d %I:%M:%S %p')\n",
    "fh = logging.FileHandler(os.path.join(\"./log/\", now+'.txt'),'w',encoding = \"UTF-8\")\n",
    "fh.setFormatter(logging.Formatter(log_format))\n",
    "logging.getLogger().addHandler(fh)\n",
    "logging.info(args)"
   ]
  },
  {
   "cell_type": "code",
   "execution_count": 5,
   "metadata": {},
   "outputs": [
    {
     "name": "stdout",
     "output_type": "stream",
     "text": [
      "05/15 11:18:38 PM |\t  Gmodelsize:60.506624MB\n",
      "05/15 11:18:38 PM |\t  Dmodelsize:60.506624MB\n"
     ]
    }
   ],
   "source": [
    "GABmodelname = args.G_AB_model_name\n",
    "GBAmodelname = args.G_BA_model_name\n",
    "DAmodelname = args.D_A_model_name\n",
    "DBmodelname = args.D_B_model_name\n",
    "GABpretrained  =  AutoModelForSeq2SeqLM.from_pretrained(GABmodelname)\n",
    "GBApretrained  =  AutoModelForSeq2SeqLM.from_pretrained(GBAmodelname)\n",
    "DApretrained  =  AutoModelForSeq2SeqLM.from_pretrained(DAmodelname)\n",
    "DBpretrained  =  AutoModelForSeq2SeqLM.from_pretrained(DBmodelname)\n",
    "logging.info(f'Gmodelsize:{count_parameters_in_MB(GABpretrained)}MB')\n",
    "logging.info(f'Dmodelsize:{count_parameters_in_MB(DApretrained)}MB')\n",
    "tokenizer = AutoTokenizer.from_pretrained(GABmodelname)\n",
    "# tokenizerBA = AutoTokenizer.from_pretrained(GBAmodelname)#its the same\n"
   ]
  },
  {
   "cell_type": "code",
   "execution_count": 6,
   "metadata": {},
   "outputs": [
    {
     "name": "stdout",
     "output_type": "stream",
     "text": [
      "05/15 11:18:42 PM |\t  Using custom data configuration de-en-lang1=de,lang2=en\n",
      "05/15 11:18:42 PM |\t  Reusing dataset bible_para (C:\\Users\\kevin\\.cache\\huggingface\\datasets\\bible_para\\de-en-lang1=de,lang2=en\\0.0.0\\b6cc20bcbfb0299beeba1dcc80a8420b975938ca0eef75b3ed30b50df7d950b1)\n"
     ]
    },
    {
     "name": "stderr",
     "output_type": "stream",
     "text": [
      "100%|██████████| 1/1 [00:00<00:00, 200.53it/s]\n"
     ]
    }
   ],
   "source": [
    "dataset = load_dataset(\"bible_para\", lang1=\"de\", lang2=\"en\")#load_dataset('wmt16',language+'-en')\n",
    "train = dataset['train']['translation'][:args.train_num_points]\n",
    "valid = dataset['train']['translation'][-args.valid_num_points:]#TODO:\n",
    "\n",
    "\n",
    "train_data = get_Dataset_chaos(train, tokenizer,max_length=args.max_length)\n",
    "train_dataloader = DataLoader(train_data, sampler= RandomSampler(train_data), \n",
    "                        batch_size=args.batch_size, pin_memory=args.num_workers>0, num_workers=args.num_workers)\n",
    "valid_data = get_Dataset(valid, tokenizer,max_length=args.max_length)\n",
    "valid_dataloader = DataLoader(valid_data, sampler=SequentialSampler(valid_data), \n",
    "                        batch_size=args.batch_size, pin_memory=args.num_workers>0, num_workers=args.num_workers)"
   ]
  },
  {
   "cell_type": "code",
   "execution_count": 7,
   "metadata": {},
   "outputs": [],
   "source": [
    "cycleGAN = CycleGAN(args,GABpretrained,GBApretrained,DApretrained,DBpretrained,tokenizer)"
   ]
  },
  {
   "cell_type": "code",
   "execution_count": 8,
   "metadata": {},
   "outputs": [
    {
     "name": "stdout",
     "output_type": "stream",
     "text": [
      "05/15 11:18:44 PM |\t  \n",
      "\n",
      "  ----------------epoch:0----------------\n",
      "05/15 11:18:44 PM |\t  total iter:[0] \t G_lr:5e-06 \t DA_lr:5e-05 \t DB_lr:5e-05\n",
      "05/15 11:20:18 PM |\t  {'DA_meter': -0.012125215083360672, 'DB_meter': 0.00932083748281002, 'DA_GP_meter': 0.14181746214628219, 'DB_GP_meter': 0.29743768215179445}\n",
      "05/15 11:20:18 PM |\t  1.92%\n",
      "05/15 11:21:45 PM |\t  {'DA_meter': -0.012980260401964188, 'DB_meter': 0.0056209610402584076, 'DA_GP_meter': 0.14017686381936073, 'DB_GP_meter': 0.2954423975944519}\n",
      "05/15 11:21:45 PM |\t  3.92%\n",
      "05/15 11:23:21 PM |\t  {'DA_meter': -0.01773423679172993, 'DB_meter': 0.01698130860924721, 'DA_GP_meter': 0.06905456781387329, 'DB_GP_meter': 0.1589523497223854}\n",
      "05/15 11:23:21 PM |\t  5.92%\n",
      "05/15 11:24:49 PM |\t  {'DA_meter': -0.004901623874902725, 'DB_meter': 0.0025537327863276007, 'DA_GP_meter': 0.05301339261233807, 'DB_GP_meter': 0.06238216446246952}\n",
      "05/15 11:24:49 PM |\t  7.920000000000001%\n",
      "05/15 11:26:24 PM |\t  {'DA_meter': -0.014359284639358521, 'DB_meter': -0.003345436379313469, 'DA_GP_meter': 0.03801693469285965, 'DB_GP_meter': 0.014620126886293293}\n",
      "05/15 11:26:24 PM |\t  9.92%\n",
      "05/15 11:26:32 PM |\t  DB_a_: 0.025,  0.025,  0.024,  0.025,  \n",
      "05/15 11:26:32 PM |\t  DB_pred_dis: 0.021,  0.024,  0.022,  0.024,  \n",
      "05/15 11:26:32 PM |\t  DA_b: 0.169,  0.169,  0.169,  0.164,  \n",
      "05/15 11:26:32 PM |\t  DA_pred_dis: 0.178,  0.162,  0.163,  0.172,  \n",
      "05/15 11:26:32 PM |\t  GABloss:\t4.059814929962158\n",
      "05/15 11:26:32 PM |\t  GBAloss:\t7.552953720092773\n",
      "05/15 11:26:32 PM |\t  a_decoded[:2]:['And when he had opened the fifth seal, I saw under the altar the souls of them that were slain for the word of God, and for the testimony which they held:', 'And they cried with a loud voice, saying, How long, O Lord, holy and true, dost thou not judge and avenge our blood on them that dwell on the earth?', 'And white robes were given unto every one of them; and it was said unto them, that they should rest yet for a little season, until their fellowservants also and their brethren, that should be killed as they were, should be fulfilled.', 'And I beheld when he had opened the sixth seal, and, lo, there was a great earthquake; and the sun became black as sackcloth of hair, and the moon became as blood;']\n",
      "05/15 11:26:32 PM |\t  pred_b_decoded[:2]:['And, as it was the fifth yougel, I was among the altars of the sailors who were accused of the word God’s will and of the will of witness.', 'And they screamed with a great deal of voice and said: HERR, the saint and the saint, how long do you not and how long do you lose our blood to those who live on earth?', 'They were told that they were still a little awaited until they were full of their coffins and brothers, who should be killed as they were.', 'And I saw the sixth settlement, and see, because it is a great earthquake, and the sun is black as a black sack, and the mond is blood;']\n",
      "05/15 11:26:32 PM |\t  b_decoded[:2]:['Und da es das fünfte Siegel auftat, sah ich unter dem Altar die Seelen derer, die erwürgt waren um des Wortes Gottes willen und um des Zeugnisses willen, das sie hatten.', 'Und sie schrieen mit großer Stimme und sprachen: HERR, du Heiliger und Wahrhaftiger, wie lange richtest du nicht und rächest unser Blut an denen, die auf der Erde wohnen?', 'Und ihnen wurde gegeben einem jeglichen ein weißes Kleid, und ward zu ihnen gesagt, daß sie ruhten noch eine kleine Zeit, bis daß vollends dazukämen ihre Mitknechte und Brüder, die auch sollten noch getötet werden gleich wie sie.', 'Und ich sah, daß es das sechste Siegel auftat, und siehe, da ward ein großes Erdbeben, und die Sonne ward schwarz wie ein härener Sack, und der Mond ward wie Blut;']\n",
      "05/15 11:26:32 PM |\t  pred_a_decoded[:2]:['Und als er das fünfte Siegel geöffnet hatte, sah ich unter dem Altar die Seelen von ihnen, die für das Wort Gottes getötet wurden, und für das Zeugnis, das sie hielten:', 'Und sie riefen mit einer lauten Stimme, nämlich: Wie lange, o Herr, heilig und wahr, urteilst du nicht unser Blut auf ihnen, die auf der Erde wohnen?', 'Und es wurde ihnen gesagt, daß sie sich noch für ein wenig Zeit ruhen sollten, bis auch ihre Mitbürger und ihre Brüder, die so getötet werden sollten, erfüllt werden sollten.', 'Und ich sah, als er das sechste Siegel öffnete, und es gab ein großes Erdbeben; und die Sonne wurde schwarz als Haartuch, und der Mond wurde als Blut;']\n",
      "05/15 11:28:43 PM |\t  computing score...\n",
      "05/15 11:28:44 PM |\t  G_AB GAB sacreBLEU : 21.065306\n",
      "05/15 11:28:44 PM |\t  G_BA GBA sacreBLEU : 12.007797\n",
      "05/15 11:28:44 PM |\t  G_AB GAB test loss : 4.732660\n",
      "05/15 11:28:44 PM |\t  G_BA GBA test loss : 8.653631\n",
      "05/15 11:28:44 PM |\t  D_A DA test loss : -0.001608\n",
      "05/15 11:28:44 PM |\t  D_B DB test loss : -0.000125\n",
      "05/15 11:28:44 PM |\t  D_A DA test accuracy : 0.550000\n",
      "05/15 11:28:44 PM |\t  D_B DB test accuracy : 0.546667\n",
      "05/15 11:30:01 PM |\t  {'DA_meter': -0.01345451682806015, 'DB_meter': -0.0002551811560988426, 'DA_GP_meter': 0.007912670914083719, 'DB_GP_meter': 0.0008204634056892246}\n",
      "05/15 11:30:01 PM |\t  11.92%\n",
      "05/15 11:31:21 PM |\t  {'DA_meter': -0.01644479513168335, 'DB_meter': -0.0005109764635562897, 'DA_GP_meter': 0.007943473625928163, 'DB_GP_meter': 0.0005357662134338171}\n",
      "05/15 11:31:21 PM |\t  13.919999999999998%\n",
      "05/15 11:32:49 PM |\t  {'DA_meter': -0.04551328986883164, 'DB_meter': -0.00114750268869102, 'DA_GP_meter': 0.013978576418012381, 'DB_GP_meter': 0.00038221981783863156}\n",
      "05/15 11:32:49 PM |\t  15.920000000000002%\n",
      "05/15 11:34:18 PM |\t  {'DA_meter': -0.05419224515557289, 'DB_meter': -0.0025653888378292323, 'DA_GP_meter': 0.02119970180094242, 'DB_GP_meter': 0.0005068920127814636}\n",
      "05/15 11:34:18 PM |\t  17.919999999999998%\n",
      "05/15 11:35:43 PM |\t  {'DA_meter': -0.11286993533372879, 'DB_meter': -0.0074749917164444925, 'DA_GP_meter': 0.03179926194250584, 'DB_GP_meter': 0.0016049333091359586}\n",
      "05/15 11:35:43 PM |\t  19.919999999999998%\n",
      "05/15 11:35:51 PM |\t  DB_a_: 0.015,  0.013,  0.015,  0.012,  \n",
      "05/15 11:35:51 PM |\t  DB_pred_dis: 0.014,  0.005,  0.004,  0.006,  \n",
      "05/15 11:35:51 PM |\t  DA_b: 0.377,  0.423,  0.383,  0.357,  \n",
      "05/15 11:35:51 PM |\t  DA_pred_dis: 0.380,  0.394,  0.357,  0.351,  \n",
      "05/15 11:35:51 PM |\t  GABloss:\t4.059814929962158\n",
      "05/15 11:35:51 PM |\t  GBAloss:\t7.552953720092773\n",
      "05/15 11:35:51 PM |\t  a_decoded[:2]:['And when he had opened the fifth seal, I saw under the altar the souls of them that were slain for the word of God, and for the testimony which they held:', 'And they cried with a loud voice, saying, How long, O Lord, holy and true, dost thou not judge and avenge our blood on them that dwell on the earth?', 'And white robes were given unto every one of them; and it was said unto them, that they should rest yet for a little season, until their fellowservants also and their brethren, that should be killed as they were, should be fulfilled.', 'And I beheld when he had opened the sixth seal, and, lo, there was a great earthquake; and the sun became black as sackcloth of hair, and the moon became as blood;']\n",
      "05/15 11:35:51 PM |\t  pred_b_decoded[:2]:['And, as it was the fifth yougel, I was among the altars of the sailors who were accused of the word God’s will and of the will of witness.', 'And they screamed with a great deal of voice and said: HERR, the saint and the saint, how long do you not and how long do you lose our blood to those who live on earth?', 'They were told that they were still a little awaited until they were full of their coffins and brothers, who should be killed as they were.', 'And I saw the sixth settlement, and see, because it is a great earthquake, and the sun is black as a black sack, and the mond is blood;']\n",
      "05/15 11:35:51 PM |\t  b_decoded[:2]:['Und da es das fünfte Siegel auftat, sah ich unter dem Altar die Seelen derer, die erwürgt waren um des Wortes Gottes willen und um des Zeugnisses willen, das sie hatten.', 'Und sie schrieen mit großer Stimme und sprachen: HERR, du Heiliger und Wahrhaftiger, wie lange richtest du nicht und rächest unser Blut an denen, die auf der Erde wohnen?', 'Und ihnen wurde gegeben einem jeglichen ein weißes Kleid, und ward zu ihnen gesagt, daß sie ruhten noch eine kleine Zeit, bis daß vollends dazukämen ihre Mitknechte und Brüder, die auch sollten noch getötet werden gleich wie sie.', 'Und ich sah, daß es das sechste Siegel auftat, und siehe, da ward ein großes Erdbeben, und die Sonne ward schwarz wie ein härener Sack, und der Mond ward wie Blut;']\n",
      "05/15 11:35:51 PM |\t  pred_a_decoded[:2]:['Und als er das fünfte Siegel geöffnet hatte, sah ich unter dem Altar die Seelen von ihnen, die für das Wort Gottes getötet wurden, und für das Zeugnis, das sie hielten:', 'Und sie riefen mit einer lauten Stimme, nämlich: Wie lange, o Herr, heilig und wahr, urteilst du nicht unser Blut auf ihnen, die auf der Erde wohnen?', 'Und es wurde ihnen gesagt, daß sie sich noch für ein wenig Zeit ruhen sollten, bis auch ihre Mitbürger und ihre Brüder, die so getötet werden sollten, erfüllt werden sollten.', 'Und ich sah, als er das sechste Siegel öffnete, und es gab ein großes Erdbeben; und die Sonne wurde schwarz als Haartuch, und der Mond wurde als Blut;']\n",
      "05/15 11:38:02 PM |\t  computing score...\n",
      "05/15 11:38:03 PM |\t  G_AB GAB sacreBLEU : 21.065306\n",
      "05/15 11:38:03 PM |\t  G_BA GBA sacreBLEU : 12.007797\n",
      "05/15 11:38:03 PM |\t  G_AB GAB test loss : 4.732660\n",
      "05/15 11:38:03 PM |\t  G_BA GBA test loss : 8.653631\n",
      "05/15 11:38:03 PM |\t  D_A DA test loss : -0.013025\n",
      "05/15 11:38:03 PM |\t  D_B DB test loss : -0.006906\n",
      "05/15 11:38:03 PM |\t  D_A DA test accuracy : 0.676667\n",
      "05/15 11:38:03 PM |\t  D_B DB test accuracy : 0.933333\n",
      "05/15 11:39:28 PM |\t  {'DA_meter': -0.14683288991451263, 'DB_meter': -0.01703314596787095, 'DA_GP_meter': 0.0412403766065836, 'DB_GP_meter': 0.0038535109674558044}\n",
      "05/15 11:39:28 PM |\t  21.92%\n",
      "05/15 11:40:51 PM |\t  {'DA_meter': -0.23500714033842088, 'DB_meter': -0.03385909598320722, 'DA_GP_meter': 0.06915576606988907, 'DB_GP_meter': 0.008403627360239625}\n",
      "05/15 11:40:51 PM |\t  23.919999999999998%\n",
      "05/15 11:42:15 PM |\t  {'DA_meter': -0.31863940984010697, 'DB_meter': -0.053033570572733876, 'DA_GP_meter': 0.09660990998148918, 'DB_GP_meter': 0.010724036265164614}\n",
      "05/15 11:42:15 PM |\t  25.919999999999998%\n",
      "05/15 11:43:34 PM |\t  {'DA_meter': -0.4337062096595764, 'DB_meter': -0.06927544116973877, 'DA_GP_meter': 0.11095712751150132, 'DB_GP_meter': 0.016105028185993433}\n",
      "05/15 11:43:34 PM |\t  27.92%\n",
      "05/15 11:44:56 PM |\t  {'DA_meter': -0.49015790939331055, 'DB_meter': -0.08311621718108654, 'DA_GP_meter': 0.15353808254003526, 'DB_GP_meter': 0.018882102090865372}\n",
      "05/15 11:44:56 PM |\t  29.92%\n",
      "05/15 11:45:05 PM |\t  DB_a_: -0.00,  -0.02,  -0.01,  -0.01,  \n",
      "05/15 11:45:05 PM |\t  DB_pred_dis: -0.02,  -0.07,  -0.06,  -0.08,  \n",
      "05/15 11:45:05 PM |\t  DA_b: 0.846,  0.872,  0.826,  0.850,  \n",
      "05/15 11:45:05 PM |\t  DA_pred_dis: 0.848,  0.863,  0.810,  0.832,  \n",
      "05/15 11:45:05 PM |\t  GABloss:\t4.059814929962158\n",
      "05/15 11:45:05 PM |\t  GBAloss:\t7.552953720092773\n",
      "05/15 11:45:05 PM |\t  a_decoded[:2]:['And when he had opened the fifth seal, I saw under the altar the souls of them that were slain for the word of God, and for the testimony which they held:', 'And they cried with a loud voice, saying, How long, O Lord, holy and true, dost thou not judge and avenge our blood on them that dwell on the earth?', 'And white robes were given unto every one of them; and it was said unto them, that they should rest yet for a little season, until their fellowservants also and their brethren, that should be killed as they were, should be fulfilled.', 'And I beheld when he had opened the sixth seal, and, lo, there was a great earthquake; and the sun became black as sackcloth of hair, and the moon became as blood;']\n",
      "05/15 11:45:05 PM |\t  pred_b_decoded[:2]:['And, as it was the fifth yougel, I was among the altars of the sailors who were accused of the word God’s will and of the will of witness.', 'And they screamed with a great deal of voice and said: HERR, the saint and the saint, how long do you not and how long do you lose our blood to those who live on earth?', 'They were told that they were still a little awaited until they were full of their coffins and brothers, who should be killed as they were.', 'And I saw the sixth settlement, and see, because it is a great earthquake, and the sun is black as a black sack, and the mond is blood;']\n",
      "05/15 11:45:05 PM |\t  b_decoded[:2]:['Und da es das fünfte Siegel auftat, sah ich unter dem Altar die Seelen derer, die erwürgt waren um des Wortes Gottes willen und um des Zeugnisses willen, das sie hatten.', 'Und sie schrieen mit großer Stimme und sprachen: HERR, du Heiliger und Wahrhaftiger, wie lange richtest du nicht und rächest unser Blut an denen, die auf der Erde wohnen?', 'Und ihnen wurde gegeben einem jeglichen ein weißes Kleid, und ward zu ihnen gesagt, daß sie ruhten noch eine kleine Zeit, bis daß vollends dazukämen ihre Mitknechte und Brüder, die auch sollten noch getötet werden gleich wie sie.', 'Und ich sah, daß es das sechste Siegel auftat, und siehe, da ward ein großes Erdbeben, und die Sonne ward schwarz wie ein härener Sack, und der Mond ward wie Blut;']\n",
      "05/15 11:45:05 PM |\t  pred_a_decoded[:2]:['Und als er das fünfte Siegel geöffnet hatte, sah ich unter dem Altar die Seelen von ihnen, die für das Wort Gottes getötet wurden, und für das Zeugnis, das sie hielten:', 'Und sie riefen mit einer lauten Stimme, nämlich: Wie lange, o Herr, heilig und wahr, urteilst du nicht unser Blut auf ihnen, die auf der Erde wohnen?', 'Und es wurde ihnen gesagt, daß sie sich noch für ein wenig Zeit ruhen sollten, bis auch ihre Mitbürger und ihre Brüder, die so getötet werden sollten, erfüllt werden sollten.', 'Und ich sah, als er das sechste Siegel öffnete, und es gab ein großes Erdbeben; und die Sonne wurde schwarz als Haartuch, und der Mond wurde als Blut;']\n",
      "05/15 11:47:14 PM |\t  computing score...\n",
      "05/15 11:47:14 PM |\t  G_AB GAB sacreBLEU : 21.065306\n",
      "05/15 11:47:14 PM |\t  G_BA GBA sacreBLEU : 12.007797\n",
      "05/15 11:47:14 PM |\t  G_AB GAB test loss : 4.732660\n",
      "05/15 11:47:14 PM |\t  G_BA GBA test loss : 8.653631\n",
      "05/15 11:47:14 PM |\t  D_A DA test loss : -0.015642\n",
      "05/15 11:47:14 PM |\t  D_B DB test loss : -0.042532\n",
      "05/15 11:47:14 PM |\t  D_A DA test accuracy : 0.670000\n",
      "05/15 11:47:14 PM |\t  D_B DB test accuracy : 0.950000\n",
      "05/15 11:48:33 PM |\t  {'DA_meter': -0.5685526537895202, 'DB_meter': -0.09866173781454562, 'DA_GP_meter': 0.15132221966981887, 'DB_GP_meter': 0.022078658919781446}\n",
      "05/15 11:48:33 PM |\t  31.919999999999998%\n",
      "05/15 11:49:55 PM |\t  {'DA_meter': -0.7350217646360397, 'DB_meter': -0.1542005279660225, 'DA_GP_meter': 0.18749513179063798, 'DB_GP_meter': 0.03502581909298897}\n",
      "05/15 11:49:55 PM |\t  33.92%\n",
      "05/15 11:51:28 PM |\t  {'DA_meter': -0.8175860095024109, 'DB_meter': -0.16704748898744584, 'DA_GP_meter': 0.25750698924064636, 'DB_GP_meter': 0.06768352545797825}\n",
      "05/15 11:51:28 PM |\t  35.92%\n",
      "05/15 11:52:51 PM |\t  {'DA_meter': -0.8120055770874024, 'DB_meter': -0.2098565024137497, 'DA_GP_meter': 0.2447033044695854, 'DB_GP_meter': 0.045002067387104036}\n",
      "05/15 11:52:51 PM |\t  37.92%\n",
      "05/15 11:54:19 PM |\t  {'DA_meter': -0.9542939865589142, 'DB_meter': -0.23016504049301148, 'DA_GP_meter': 0.22730315059423448, 'DB_GP_meter': 0.056109454035758975}\n",
      "05/15 11:54:19 PM |\t  39.92%\n",
      "05/15 11:54:27 PM |\t  DB_a_: -0.03,  -0.10,  -0.09,  -0.07,  \n",
      "05/15 11:54:27 PM |\t  DB_pred_dis: -0.06,  -0.24,  -0.20,  -0.31,  \n",
      "05/15 11:54:27 PM |\t  DA_b: 1.210,  1.321,  1.239,  1.225,  \n",
      "05/15 11:54:27 PM |\t  DA_pred_dis: 1.234,  1.270,  1.200,  1.180,  \n",
      "05/15 11:54:27 PM |\t  GABloss:\t4.059814929962158\n",
      "05/15 11:54:27 PM |\t  GBAloss:\t7.552953720092773\n",
      "05/15 11:54:27 PM |\t  a_decoded[:2]:['And when he had opened the fifth seal, I saw under the altar the souls of them that were slain for the word of God, and for the testimony which they held:', 'And they cried with a loud voice, saying, How long, O Lord, holy and true, dost thou not judge and avenge our blood on them that dwell on the earth?', 'And white robes were given unto every one of them; and it was said unto them, that they should rest yet for a little season, until their fellowservants also and their brethren, that should be killed as they were, should be fulfilled.', 'And I beheld when he had opened the sixth seal, and, lo, there was a great earthquake; and the sun became black as sackcloth of hair, and the moon became as blood;']\n",
      "05/15 11:54:27 PM |\t  pred_b_decoded[:2]:['And, as it was the fifth yougel, I was among the altars of the sailors who were accused of the word God’s will and of the will of witness.', 'And they screamed with a great deal of voice and said: HERR, the saint and the saint, how long do you not and how long do you lose our blood to those who live on earth?', 'They were told that they were still a little awaited until they were full of their coffins and brothers, who should be killed as they were.', 'And I saw the sixth settlement, and see, because it is a great earthquake, and the sun is black as a black sack, and the mond is blood;']\n",
      "05/15 11:54:27 PM |\t  b_decoded[:2]:['Und da es das fünfte Siegel auftat, sah ich unter dem Altar die Seelen derer, die erwürgt waren um des Wortes Gottes willen und um des Zeugnisses willen, das sie hatten.', 'Und sie schrieen mit großer Stimme und sprachen: HERR, du Heiliger und Wahrhaftiger, wie lange richtest du nicht und rächest unser Blut an denen, die auf der Erde wohnen?', 'Und ihnen wurde gegeben einem jeglichen ein weißes Kleid, und ward zu ihnen gesagt, daß sie ruhten noch eine kleine Zeit, bis daß vollends dazukämen ihre Mitknechte und Brüder, die auch sollten noch getötet werden gleich wie sie.', 'Und ich sah, daß es das sechste Siegel auftat, und siehe, da ward ein großes Erdbeben, und die Sonne ward schwarz wie ein härener Sack, und der Mond ward wie Blut;']\n",
      "05/15 11:54:27 PM |\t  pred_a_decoded[:2]:['Und als er das fünfte Siegel geöffnet hatte, sah ich unter dem Altar die Seelen von ihnen, die für das Wort Gottes getötet wurden, und für das Zeugnis, das sie hielten:', 'Und sie riefen mit einer lauten Stimme, nämlich: Wie lange, o Herr, heilig und wahr, urteilst du nicht unser Blut auf ihnen, die auf der Erde wohnen?', 'Und es wurde ihnen gesagt, daß sie sich noch für ein wenig Zeit ruhen sollten, bis auch ihre Mitbürger und ihre Brüder, die so getötet werden sollten, erfüllt werden sollten.', 'Und ich sah, als er das sechste Siegel öffnete, und es gab ein großes Erdbeben; und die Sonne wurde schwarz als Haartuch, und der Mond wurde als Blut;']\n",
      "05/15 11:56:37 PM |\t  computing score...\n",
      "05/15 11:56:37 PM |\t  G_AB GAB sacreBLEU : 21.065306\n",
      "05/15 11:56:37 PM |\t  G_BA GBA sacreBLEU : 12.007797\n",
      "05/15 11:56:37 PM |\t  G_AB GAB test loss : 4.732660\n",
      "05/15 11:56:37 PM |\t  G_BA GBA test loss : 8.653631\n",
      "05/15 11:56:37 PM |\t  D_A DA test loss : -0.029808\n",
      "05/15 11:56:37 PM |\t  D_B DB test loss : -0.133986\n",
      "05/15 11:56:37 PM |\t  D_A DA test accuracy : 0.706667\n",
      "05/15 11:56:37 PM |\t  D_B DB test accuracy : 0.953333\n",
      "05/15 11:58:09 PM |\t  {'DA_meter': -1.0528987884521483, 'DB_meter': -0.26906539022922515, 'DA_GP_meter': 0.32196566194295884, 'DB_GP_meter': 0.06127014920115471}\n",
      "05/15 11:58:09 PM |\t  41.92%\n",
      "05/15 11:59:33 PM |\t  {'DA_meter': -1.1313131523132325, 'DB_meter': -0.25214874029159545, 'DA_GP_meter': 0.2574717152118683, 'DB_GP_meter': 0.06979273095726966}\n",
      "05/15 11:59:33 PM |\t  43.919999999999995%\n",
      "05/16 12:00:53 AM |\t  {'DA_meter': -1.3407174921035767, 'DB_meter': -0.42951399862766265, 'DA_GP_meter': 0.2915995919704437, 'DB_GP_meter': 0.09495045498013496}\n",
      "05/16 12:00:53 AM |\t  45.92%\n",
      "05/16 12:02:21 AM |\t  {'DA_meter': -1.1828623688220978, 'DB_meter': -0.365415146946907, 'DA_GP_meter': 0.40149457097053526, 'DB_GP_meter': 0.10969938084483147}\n",
      "05/16 12:02:21 AM |\t  47.92%\n",
      "05/16 12:03:46 AM |\t  {'DA_meter': -1.6638681888580322, 'DB_meter': -0.40963140308856966, 'DA_GP_meter': 0.3293854770064354, 'DB_GP_meter': 0.0958225655555725}\n",
      "05/16 12:03:46 AM |\t  49.919999999999995%\n",
      "05/16 12:03:54 AM |\t  DB_a_: -0.06,  -0.13,  -0.18,  -0.12,  \n",
      "05/16 12:03:54 AM |\t  DB_pred_dis: -0.08,  -0.36,  -0.34,  -0.38,  \n",
      "05/16 12:03:54 AM |\t  DA_b: 1.577,  1.837,  1.677,  1.617,  \n",
      "05/16 12:03:54 AM |\t  DA_pred_dis: 1.607,  1.664,  1.645,  1.500,  \n",
      "05/16 12:03:54 AM |\t  GABloss:\t4.059814929962158\n",
      "05/16 12:03:54 AM |\t  GBAloss:\t7.552953720092773\n",
      "05/16 12:03:54 AM |\t  a_decoded[:2]:['And when he had opened the fifth seal, I saw under the altar the souls of them that were slain for the word of God, and for the testimony which they held:', 'And they cried with a loud voice, saying, How long, O Lord, holy and true, dost thou not judge and avenge our blood on them that dwell on the earth?', 'And white robes were given unto every one of them; and it was said unto them, that they should rest yet for a little season, until their fellowservants also and their brethren, that should be killed as they were, should be fulfilled.', 'And I beheld when he had opened the sixth seal, and, lo, there was a great earthquake; and the sun became black as sackcloth of hair, and the moon became as blood;']\n",
      "05/16 12:03:54 AM |\t  pred_b_decoded[:2]:['And, as it was the fifth yougel, I was among the altars of the sailors who were accused of the word God’s will and of the will of witness.', 'And they screamed with a great deal of voice and said: HERR, the saint and the saint, how long do you not and how long do you lose our blood to those who live on earth?', 'They were told that they were still a little awaited until they were full of their coffins and brothers, who should be killed as they were.', 'And I saw the sixth settlement, and see, because it is a great earthquake, and the sun is black as a black sack, and the mond is blood;']\n",
      "05/16 12:03:54 AM |\t  b_decoded[:2]:['Und da es das fünfte Siegel auftat, sah ich unter dem Altar die Seelen derer, die erwürgt waren um des Wortes Gottes willen und um des Zeugnisses willen, das sie hatten.', 'Und sie schrieen mit großer Stimme und sprachen: HERR, du Heiliger und Wahrhaftiger, wie lange richtest du nicht und rächest unser Blut an denen, die auf der Erde wohnen?', 'Und ihnen wurde gegeben einem jeglichen ein weißes Kleid, und ward zu ihnen gesagt, daß sie ruhten noch eine kleine Zeit, bis daß vollends dazukämen ihre Mitknechte und Brüder, die auch sollten noch getötet werden gleich wie sie.', 'Und ich sah, daß es das sechste Siegel auftat, und siehe, da ward ein großes Erdbeben, und die Sonne ward schwarz wie ein härener Sack, und der Mond ward wie Blut;']\n",
      "05/16 12:03:54 AM |\t  pred_a_decoded[:2]:['Und als er das fünfte Siegel geöffnet hatte, sah ich unter dem Altar die Seelen von ihnen, die für das Wort Gottes getötet wurden, und für das Zeugnis, das sie hielten:', 'Und sie riefen mit einer lauten Stimme, nämlich: Wie lange, o Herr, heilig und wahr, urteilst du nicht unser Blut auf ihnen, die auf der Erde wohnen?', 'Und es wurde ihnen gesagt, daß sie sich noch für ein wenig Zeit ruhen sollten, bis auch ihre Mitbürger und ihre Brüder, die so getötet werden sollten, erfüllt werden sollten.', 'Und ich sah, als er das sechste Siegel öffnete, und es gab ein großes Erdbeben; und die Sonne wurde schwarz als Haartuch, und der Mond wurde als Blut;']\n",
      "05/16 12:05:58 AM |\t  computing score...\n",
      "05/16 12:05:58 AM |\t  G_AB GAB sacreBLEU : 21.065306\n",
      "05/16 12:05:58 AM |\t  G_BA GBA sacreBLEU : 12.007797\n",
      "05/16 12:05:58 AM |\t  G_AB GAB test loss : 4.732660\n",
      "05/16 12:05:58 AM |\t  G_BA GBA test loss : 8.653631\n",
      "05/16 12:05:58 AM |\t  D_A DA test loss : -0.018349\n",
      "05/16 12:05:58 AM |\t  D_B DB test loss : -0.208997\n",
      "05/16 12:05:58 AM |\t  D_A DA test accuracy : 0.700000\n",
      "05/16 12:05:58 AM |\t  D_B DB test accuracy : 0.956667\n",
      "05/16 12:07:19 AM |\t  {'DA_meter': -1.4239951908588409, 'DB_meter': -0.40350631237030027, 'DA_GP_meter': 0.42968702018260957, 'DB_GP_meter': 0.10980241179466248}\n",
      "05/16 12:07:19 AM |\t  51.92%\n",
      "05/16 12:08:38 AM |\t  {'DA_meter': -1.6038293600082398, 'DB_meter': -0.4748517745733261, 'DA_GP_meter': 0.3351130908727646, 'DB_GP_meter': 0.14643959388136862}\n",
      "05/16 12:08:38 AM |\t  53.92%\n",
      "05/16 12:10:00 AM |\t  {'DA_meter': -1.7646335124969483, 'DB_meter': -0.5264774042367936, 'DA_GP_meter': 0.4899300116300583, 'DB_GP_meter': 0.13690793469548226}\n",
      "05/16 12:10:00 AM |\t  55.92%\n",
      "05/16 12:11:17 AM |\t  {'DA_meter': -2.09569851398468, 'DB_meter': -0.688573169708252, 'DA_GP_meter': 0.44573886454105377, 'DB_GP_meter': 0.18577171310782434}\n",
      "05/16 12:11:17 AM |\t  57.92%\n",
      "05/16 12:12:34 AM |\t  {'DA_meter': -1.916931964159012, 'DB_meter': -0.6322462856769562, 'DA_GP_meter': 0.4520460495352745, 'DB_GP_meter': 0.16994779884815217}\n",
      "05/16 12:12:34 AM |\t  59.919999999999995%\n",
      "05/16 12:12:42 AM |\t  DB_a_: -0.19,  -0.37,  -0.39,  -0.25,  \n",
      "05/16 12:12:42 AM |\t  DB_pred_dis: -0.25,  -0.68,  -0.61,  -0.85,  \n",
      "05/16 12:12:42 AM |\t  DA_b: 2.121,  2.328,  2.209,  2.183,  \n",
      "05/16 12:12:42 AM |\t  DA_pred_dis: 2.142,  2.185,  2.210,  2.069,  \n",
      "05/16 12:12:42 AM |\t  GABloss:\t4.059814929962158\n",
      "05/16 12:12:42 AM |\t  GBAloss:\t7.552953720092773\n",
      "05/16 12:12:42 AM |\t  a_decoded[:2]:['And when he had opened the fifth seal, I saw under the altar the souls of them that were slain for the word of God, and for the testimony which they held:', 'And they cried with a loud voice, saying, How long, O Lord, holy and true, dost thou not judge and avenge our blood on them that dwell on the earth?', 'And white robes were given unto every one of them; and it was said unto them, that they should rest yet for a little season, until their fellowservants also and their brethren, that should be killed as they were, should be fulfilled.', 'And I beheld when he had opened the sixth seal, and, lo, there was a great earthquake; and the sun became black as sackcloth of hair, and the moon became as blood;']\n",
      "05/16 12:12:42 AM |\t  pred_b_decoded[:2]:['And, as it was the fifth yougel, I was among the altars of the sailors who were accused of the word God’s will and of the will of witness.', 'And they screamed with a great deal of voice and said: HERR, the saint and the saint, how long do you not and how long do you lose our blood to those who live on earth?', 'They were told that they were still a little awaited until they were full of their coffins and brothers, who should be killed as they were.', 'And I saw the sixth settlement, and see, because it is a great earthquake, and the sun is black as a black sack, and the mond is blood;']\n",
      "05/16 12:12:42 AM |\t  b_decoded[:2]:['Und da es das fünfte Siegel auftat, sah ich unter dem Altar die Seelen derer, die erwürgt waren um des Wortes Gottes willen und um des Zeugnisses willen, das sie hatten.', 'Und sie schrieen mit großer Stimme und sprachen: HERR, du Heiliger und Wahrhaftiger, wie lange richtest du nicht und rächest unser Blut an denen, die auf der Erde wohnen?', 'Und ihnen wurde gegeben einem jeglichen ein weißes Kleid, und ward zu ihnen gesagt, daß sie ruhten noch eine kleine Zeit, bis daß vollends dazukämen ihre Mitknechte und Brüder, die auch sollten noch getötet werden gleich wie sie.', 'Und ich sah, daß es das sechste Siegel auftat, und siehe, da ward ein großes Erdbeben, und die Sonne ward schwarz wie ein härener Sack, und der Mond ward wie Blut;']\n",
      "05/16 12:12:42 AM |\t  pred_a_decoded[:2]:['Und als er das fünfte Siegel geöffnet hatte, sah ich unter dem Altar die Seelen von ihnen, die für das Wort Gottes getötet wurden, und für das Zeugnis, das sie hielten:', 'Und sie riefen mit einer lauten Stimme, nämlich: Wie lange, o Herr, heilig und wahr, urteilst du nicht unser Blut auf ihnen, die auf der Erde wohnen?', 'Und es wurde ihnen gesagt, daß sie sich noch für ein wenig Zeit ruhen sollten, bis auch ihre Mitbürger und ihre Brüder, die so getötet werden sollten, erfüllt werden sollten.', 'Und ich sah, als er das sechste Siegel öffnete, und es gab ein großes Erdbeben; und die Sonne wurde schwarz als Haartuch, und der Mond wurde als Blut;']\n",
      "05/16 12:14:46 AM |\t  computing score...\n",
      "05/16 12:14:46 AM |\t  G_AB GAB sacreBLEU : 21.065306\n",
      "05/16 12:14:46 AM |\t  G_BA GBA sacreBLEU : 12.007797\n",
      "05/16 12:14:46 AM |\t  G_AB GAB test loss : 4.732660\n",
      "05/16 12:14:46 AM |\t  G_BA GBA test loss : 8.653631\n",
      "05/16 12:14:46 AM |\t  D_A DA test loss : -0.009429\n",
      "05/16 12:14:46 AM |\t  D_B DB test loss : -0.347743\n",
      "05/16 12:14:46 AM |\t  D_A DA test accuracy : 0.686667\n",
      "05/16 12:14:46 AM |\t  D_B DB test accuracy : 0.933333\n",
      "05/16 12:16:02 AM |\t  {'DA_meter': -2.340748316049576, 'DB_meter': -0.8109210050106048, 'DA_GP_meter': 0.5777135145664215, 'DB_GP_meter': 0.18480922132730485}\n",
      "05/16 12:16:02 AM |\t  61.919999999999995%\n",
      "05/16 12:17:19 AM |\t  {'DA_meter': -2.602694716453552, 'DB_meter': -0.8394470417499542, 'DA_GP_meter': 0.3915144056081772, 'DB_GP_meter': 0.23811704486608506}\n",
      "05/16 12:17:19 AM |\t  63.92%\n",
      "05/16 12:18:41 AM |\t  {'DA_meter': -2.7657069730758668, 'DB_meter': -0.8385766756534576, 'DA_GP_meter': 0.5346479052305222, 'DB_GP_meter': 0.2430252255499363}\n",
      "05/16 12:18:41 AM |\t  65.92%\n",
      "05/16 12:19:56 AM |\t  {'DA_meter': -2.658680839538574, 'DB_meter': -0.7983014011383056, 'DA_GP_meter': 0.6638050425052643, 'DB_GP_meter': 0.2723489598929882}\n",
      "05/16 12:19:56 AM |\t  67.92%\n",
      "05/16 12:21:19 AM |\t  {'DA_meter': -2.543219509124756, 'DB_meter': -0.9617066299915313, 'DA_GP_meter': 2.464287028312683, 'DB_GP_meter': 0.23725271642208098}\n",
      "05/16 12:21:19 AM |\t  69.92%\n",
      "05/16 12:21:28 AM |\t  DB_a_: -0.40,  -0.71,  -0.69,  -0.45,  \n",
      "05/16 12:21:28 AM |\t  DB_pred_dis: -0.41,  -1.16,  -0.99,  -1.42,  \n",
      "05/16 12:21:28 AM |\t  DA_b: 2.608,  2.830,  2.643,  2.672,  \n",
      "05/16 12:21:28 AM |\t  DA_pred_dis: 2.587,  2.658,  2.655,  2.584,  \n",
      "05/16 12:21:28 AM |\t  GABloss:\t4.059814929962158\n",
      "05/16 12:21:28 AM |\t  GBAloss:\t7.552953720092773\n",
      "05/16 12:21:28 AM |\t  a_decoded[:2]:['And when he had opened the fifth seal, I saw under the altar the souls of them that were slain for the word of God, and for the testimony which they held:', 'And they cried with a loud voice, saying, How long, O Lord, holy and true, dost thou not judge and avenge our blood on them that dwell on the earth?', 'And white robes were given unto every one of them; and it was said unto them, that they should rest yet for a little season, until their fellowservants also and their brethren, that should be killed as they were, should be fulfilled.', 'And I beheld when he had opened the sixth seal, and, lo, there was a great earthquake; and the sun became black as sackcloth of hair, and the moon became as blood;']\n",
      "05/16 12:21:28 AM |\t  pred_b_decoded[:2]:['And, as it was the fifth yougel, I was among the altars of the sailors who were accused of the word God’s will and of the will of witness.', 'And they screamed with a great deal of voice and said: HERR, the saint and the saint, how long do you not and how long do you lose our blood to those who live on earth?', 'They were told that they were still a little awaited until they were full of their coffins and brothers, who should be killed as they were.', 'And I saw the sixth settlement, and see, because it is a great earthquake, and the sun is black as a black sack, and the mond is blood;']\n",
      "05/16 12:21:28 AM |\t  b_decoded[:2]:['Und da es das fünfte Siegel auftat, sah ich unter dem Altar die Seelen derer, die erwürgt waren um des Wortes Gottes willen und um des Zeugnisses willen, das sie hatten.', 'Und sie schrieen mit großer Stimme und sprachen: HERR, du Heiliger und Wahrhaftiger, wie lange richtest du nicht und rächest unser Blut an denen, die auf der Erde wohnen?', 'Und ihnen wurde gegeben einem jeglichen ein weißes Kleid, und ward zu ihnen gesagt, daß sie ruhten noch eine kleine Zeit, bis daß vollends dazukämen ihre Mitknechte und Brüder, die auch sollten noch getötet werden gleich wie sie.', 'Und ich sah, daß es das sechste Siegel auftat, und siehe, da ward ein großes Erdbeben, und die Sonne ward schwarz wie ein härener Sack, und der Mond ward wie Blut;']\n",
      "05/16 12:21:28 AM |\t  pred_a_decoded[:2]:['Und als er das fünfte Siegel geöffnet hatte, sah ich unter dem Altar die Seelen von ihnen, die für das Wort Gottes getötet wurden, und für das Zeugnis, das sie hielten:', 'Und sie riefen mit einer lauten Stimme, nämlich: Wie lange, o Herr, heilig und wahr, urteilst du nicht unser Blut auf ihnen, die auf der Erde wohnen?', 'Und es wurde ihnen gesagt, daß sie sich noch für ein wenig Zeit ruhen sollten, bis auch ihre Mitbürger und ihre Brüder, die so getötet werden sollten, erfüllt werden sollten.', 'Und ich sah, als er das sechste Siegel öffnete, und es gab ein großes Erdbeben; und die Sonne wurde schwarz als Haartuch, und der Mond wurde als Blut;']\n",
      "05/16 12:23:31 AM |\t  computing score...\n",
      "05/16 12:23:31 AM |\t  G_AB GAB sacreBLEU : 21.065306\n",
      "05/16 12:23:31 AM |\t  G_BA GBA sacreBLEU : 12.007797\n",
      "05/16 12:23:31 AM |\t  G_AB GAB test loss : 4.732660\n",
      "05/16 12:23:31 AM |\t  G_BA GBA test loss : 8.653631\n",
      "05/16 12:23:31 AM |\t  D_A DA test loss : -0.058952\n",
      "05/16 12:23:31 AM |\t  D_B DB test loss : -0.537887\n",
      "05/16 12:23:31 AM |\t  D_A DA test accuracy : 0.623333\n",
      "05/16 12:23:31 AM |\t  D_B DB test accuracy : 0.916667\n",
      "05/16 12:24:54 AM |\t  {'DA_meter': -2.8178153896331786, 'DB_meter': -1.0229131627082824, 'DA_GP_meter': 0.8088453197479248, 'DB_GP_meter': 0.2670607388019562}\n",
      "05/16 12:24:54 AM |\t  71.92%\n",
      "05/16 12:26:13 AM |\t  {'DA_meter': -2.7511772203445433, 'DB_meter': -1.0807085919380188, 'DA_GP_meter': 2.366822962164879, 'DB_GP_meter': 0.2785723578929901}\n",
      "05/16 12:26:13 AM |\t  73.92%\n",
      "05/16 12:27:34 AM |\t  {'DA_meter': -2.682331500053406, 'DB_meter': -1.4358322548866271, 'DA_GP_meter': 1.3314607787132262, 'DB_GP_meter': 0.3227783536911011}\n",
      "05/16 12:27:34 AM |\t  75.92%\n",
      "05/16 12:28:51 AM |\t  {'DA_meter': -2.5173799419403076, 'DB_meter': -1.3652816534042358, 'DA_GP_meter': 1.1267735683917999, 'DB_GP_meter': 0.32707866668701174}\n",
      "05/16 12:28:51 AM |\t  77.92%\n",
      "05/16 12:30:11 AM |\t  {'DA_meter': -2.8530085992813112, 'DB_meter': -1.4157355260848998, 'DA_GP_meter': 0.7691340526938438, 'DB_GP_meter': 0.35688791632652284}\n",
      "05/16 12:30:11 AM |\t  79.92%\n",
      "05/16 12:30:19 AM |\t  DB_a_: -0.75,  -1.27,  -1.11,  -0.71,  \n",
      "05/16 12:30:19 AM |\t  DB_pred_dis: -0.76,  -1.92,  -1.59,  -2.10,  \n",
      "05/16 12:30:19 AM |\t  DA_b: 2.576,  2.907,  2.698,  2.645,  \n",
      "05/16 12:30:19 AM |\t  DA_pred_dis: 2.564,  2.637,  2.734,  2.562,  \n",
      "05/16 12:30:19 AM |\t  GABloss:\t4.059814929962158\n",
      "05/16 12:30:19 AM |\t  GBAloss:\t7.552953720092773\n",
      "05/16 12:30:19 AM |\t  a_decoded[:2]:['And when he had opened the fifth seal, I saw under the altar the souls of them that were slain for the word of God, and for the testimony which they held:', 'And they cried with a loud voice, saying, How long, O Lord, holy and true, dost thou not judge and avenge our blood on them that dwell on the earth?', 'And white robes were given unto every one of them; and it was said unto them, that they should rest yet for a little season, until their fellowservants also and their brethren, that should be killed as they were, should be fulfilled.', 'And I beheld when he had opened the sixth seal, and, lo, there was a great earthquake; and the sun became black as sackcloth of hair, and the moon became as blood;']\n",
      "05/16 12:30:19 AM |\t  pred_b_decoded[:2]:['And, as it was the fifth yougel, I was among the altars of the sailors who were accused of the word God’s will and of the will of witness.', 'And they screamed with a great deal of voice and said: HERR, the saint and the saint, how long do you not and how long do you lose our blood to those who live on earth?', 'They were told that they were still a little awaited until they were full of their coffins and brothers, who should be killed as they were.', 'And I saw the sixth settlement, and see, because it is a great earthquake, and the sun is black as a black sack, and the mond is blood;']\n",
      "05/16 12:30:19 AM |\t  b_decoded[:2]:['Und da es das fünfte Siegel auftat, sah ich unter dem Altar die Seelen derer, die erwürgt waren um des Wortes Gottes willen und um des Zeugnisses willen, das sie hatten.', 'Und sie schrieen mit großer Stimme und sprachen: HERR, du Heiliger und Wahrhaftiger, wie lange richtest du nicht und rächest unser Blut an denen, die auf der Erde wohnen?', 'Und ihnen wurde gegeben einem jeglichen ein weißes Kleid, und ward zu ihnen gesagt, daß sie ruhten noch eine kleine Zeit, bis daß vollends dazukämen ihre Mitknechte und Brüder, die auch sollten noch getötet werden gleich wie sie.', 'Und ich sah, daß es das sechste Siegel auftat, und siehe, da ward ein großes Erdbeben, und die Sonne ward schwarz wie ein härener Sack, und der Mond ward wie Blut;']\n",
      "05/16 12:30:19 AM |\t  pred_a_decoded[:2]:['Und als er das fünfte Siegel geöffnet hatte, sah ich unter dem Altar die Seelen von ihnen, die für das Wort Gottes getötet wurden, und für das Zeugnis, das sie hielten:', 'Und sie riefen mit einer lauten Stimme, nämlich: Wie lange, o Herr, heilig und wahr, urteilst du nicht unser Blut auf ihnen, die auf der Erde wohnen?', 'Und es wurde ihnen gesagt, daß sie sich noch für ein wenig Zeit ruhen sollten, bis auch ihre Mitbürger und ihre Brüder, die so getötet werden sollten, erfüllt werden sollten.', 'Und ich sah, als er das sechste Siegel öffnete, und es gab ein großes Erdbeben; und die Sonne wurde schwarz als Haartuch, und der Mond wurde als Blut;']\n",
      "05/16 12:32:25 AM |\t  computing score...\n",
      "05/16 12:32:25 AM |\t  G_AB GAB sacreBLEU : 21.065306\n",
      "05/16 12:32:25 AM |\t  G_BA GBA sacreBLEU : 12.007797\n",
      "05/16 12:32:25 AM |\t  G_AB GAB test loss : 4.732660\n",
      "05/16 12:32:25 AM |\t  G_BA GBA test loss : 8.653631\n",
      "05/16 12:32:25 AM |\t  D_A DA test loss : -0.010577\n",
      "05/16 12:32:25 AM |\t  D_B DB test loss : -0.776488\n",
      "05/16 12:32:25 AM |\t  D_A DA test accuracy : 0.636667\n",
      "05/16 12:32:25 AM |\t  D_B DB test accuracy : 0.910000\n",
      "05/16 12:33:45 AM |\t  {'DA_meter': -2.8385248613357543, 'DB_meter': -1.5004583287239075, 'DA_GP_meter': 0.8531143426895141, 'DB_GP_meter': 0.3862454229593277}\n",
      "05/16 12:33:45 AM |\t  81.92%\n",
      "05/16 12:35:04 AM |\t  {'DA_meter': -3.304774684906006, 'DB_meter': -1.805183436870575, 'DA_GP_meter': 0.7112370777130127, 'DB_GP_meter': 0.4000487285852432}\n",
      "05/16 12:35:04 AM |\t  83.91999999999999%\n",
      "05/16 12:36:23 AM |\t  {'DA_meter': -3.1529772651195525, 'DB_meter': -1.5648339295387268, 'DA_GP_meter': 0.6596102344989777, 'DB_GP_meter': 0.4529020595550537}\n",
      "05/16 12:36:23 AM |\t  85.92%\n",
      "05/16 12:37:47 AM |\t  {'DA_meter': -3.7148481285572053, 'DB_meter': -1.9050317525863647, 'DA_GP_meter': 0.4868293642997742, 'DB_GP_meter': 0.4057957321405411}\n",
      "05/16 12:37:47 AM |\t  87.92%\n",
      "05/16 12:39:11 AM |\t  {'DA_meter': -4.2921115589141845, 'DB_meter': -2.3518738555908203, 'DA_GP_meter': 0.7546868941187859, 'DB_GP_meter': 0.4938873678445816}\n",
      "05/16 12:39:11 AM |\t  89.92%\n",
      "05/16 12:39:19 AM |\t  DB_a_: -0.95,  -1.49,  -1.59,  -0.73,  \n",
      "05/16 12:39:19 AM |\t  DB_pred_dis: -1.13,  -2.79,  -2.40,  -3.26,  \n",
      "05/16 12:39:19 AM |\t  DA_b: 3.335,  3.462,  3.370,  3.365,  \n",
      "05/16 12:39:19 AM |\t  DA_pred_dis: 3.343,  3.357,  3.403,  3.327,  \n",
      "05/16 12:39:19 AM |\t  GABloss:\t4.059814929962158\n",
      "05/16 12:39:19 AM |\t  GBAloss:\t7.552953720092773\n",
      "05/16 12:39:19 AM |\t  a_decoded[:2]:['And when he had opened the fifth seal, I saw under the altar the souls of them that were slain for the word of God, and for the testimony which they held:', 'And they cried with a loud voice, saying, How long, O Lord, holy and true, dost thou not judge and avenge our blood on them that dwell on the earth?', 'And white robes were given unto every one of them; and it was said unto them, that they should rest yet for a little season, until their fellowservants also and their brethren, that should be killed as they were, should be fulfilled.', 'And I beheld when he had opened the sixth seal, and, lo, there was a great earthquake; and the sun became black as sackcloth of hair, and the moon became as blood;']\n",
      "05/16 12:39:19 AM |\t  pred_b_decoded[:2]:['And, as it was the fifth yougel, I was among the altars of the sailors who were accused of the word God’s will and of the will of witness.', 'And they screamed with a great deal of voice and said: HERR, the saint and the saint, how long do you not and how long do you lose our blood to those who live on earth?', 'They were told that they were still a little awaited until they were full of their coffins and brothers, who should be killed as they were.', 'And I saw the sixth settlement, and see, because it is a great earthquake, and the sun is black as a black sack, and the mond is blood;']\n",
      "05/16 12:39:19 AM |\t  b_decoded[:2]:['Und da es das fünfte Siegel auftat, sah ich unter dem Altar die Seelen derer, die erwürgt waren um des Wortes Gottes willen und um des Zeugnisses willen, das sie hatten.', 'Und sie schrieen mit großer Stimme und sprachen: HERR, du Heiliger und Wahrhaftiger, wie lange richtest du nicht und rächest unser Blut an denen, die auf der Erde wohnen?', 'Und ihnen wurde gegeben einem jeglichen ein weißes Kleid, und ward zu ihnen gesagt, daß sie ruhten noch eine kleine Zeit, bis daß vollends dazukämen ihre Mitknechte und Brüder, die auch sollten noch getötet werden gleich wie sie.', 'Und ich sah, daß es das sechste Siegel auftat, und siehe, da ward ein großes Erdbeben, und die Sonne ward schwarz wie ein härener Sack, und der Mond ward wie Blut;']\n",
      "05/16 12:39:19 AM |\t  pred_a_decoded[:2]:['Und als er das fünfte Siegel geöffnet hatte, sah ich unter dem Altar die Seelen von ihnen, die für das Wort Gottes getötet wurden, und für das Zeugnis, das sie hielten:', 'Und sie riefen mit einer lauten Stimme, nämlich: Wie lange, o Herr, heilig und wahr, urteilst du nicht unser Blut auf ihnen, die auf der Erde wohnen?', 'Und es wurde ihnen gesagt, daß sie sich noch für ein wenig Zeit ruhen sollten, bis auch ihre Mitbürger und ihre Brüder, die so getötet werden sollten, erfüllt werden sollten.', 'Und ich sah, als er das sechste Siegel öffnete, und es gab ein großes Erdbeben; und die Sonne wurde schwarz als Haartuch, und der Mond wurde als Blut;']\n",
      "05/16 12:41:27 AM |\t  computing score...\n",
      "05/16 12:41:27 AM |\t  G_AB GAB sacreBLEU : 21.065306\n",
      "05/16 12:41:27 AM |\t  G_BA GBA sacreBLEU : 12.007797\n",
      "05/16 12:41:27 AM |\t  G_AB GAB test loss : 4.732660\n",
      "05/16 12:41:27 AM |\t  G_BA GBA test loss : 8.653631\n",
      "05/16 12:41:27 AM |\t  D_A DA test loss : 0.024563\n",
      "05/16 12:41:27 AM |\t  D_B DB test loss : -1.231555\n",
      "05/16 12:41:27 AM |\t  D_A DA test accuracy : 0.570000\n",
      "05/16 12:41:27 AM |\t  D_B DB test accuracy : 0.906667\n",
      "05/16 12:42:49 AM |\t  {'DA_meter': -4.7257280445098875, 'DB_meter': -2.1642286205291748, 'DA_GP_meter': 0.6120512127876282, 'DB_GP_meter': 0.6243564093112945}\n",
      "05/16 12:42:49 AM |\t  91.92%\n",
      "05/16 12:44:14 AM |\t  {'DA_meter': -4.395304355621338, 'DB_meter': -2.12420202255249, 'DA_GP_meter': 1.6378914660215378, 'DB_GP_meter': 0.5619201809167862}\n",
      "05/16 12:44:14 AM |\t  93.92%\n",
      "05/16 12:45:39 AM |\t  {'DA_meter': -4.091186213493347, 'DB_meter': -2.289340043067932, 'DA_GP_meter': 0.7966981554031372, 'DB_GP_meter': 0.5925266653299331}\n",
      "05/16 12:45:39 AM |\t  95.92%\n",
      "05/16 12:47:02 AM |\t  {'DA_meter': -4.412275269031524, 'DB_meter': -2.40366530418396, 'DA_GP_meter': 1.650596358180046, 'DB_GP_meter': 0.5092139875888825}\n",
      "05/16 12:47:02 AM |\t  97.92%\n",
      "05/16 12:48:29 AM |\t  {'GB_cycle_meter': 0, 'GA_cycle_meter': 0, 'GAB_once_meter': 0, 'GBA_once_meter': 0, 'DA_meter': -4.137486629486084, 'DB_meter': -2.548857560157776, 'DA_GP_meter': 1.5323706734180451, 'DB_GP_meter': 0.6511314302682877}\n",
      "05/16 12:48:29 AM |\t  99.92%\n",
      "05/16 12:48:37 AM |\t  DB_a_: -1.91,  -2.78,  -2.77,  -1.69,  \n",
      "05/16 12:48:37 AM |\t  DB_pred_dis: -2.25,  -3.56,  -3.44,  -4.02,  \n",
      "05/16 12:48:37 AM |\t  DA_b: 3.414,  3.937,  3.630,  3.518,  \n",
      "05/16 12:48:37 AM |\t  DA_pred_dis: 3.436,  3.492,  3.700,  3.449,  \n",
      "05/16 12:48:37 AM |\t  GABloss:\t4.059814929962158\n",
      "05/16 12:48:37 AM |\t  GBAloss:\t7.552953720092773\n",
      "05/16 12:48:37 AM |\t  a_decoded[:2]:['And when he had opened the fifth seal, I saw under the altar the souls of them that were slain for the word of God, and for the testimony which they held:', 'And they cried with a loud voice, saying, How long, O Lord, holy and true, dost thou not judge and avenge our blood on them that dwell on the earth?', 'And white robes were given unto every one of them; and it was said unto them, that they should rest yet for a little season, until their fellowservants also and their brethren, that should be killed as they were, should be fulfilled.', 'And I beheld when he had opened the sixth seal, and, lo, there was a great earthquake; and the sun became black as sackcloth of hair, and the moon became as blood;']\n",
      "05/16 12:48:37 AM |\t  pred_b_decoded[:2]:['And, as it was the fifth yougel, I was among the altars of the sailors who were accused of the word God’s will and of the will of witness.', 'And they screamed with a great deal of voice and said: HERR, the saint and the saint, how long do you not and how long do you lose our blood to those who live on earth?', 'They were told that they were still a little awaited until they were full of their coffins and brothers, who should be killed as they were.', 'And I saw the sixth settlement, and see, because it is a great earthquake, and the sun is black as a black sack, and the mond is blood;']\n",
      "05/16 12:48:37 AM |\t  b_decoded[:2]:['Und da es das fünfte Siegel auftat, sah ich unter dem Altar die Seelen derer, die erwürgt waren um des Wortes Gottes willen und um des Zeugnisses willen, das sie hatten.', 'Und sie schrieen mit großer Stimme und sprachen: HERR, du Heiliger und Wahrhaftiger, wie lange richtest du nicht und rächest unser Blut an denen, die auf der Erde wohnen?', 'Und ihnen wurde gegeben einem jeglichen ein weißes Kleid, und ward zu ihnen gesagt, daß sie ruhten noch eine kleine Zeit, bis daß vollends dazukämen ihre Mitknechte und Brüder, die auch sollten noch getötet werden gleich wie sie.', 'Und ich sah, daß es das sechste Siegel auftat, und siehe, da ward ein großes Erdbeben, und die Sonne ward schwarz wie ein härener Sack, und der Mond ward wie Blut;']\n",
      "05/16 12:48:37 AM |\t  pred_a_decoded[:2]:['Und als er das fünfte Siegel geöffnet hatte, sah ich unter dem Altar die Seelen von ihnen, die für das Wort Gottes getötet wurden, und für das Zeugnis, das sie hielten:', 'Und sie riefen mit einer lauten Stimme, nämlich: Wie lange, o Herr, heilig und wahr, urteilst du nicht unser Blut auf ihnen, die auf der Erde wohnen?', 'Und es wurde ihnen gesagt, daß sie sich noch für ein wenig Zeit ruhen sollten, bis auch ihre Mitbürger und ihre Brüder, die so getötet werden sollten, erfüllt werden sollten.', 'Und ich sah, als er das sechste Siegel öffnete, und es gab ein großes Erdbeben; und die Sonne wurde schwarz als Haartuch, und der Mond wurde als Blut;']\n"
     ]
    },
    {
     "ename": "KeyboardInterrupt",
     "evalue": "",
     "output_type": "error",
     "traceback": [
      "\u001b[1;31m---------------------------------------------------------------------------\u001b[0m",
      "\u001b[1;31mKeyboardInterrupt\u001b[0m                         Traceback (most recent call last)",
      "\u001b[1;32m~\\AppData\\Local\\Temp/ipykernel_133392/2913806740.py\u001b[0m in \u001b[0;36m<module>\u001b[1;34m\u001b[0m\n\u001b[0;32m      5\u001b[0m \u001b[1;33m\u001b[0m\u001b[0m\n\u001b[0;32m      6\u001b[0m     \u001b[0mlogging\u001b[0m\u001b[1;33m.\u001b[0m\u001b[0minfo\u001b[0m\u001b[1;33m(\u001b[0m\u001b[1;34mf\"\\n\\n  ----------------epoch:{epoch}----------------\"\u001b[0m\u001b[1;33m)\u001b[0m\u001b[1;33m\u001b[0m\u001b[1;33m\u001b[0m\u001b[0m\n\u001b[1;32m----> 7\u001b[1;33m     \u001b[0mmy_train\u001b[0m\u001b[1;33m(\u001b[0m\u001b[0mtrain_dataloader\u001b[0m\u001b[1;33m,\u001b[0m\u001b[0mcycleGAN\u001b[0m\u001b[1;33m,\u001b[0m\u001b[0mtotal_iter\u001b[0m\u001b[1;33m,\u001b[0m\u001b[0margs\u001b[0m\u001b[1;33m,\u001b[0m\u001b[0mlogging\u001b[0m\u001b[1;33m,\u001b[0m\u001b[0mvalid_dataloader\u001b[0m\u001b[1;33m,\u001b[0m\u001b[0mtokenizer\u001b[0m\u001b[1;33m,\u001b[0m\u001b[0mwandb\u001b[0m\u001b[1;33m)\u001b[0m\u001b[1;33m\u001b[0m\u001b[1;33m\u001b[0m\u001b[0m\n\u001b[0m\u001b[0;32m      8\u001b[0m \u001b[1;33m\u001b[0m\u001b[0m\n",
      "\u001b[1;32mg:\\GitCode\\cycleMT\\train.py\u001b[0m in \u001b[0;36mmy_train\u001b[1;34m(loader, model, total_iter, args, logging, valid_loader, tokenizer, wandb)\u001b[0m\n\u001b[0;32m     53\u001b[0m             \u001b[0mwandb\u001b[0m\u001b[1;33m.\u001b[0m\u001b[0msave\u001b[0m\u001b[1;33m(\u001b[0m\u001b[1;34m\"./files/*.pt\"\u001b[0m\u001b[1;33m,\u001b[0m \u001b[0mbase_path\u001b[0m\u001b[1;33m=\u001b[0m\u001b[1;34m\"./files\"\u001b[0m\u001b[1;33m,\u001b[0m \u001b[0mpolicy\u001b[0m\u001b[1;33m=\u001b[0m\u001b[1;34m\"live\"\u001b[0m\u001b[1;33m)\u001b[0m\u001b[1;33m\u001b[0m\u001b[1;33m\u001b[0m\u001b[0m\n\u001b[0;32m     54\u001b[0m \u001b[1;33m\u001b[0m\u001b[0m\n\u001b[1;32m---> 55\u001b[1;33m             \u001b[0mmy_test\u001b[0m\u001b[1;33m(\u001b[0m\u001b[0mvalid_loader\u001b[0m\u001b[1;33m,\u001b[0m\u001b[0mmodel\u001b[0m\u001b[1;33m,\u001b[0m\u001b[0mtokenizer\u001b[0m\u001b[1;33m,\u001b[0m\u001b[0mlogging\u001b[0m\u001b[1;33m,\u001b[0m\u001b[0mwandb\u001b[0m\u001b[1;33m)\u001b[0m\u001b[1;33m\u001b[0m\u001b[1;33m\u001b[0m\u001b[0m\n\u001b[0m",
      "\u001b[1;32mc:\\Users\\kevin\\miniconda3\\envs\\python38\\lib\\site-packages\\torch\\autograd\\grad_mode.py\u001b[0m in \u001b[0;36mdecorate_context\u001b[1;34m(*args, **kwargs)\u001b[0m\n\u001b[0;32m     26\u001b[0m         \u001b[1;32mdef\u001b[0m \u001b[0mdecorate_context\u001b[0m\u001b[1;33m(\u001b[0m\u001b[1;33m*\u001b[0m\u001b[0margs\u001b[0m\u001b[1;33m,\u001b[0m \u001b[1;33m**\u001b[0m\u001b[0mkwargs\u001b[0m\u001b[1;33m)\u001b[0m\u001b[1;33m:\u001b[0m\u001b[1;33m\u001b[0m\u001b[1;33m\u001b[0m\u001b[0m\n\u001b[0;32m     27\u001b[0m             \u001b[1;32mwith\u001b[0m \u001b[0mself\u001b[0m\u001b[1;33m.\u001b[0m\u001b[0m__class__\u001b[0m\u001b[1;33m(\u001b[0m\u001b[1;33m)\u001b[0m\u001b[1;33m:\u001b[0m\u001b[1;33m\u001b[0m\u001b[1;33m\u001b[0m\u001b[0m\n\u001b[1;32m---> 28\u001b[1;33m                 \u001b[1;32mreturn\u001b[0m \u001b[0mfunc\u001b[0m\u001b[1;33m(\u001b[0m\u001b[1;33m*\u001b[0m\u001b[0margs\u001b[0m\u001b[1;33m,\u001b[0m \u001b[1;33m**\u001b[0m\u001b[0mkwargs\u001b[0m\u001b[1;33m)\u001b[0m\u001b[1;33m\u001b[0m\u001b[1;33m\u001b[0m\u001b[0m\n\u001b[0m\u001b[0;32m     29\u001b[0m         \u001b[1;32mreturn\u001b[0m \u001b[0mcast\u001b[0m\u001b[1;33m(\u001b[0m\u001b[0mF\u001b[0m\u001b[1;33m,\u001b[0m \u001b[0mdecorate_context\u001b[0m\u001b[1;33m)\u001b[0m\u001b[1;33m\u001b[0m\u001b[1;33m\u001b[0m\u001b[0m\n\u001b[0;32m     30\u001b[0m \u001b[1;33m\u001b[0m\u001b[0m\n",
      "\u001b[1;32mg:\\GitCode\\cycleMT\\test.py\u001b[0m in \u001b[0;36mmy_test\u001b[1;34m(loader, model, tokenizer, logging, wandb)\u001b[0m\n\u001b[0;32m     35\u001b[0m \u001b[1;33m\u001b[0m\u001b[0m\n\u001b[0;32m     36\u001b[0m \u001b[1;33m\u001b[0m\u001b[0m\n\u001b[1;32m---> 37\u001b[1;33m         \u001b[0ma_generate\u001b[0m \u001b[1;33m=\u001b[0m \u001b[0mGAB\u001b[0m\u001b[1;33m.\u001b[0m\u001b[0mtest_generate\u001b[0m\u001b[1;33m(\u001b[0m\u001b[0ma\u001b[0m\u001b[1;33m)\u001b[0m\u001b[1;33m[\u001b[0m\u001b[1;33m:\u001b[0m\u001b[1;33m,\u001b[0m\u001b[1;36m1\u001b[0m\u001b[1;33m:\u001b[0m\u001b[1;33m]\u001b[0m\u001b[1;33m.\u001b[0m\u001b[0mcontiguous\u001b[0m\u001b[1;33m(\u001b[0m\u001b[1;33m)\u001b[0m\u001b[1;33m\u001b[0m\u001b[1;33m\u001b[0m\u001b[0m\n\u001b[0m\u001b[0;32m     38\u001b[0m         \u001b[0mb_generate\u001b[0m  \u001b[1;33m=\u001b[0m \u001b[0mGBA\u001b[0m\u001b[1;33m.\u001b[0m\u001b[0mtest_generate\u001b[0m\u001b[1;33m(\u001b[0m\u001b[0mb\u001b[0m\u001b[1;33m)\u001b[0m\u001b[1;33m[\u001b[0m\u001b[1;33m:\u001b[0m\u001b[1;33m,\u001b[0m\u001b[1;36m1\u001b[0m\u001b[1;33m:\u001b[0m\u001b[1;33m]\u001b[0m\u001b[1;33m.\u001b[0m\u001b[0mcontiguous\u001b[0m\u001b[1;33m(\u001b[0m\u001b[1;33m)\u001b[0m\u001b[1;33m\u001b[0m\u001b[1;33m\u001b[0m\u001b[0m\n\u001b[0;32m     39\u001b[0m \u001b[1;33m\u001b[0m\u001b[0m\n",
      "\u001b[1;32mg:\\GitCode\\cycleMT\\basic_model.py\u001b[0m in \u001b[0;36mtest_generate\u001b[1;34m(self, x, num_beams, max_length)\u001b[0m\n\u001b[0;32m    148\u001b[0m         \u001b[0mprefix\u001b[0m \u001b[1;33m=\u001b[0m \u001b[0mself\u001b[0m\u001b[1;33m.\u001b[0m\u001b[0mtokenzied_prefix\u001b[0m\u001b[1;33m.\u001b[0m\u001b[0mrepeat\u001b[0m\u001b[1;33m(\u001b[0m\u001b[0mx\u001b[0m\u001b[1;33m.\u001b[0m\u001b[0mshape\u001b[0m\u001b[1;33m[\u001b[0m\u001b[1;36m0\u001b[0m\u001b[1;33m]\u001b[0m\u001b[1;33m,\u001b[0m\u001b[1;36m1\u001b[0m\u001b[1;33m)\u001b[0m\u001b[1;31m#.cuda()\u001b[0m\u001b[1;33m\u001b[0m\u001b[1;33m\u001b[0m\u001b[0m\n\u001b[0;32m    149\u001b[0m         \u001b[0mx\u001b[0m \u001b[1;33m=\u001b[0m \u001b[0mtorch\u001b[0m\u001b[1;33m.\u001b[0m\u001b[0mhstack\u001b[0m\u001b[1;33m(\u001b[0m\u001b[1;33m(\u001b[0m\u001b[0mprefix\u001b[0m\u001b[1;33m,\u001b[0m\u001b[0mx\u001b[0m\u001b[1;33m)\u001b[0m\u001b[1;33m)\u001b[0m\u001b[1;33m\u001b[0m\u001b[1;33m\u001b[0m\u001b[0m\n\u001b[1;32m--> 150\u001b[1;33m         \u001b[0moutput_ids\u001b[0m \u001b[1;33m=\u001b[0m \u001b[0mself\u001b[0m\u001b[1;33m.\u001b[0m\u001b[0mmodel\u001b[0m\u001b[1;33m.\u001b[0m\u001b[0mgenerate\u001b[0m\u001b[1;33m(\u001b[0m \u001b[0minput_ids\u001b[0m \u001b[1;33m=\u001b[0m \u001b[0mx\u001b[0m\u001b[1;33m,\u001b[0m \u001b[0mnum_beams\u001b[0m \u001b[1;33m=\u001b[0m \u001b[0mnum_beams\u001b[0m\u001b[1;33m,\u001b[0m \u001b[0mearly_stopping\u001b[0m \u001b[1;33m=\u001b[0m \u001b[1;32mTrue\u001b[0m\u001b[1;33m,\u001b[0m \u001b[0mmax_length\u001b[0m \u001b[1;33m=\u001b[0m \u001b[0mmax_length\u001b[0m\u001b[1;33m,\u001b[0m \u001b[0mlength_penalty\u001b[0m \u001b[1;33m=\u001b[0m\u001b[1;36m0.8\u001b[0m\u001b[1;33m,\u001b[0m \u001b[0mrepetition_penalty\u001b[0m \u001b[1;33m=\u001b[0m \u001b[1;36m1\u001b[0m\u001b[1;33m)\u001b[0m\u001b[1;33m\u001b[0m\u001b[1;33m\u001b[0m\u001b[0m\n\u001b[0m\u001b[0;32m    151\u001b[0m         \u001b[1;32mreturn\u001b[0m \u001b[0moutput_ids\u001b[0m\u001b[1;33m\u001b[0m\u001b[1;33m\u001b[0m\u001b[0m\n\u001b[0;32m    152\u001b[0m     \u001b[1;32mdef\u001b[0m \u001b[0mforward\u001b[0m\u001b[1;33m(\u001b[0m\u001b[0mself\u001b[0m\u001b[1;33m,\u001b[0m \u001b[0minput_ids\u001b[0m\u001b[1;33m,\u001b[0m \u001b[0minput_attn\u001b[0m\u001b[1;33m,\u001b[0m \u001b[0mtarget_ids\u001b[0m \u001b[1;33m=\u001b[0m \u001b[1;32mNone\u001b[0m\u001b[1;33m,\u001b[0m \u001b[0mtarget_attn\u001b[0m \u001b[1;33m=\u001b[0m \u001b[1;32mNone\u001b[0m\u001b[1;33m)\u001b[0m\u001b[1;33m:\u001b[0m\u001b[1;33m\u001b[0m\u001b[1;33m\u001b[0m\u001b[0m\n",
      "\u001b[1;32mc:\\Users\\kevin\\miniconda3\\envs\\python38\\lib\\site-packages\\torch\\autograd\\grad_mode.py\u001b[0m in \u001b[0;36mdecorate_context\u001b[1;34m(*args, **kwargs)\u001b[0m\n\u001b[0;32m     26\u001b[0m         \u001b[1;32mdef\u001b[0m \u001b[0mdecorate_context\u001b[0m\u001b[1;33m(\u001b[0m\u001b[1;33m*\u001b[0m\u001b[0margs\u001b[0m\u001b[1;33m,\u001b[0m \u001b[1;33m**\u001b[0m\u001b[0mkwargs\u001b[0m\u001b[1;33m)\u001b[0m\u001b[1;33m:\u001b[0m\u001b[1;33m\u001b[0m\u001b[1;33m\u001b[0m\u001b[0m\n\u001b[0;32m     27\u001b[0m             \u001b[1;32mwith\u001b[0m \u001b[0mself\u001b[0m\u001b[1;33m.\u001b[0m\u001b[0m__class__\u001b[0m\u001b[1;33m(\u001b[0m\u001b[1;33m)\u001b[0m\u001b[1;33m:\u001b[0m\u001b[1;33m\u001b[0m\u001b[1;33m\u001b[0m\u001b[0m\n\u001b[1;32m---> 28\u001b[1;33m                 \u001b[1;32mreturn\u001b[0m \u001b[0mfunc\u001b[0m\u001b[1;33m(\u001b[0m\u001b[1;33m*\u001b[0m\u001b[0margs\u001b[0m\u001b[1;33m,\u001b[0m \u001b[1;33m**\u001b[0m\u001b[0mkwargs\u001b[0m\u001b[1;33m)\u001b[0m\u001b[1;33m\u001b[0m\u001b[1;33m\u001b[0m\u001b[0m\n\u001b[0m\u001b[0;32m     29\u001b[0m         \u001b[1;32mreturn\u001b[0m \u001b[0mcast\u001b[0m\u001b[1;33m(\u001b[0m\u001b[0mF\u001b[0m\u001b[1;33m,\u001b[0m \u001b[0mdecorate_context\u001b[0m\u001b[1;33m)\u001b[0m\u001b[1;33m\u001b[0m\u001b[1;33m\u001b[0m\u001b[0m\n\u001b[0;32m     30\u001b[0m \u001b[1;33m\u001b[0m\u001b[0m\n",
      "\u001b[1;32mc:\\Users\\kevin\\miniconda3\\envs\\python38\\lib\\site-packages\\transformers\\generation_utils.py\u001b[0m in \u001b[0;36mgenerate\u001b[1;34m(self, inputs, max_length, min_length, do_sample, early_stopping, num_beams, temperature, top_k, top_p, typical_p, repetition_penalty, bad_words_ids, force_words_ids, bos_token_id, pad_token_id, eos_token_id, length_penalty, no_repeat_ngram_size, encoder_no_repeat_ngram_size, num_return_sequences, max_time, max_new_tokens, decoder_start_token_id, use_cache, num_beam_groups, diversity_penalty, prefix_allowed_tokens_fn, logits_processor, stopping_criteria, constraints, output_attentions, output_hidden_states, output_scores, return_dict_in_generate, forced_bos_token_id, forced_eos_token_id, remove_invalid_values, synced_gpus, exponential_decay_length_penalty, **model_kwargs)\u001b[0m\n\u001b[0;32m   1313\u001b[0m             )\n\u001b[0;32m   1314\u001b[0m             \u001b[1;31m# 12. run beam search\u001b[0m\u001b[1;33m\u001b[0m\u001b[1;33m\u001b[0m\u001b[1;33m\u001b[0m\u001b[0m\n\u001b[1;32m-> 1315\u001b[1;33m             return self.beam_search(\n\u001b[0m\u001b[0;32m   1316\u001b[0m                 \u001b[0minput_ids\u001b[0m\u001b[1;33m,\u001b[0m\u001b[1;33m\u001b[0m\u001b[1;33m\u001b[0m\u001b[0m\n\u001b[0;32m   1317\u001b[0m                 \u001b[0mbeam_scorer\u001b[0m\u001b[1;33m,\u001b[0m\u001b[1;33m\u001b[0m\u001b[1;33m\u001b[0m\u001b[0m\n",
      "\u001b[1;32mc:\\Users\\kevin\\miniconda3\\envs\\python38\\lib\\site-packages\\transformers\\generation_utils.py\u001b[0m in \u001b[0;36mbeam_search\u001b[1;34m(self, input_ids, beam_scorer, logits_processor, stopping_criteria, max_length, pad_token_id, eos_token_id, output_attentions, output_hidden_states, output_scores, return_dict_in_generate, synced_gpus, **model_kwargs)\u001b[0m\n\u001b[0;32m   2156\u001b[0m             \u001b[0mmodel_inputs\u001b[0m \u001b[1;33m=\u001b[0m \u001b[0mself\u001b[0m\u001b[1;33m.\u001b[0m\u001b[0mprepare_inputs_for_generation\u001b[0m\u001b[1;33m(\u001b[0m\u001b[0minput_ids\u001b[0m\u001b[1;33m,\u001b[0m \u001b[1;33m**\u001b[0m\u001b[0mmodel_kwargs\u001b[0m\u001b[1;33m)\u001b[0m\u001b[1;33m\u001b[0m\u001b[1;33m\u001b[0m\u001b[0m\n\u001b[0;32m   2157\u001b[0m \u001b[1;33m\u001b[0m\u001b[0m\n\u001b[1;32m-> 2158\u001b[1;33m             outputs = self(\n\u001b[0m\u001b[0;32m   2159\u001b[0m                 \u001b[1;33m**\u001b[0m\u001b[0mmodel_inputs\u001b[0m\u001b[1;33m,\u001b[0m\u001b[1;33m\u001b[0m\u001b[1;33m\u001b[0m\u001b[0m\n\u001b[0;32m   2160\u001b[0m                 \u001b[0mreturn_dict\u001b[0m\u001b[1;33m=\u001b[0m\u001b[1;32mTrue\u001b[0m\u001b[1;33m,\u001b[0m\u001b[1;33m\u001b[0m\u001b[1;33m\u001b[0m\u001b[0m\n",
      "\u001b[1;32mc:\\Users\\kevin\\miniconda3\\envs\\python38\\lib\\site-packages\\torch\\nn\\modules\\module.py\u001b[0m in \u001b[0;36m_call_impl\u001b[1;34m(self, *input, **kwargs)\u001b[0m\n\u001b[0;32m   1100\u001b[0m         if not (self._backward_hooks or self._forward_hooks or self._forward_pre_hooks or _global_backward_hooks\n\u001b[0;32m   1101\u001b[0m                 or _global_forward_hooks or _global_forward_pre_hooks):\n\u001b[1;32m-> 1102\u001b[1;33m             \u001b[1;32mreturn\u001b[0m \u001b[0mforward_call\u001b[0m\u001b[1;33m(\u001b[0m\u001b[1;33m*\u001b[0m\u001b[0minput\u001b[0m\u001b[1;33m,\u001b[0m \u001b[1;33m**\u001b[0m\u001b[0mkwargs\u001b[0m\u001b[1;33m)\u001b[0m\u001b[1;33m\u001b[0m\u001b[1;33m\u001b[0m\u001b[0m\n\u001b[0m\u001b[0;32m   1103\u001b[0m         \u001b[1;31m# Do not call functions when jit is used\u001b[0m\u001b[1;33m\u001b[0m\u001b[1;33m\u001b[0m\u001b[1;33m\u001b[0m\u001b[0m\n\u001b[0;32m   1104\u001b[0m         \u001b[0mfull_backward_hooks\u001b[0m\u001b[1;33m,\u001b[0m \u001b[0mnon_full_backward_hooks\u001b[0m \u001b[1;33m=\u001b[0m \u001b[1;33m[\u001b[0m\u001b[1;33m]\u001b[0m\u001b[1;33m,\u001b[0m \u001b[1;33m[\u001b[0m\u001b[1;33m]\u001b[0m\u001b[1;33m\u001b[0m\u001b[1;33m\u001b[0m\u001b[0m\n",
      "\u001b[1;32mc:\\Users\\kevin\\miniconda3\\envs\\python38\\lib\\site-packages\\transformers\\models\\t5\\modeling_t5.py\u001b[0m in \u001b[0;36mforward\u001b[1;34m(self, input_ids, attention_mask, decoder_input_ids, decoder_attention_mask, head_mask, decoder_head_mask, cross_attn_head_mask, encoder_outputs, past_key_values, inputs_embeds, decoder_inputs_embeds, labels, use_cache, output_attentions, output_hidden_states, return_dict)\u001b[0m\n\u001b[0;32m   1636\u001b[0m \u001b[1;33m\u001b[0m\u001b[0m\n\u001b[0;32m   1637\u001b[0m         \u001b[1;31m# Decode\u001b[0m\u001b[1;33m\u001b[0m\u001b[1;33m\u001b[0m\u001b[1;33m\u001b[0m\u001b[0m\n\u001b[1;32m-> 1638\u001b[1;33m         decoder_outputs = self.decoder(\n\u001b[0m\u001b[0;32m   1639\u001b[0m             \u001b[0minput_ids\u001b[0m\u001b[1;33m=\u001b[0m\u001b[0mdecoder_input_ids\u001b[0m\u001b[1;33m,\u001b[0m\u001b[1;33m\u001b[0m\u001b[1;33m\u001b[0m\u001b[0m\n\u001b[0;32m   1640\u001b[0m             \u001b[0mattention_mask\u001b[0m\u001b[1;33m=\u001b[0m\u001b[0mdecoder_attention_mask\u001b[0m\u001b[1;33m,\u001b[0m\u001b[1;33m\u001b[0m\u001b[1;33m\u001b[0m\u001b[0m\n",
      "\u001b[1;32mc:\\Users\\kevin\\miniconda3\\envs\\python38\\lib\\site-packages\\torch\\nn\\modules\\module.py\u001b[0m in \u001b[0;36m_call_impl\u001b[1;34m(self, *input, **kwargs)\u001b[0m\n\u001b[0;32m   1100\u001b[0m         if not (self._backward_hooks or self._forward_hooks or self._forward_pre_hooks or _global_backward_hooks\n\u001b[0;32m   1101\u001b[0m                 or _global_forward_hooks or _global_forward_pre_hooks):\n\u001b[1;32m-> 1102\u001b[1;33m             \u001b[1;32mreturn\u001b[0m \u001b[0mforward_call\u001b[0m\u001b[1;33m(\u001b[0m\u001b[1;33m*\u001b[0m\u001b[0minput\u001b[0m\u001b[1;33m,\u001b[0m \u001b[1;33m**\u001b[0m\u001b[0mkwargs\u001b[0m\u001b[1;33m)\u001b[0m\u001b[1;33m\u001b[0m\u001b[1;33m\u001b[0m\u001b[0m\n\u001b[0m\u001b[0;32m   1103\u001b[0m         \u001b[1;31m# Do not call functions when jit is used\u001b[0m\u001b[1;33m\u001b[0m\u001b[1;33m\u001b[0m\u001b[1;33m\u001b[0m\u001b[0m\n\u001b[0;32m   1104\u001b[0m         \u001b[0mfull_backward_hooks\u001b[0m\u001b[1;33m,\u001b[0m \u001b[0mnon_full_backward_hooks\u001b[0m \u001b[1;33m=\u001b[0m \u001b[1;33m[\u001b[0m\u001b[1;33m]\u001b[0m\u001b[1;33m,\u001b[0m \u001b[1;33m[\u001b[0m\u001b[1;33m]\u001b[0m\u001b[1;33m\u001b[0m\u001b[1;33m\u001b[0m\u001b[0m\n",
      "\u001b[1;32mc:\\Users\\kevin\\miniconda3\\envs\\python38\\lib\\site-packages\\transformers\\models\\t5\\modeling_t5.py\u001b[0m in \u001b[0;36mforward\u001b[1;34m(self, input_ids, attention_mask, encoder_hidden_states, encoder_attention_mask, inputs_embeds, head_mask, cross_attn_head_mask, past_key_values, use_cache, output_attentions, output_hidden_states, return_dict)\u001b[0m\n\u001b[0;32m   1031\u001b[0m                 )\n\u001b[0;32m   1032\u001b[0m             \u001b[1;32melse\u001b[0m\u001b[1;33m:\u001b[0m\u001b[1;33m\u001b[0m\u001b[1;33m\u001b[0m\u001b[0m\n\u001b[1;32m-> 1033\u001b[1;33m                 layer_outputs = layer_module(\n\u001b[0m\u001b[0;32m   1034\u001b[0m                     \u001b[0mhidden_states\u001b[0m\u001b[1;33m,\u001b[0m\u001b[1;33m\u001b[0m\u001b[1;33m\u001b[0m\u001b[0m\n\u001b[0;32m   1035\u001b[0m                     \u001b[0mattention_mask\u001b[0m\u001b[1;33m=\u001b[0m\u001b[0mextended_attention_mask\u001b[0m\u001b[1;33m,\u001b[0m\u001b[1;33m\u001b[0m\u001b[1;33m\u001b[0m\u001b[0m\n",
      "\u001b[1;32mc:\\Users\\kevin\\miniconda3\\envs\\python38\\lib\\site-packages\\torch\\nn\\modules\\module.py\u001b[0m in \u001b[0;36m_call_impl\u001b[1;34m(self, *input, **kwargs)\u001b[0m\n\u001b[0;32m   1100\u001b[0m         if not (self._backward_hooks or self._forward_hooks or self._forward_pre_hooks or _global_backward_hooks\n\u001b[0;32m   1101\u001b[0m                 or _global_forward_hooks or _global_forward_pre_hooks):\n\u001b[1;32m-> 1102\u001b[1;33m             \u001b[1;32mreturn\u001b[0m \u001b[0mforward_call\u001b[0m\u001b[1;33m(\u001b[0m\u001b[1;33m*\u001b[0m\u001b[0minput\u001b[0m\u001b[1;33m,\u001b[0m \u001b[1;33m**\u001b[0m\u001b[0mkwargs\u001b[0m\u001b[1;33m)\u001b[0m\u001b[1;33m\u001b[0m\u001b[1;33m\u001b[0m\u001b[0m\n\u001b[0m\u001b[0;32m   1103\u001b[0m         \u001b[1;31m# Do not call functions when jit is used\u001b[0m\u001b[1;33m\u001b[0m\u001b[1;33m\u001b[0m\u001b[1;33m\u001b[0m\u001b[0m\n\u001b[0;32m   1104\u001b[0m         \u001b[0mfull_backward_hooks\u001b[0m\u001b[1;33m,\u001b[0m \u001b[0mnon_full_backward_hooks\u001b[0m \u001b[1;33m=\u001b[0m \u001b[1;33m[\u001b[0m\u001b[1;33m]\u001b[0m\u001b[1;33m,\u001b[0m \u001b[1;33m[\u001b[0m\u001b[1;33m]\u001b[0m\u001b[1;33m\u001b[0m\u001b[1;33m\u001b[0m\u001b[0m\n",
      "\u001b[1;32mc:\\Users\\kevin\\miniconda3\\envs\\python38\\lib\\site-packages\\transformers\\models\\t5\\modeling_t5.py\u001b[0m in \u001b[0;36mforward\u001b[1;34m(self, hidden_states, attention_mask, position_bias, encoder_hidden_states, encoder_attention_mask, encoder_decoder_position_bias, layer_head_mask, cross_attn_layer_head_mask, past_key_value, use_cache, output_attentions, return_dict)\u001b[0m\n\u001b[0;32m    718\u001b[0m \u001b[1;33m\u001b[0m\u001b[0m\n\u001b[0;32m    719\u001b[0m         \u001b[1;31m# Apply Feed Forward layer\u001b[0m\u001b[1;33m\u001b[0m\u001b[1;33m\u001b[0m\u001b[1;33m\u001b[0m\u001b[0m\n\u001b[1;32m--> 720\u001b[1;33m         \u001b[0mhidden_states\u001b[0m \u001b[1;33m=\u001b[0m \u001b[0mself\u001b[0m\u001b[1;33m.\u001b[0m\u001b[0mlayer\u001b[0m\u001b[1;33m[\u001b[0m\u001b[1;33m-\u001b[0m\u001b[1;36m1\u001b[0m\u001b[1;33m]\u001b[0m\u001b[1;33m(\u001b[0m\u001b[0mhidden_states\u001b[0m\u001b[1;33m)\u001b[0m\u001b[1;33m\u001b[0m\u001b[1;33m\u001b[0m\u001b[0m\n\u001b[0m\u001b[0;32m    721\u001b[0m \u001b[1;33m\u001b[0m\u001b[0m\n\u001b[0;32m    722\u001b[0m         \u001b[1;31m# clamp inf values to enable fp16 training\u001b[0m\u001b[1;33m\u001b[0m\u001b[1;33m\u001b[0m\u001b[1;33m\u001b[0m\u001b[0m\n",
      "\u001b[1;32mc:\\Users\\kevin\\miniconda3\\envs\\python38\\lib\\site-packages\\torch\\nn\\modules\\module.py\u001b[0m in \u001b[0;36m_call_impl\u001b[1;34m(self, *input, **kwargs)\u001b[0m\n\u001b[0;32m   1100\u001b[0m         if not (self._backward_hooks or self._forward_hooks or self._forward_pre_hooks or _global_backward_hooks\n\u001b[0;32m   1101\u001b[0m                 or _global_forward_hooks or _global_forward_pre_hooks):\n\u001b[1;32m-> 1102\u001b[1;33m             \u001b[1;32mreturn\u001b[0m \u001b[0mforward_call\u001b[0m\u001b[1;33m(\u001b[0m\u001b[1;33m*\u001b[0m\u001b[0minput\u001b[0m\u001b[1;33m,\u001b[0m \u001b[1;33m**\u001b[0m\u001b[0mkwargs\u001b[0m\u001b[1;33m)\u001b[0m\u001b[1;33m\u001b[0m\u001b[1;33m\u001b[0m\u001b[0m\n\u001b[0m\u001b[0;32m   1103\u001b[0m         \u001b[1;31m# Do not call functions when jit is used\u001b[0m\u001b[1;33m\u001b[0m\u001b[1;33m\u001b[0m\u001b[1;33m\u001b[0m\u001b[0m\n\u001b[0;32m   1104\u001b[0m         \u001b[0mfull_backward_hooks\u001b[0m\u001b[1;33m,\u001b[0m \u001b[0mnon_full_backward_hooks\u001b[0m \u001b[1;33m=\u001b[0m \u001b[1;33m[\u001b[0m\u001b[1;33m]\u001b[0m\u001b[1;33m,\u001b[0m \u001b[1;33m[\u001b[0m\u001b[1;33m]\u001b[0m\u001b[1;33m\u001b[0m\u001b[1;33m\u001b[0m\u001b[0m\n",
      "\u001b[1;32mc:\\Users\\kevin\\miniconda3\\envs\\python38\\lib\\site-packages\\transformers\\models\\t5\\modeling_t5.py\u001b[0m in \u001b[0;36mforward\u001b[1;34m(self, hidden_states)\u001b[0m\n\u001b[0;32m    326\u001b[0m     \u001b[1;32mdef\u001b[0m \u001b[0mforward\u001b[0m\u001b[1;33m(\u001b[0m\u001b[0mself\u001b[0m\u001b[1;33m,\u001b[0m \u001b[0mhidden_states\u001b[0m\u001b[1;33m)\u001b[0m\u001b[1;33m:\u001b[0m\u001b[1;33m\u001b[0m\u001b[1;33m\u001b[0m\u001b[0m\n\u001b[0;32m    327\u001b[0m         \u001b[0mforwarded_states\u001b[0m \u001b[1;33m=\u001b[0m \u001b[0mself\u001b[0m\u001b[1;33m.\u001b[0m\u001b[0mlayer_norm\u001b[0m\u001b[1;33m(\u001b[0m\u001b[0mhidden_states\u001b[0m\u001b[1;33m)\u001b[0m\u001b[1;33m\u001b[0m\u001b[1;33m\u001b[0m\u001b[0m\n\u001b[1;32m--> 328\u001b[1;33m         \u001b[0mforwarded_states\u001b[0m \u001b[1;33m=\u001b[0m \u001b[0mself\u001b[0m\u001b[1;33m.\u001b[0m\u001b[0mDenseReluDense\u001b[0m\u001b[1;33m(\u001b[0m\u001b[0mforwarded_states\u001b[0m\u001b[1;33m)\u001b[0m\u001b[1;33m\u001b[0m\u001b[1;33m\u001b[0m\u001b[0m\n\u001b[0m\u001b[0;32m    329\u001b[0m         \u001b[0mhidden_states\u001b[0m \u001b[1;33m=\u001b[0m \u001b[0mhidden_states\u001b[0m \u001b[1;33m+\u001b[0m \u001b[0mself\u001b[0m\u001b[1;33m.\u001b[0m\u001b[0mdropout\u001b[0m\u001b[1;33m(\u001b[0m\u001b[0mforwarded_states\u001b[0m\u001b[1;33m)\u001b[0m\u001b[1;33m\u001b[0m\u001b[1;33m\u001b[0m\u001b[0m\n\u001b[0;32m    330\u001b[0m         \u001b[1;32mreturn\u001b[0m \u001b[0mhidden_states\u001b[0m\u001b[1;33m\u001b[0m\u001b[1;33m\u001b[0m\u001b[0m\n",
      "\u001b[1;32mc:\\Users\\kevin\\miniconda3\\envs\\python38\\lib\\site-packages\\torch\\nn\\modules\\module.py\u001b[0m in \u001b[0;36m_call_impl\u001b[1;34m(self, *input, **kwargs)\u001b[0m\n\u001b[0;32m   1100\u001b[0m         if not (self._backward_hooks or self._forward_hooks or self._forward_pre_hooks or _global_backward_hooks\n\u001b[0;32m   1101\u001b[0m                 or _global_forward_hooks or _global_forward_pre_hooks):\n\u001b[1;32m-> 1102\u001b[1;33m             \u001b[1;32mreturn\u001b[0m \u001b[0mforward_call\u001b[0m\u001b[1;33m(\u001b[0m\u001b[1;33m*\u001b[0m\u001b[0minput\u001b[0m\u001b[1;33m,\u001b[0m \u001b[1;33m**\u001b[0m\u001b[0mkwargs\u001b[0m\u001b[1;33m)\u001b[0m\u001b[1;33m\u001b[0m\u001b[1;33m\u001b[0m\u001b[0m\n\u001b[0m\u001b[0;32m   1103\u001b[0m         \u001b[1;31m# Do not call functions when jit is used\u001b[0m\u001b[1;33m\u001b[0m\u001b[1;33m\u001b[0m\u001b[1;33m\u001b[0m\u001b[0m\n\u001b[0;32m   1104\u001b[0m         \u001b[0mfull_backward_hooks\u001b[0m\u001b[1;33m,\u001b[0m \u001b[0mnon_full_backward_hooks\u001b[0m \u001b[1;33m=\u001b[0m \u001b[1;33m[\u001b[0m\u001b[1;33m]\u001b[0m\u001b[1;33m,\u001b[0m \u001b[1;33m[\u001b[0m\u001b[1;33m]\u001b[0m\u001b[1;33m\u001b[0m\u001b[1;33m\u001b[0m\u001b[0m\n",
      "\u001b[1;32mc:\\Users\\kevin\\miniconda3\\envs\\python38\\lib\\site-packages\\transformers\\models\\t5\\modeling_t5.py\u001b[0m in \u001b[0;36mforward\u001b[1;34m(self, hidden_states)\u001b[0m\n\u001b[0;32m    287\u001b[0m         \u001b[0mhidden_states\u001b[0m \u001b[1;33m=\u001b[0m \u001b[0mnn\u001b[0m\u001b[1;33m.\u001b[0m\u001b[0mfunctional\u001b[0m\u001b[1;33m.\u001b[0m\u001b[0mrelu\u001b[0m\u001b[1;33m(\u001b[0m\u001b[0mhidden_states\u001b[0m\u001b[1;33m)\u001b[0m\u001b[1;33m\u001b[0m\u001b[1;33m\u001b[0m\u001b[0m\n\u001b[0;32m    288\u001b[0m         \u001b[0mhidden_states\u001b[0m \u001b[1;33m=\u001b[0m \u001b[0mself\u001b[0m\u001b[1;33m.\u001b[0m\u001b[0mdropout\u001b[0m\u001b[1;33m(\u001b[0m\u001b[0mhidden_states\u001b[0m\u001b[1;33m)\u001b[0m\u001b[1;33m\u001b[0m\u001b[1;33m\u001b[0m\u001b[0m\n\u001b[1;32m--> 289\u001b[1;33m         \u001b[0mhidden_states\u001b[0m \u001b[1;33m=\u001b[0m \u001b[0mself\u001b[0m\u001b[1;33m.\u001b[0m\u001b[0mwo\u001b[0m\u001b[1;33m(\u001b[0m\u001b[0mhidden_states\u001b[0m\u001b[1;33m)\u001b[0m\u001b[1;33m\u001b[0m\u001b[1;33m\u001b[0m\u001b[0m\n\u001b[0m\u001b[0;32m    290\u001b[0m         \u001b[1;32mreturn\u001b[0m \u001b[0mhidden_states\u001b[0m\u001b[1;33m\u001b[0m\u001b[1;33m\u001b[0m\u001b[0m\n\u001b[0;32m    291\u001b[0m \u001b[1;33m\u001b[0m\u001b[0m\n",
      "\u001b[1;32mc:\\Users\\kevin\\miniconda3\\envs\\python38\\lib\\site-packages\\torch\\nn\\modules\\module.py\u001b[0m in \u001b[0;36m_call_impl\u001b[1;34m(self, *input, **kwargs)\u001b[0m\n\u001b[0;32m   1100\u001b[0m         if not (self._backward_hooks or self._forward_hooks or self._forward_pre_hooks or _global_backward_hooks\n\u001b[0;32m   1101\u001b[0m                 or _global_forward_hooks or _global_forward_pre_hooks):\n\u001b[1;32m-> 1102\u001b[1;33m             \u001b[1;32mreturn\u001b[0m \u001b[0mforward_call\u001b[0m\u001b[1;33m(\u001b[0m\u001b[1;33m*\u001b[0m\u001b[0minput\u001b[0m\u001b[1;33m,\u001b[0m \u001b[1;33m**\u001b[0m\u001b[0mkwargs\u001b[0m\u001b[1;33m)\u001b[0m\u001b[1;33m\u001b[0m\u001b[1;33m\u001b[0m\u001b[0m\n\u001b[0m\u001b[0;32m   1103\u001b[0m         \u001b[1;31m# Do not call functions when jit is used\u001b[0m\u001b[1;33m\u001b[0m\u001b[1;33m\u001b[0m\u001b[1;33m\u001b[0m\u001b[0m\n\u001b[0;32m   1104\u001b[0m         \u001b[0mfull_backward_hooks\u001b[0m\u001b[1;33m,\u001b[0m \u001b[0mnon_full_backward_hooks\u001b[0m \u001b[1;33m=\u001b[0m \u001b[1;33m[\u001b[0m\u001b[1;33m]\u001b[0m\u001b[1;33m,\u001b[0m \u001b[1;33m[\u001b[0m\u001b[1;33m]\u001b[0m\u001b[1;33m\u001b[0m\u001b[1;33m\u001b[0m\u001b[0m\n",
      "\u001b[1;32mc:\\Users\\kevin\\miniconda3\\envs\\python38\\lib\\site-packages\\torch\\nn\\modules\\linear.py\u001b[0m in \u001b[0;36mforward\u001b[1;34m(self, input)\u001b[0m\n\u001b[0;32m    101\u001b[0m \u001b[1;33m\u001b[0m\u001b[0m\n\u001b[0;32m    102\u001b[0m     \u001b[1;32mdef\u001b[0m \u001b[0mforward\u001b[0m\u001b[1;33m(\u001b[0m\u001b[0mself\u001b[0m\u001b[1;33m,\u001b[0m \u001b[0minput\u001b[0m\u001b[1;33m:\u001b[0m \u001b[0mTensor\u001b[0m\u001b[1;33m)\u001b[0m \u001b[1;33m->\u001b[0m \u001b[0mTensor\u001b[0m\u001b[1;33m:\u001b[0m\u001b[1;33m\u001b[0m\u001b[1;33m\u001b[0m\u001b[0m\n\u001b[1;32m--> 103\u001b[1;33m         \u001b[1;32mreturn\u001b[0m \u001b[0mF\u001b[0m\u001b[1;33m.\u001b[0m\u001b[0mlinear\u001b[0m\u001b[1;33m(\u001b[0m\u001b[0minput\u001b[0m\u001b[1;33m,\u001b[0m \u001b[0mself\u001b[0m\u001b[1;33m.\u001b[0m\u001b[0mweight\u001b[0m\u001b[1;33m,\u001b[0m \u001b[0mself\u001b[0m\u001b[1;33m.\u001b[0m\u001b[0mbias\u001b[0m\u001b[1;33m)\u001b[0m\u001b[1;33m\u001b[0m\u001b[1;33m\u001b[0m\u001b[0m\n\u001b[0m\u001b[0;32m    104\u001b[0m \u001b[1;33m\u001b[0m\u001b[0m\n\u001b[0;32m    105\u001b[0m     \u001b[1;32mdef\u001b[0m \u001b[0mextra_repr\u001b[0m\u001b[1;33m(\u001b[0m\u001b[0mself\u001b[0m\u001b[1;33m)\u001b[0m \u001b[1;33m->\u001b[0m \u001b[0mstr\u001b[0m\u001b[1;33m:\u001b[0m\u001b[1;33m\u001b[0m\u001b[1;33m\u001b[0m\u001b[0m\n",
      "\u001b[1;32mc:\\Users\\kevin\\miniconda3\\envs\\python38\\lib\\site-packages\\torch\\nn\\functional.py\u001b[0m in \u001b[0;36mlinear\u001b[1;34m(input, weight, bias)\u001b[0m\n\u001b[0;32m   1846\u001b[0m     \u001b[1;32mif\u001b[0m \u001b[0mhas_torch_function_variadic\u001b[0m\u001b[1;33m(\u001b[0m\u001b[0minput\u001b[0m\u001b[1;33m,\u001b[0m \u001b[0mweight\u001b[0m\u001b[1;33m,\u001b[0m \u001b[0mbias\u001b[0m\u001b[1;33m)\u001b[0m\u001b[1;33m:\u001b[0m\u001b[1;33m\u001b[0m\u001b[1;33m\u001b[0m\u001b[0m\n\u001b[0;32m   1847\u001b[0m         \u001b[1;32mreturn\u001b[0m \u001b[0mhandle_torch_function\u001b[0m\u001b[1;33m(\u001b[0m\u001b[0mlinear\u001b[0m\u001b[1;33m,\u001b[0m \u001b[1;33m(\u001b[0m\u001b[0minput\u001b[0m\u001b[1;33m,\u001b[0m \u001b[0mweight\u001b[0m\u001b[1;33m,\u001b[0m \u001b[0mbias\u001b[0m\u001b[1;33m)\u001b[0m\u001b[1;33m,\u001b[0m \u001b[0minput\u001b[0m\u001b[1;33m,\u001b[0m \u001b[0mweight\u001b[0m\u001b[1;33m,\u001b[0m \u001b[0mbias\u001b[0m\u001b[1;33m=\u001b[0m\u001b[0mbias\u001b[0m\u001b[1;33m)\u001b[0m\u001b[1;33m\u001b[0m\u001b[1;33m\u001b[0m\u001b[0m\n\u001b[1;32m-> 1848\u001b[1;33m     \u001b[1;32mreturn\u001b[0m \u001b[0mtorch\u001b[0m\u001b[1;33m.\u001b[0m\u001b[0m_C\u001b[0m\u001b[1;33m.\u001b[0m\u001b[0m_nn\u001b[0m\u001b[1;33m.\u001b[0m\u001b[0mlinear\u001b[0m\u001b[1;33m(\u001b[0m\u001b[0minput\u001b[0m\u001b[1;33m,\u001b[0m \u001b[0mweight\u001b[0m\u001b[1;33m,\u001b[0m \u001b[0mbias\u001b[0m\u001b[1;33m)\u001b[0m\u001b[1;33m\u001b[0m\u001b[1;33m\u001b[0m\u001b[0m\n\u001b[0m\u001b[0;32m   1849\u001b[0m \u001b[1;33m\u001b[0m\u001b[0m\n\u001b[0;32m   1850\u001b[0m \u001b[1;33m\u001b[0m\u001b[0m\n",
      "\u001b[1;31mKeyboardInterrupt\u001b[0m: "
     ]
    }
   ],
   "source": [
    "if(args.valid_begin==1):\n",
    "    my_test(valid_dataloader,cycleGAN,tokenizer,logging,wandb)\n",
    "total_iter = [0]  \n",
    "for epoch in range(args.epochs):\n",
    "\n",
    "    logging.info(f\"\\n\\n  ----------------epoch:{epoch}----------------\")\n",
    "    my_train(train_dataloader,cycleGAN,total_iter,args,logging,valid_dataloader,tokenizer,wandb)\n",
    "\n"
   ]
  },
  {
   "cell_type": "code",
   "execution_count": null,
   "metadata": {},
   "outputs": [],
   "source": []
  }
 ],
 "metadata": {
  "interpreter": {
   "hash": "2d33c3b0ef123e851f98887a8750ca7da758e4ff258891935cfe6ff9c0394387"
  },
  "kernelspec": {
   "display_name": "Python 3.8.12 ('python38')",
   "language": "python",
   "name": "python3"
  },
  "language_info": {
   "codemirror_mode": {
    "name": "ipython",
    "version": 3
   },
   "file_extension": ".py",
   "mimetype": "text/x-python",
   "name": "python",
   "nbconvert_exporter": "python",
   "pygments_lexer": "ipython3",
   "version": "3.8.12"
  },
  "orig_nbformat": 4
 },
 "nbformat": 4,
 "nbformat_minor": 2
}
