{
 "cells": [
  {
   "cell_type": "code",
   "execution_count": 1,
   "metadata": {},
   "outputs": [],
   "source": [
    "\n",
    "import os\n",
    "os.getcwd() \n",
    "os.environ[\"TOKENIZERS_PARALLELISM\"] = \"false\"\n",
    "import warnings\n",
    "from test import *\n",
    "warnings.filterwarnings(\"ignore\")\n",
    "from datasets import load_dataset,load_metric\n",
    "from transformers import AutoTokenizer, AutoModelForSeq2SeqLM, pipeline\n",
    "import torch_optimizer as optim\n",
    "from transformers.optimization import Adafactor, AdafactorSchedule\n",
    "import torch.backends.cudnn as cudnn\n",
    "from utils import *\n",
    "from torch.utils.data import TensorDataset, DataLoader, RandomSampler, SequentialSampler, SubsetRandomSampler\n",
    "from torch.autograd import Variable\n",
    "import logging\n",
    "import sys\n",
    "import transformers\n",
    "from basic_model import *\n",
    "import time\n",
    "import argparse\n",
    "from tqdm import tqdm\n",
    "from torch.utils.tensorboard import SummaryWriter\n",
    "import string\n",
    "from cycle import *\n",
    "from train import *\n",
    "\n",
    "device = torch.device(\"cuda\" if torch.cuda.is_available() else \"cpu\")"
   ]
  },
  {
   "cell_type": "code",
   "execution_count": 2,
   "metadata": {},
   "outputs": [
    {
     "name": "stdout",
     "output_type": "stream",
     "text": [
      "args.test_iter 498\n",
      "args.rep_iter 99\n"
     ]
    }
   ],
   "source": [
    "if(True):\n",
    "    parser = argparse.ArgumentParser(\"main\")\n",
    "\n",
    "    parser.add_argument('--valid_num_points', type=int,             default = 100, help='validation data number')\n",
    "    parser.add_argument('--train_num_points', type=int,             default = 500, help='train data number')\n",
    "\n",
    "    parser.add_argument('--batch_size', type=int,                   default=3,     help='Batch size')\n",
    "    parser.add_argument('--max_length', type=int,                   default=512,     help='max_length')\n",
    "\n",
    "    parser.add_argument('--gpu', type=int,                          default=0,      help='gpu device id')\n",
    "    parser.add_argument('--G_AB_model_name', type=str,              default='t5-small',      help='model_name')\n",
    "    parser.add_argument('--G_BA_model_name', type=str,              default='Onlydrinkwater/T5-small-de-en',      help='model_name')\n",
    "    parser.add_argument('--D_A_model_name', type=str,               default='t5-small',      help='model_name')\n",
    "    parser.add_argument('--D_B_model_name', type=str,               default='Onlydrinkwater/T5-small-de-en',      help='model_name')\n",
    "    parser.add_argument('--exp_name', type=str,                     default='CYCLE!',      help='experiment name')\n",
    "    parser.add_argument('--rep_iter', type=int,                     default=100,      help='report times for 1 epoch')\n",
    "    parser.add_argument('--test_iter', type=int,                    default=500,      help='report times for 1 epoch')\n",
    "\n",
    "    parser.add_argument('--epochs', type=int,                       default=50,     help='num of training epochs')\n",
    "\n",
    "    parser.add_argument('--G_lr', type=float,                       default=0.00001,   help='learning rate for G')\n",
    "    parser.add_argument('--G_weight_decay', type=float,             default=1e-3,   help='learning de for G')\n",
    "    parser.add_argument('--G_gamma', type=float,                    default=0.5,    help='lr*gamma after each test')\n",
    "    parser.add_argument('--D_lr', type=float,                       default=0.0001,   help='learning rate for D')\n",
    "    parser.add_argument('--D_weight_decay', type=float,             default=1e-3,   help='learning de for D')\n",
    "    parser.add_argument('--D_gamma', type=float,                    default=0.5,    help='lr*gamma after each test')\n",
    "    parser.add_argument('--lambda_identity', type=float,            default=0.5,   help='')\n",
    "    parser.add_argument('--lambda_A', type=float,                   default=0,   help='')\n",
    "    parser.add_argument('--lambda_B', type=float,                   default=0,   help='')\n",
    "    parser.add_argument('--lambda_once', type=float,                default=1,   help='')\n",
    "    parser.add_argument('--smoothing', type=float,                  default=0.5,    help='labelsmoothing')\n",
    "\n",
    "    parser.add_argument('--load_D', type=int,                       default=1,      help='load pretrained D')\n",
    "    parser.add_argument('--num_workers', type=int,                  default=0,      help='num_workers')\n",
    "    parser.add_argument('--valid_begin', type=int,                  default=1,      help='whether valid before train')\n",
    "    parser.add_argument('--train_G', type=int,                      default=1,      help='whether valid before train')\n",
    "    parser.add_argument('--train_D', type=int,                      default=0,      help='whether valid before train')\n",
    "    parser.add_argument('--D_pretrain_iter', type=int,              default=100,      help='whether valid before train')\n",
    "\n",
    "\n",
    "    args = parser.parse_args(args=[])#(args=['--batch_size', '8',  '--no_cuda'])#used in ipynb\n",
    "    args.test_iter = args.test_iter//args.batch_size * args.batch_size\n",
    "    args.rep_iter = args.rep_iter//args.batch_size * args.batch_size\n",
    "    print('args.test_iter',args.test_iter)\n",
    "    print('args.rep_iter',args.rep_iter)#1"
   ]
  },
  {
   "cell_type": "code",
   "execution_count": 3,
   "metadata": {},
   "outputs": [
    {
     "name": "stderr",
     "output_type": "stream",
     "text": [
      "Failed to detect the name of this notebook, you can set it manually with the WANDB_NOTEBOOK_NAME environment variable to enable code saving.\n",
      "\u001b[34m\u001b[1mwandb\u001b[0m: Currently logged in as: \u001b[33monlydrinkwater\u001b[0m (use `wandb login --relogin` to force relogin)\n"
     ]
    },
    {
     "data": {
      "text/html": [
       "wandb version 0.12.15 is available!  To upgrade, please run:\n",
       " $ pip install wandb --upgrade"
      ],
      "text/plain": [
       "<IPython.core.display.HTML object>"
      ]
     },
     "metadata": {},
     "output_type": "display_data"
    },
    {
     "data": {
      "text/html": [
       "Tracking run with wandb version 0.12.11"
      ],
      "text/plain": [
       "<IPython.core.display.HTML object>"
      ]
     },
     "metadata": {},
     "output_type": "display_data"
    },
    {
     "data": {
      "text/html": [
       "Run data is saved locally in <code>g:\\GitCode\\cycleMT\\wandb\\run-20220430_001358-1hyysw5w</code>"
      ],
      "text/plain": [
       "<IPython.core.display.HTML object>"
      ]
     },
     "metadata": {},
     "output_type": "display_data"
    },
    {
     "data": {
      "text/html": [
       "Syncing run <strong><a href=\"https://wandb.ai/onlydrinkwater/CYCLEGAN/runs/1hyysw5w\" target=\"_blank\">CYCLE!</a></strong> to <a href=\"https://wandb.ai/onlydrinkwater/CYCLEGAN\" target=\"_blank\">Weights & Biases</a> (<a href=\"https://wandb.me/run\" target=\"_blank\">docs</a>)<br/>"
      ],
      "text/plain": [
       "<IPython.core.display.HTML object>"
      ]
     },
     "metadata": {},
     "output_type": "display_data"
    },
    {
     "data": {
      "text/html": [
       "<button onClick=\"this.nextSibling.style.display='block';this.style.display='none';\">Display W&B run</button><iframe src=\"https://wandb.ai/onlydrinkwater/CYCLEGAN/runs/1hyysw5w?jupyter=true\" style=\"border:none;width:100%;height:420px;display:none;\"></iframe>"
      ],
      "text/plain": [
       "<wandb.sdk.wandb_run.Run at 0x1cf0209b8b0>"
      ]
     },
     "execution_count": 3,
     "metadata": {},
     "output_type": "execute_result"
    }
   ],
   "source": [
    "import wandb\n",
    "os.environ['WANDB_API_KEY']='a166474b1b7ad33a0549adaaec19a2f6d3f91d87'\n",
    "os.environ['WANDB_NAME']=args.exp_name\n",
    "wandb.init(project=\"CYCLEGAN\",config=args)"
   ]
  },
  {
   "cell_type": "code",
   "execution_count": 4,
   "metadata": {},
   "outputs": [
    {
     "name": "stdout",
     "output_type": "stream",
     "text": [
      "04/30 12:14:06 AM |\t  Namespace(D_A_model_name='t5-small', D_B_model_name='Onlydrinkwater/T5-small-de-en', D_gamma=0.9, D_lr=0.0001, D_pretrain_iter=100, D_weight_decay=0.001, G_AB_model_name='t5-small', G_BA_model_name='Onlydrinkwater/T5-small-de-en', G_lr=5e-05, G_weight_decay=0.001, batch_size=3, epochs=50, exp_name='CYCLE!', gpu=0, lambda_A=0, lambda_B=0, lambda_identity=0.5, lambda_once=1, load_D=1, max_length=512, num_workers=0, rep_iter=99, smoothing=0.5, test_iter=498, train_D=0, train_G=1, train_num_points=500, valid_begin=1, valid_num_points=100)\n"
     ]
    }
   ],
   "source": [
    "#logging file\n",
    "now = time.strftime(\"%Y-%m-%d-%H_%M_%S\",time.localtime(time.time())) \n",
    "\n",
    "log_format = '%(asctime)s |\\t  %(message)s'\n",
    "logging.basicConfig(stream=sys.stdout, level=logging.INFO,\n",
    "    format=log_format, datefmt='%m/%d %I:%M:%S %p')\n",
    "fh = logging.FileHandler(os.path.join(\"./log/\", now+'.txt'),'w',encoding = \"UTF-8\")\n",
    "fh.setFormatter(logging.Formatter(log_format))\n",
    "logging.getLogger().addHandler(fh)\n",
    "logging.info(args)"
   ]
  },
  {
   "cell_type": "code",
   "execution_count": 5,
   "metadata": {},
   "outputs": [
    {
     "name": "stdout",
     "output_type": "stream",
     "text": [
      "04/30 12:14:11 AM |\t  Gmodelsize:60.506624MB\n",
      "04/30 12:14:11 AM |\t  Dmodelsize:60.506624MB\n"
     ]
    }
   ],
   "source": [
    "GABmodelname = args.G_AB_model_name\n",
    "GBAmodelname = args.G_BA_model_name\n",
    "DAmodelname = args.D_A_model_name\n",
    "DBmodelname = args.D_B_model_name\n",
    "GABpretrained  =  AutoModelForSeq2SeqLM.from_pretrained(GABmodelname)\n",
    "GBApretrained  =  AutoModelForSeq2SeqLM.from_pretrained(GBAmodelname)\n",
    "DApretrained  =  AutoModelForSeq2SeqLM.from_pretrained(DAmodelname)\n",
    "DBpretrained  =  AutoModelForSeq2SeqLM.from_pretrained(DBmodelname)\n",
    "logging.info(f'Gmodelsize:{count_parameters_in_MB(GABpretrained)}MB')\n",
    "logging.info(f'Dmodelsize:{count_parameters_in_MB(DApretrained)}MB')\n",
    "\n",
    "tokenizer = AutoTokenizer.from_pretrained(GABmodelname)\n",
    "# tokenizerBA = AutoTokenizer.from_pretrained(GBAmodelname)#its the same\n"
   ]
  },
  {
   "cell_type": "code",
   "execution_count": 11,
   "metadata": {},
   "outputs": [
    {
     "name": "stdout",
     "output_type": "stream",
     "text": [
      "04/30 12:17:06 AM |\t  Reusing dataset wmt16 (C:\\Users\\kevin\\.cache\\huggingface\\datasets\\wmt16\\de-en\\1.0.0\\0d9fb3e814712c785176ad8cdb9f465fbe6479000ee6546725db30ad8a8b5f8a)\n"
     ]
    },
    {
     "name": "stderr",
     "output_type": "stream",
     "text": [
      "100%|██████████| 3/3 [00:00<00:00, 33.41it/s]\n"
     ]
    }
   ],
   "source": [
    "dataset = load_dataset('wmt16','de-en')\n",
    "train = dataset['train']['translation'][:args.train_num_points]\n",
    "valid = dataset['train']['translation'][(args.train_num_points-args.valid_num_points):args.train_num_points]#TODO:\n",
    "\n",
    "\n",
    "train_data = get_Dataset_chaos(train, tokenizer,max_length=args.max_length)\n",
    "train_dataloader = DataLoader(train_data, sampler= RandomSampler(train_data), \n",
    "                        batch_size=args.batch_size, pin_memory=True, num_workers=args.num_workers)\n",
    "valid_data = get_Dataset(valid, tokenizer,max_length=args.max_length)\n",
    "valid_dataloader = DataLoader(valid_data, sampler=SequentialSampler(valid_data), \n",
    "                        batch_size=args.batch_size, pin_memory=True, num_workers=args.num_workers)"
   ]
  },
  {
   "cell_type": "code",
   "execution_count": 12,
   "metadata": {},
   "outputs": [
    {
     "name": "stdout",
     "output_type": "stream",
     "text": [
      "D_A and D_B are loaded\n"
     ]
    }
   ],
   "source": [
    "cycleGAN = CycleGAN(args,GABpretrained,GBApretrained,DApretrained,DBpretrained,tokenizer)"
   ]
  },
  {
   "cell_type": "code",
   "execution_count": 13,
   "metadata": {},
   "outputs": [
    {
     "name": "stdout",
     "output_type": "stream",
     "text": [
      "04/30 12:18:09 AM |\t  DA_a_: 0.313,  0.311,  0.319,  \n",
      "04/30 12:18:09 AM |\t  DB_pred_dis: 0.136,  0.158,  0.150,  \n",
      "04/30 12:18:09 AM |\t  DB_b: 0.138,  0.176,  0.142,  \n",
      "04/30 12:18:09 AM |\t  DA_pred_dis: 0.310,  0.318,  0.325,  \n",
      "04/30 12:18:09 AM |\t  GABloss:\t9.1445951461792\n",
      "04/30 12:18:09 AM |\t  GBAloss:\t13.516791343688965\n",
      "04/30 12:18:09 AM |\t  a_decoded[:2]:['Mr President, Commissioner, I would like to thank Mrs Schroedter for an excellent report.', 'She has gone into the issue in some depth and in the committee debate she took account of many of the amendments that have been tabled regarding this report.']\n",
      "04/30 12:18:09 AM |\t  pred_b_decoded[:2]:['I thank Mrs Schroedter for the sound report.', 'She has dealt with the issue in depth and has taken account of many of the amendments that have been tabled in the committee during the debate.']\n",
      "04/30 12:18:09 AM |\t  b_decoded[:2]:['Sehr geehrte Kollegen! Ich danke Frau Schroedter für den fundierten Bericht.', 'Sie hat sich eingehend mit der Problematik beschäftigt und während der Behandlung im Ausschuß viele zu dem vorliegenden Bericht eingegangene nderungsanträge berücksichtigt.']\n",
      "04/30 12:18:09 AM |\t  pred_a_decoded[:2]:['Herr Präsident, Herr Kommissar! Ich möchte Frau Schroedter für einen ausgezeichneten Bericht danken.', 'Sie hat das Thema gründlich behandelt, und in der Aussprache im Ausschuss hat sie viele der nderungsanträge berücksichtigt, die zu diesem Bericht eingereicht wurden.']\n",
      "04/30 12:18:57 AM |\t  computing score...\n",
      "04/30 12:18:57 AM |\t  G_AB GAB sacreBLEU : 20.146787\n",
      "04/30 12:18:57 AM |\t  G_BA GBA sacreBLEU : 24.360726\n",
      "04/30 12:18:57 AM |\t  G_AB GAB test loss : 7.493932\n",
      "04/30 12:18:57 AM |\t  G_BA GBA test loss : 11.393479\n",
      "04/30 12:18:57 AM |\t  \n",
      "\n",
      "  ----------------epoch:0----------------\n",
      "04/30 12:18:57 AM |\t  total iter:[0] \t G_lr:5e-05 \t DA_lr:0.0001 \t DB_lr:0.0001\n",
      "04/30 12:19:42 AM |\t  {'DA_meter': 0.11338780910679788, 'DB_meter': 0.24003542846802509}\n",
      "04/30 12:19:42 AM |\t  19.16167664670659%\n",
      "04/30 12:20:31 AM |\t  {'GB_cycle_meter': 0.0, 'GA_cycle_meter': 0.0, 'GAB_once_meter': 0.7881265580654144, 'GBA_once_meter': 0.6627611797867399, 'DA_meter': 0, 'DB_meter': 0}\n",
      "04/30 12:20:31 AM |\t  38.92215568862276%\n",
      "04/30 12:21:20 AM |\t  {'GB_cycle_meter': 0.0, 'GA_cycle_meter': 0.0, 'GAB_once_meter': 0.7361906694643425, 'GBA_once_meter': 0.7041613558928171, 'DA_meter': 0, 'DB_meter': 0}\n",
      "04/30 12:21:20 AM |\t  58.68263473053892%\n",
      "04/30 12:22:08 AM |\t  {'GB_cycle_meter': 0.0, 'GA_cycle_meter': 0.0, 'GAB_once_meter': 0.8144013285636902, 'GBA_once_meter': 0.7001972063021227, 'DA_meter': 0, 'DB_meter': 0}\n",
      "04/30 12:22:08 AM |\t  78.44311377245509%\n",
      "04/30 12:22:57 AM |\t  {'GB_cycle_meter': 0.0, 'GA_cycle_meter': 0.0, 'GAB_once_meter': 0.7587750626332832, 'GBA_once_meter': 0.6826913284532952, 'DA_meter': 0, 'DB_meter': 0}\n",
      "04/30 12:22:57 AM |\t  98.20359281437125%\n",
      "04/30 12:23:02 AM |\t  DA_a_: 0.970,  1.023,  1.041,  \n",
      "04/30 12:23:02 AM |\t  DB_pred_dis: 0.468,  0.687,  0.572,  \n",
      "04/30 12:23:02 AM |\t  DB_b: 0.500,  0.672,  0.564,  \n",
      "04/30 12:23:02 AM |\t  DA_pred_dis: 0.553,  1.050,  0.218,  \n",
      "04/30 12:23:02 AM |\t  GABloss:\t8.943816184997559\n",
      "04/30 12:23:02 AM |\t  GBAloss:\t13.343005180358887\n",
      "04/30 12:23:02 AM |\t  a_decoded[:2]:['Mr President, Commissioner, I would like to thank Mrs Schroedter for an excellent report.', 'She has gone into the issue in some depth and in the committee debate she took account of many of the amendments that have been tabled regarding this report.']\n",
      "04/30 12:23:02 AM |\t  pred_b_decoded[:2]:['Ladies and gentlemen, I thank Mrs Schroedter for the sound report.', \"She has dealt with the issue in detail and, during the committee's discussion, she has taken account of many of the amendments that have been tabled to this report.\"]\n",
      "04/30 12:23:02 AM |\t  b_decoded[:2]:['Sehr geehrte Kollegen! Ich danke Frau Schroedter für den fundierten Bericht.', 'Sie hat sich eingehend mit der Problematik beschäftigt und während der Behandlung im Ausschuß viele zu dem vorliegenden Bericht eingegangene nderungsanträge berücksichtigt.']\n",
      "04/30 12:23:02 AM |\t  pred_a_decoded[:2]:['Herr Kommissar!', 'Sie hat das Thema gründlich behandelt, und in der Aussprache im Ausschuss hat sie viele der nderungsanträge berücksichtigt, die zu diesem Bericht eingereicht wurden.']\n",
      "04/30 12:23:51 AM |\t  computing score...\n",
      "04/30 12:23:51 AM |\t  G_AB GAB sacreBLEU : 13.647294\n",
      "04/30 12:23:51 AM |\t  G_BA GBA sacreBLEU : 24.599876\n",
      "04/30 12:23:51 AM |\t  G_AB GAB test loss : 7.602461\n",
      "04/30 12:23:51 AM |\t  G_BA GBA test loss : 10.523110\n",
      "04/30 12:23:52 AM |\t  \n",
      "\n",
      "  ----------------epoch:1----------------\n",
      "04/30 12:23:52 AM |\t  total iter:[501] \t G_lr:5e-05 \t DA_lr:8.1e-05 \t DB_lr:8.1e-05\n",
      "04/30 12:24:39 AM |\t  {'GB_cycle_meter': 0.0, 'GA_cycle_meter': 0.0, 'GAB_once_meter': 0.777364376819495, 'GBA_once_meter': 0.7191963412544944, 'DA_meter': 0, 'DB_meter': 0}\n",
      "04/30 12:24:39 AM |\t  17.964071856287426%\n",
      "04/30 12:25:28 AM |\t  {'GB_cycle_meter': 0.0, 'GA_cycle_meter': 0.0, 'GAB_once_meter': 0.8536323923053164, 'GBA_once_meter': 0.7045615152879194, 'DA_meter': 0, 'DB_meter': 0}\n",
      "04/30 12:25:28 AM |\t  37.72455089820359%\n",
      "04/30 12:26:17 AM |\t  {'GB_cycle_meter': 0.0, 'GA_cycle_meter': 0.0, 'GAB_once_meter': 0.8558517089395812, 'GBA_once_meter': 0.6619468439709056, 'DA_meter': 0, 'DB_meter': 0}\n",
      "04/30 12:26:17 AM |\t  57.48502994011976%\n",
      "04/30 12:27:05 AM |\t  {'GB_cycle_meter': 0.0, 'GA_cycle_meter': 0.0, 'GAB_once_meter': 0.8189284458304896, 'GBA_once_meter': 0.7083794564911814, 'DA_meter': 0, 'DB_meter': 0}\n",
      "04/30 12:27:05 AM |\t  77.24550898203593%\n",
      "04/30 12:27:54 AM |\t  {'GB_cycle_meter': 0.0, 'GA_cycle_meter': 0.0, 'GAB_once_meter': 0.8194582362969717, 'GBA_once_meter': 0.7378611113085891, 'DA_meter': 0, 'DB_meter': 0}\n",
      "04/30 12:27:54 AM |\t  97.0059880239521%\n",
      "04/30 12:28:01 AM |\t  DA_a_: 0.970,  1.023,  1.041,  \n",
      "04/30 12:28:01 AM |\t  DB_pred_dis: 0.472,  0.682,  0.572,  \n",
      "04/30 12:28:01 AM |\t  DB_b: 0.500,  0.672,  0.564,  \n",
      "04/30 12:28:01 AM |\t  DA_pred_dis: 0.553,  0.975,  0.218,  \n",
      "04/30 12:28:01 AM |\t  GABloss:\t8.481056213378906\n",
      "04/30 12:28:01 AM |\t  GBAloss:\t11.612665176391602\n",
      "04/30 12:28:01 AM |\t  a_decoded[:2]:['Mr President, Commissioner, I would like to thank Mrs Schroedter for an excellent report.', 'She has gone into the issue in some depth and in the committee debate she took account of many of the amendments that have been tabled regarding this report.']\n",
      "04/30 12:28:01 AM |\t  pred_b_decoded[:2]:['Ladies and gentlemen, I would like to thank Mrs Schroedter for the sound report.', \"She has dealt with the issue in depth and, during the committee's discussion, she has taken account of many of the amendments that have been tabled in this report.\"]\n",
      "04/30 12:28:01 AM |\t  b_decoded[:2]:['Sehr geehrte Kollegen! Ich danke Frau Schroedter für den fundierten Bericht.', 'Sie hat sich eingehend mit der Problematik beschäftigt und während der Behandlung im Ausschuß viele zu dem vorliegenden Bericht eingegangene nderungsanträge berücksichtigt.']\n",
      "04/30 12:28:01 AM |\t  pred_a_decoded[:2]:['Herr Kommissar!', 'Sie hat die nderungsanträge, die sie in der Aussprache im Ausschuß vorgelegt hat, in einigen Punkten erörtert.']\n",
      "04/30 12:28:55 AM |\t  computing score...\n",
      "04/30 12:28:56 AM |\t  G_AB GAB sacreBLEU : 9.871752\n",
      "04/30 12:28:56 AM |\t  G_BA GBA sacreBLEU : 20.325682\n",
      "04/30 12:28:56 AM |\t  G_AB GAB test loss : 7.365724\n",
      "04/30 12:28:56 AM |\t  G_BA GBA test loss : 11.370810\n",
      "04/30 12:28:58 AM |\t  \n",
      "\n",
      "  ----------------epoch:2----------------\n",
      "04/30 12:28:58 AM |\t  total iter:[1002] \t G_lr:5e-05 \t DA_lr:7.290000000000001e-05 \t DB_lr:7.290000000000001e-05\n",
      "04/30 12:29:40 AM |\t  {'GB_cycle_meter': 0.0, 'GA_cycle_meter': 0.0, 'GAB_once_meter': 0.8492603202660879, 'GBA_once_meter': 0.7162831922372183, 'DA_meter': 0, 'DB_meter': 0}\n",
      "04/30 12:29:40 AM |\t  16.766467065868262%\n",
      "04/30 12:30:28 AM |\t  {'GB_cycle_meter': 0.0, 'GA_cycle_meter': 0.0, 'GAB_once_meter': 0.7979860748305465, 'GBA_once_meter': 0.7135720469734885, 'DA_meter': 0, 'DB_meter': 0}\n",
      "04/30 12:30:28 AM |\t  36.52694610778443%\n",
      "04/30 12:31:16 AM |\t  {'GB_cycle_meter': 0.0, 'GA_cycle_meter': 0.0, 'GAB_once_meter': 0.837188027121804, 'GBA_once_meter': 0.6979127715934407, 'DA_meter': 0, 'DB_meter': 0}\n",
      "04/30 12:31:16 AM |\t  56.287425149700596%\n",
      "04/30 12:32:03 AM |\t  {'GB_cycle_meter': 0.0, 'GA_cycle_meter': 0.0, 'GAB_once_meter': 0.8326715872143254, 'GBA_once_meter': 0.7443613518368114, 'DA_meter': 0, 'DB_meter': 0}\n",
      "04/30 12:32:03 AM |\t  76.04790419161677%\n",
      "04/30 12:32:52 AM |\t  {'GB_cycle_meter': 0.0, 'GA_cycle_meter': 0.0, 'GAB_once_meter': 0.7932470820166848, 'GBA_once_meter': 0.6801933944225311, 'DA_meter': 0, 'DB_meter': 0}\n",
      "04/30 12:32:52 AM |\t  95.80838323353294%\n",
      "04/30 12:33:00 AM |\t  DA_a_: 0.970,  1.023,  1.041,  \n",
      "04/30 12:33:00 AM |\t  DB_pred_dis: 0.472,  0.674,  0.604,  \n",
      "04/30 12:33:00 AM |\t  DB_b: 0.500,  0.672,  0.564,  \n",
      "04/30 12:33:00 AM |\t  DA_pred_dis: 0.553,  0.913,  0.964,  \n",
      "04/30 12:33:00 AM |\t  GABloss:\t8.504610061645508\n",
      "04/30 12:33:00 AM |\t  GBAloss:\t11.485082626342773\n",
      "04/30 12:33:00 AM |\t  a_decoded[:2]:['Mr President, Commissioner, I would like to thank Mrs Schroedter for an excellent report.', 'She has gone into the issue in some depth and in the committee debate she took account of many of the amendments that have been tabled regarding this report.']\n",
      "04/30 12:33:00 AM |\t  pred_b_decoded[:2]:['Ladies and gentlemen, I would like to thank Mrs Schroedter for the sound report.', \"She has dealt with the problem and, during the committee's discussion, she has taken account of many of the amendments that have been tabled in this report.\"]\n",
      "04/30 12:33:00 AM |\t  b_decoded[:2]:['Sehr geehrte Kollegen! Ich danke Frau Schroedter für den fundierten Bericht.', 'Sie hat sich eingehend mit der Problematik beschäftigt und während der Behandlung im Ausschuß viele zu dem vorliegenden Bericht eingegangene nderungsanträge berücksichtigt.']\n",
      "04/30 12:33:00 AM |\t  pred_a_decoded[:2]:['Herr Kommissar!', 'Sie hat es geschafft, die nderungsanträge zu erarbeiten.']\n",
      "04/30 12:33:54 AM |\t  computing score...\n",
      "04/30 12:33:54 AM |\t  G_AB GAB sacreBLEU : 2.989450\n",
      "04/30 12:33:54 AM |\t  G_BA GBA sacreBLEU : 19.149770\n",
      "04/30 12:33:54 AM |\t  G_AB GAB test loss : 7.710316\n",
      "04/30 12:33:54 AM |\t  G_BA GBA test loss : 11.924908\n",
      "04/30 12:33:58 AM |\t  \n",
      "\n",
      "  ----------------epoch:3----------------\n",
      "04/30 12:33:58 AM |\t  total iter:[1503] \t G_lr:5e-05 \t DA_lr:6.561000000000002e-05 \t DB_lr:6.561000000000002e-05\n",
      "04/30 12:34:37 AM |\t  {'GB_cycle_meter': 0.0, 'GA_cycle_meter': 0.0, 'GAB_once_meter': 0.7672588473016565, 'GBA_once_meter': 0.7058298181403767, 'DA_meter': 0, 'DB_meter': 0}\n",
      "04/30 12:34:37 AM |\t  15.568862275449103%\n",
      "04/30 12:35:25 AM |\t  {'GB_cycle_meter': 0.0, 'GA_cycle_meter': 0.0, 'GAB_once_meter': 0.7993744991042397, 'GBA_once_meter': 0.6819477027112787, 'DA_meter': 0, 'DB_meter': 0}\n",
      "04/30 12:35:25 AM |\t  35.32934131736527%\n",
      "04/30 12:36:13 AM |\t  {'GB_cycle_meter': 0.0, 'GA_cycle_meter': 0.0, 'GAB_once_meter': 0.7437724705898401, 'GBA_once_meter': 0.7394066019491716, 'DA_meter': 0, 'DB_meter': 0}\n",
      "04/30 12:36:13 AM |\t  55.08982035928144%\n",
      "04/30 12:37:02 AM |\t  {'GB_cycle_meter': 0.0, 'GA_cycle_meter': 0.0, 'GAB_once_meter': 0.7210657623681155, 'GBA_once_meter': 0.6853350825382002, 'DA_meter': 0, 'DB_meter': 0}\n",
      "04/30 12:37:02 AM |\t  74.8502994011976%\n",
      "04/30 12:37:50 AM |\t  {'GB_cycle_meter': 0.0, 'GA_cycle_meter': 0.0, 'GAB_once_meter': 0.6820173541253264, 'GBA_once_meter': 0.7446717728268016, 'DA_meter': 0, 'DB_meter': 0}\n",
      "04/30 12:37:50 AM |\t  94.61077844311377%\n",
      "04/30 12:38:00 AM |\t  DA_a_: 0.970,  1.023,  1.041,  \n",
      "04/30 12:38:00 AM |\t  DB_pred_dis: 0.472,  0.670,  0.604,  \n",
      "04/30 12:38:00 AM |\t  DB_b: 0.500,  0.672,  0.564,  \n",
      "04/30 12:38:00 AM |\t  DA_pred_dis: 0.553,  0.953,  0.915,  \n",
      "04/30 12:38:00 AM |\t  GABloss:\t8.398669242858887\n",
      "04/30 12:38:00 AM |\t  GBAloss:\t12.602730751037598\n",
      "04/30 12:38:00 AM |\t  a_decoded[:2]:['Mr President, Commissioner, I would like to thank Mrs Schroedter for an excellent report.', 'She has gone into the issue in some depth and in the committee debate she took account of many of the amendments that have been tabled regarding this report.']\n",
      "04/30 12:38:00 AM |\t  pred_b_decoded[:2]:['Ladies and gentlemen, I would like to thank Mrs Schroedter for the sound report.', \"She has dealt with the issue in depth and, during the committee's discussion, she took account of many of the amendments that were tabled in the report.\"]\n",
      "04/30 12:38:00 AM |\t  b_decoded[:2]:['Sehr geehrte Kollegen! Ich danke Frau Schroedter für den fundierten Bericht.', 'Sie hat sich eingehend mit der Problematik beschäftigt und während der Behandlung im Ausschuß viele zu dem vorliegenden Bericht eingegangene nderungsanträge berücksichtigt.']\n",
      "04/30 12:38:00 AM |\t  pred_a_decoded[:2]:['Herr Kommissar!', 'Sie hat die Möglichkeit, die nderungsanträge zu erarbeiten.']\n",
      "04/30 12:38:57 AM |\t  computing score...\n",
      "04/30 12:38:57 AM |\t  G_AB GAB sacreBLEU : 1.524186\n",
      "04/30 12:38:57 AM |\t  G_BA GBA sacreBLEU : 20.183556\n",
      "04/30 12:38:57 AM |\t  G_AB GAB test loss : 7.526775\n",
      "04/30 12:38:57 AM |\t  G_BA GBA test loss : 13.059904\n",
      "04/30 12:39:02 AM |\t  \n",
      "\n",
      "  ----------------epoch:4----------------\n",
      "04/30 12:39:02 AM |\t  total iter:[2004] \t G_lr:5e-05 \t DA_lr:5.904900000000002e-05 \t DB_lr:5.904900000000002e-05\n",
      "04/30 12:39:38 AM |\t  {'GB_cycle_meter': 0.0, 'GA_cycle_meter': 0.0, 'GAB_once_meter': 0.651362730698152, 'GBA_once_meter': 0.7255320783817407, 'DA_meter': 0, 'DB_meter': 0}\n",
      "04/30 12:39:38 AM |\t  14.37125748502994%\n",
      "04/30 12:40:26 AM |\t  {'GB_cycle_meter': 0.0, 'GA_cycle_meter': 0.0, 'GAB_once_meter': 0.5328063819218766, 'GBA_once_meter': 0.7630970478057861, 'DA_meter': 0, 'DB_meter': 0}\n",
      "04/30 12:40:26 AM |\t  34.13173652694611%\n",
      "04/30 12:41:14 AM |\t  {'GB_cycle_meter': 0.0, 'GA_cycle_meter': 0.0, 'GAB_once_meter': 0.4905806657942859, 'GBA_once_meter': 0.6787565043478301, 'DA_meter': 0, 'DB_meter': 0}\n",
      "04/30 12:41:14 AM |\t  53.89221556886228%\n",
      "04/30 12:42:02 AM |\t  {'GB_cycle_meter': 0.0, 'GA_cycle_meter': 0.0, 'GAB_once_meter': 0.528483584523201, 'GBA_once_meter': 0.7199202920451309, 'DA_meter': 0, 'DB_meter': 0}\n",
      "04/30 12:42:02 AM |\t  73.65269461077844%\n",
      "04/30 12:42:50 AM |\t  {'GB_cycle_meter': 0.0, 'GA_cycle_meter': 0.0, 'GAB_once_meter': 0.5355997528090621, 'GBA_once_meter': 0.7613726420836016, 'DA_meter': 0, 'DB_meter': 0}\n",
      "04/30 12:42:50 AM |\t  93.41317365269461%\n",
      "04/30 12:43:08 AM |\t  DA_a_: 0.970,  1.023,  1.041,  \n",
      "04/30 12:43:08 AM |\t  DB_pred_dis: 0.204,  0.349,  0.318,  \n",
      "04/30 12:43:08 AM |\t  DB_b: 0.500,  0.672,  0.564,  \n",
      "04/30 12:43:08 AM |\t  DA_pred_dis: 0.684,  0.577,  0.593,  \n",
      "04/30 12:43:08 AM |\t  GABloss:\t8.09196662902832\n",
      "04/30 12:43:08 AM |\t  GBAloss:\t13.06503677368164\n",
      "04/30 12:43:08 AM |\t  a_decoded[:2]:['Mr President, Commissioner, I would like to thank Mrs Schroedter for an excellent report.', 'She has gone into the issue in some depth and in the committee debate she took account of many of the amendments that have been tabled regarding this report.']\n",
      "04/30 12:43:08 AM |\t  pred_b_decoded[:2]:['.', 'She has, in the course, of the issue, and, in the course of the debate, the committee, the committee, the, and, in the course, the, the many, the, the, the, the, the, the, the, the, the, the, the, the, the, the, the, the, the, the, the, the, the, the, the, the, the, the, the, the, the, the, the, the, the, the, the, the, the,']\n",
      "04/30 12:43:08 AM |\t  b_decoded[:2]:['Sehr geehrte Kollegen! Ich danke Frau Schroedter für den fundierten Bericht.', 'Sie hat sich eingehend mit der Problematik beschäftigt und während der Behandlung im Ausschuß viele zu dem vorliegenden Bericht eingegangene nderungsanträge berücksichtigt.']\n",
      "04/30 12:43:08 AM |\t  pred_a_decoded[:2]:['Herr Kom Kommissar.', 'Wir haben die Kom Kom Kom Kom Kom Kom Kom Kom Kom Kom Kom Kom Kom Kom Kom Kom Kom Kom Kom Kom Kom Kom Kom Kom Kom Kom Kom Kom Kom Kom Kom Kom Kom Kom Kom Kom Kom Kom Kom Kom Kom Kom Kom Kom Kom Kom Kom Kom Kom Kom Kom Kom Kom Kom Kom Kom Kom Kom Kom Kom Kom Kom Kom Kom Kom Kom Kom Kom Kom Kom Kom Kom Kom Kom Kom Kom Kom Kom Kom Kom Kom Kom Kom Kom Kom Kom Kom Kom Kom Kom Kom Kom Kom Kom Kom Kom Kom Kom Kom Kom Kom Kom Kom Kom Kom Kom Kom Kom Kom Kom']\n",
      "04/30 12:45:49 AM |\t  computing score...\n",
      "04/30 12:45:50 AM |\t  G_AB GAB sacreBLEU : 0.067556\n",
      "04/30 12:45:50 AM |\t  G_BA GBA sacreBLEU : 4.191830\n",
      "04/30 12:45:50 AM |\t  G_AB GAB test loss : 7.122335\n",
      "04/30 12:45:50 AM |\t  G_BA GBA test loss : 14.632084\n",
      "04/30 12:45:56 AM |\t  \n",
      "\n",
      "  ----------------epoch:5----------------\n",
      "04/30 12:45:56 AM |\t  total iter:[2505] \t G_lr:5e-05 \t DA_lr:5.314410000000002e-05 \t DB_lr:5.314410000000002e-05\n",
      "04/30 12:46:30 AM |\t  {'GB_cycle_meter': 0.0, 'GA_cycle_meter': 0.0, 'GAB_once_meter': 0.5890717768307888, 'GBA_once_meter': 0.7711625532670454, 'DA_meter': 0, 'DB_meter': 0}\n",
      "04/30 12:46:30 AM |\t  13.17365269461078%\n",
      "04/30 12:47:20 AM |\t  {'GB_cycle_meter': 0.0, 'GA_cycle_meter': 0.0, 'GAB_once_meter': 0.6052479427872282, 'GBA_once_meter': 0.7894597794070388, 'DA_meter': 0, 'DB_meter': 0}\n",
      "04/30 12:47:20 AM |\t  32.93413173652694%\n",
      "04/30 12:48:08 AM |\t  {'GB_cycle_meter': 0.0, 'GA_cycle_meter': 0.0, 'GAB_once_meter': 0.6623811089631283, 'GBA_once_meter': 0.7733905297337156, 'DA_meter': 0, 'DB_meter': 0}\n",
      "04/30 12:48:08 AM |\t  52.69461077844312%\n",
      "04/30 12:48:57 AM |\t  {'GB_cycle_meter': 0.0, 'GA_cycle_meter': 0.0, 'GAB_once_meter': 0.6435951879530242, 'GBA_once_meter': 0.7739876310030619, 'DA_meter': 0, 'DB_meter': 0}\n",
      "04/30 12:48:57 AM |\t  72.45508982035929%\n",
      "04/30 12:49:46 AM |\t  {'GB_cycle_meter': 0.0, 'GA_cycle_meter': 0.0, 'GAB_once_meter': 0.6831164775472699, 'GBA_once_meter': 0.7729742942434369, 'DA_meter': 0, 'DB_meter': 0}\n",
      "04/30 12:49:46 AM |\t  92.21556886227546%\n",
      "04/30 12:50:01 AM |\t  DA_a_: 0.970,  1.023,  1.041,  \n",
      "04/30 12:50:01 AM |\t  DB_pred_dis: 0.204,  0.204,  0.231,  \n",
      "04/30 12:50:01 AM |\t  DB_b: 0.500,  0.672,  0.564,  \n",
      "04/30 12:50:01 AM |\t  DA_pred_dis: 0.583,  0.151,  0.151,  \n",
      "04/30 12:50:01 AM |\t  GABloss:\t8.710074424743652\n",
      "04/30 12:50:01 AM |\t  GBAloss:\t13.455995559692383\n",
      "04/30 12:50:01 AM |\t  a_decoded[:2]:['Mr President, Commissioner, I would like to thank Mrs Schroedter for an excellent report.', 'She has gone into the issue in some depth and in the committee debate she took account of many of the amendments that have been tabled regarding this report.']\n",
      "04/30 12:50:01 AM |\t  pred_b_decoded[:2]:['.', '.']\n",
      "04/30 12:50:01 AM |\t  b_decoded[:2]:['Sehr geehrte Kollegen! Ich danke Frau Schroedter für den fundierten Bericht.', 'Sie hat sich eingehend mit der Problematik beschäftigt und während der Behandlung im Ausschuß viele zu dem vorliegenden Bericht eingegangene nderungsanträge berücksichtigt.']\n",
      "04/30 12:50:01 AM |\t  pred_a_decoded[:2]:['Frau Kom Kom Kom Kom Kom Kom Kom Kom Kom Kom Kom Kom Kom Kom Kom Kom Kom Kom Kom Kom Kom Kom Kom Kom Kom Kom Kom Kom Kom Kom Kom Kom Kom Kom Kom Kom Kom Kom Kom Kom Kom Kom Kom Kom Kom Kom Kom Kom Kom Kom Kom Kom Kom Kom Kom Kom Kom Kom Kom Kom Kom Kom Kom Kom Kom Kom Kom Kom Kom Kom Kom Kom Kom Kom Kom Kom Kom Kom Kom Kom Kom Kom Kom Kom Kom Kom Kom Kom Kom Kom Kom Kom Kom Kom Kom Kom Kom Kom Kom Kom Kom Kom Kom Kom Kom Kom Kom Kom Kom Kom Kom Kom', '']\n",
      "04/30 12:52:14 AM |\t  computing score...\n",
      "04/30 12:52:14 AM |\t  G_AB GAB sacreBLEU : 0.020744\n",
      "04/30 12:52:14 AM |\t  G_BA GBA sacreBLEU : 0.368061\n",
      "04/30 12:52:14 AM |\t  G_AB GAB test loss : 7.110030\n",
      "04/30 12:52:14 AM |\t  G_BA GBA test loss : 15.387478\n",
      "04/30 12:52:22 AM |\t  \n",
      "\n",
      "  ----------------epoch:6----------------\n",
      "04/30 12:52:22 AM |\t  total iter:[3006] \t G_lr:5e-05 \t DA_lr:4.782969000000002e-05 \t DB_lr:4.782969000000002e-05\n",
      "04/30 12:52:52 AM |\t  {'GB_cycle_meter': 0.0, 'GA_cycle_meter': 0.0, 'GAB_once_meter': 0.704581646305142, 'GBA_once_meter': 0.7392772056839683, 'DA_meter': 0, 'DB_meter': 0}\n",
      "04/30 12:52:52 AM |\t  11.976047904191617%\n",
      "04/30 12:53:41 AM |\t  {'GB_cycle_meter': 0.0, 'GA_cycle_meter': 0.0, 'GAB_once_meter': 0.6829153371579719, 'GBA_once_meter': 0.7230080059080413, 'DA_meter': 0, 'DB_meter': 0}\n",
      "04/30 12:53:41 AM |\t  31.736526946107784%\n",
      "04/30 12:54:31 AM |\t  {'GB_cycle_meter': 0.0, 'GA_cycle_meter': 0.0, 'GAB_once_meter': 0.6756247986446727, 'GBA_once_meter': 0.7203183643745653, 'DA_meter': 0, 'DB_meter': 0}\n",
      "04/30 12:54:31 AM |\t  51.49700598802395%\n",
      "04/30 12:55:20 AM |\t  {'GB_cycle_meter': 0.0, 'GA_cycle_meter': 0.0, 'GAB_once_meter': 0.6704882527842666, 'GBA_once_meter': 0.6975801189740499, 'DA_meter': 0, 'DB_meter': 0}\n",
      "04/30 12:55:20 AM |\t  71.25748502994011%\n",
      "04/30 12:56:10 AM |\t  {'GB_cycle_meter': 0.0, 'GA_cycle_meter': 0.0, 'GAB_once_meter': 0.6923253138860067, 'GBA_once_meter': 0.7007251959858518, 'DA_meter': 0, 'DB_meter': 0}\n",
      "04/30 12:56:10 AM |\t  91.01796407185628%\n",
      "04/30 12:56:24 AM |\t  DA_a_: 0.970,  1.023,  1.041,  \n",
      "04/30 12:56:24 AM |\t  DB_pred_dis: 0.204,  0.204,  0.262,  \n",
      "04/30 12:56:24 AM |\t  DB_b: 0.500,  0.672,  0.564,  \n",
      "04/30 12:56:24 AM |\t  DA_pred_dis: 0.104,  0.229,  0.229,  \n",
      "04/30 12:56:24 AM |\t  GABloss:\t9.063529968261719\n",
      "04/30 12:56:24 AM |\t  GBAloss:\t11.988397598266602\n",
      "04/30 12:56:24 AM |\t  a_decoded[:2]:['Mr President, Commissioner, I would like to thank Mrs Schroedter for an excellent report.', 'She has gone into the issue in some depth and in the committee debate she took account of many of the amendments that have been tabled regarding this report.']\n",
      "04/30 12:56:24 AM |\t  pred_b_decoded[:2]:['.', '.']\n",
      "04/30 12:56:24 AM |\t  b_decoded[:2]:['Sehr geehrte Kollegen! Ich danke Frau Schroedter für den fundierten Bericht.', 'Sie hat sich eingehend mit der Problematik beschäftigt und während der Behandlung im Ausschuß viele zu dem vorliegenden Bericht eingegangene nderungsanträge berücksichtigt.']\n",
      "04/30 12:56:24 AM |\t  pred_a_decoded[:2]:['..', 'Commission Commission Commission Commission Commission Commission Commission Commission Commission Commission Commission Commission Commission Commission Commission Commission Commission Commission Commission Commission Commission Commission Commission Commission Commission Commission Commission Commission Commission Commission Commission Commission Commission Commission Commission Commission Commission Commission Commission Commission Commission Commission Commission Commission Commission Commission Commission Commission Commission Commission Commission Commission Commission Commission Commission Commission Commission Commission Commission Commission Commission Commission Commission Commission Commission Commission Commission Commission Commission Commission Commission Commission Commission Commission Commission Commission Commission Commission Commission Commission Commission Commission Commission Commission Commission Commission Commission Commission Commission Commission Commission Commission Commission Commission Commission Commission Commission Commission Commission Commission Commission Commission Commission Commission Commission Commission Commission Commission Commission Commission Commission Commission']\n",
      "04/30 12:57:37 AM |\t  computing score...\n",
      "04/30 12:57:37 AM |\t  G_AB GAB sacreBLEU : 0.006973\n",
      "04/30 12:57:37 AM |\t  G_BA GBA sacreBLEU : 0.049641\n",
      "04/30 12:57:37 AM |\t  G_AB GAB test loss : 7.009229\n",
      "04/30 12:57:37 AM |\t  G_BA GBA test loss : 14.300177\n",
      "04/30 12:57:46 AM |\t  \n",
      "\n",
      "  ----------------epoch:7----------------\n",
      "04/30 12:57:46 AM |\t  total iter:[3507] \t G_lr:5e-05 \t DA_lr:4.304672100000002e-05 \t DB_lr:4.304672100000002e-05\n",
      "04/30 12:58:13 AM |\t  {'GB_cycle_meter': 0.0, 'GA_cycle_meter': 0.0, 'GAB_once_meter': 0.6817704782341466, 'GBA_once_meter': 0.6820212024630923, 'DA_meter': 0, 'DB_meter': 0}\n",
      "04/30 12:58:13 AM |\t  10.778443113772456%\n",
      "04/30 12:59:00 AM |\t  {'GB_cycle_meter': 0.0, 'GA_cycle_meter': 0.0, 'GAB_once_meter': 0.6438836536624215, 'GBA_once_meter': 0.7173352060895978, 'DA_meter': 0, 'DB_meter': 0}\n",
      "04/30 12:59:00 AM |\t  30.538922155688624%\n",
      "04/30 12:59:48 AM |\t  {'GB_cycle_meter': 0.0, 'GA_cycle_meter': 0.0, 'GAB_once_meter': 0.6787891550497576, 'GBA_once_meter': 0.7044315139452616, 'DA_meter': 0, 'DB_meter': 0}\n",
      "04/30 12:59:48 AM |\t  50.29940119760479%\n",
      "04/30 01:00:34 AM |\t  {'GB_cycle_meter': 0.0, 'GA_cycle_meter': 0.0, 'GAB_once_meter': 0.6631164153416952, 'GBA_once_meter': 0.6910853232398178, 'DA_meter': 0, 'DB_meter': 0}\n",
      "04/30 01:00:34 AM |\t  70.05988023952095%\n",
      "04/30 01:01:19 AM |\t  {'GB_cycle_meter': 0.0, 'GA_cycle_meter': 0.0, 'GAB_once_meter': 0.6241683255542408, 'GBA_once_meter': 0.7665085232619083, 'DA_meter': 0, 'DB_meter': 0}\n",
      "04/30 01:01:19 AM |\t  89.82035928143712%\n",
      "04/30 01:01:40 AM |\t  DA_a_: 0.970,  1.023,  1.041,  \n",
      "04/30 01:01:40 AM |\t  DB_pred_dis: 0.322,  0.094,  0.311,  \n",
      "04/30 01:01:40 AM |\t  DB_b: 0.500,  0.672,  0.564,  \n",
      "04/30 01:01:40 AM |\t  DA_pred_dis: 0.235,  0.248,  0.235,  \n",
      "04/30 01:01:40 AM |\t  GABloss:\t9.21133804321289\n",
      "04/30 01:01:40 AM |\t  GBAloss:\t10.722862243652344\n",
      "04/30 01:01:40 AM |\t  a_decoded[:2]:['Mr President, Commissioner, I would like to thank Mrs Schroedter for an excellent report.', 'She has gone into the issue in some depth and in the committee debate she took account of many of the amendments that have been tabled regarding this report.']\n",
      "04/30 01:01:40 AM |\t  pred_b_decoded[:2]:['??,?,?,?,?,?,?,?,?,?,?,?,?,?,?,', '??,?,?,?,?,?,?,?,?,?,?,?,?,?,?,?,?,?,?,?,?,?,?,?,?,?,?,?,?,?,?,?,?,?,?,?,?,??,?,?,?,?,?,?,?,?,?,?,?,?,?,?,?,?,?,?,?,?,?,?,?,?,?,?,?,?,?,?,?,?,?,?,?,?,?,?,?,?,?,?,?,?,?,?,?,?,?,?,?,?,?,?,?,?,?,?,?,?,?,?,?,?,?,?,?,?,?,?,?,?,?,?,?,?,?,?,?,?,?,?,?,?,?,?,?,?,?,?,?,?,?,?,?,?,?,?,?,?,?,?,?,?,?,?,?,?,?,?,?,?,?,?,?,?,?,?,?,?,?,?,?,?,?,?,?,?,?,?,?,?']\n",
      "04/30 01:01:40 AM |\t  b_decoded[:2]:['Sehr geehrte Kollegen! Ich danke Frau Schroedter für den fundierten Bericht.', 'Sie hat sich eingehend mit der Problematik beschäftigt und während der Behandlung im Ausschuß viele zu dem vorliegenden Bericht eingegangene nderungsanträge berücksichtigt.']\n",
      "04/30 01:01:40 AM |\t  pred_a_decoded[:2]:['?????', '??????']\n",
      "04/30 01:05:01 AM |\t  computing score...\n",
      "04/30 01:05:01 AM |\t  G_AB GAB sacreBLEU : 0.000630\n",
      "04/30 01:05:01 AM |\t  G_BA GBA sacreBLEU : 0.065948\n",
      "04/30 01:05:01 AM |\t  G_AB GAB test loss : 7.410348\n",
      "04/30 01:05:01 AM |\t  G_BA GBA test loss : 13.310655\n",
      "04/30 01:05:10 AM |\t  \n",
      "\n",
      "  ----------------epoch:8----------------\n",
      "04/30 01:05:10 AM |\t  total iter:[4008] \t G_lr:5e-05 \t DA_lr:3.874204890000002e-05 \t DB_lr:3.874204890000002e-05\n",
      "04/30 01:05:33 AM |\t  {'GB_cycle_meter': 0.0, 'GA_cycle_meter': 0.0, 'GAB_once_meter': 0.6212938861413435, 'GBA_once_meter': 0.7750641432675448, 'DA_meter': 0, 'DB_meter': 0}\n",
      "04/30 01:05:33 AM |\t  9.580838323353294%\n",
      "04/30 01:06:19 AM |\t  {'GB_cycle_meter': 0.0, 'GA_cycle_meter': 0.0, 'GAB_once_meter': 0.5966671660090938, 'GBA_once_meter': 0.7818548011057305, 'DA_meter': 0, 'DB_meter': 0}\n",
      "04/30 01:06:19 AM |\t  29.34131736526946%\n",
      "04/30 01:07:06 AM |\t  {'GB_cycle_meter': 0.0, 'GA_cycle_meter': 0.0, 'GAB_once_meter': 0.5955147535511942, 'GBA_once_meter': 0.7738458875453833, 'DA_meter': 0, 'DB_meter': 0}\n",
      "04/30 01:07:06 AM |\t  49.101796407185624%\n",
      "04/30 01:07:52 AM |\t  {'GB_cycle_meter': 0.0, 'GA_cycle_meter': 0.0, 'GAB_once_meter': 0.5416492368235732, 'GBA_once_meter': 0.7699951908805154, 'DA_meter': 0, 'DB_meter': 0}\n",
      "04/30 01:07:52 AM |\t  68.8622754491018%\n",
      "04/30 01:08:38 AM |\t  {'GB_cycle_meter': 0.0, 'GA_cycle_meter': 0.0, 'GAB_once_meter': 0.5151423450672266, 'GBA_once_meter': 0.7842152967597499, 'DA_meter': 0, 'DB_meter': 0}\n",
      "04/30 01:08:38 AM |\t  88.62275449101796%\n",
      "04/30 01:09:00 AM |\t  DA_a_: 0.970,  1.023,  1.041,  \n",
      "04/30 01:09:00 AM |\t  DB_pred_dis: 0.204,  0.094,  0.279,  \n",
      "04/30 01:09:00 AM |\t  DB_b: 0.500,  0.672,  0.564,  \n",
      "04/30 01:09:00 AM |\t  DA_pred_dis: 0.235,  0.235,  0.235,  \n",
      "04/30 01:09:00 AM |\t  GABloss:\t9.082058906555176\n",
      "04/30 01:09:00 AM |\t  GBAloss:\t9.695473670959473\n",
      "04/30 01:09:00 AM |\t  a_decoded[:2]:['Mr President, Commissioner, I would like to thank Mrs Schroedter for an excellent report.', 'She has gone into the issue in some depth and in the committee debate she took account of many of the amendments that have been tabled regarding this report.']\n",
      "04/30 01:09:00 AM |\t  pred_b_decoded[:2]:['.', '??,?,?,?,?,?,?,?,?,?,?,?,?,?,?,?,?,?,?,?,?,?,?,?,?,?,?,?,?,?,?,?,?,?,?,?,?,??,?,?,?,?,?,?,?,?,?,?,?,?,?,?,?,?,?,?,?,?,?,?,?,?,?,?,?,?,?,?,?,?,?,?,?,?,?,?,?,?,?,?,?,?,?,?,?,?,?,?,?,?,?,?,?,?,?,?,?,?,?,?,?,?,?,?,?,?,?,?,?,?,?,?,?,?,?,?,?,?,?,?,?,?,?,?,?,?,?,?,?,?,?,?,?,?,?,?,?,?,?,?,?,?,?,?,?,?,?,?,?,?,?,?,?,?,?,?,?,?,?,?,?,?,?,?,?,?,?,?,?,?']\n",
      "04/30 01:09:00 AM |\t  b_decoded[:2]:['Sehr geehrte Kollegen! Ich danke Frau Schroedter für den fundierten Bericht.', 'Sie hat sich eingehend mit der Problematik beschäftigt und während der Behandlung im Ausschuß viele zu dem vorliegenden Bericht eingegangene nderungsanträge berücksichtigt.']\n",
      "04/30 01:09:00 AM |\t  pred_a_decoded[:2]:['?????', '?????']\n",
      "04/30 01:12:12 AM |\t  computing score...\n",
      "04/30 01:12:12 AM |\t  G_AB GAB sacreBLEU : 0.000465\n",
      "04/30 01:12:12 AM |\t  G_BA GBA sacreBLEU : 0.014248\n",
      "04/30 01:12:12 AM |\t  G_AB GAB test loss : 7.249797\n",
      "04/30 01:12:12 AM |\t  G_BA GBA test loss : 12.654948\n"
     ]
    }
   ],
   "source": [
    "if(args.valid_begin==1):\n",
    "    my_test(valid_dataloader,cycleGAN,tokenizer,logging,wandb)\n",
    "total_iter = [0]  \n",
    "for epoch in range(args.epochs):\n",
    "\n",
    "    logging.info(f\"\\n\\n  ----------------epoch:{epoch}----------------\")\n",
    "    my_train(train_dataloader,cycleGAN,total_iter,args,logging,valid_dataloader,tokenizer,wandb)\n",
    "\n"
   ]
  },
  {
   "cell_type": "code",
   "execution_count": null,
   "metadata": {},
   "outputs": [],
   "source": []
  }
 ],
 "metadata": {
  "interpreter": {
   "hash": "65768f95ed3f1ad80799466926a66640b39a99ef5d94bbece814e59aa067606e"
  },
  "kernelspec": {
   "display_name": "Python 3.8.12 ('python38')",
   "language": "python",
   "name": "python3"
  },
  "language_info": {
   "codemirror_mode": {
    "name": "ipython",
    "version": 3
   },
   "file_extension": ".py",
   "mimetype": "text/x-python",
   "name": "python",
   "nbconvert_exporter": "python",
   "pygments_lexer": "ipython3",
   "version": "3.8.12"
  },
  "orig_nbformat": 4
 },
 "nbformat": 4,
 "nbformat_minor": 2
}
