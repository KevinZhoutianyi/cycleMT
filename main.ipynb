{
 "cells": [
  {
   "cell_type": "code",
   "execution_count": 1,
   "metadata": {},
   "outputs": [],
   "source": [
    "\n",
    "import os\n",
    "os.getcwd() \n",
    "os.environ[\"TOKENIZERS_PARALLELISM\"] = \"false\"\n",
    "import warnings\n",
    "from test import *\n",
    "warnings.filterwarnings(\"ignore\")\n",
    "from datasets import load_dataset,load_metric\n",
    "from transformers import AutoTokenizer, AutoModelForSeq2SeqLM, pipeline\n",
    "import torch_optimizer as optim\n",
    "from transformers.optimization import Adafactor, AdafactorSchedule\n",
    "import torch.backends.cudnn as cudnn\n",
    "from utils import *\n",
    "from torch.utils.data import TensorDataset, DataLoader, RandomSampler, SequentialSampler, SubsetRandomSampler\n",
    "from torch.autograd import Variable\n",
    "import logging\n",
    "import sys\n",
    "import transformers\n",
    "from basic_model import *\n",
    "import time\n",
    "import argparse\n",
    "from tqdm import tqdm\n",
    "from torch.utils.tensorboard import SummaryWriter\n",
    "import string\n",
    "from cycle import *\n",
    "from train import *\n",
    "from parameter import *\n",
    "device = torch.device(\"cuda\" if torch.cuda.is_available() else \"cpu\")"
   ]
  },
  {
   "cell_type": "code",
   "execution_count": 2,
   "metadata": {},
   "outputs": [
    {
     "name": "stdout",
     "output_type": "stream",
     "text": [
      "args.test_iter 500\n",
      "args.rep_iter 100\n"
     ]
    }
   ],
   "source": [
    "if(True):\n",
    "    parser = argparse.ArgumentParser(\"main\")\n",
    "\n",
    "    parser.add_argument('--valid_num_points', type=int,             default = 100, help='validation data number')\n",
    "    parser.add_argument('--train_num_points', type=int,             default = 500, help='train data number')\n",
    "\n",
    "    parser.add_argument('--batch_size', type=int,                   default=4,     help='Batch size')\n",
    "    parser.add_argument('--max_length', type=int,                   default=128,     help='max_length')\n",
    "\n",
    "    parser.add_argument('--gpu', type=int,                          default=0,      help='gpu device id')\n",
    "    parser.add_argument('--G_AB_model_name', type=str,              default='t5-small',      help='model_name')\n",
    "    parser.add_argument('--G_BA_model_name', type=str,              default='Onlydrinkwater/T5-small-de-en',      help='model_name')\n",
    "    parser.add_argument('--D_A_model_name', type=str,               default='t5-small',      help='model_name')\n",
    "    parser.add_argument('--D_B_model_name', type=str,               default='Onlydrinkwater/T5-small-de-en',      help='model_name')\n",
    "    parser.add_argument('--exp_name', type=str,                     default='CYCLE!',      help='experiment name')\n",
    "    parser.add_argument('--rep_iter', type=int,                     default=100,      help='report times for 1 epoch')\n",
    "    parser.add_argument('--test_iter', type=int,                    default=500,      help='report times for 1 epoch')\n",
    "\n",
    "    parser.add_argument('--epochs', type=int,                       default=50,     help='num of training epochs')\n",
    "\n",
    "    parser.add_argument('--G_lr', type=float,                       default=5e-4,   help='learning rate for G')\n",
    "    parser.add_argument('--G_weight_decay', type=float,             default=1e-3,   help='learning de for G')\n",
    "    parser.add_argument('--G_gamma', type=float,                    default=0.9,    help='lr*gamma after each test')\n",
    "    parser.add_argument('--G_grad_clip', type=float,                default=1,   help='grad_clip')\n",
    "    parser.add_argument('--D_lr', type=float,                       default=5e-5,   help='learning rate for D')\n",
    "    parser.add_argument('--D_weight_decay', type=float,             default=1e-3,   help='learning de for D')\n",
    "    parser.add_argument('--D_gamma', type=float,                    default=1,    help='lr*gamma after each test')\n",
    "    parser.add_argument('--D_grad_clip', type=float,                default=1e-2,   help='grad_clip')\n",
    "    parser.add_argument('--lambda_identity', type=float,            default=0.5,   help='')\n",
    "    parser.add_argument('--lambda_A', type=float,                   default=100,   help='')\n",
    "    parser.add_argument('--lambda_B', type=float,                   default=100,   help='')\n",
    "    parser.add_argument('--lambda_once', type=float,                default=0,   help='')\n",
    "    parser.add_argument('--smoothing', type=float,                  default=0.5,    help='labelsmoothing')\n",
    "\n",
    "    parser.add_argument('--load_D', type=int,                       default=0,      help='load pretrained D')\n",
    "    parser.add_argument('--load_G', type=int,                       default=0,      help='load pretrained D')\n",
    "    parser.add_argument('--num_workers', type=int,                  default=0,      help='num_workers')\n",
    "    parser.add_argument('--valid_begin', type=int,                  default=1,      help='whether valid before train')\n",
    "    parser.add_argument('--train_G', type=int,                      default=1,      help='whether valid before train')\n",
    "    parser.add_argument('--train_D', type=int,                      default=1,      help='whether valid before train')\n",
    "    parser.add_argument('--D_pretrain_iter', type=int,              default=0,      help='whether valid before train')\n",
    "\n",
    "\n",
    "    args = parser.parse_args(args=[])#(args=['--batch_size', '8',  '--no_cuda'])#used in ipynb\n",
    "    args.test_iter = args.test_iter//args.batch_size * args.batch_size\n",
    "    args.rep_iter = args.rep_iter//args.batch_size * args.batch_size\n",
    "    print('args.test_iter',args.test_iter)\n",
    "    print('args.rep_iter',args.rep_iter)#1"
   ]
  },
  {
   "cell_type": "code",
   "execution_count": 3,
   "metadata": {},
   "outputs": [
    {
     "name": "stderr",
     "output_type": "stream",
     "text": [
      "Failed to detect the name of this notebook, you can set it manually with the WANDB_NOTEBOOK_NAME environment variable to enable code saving.\n",
      "\u001b[34m\u001b[1mwandb\u001b[0m: Currently logged in as: \u001b[33monlydrinkwater\u001b[0m (use `wandb login --relogin` to force relogin)\n"
     ]
    },
    {
     "data": {
      "text/html": [
       "wandb version 0.12.16 is available!  To upgrade, please run:\n",
       " $ pip install wandb --upgrade"
      ],
      "text/plain": [
       "<IPython.core.display.HTML object>"
      ]
     },
     "metadata": {},
     "output_type": "display_data"
    },
    {
     "data": {
      "text/html": [
       "Tracking run with wandb version 0.12.11"
      ],
      "text/plain": [
       "<IPython.core.display.HTML object>"
      ]
     },
     "metadata": {},
     "output_type": "display_data"
    },
    {
     "data": {
      "text/html": [
       "Run data is saved locally in <code>g:\\GitCode\\cycleMT\\wandb\\run-20220503_191318-2i2fsily</code>"
      ],
      "text/plain": [
       "<IPython.core.display.HTML object>"
      ]
     },
     "metadata": {},
     "output_type": "display_data"
    },
    {
     "data": {
      "text/html": [
       "Syncing run <strong><a href=\"https://wandb.ai/onlydrinkwater/CYCLEGAN/runs/2i2fsily\" target=\"_blank\">CYCLE!</a></strong> to <a href=\"https://wandb.ai/onlydrinkwater/CYCLEGAN\" target=\"_blank\">Weights & Biases</a> (<a href=\"https://wandb.me/run\" target=\"_blank\">docs</a>)<br/>"
      ],
      "text/plain": [
       "<IPython.core.display.HTML object>"
      ]
     },
     "metadata": {},
     "output_type": "display_data"
    },
    {
     "data": {
      "text/html": [
       "<button onClick=\"this.nextSibling.style.display='block';this.style.display='none';\">Display W&B run</button><iframe src=\"https://wandb.ai/onlydrinkwater/CYCLEGAN/runs/2i2fsily?jupyter=true\" style=\"border:none;width:100%;height:420px;display:none;\"></iframe>"
      ],
      "text/plain": [
       "<wandb.sdk.wandb_run.Run at 0x1de49dee370>"
      ]
     },
     "execution_count": 3,
     "metadata": {},
     "output_type": "execute_result"
    }
   ],
   "source": [
    "import wandb\n",
    "os.environ['WANDB_API_KEY']='a166474b1b7ad33a0549adaaec19a2f6d3f91d87'\n",
    "os.environ['WANDB_NAME']=args.exp_name\n",
    "wandb.init(project=\"CYCLEGAN\",config=args)"
   ]
  },
  {
   "cell_type": "code",
   "execution_count": 4,
   "metadata": {},
   "outputs": [
    {
     "name": "stdout",
     "output_type": "stream",
     "text": [
      "05/03 07:13:26 PM |\t  Namespace(D_A_model_name='t5-small', D_B_model_name='Onlydrinkwater/T5-small-de-en', D_gamma=1, D_grad_clip=0.01, D_lr=5e-05, D_pretrain_iter=0, D_weight_decay=0.001, G_AB_model_name='t5-small', G_BA_model_name='Onlydrinkwater/T5-small-de-en', G_gamma=0.9, G_grad_clip=1, G_lr=0.0005, G_weight_decay=0.001, batch_size=4, epochs=50, exp_name='CYCLE!', gpu=0, lambda_A=100, lambda_B=100, lambda_identity=0.5, lambda_once=0, load_D=0, load_G=0, max_length=128, num_workers=0, rep_iter=100, smoothing=0.5, test_iter=500, train_D=1, train_G=1, train_num_points=500, valid_begin=1, valid_num_points=100)\n"
     ]
    }
   ],
   "source": [
    "#logging file\n",
    "now = time.strftime(\"%Y-%m-%d-%H_%M_%S\",time.localtime(time.time())) \n",
    "\n",
    "log_format = '%(asctime)s |\\t  %(message)s'\n",
    "logging.basicConfig(stream=sys.stdout, level=logging.INFO,\n",
    "    format=log_format, datefmt='%m/%d %I:%M:%S %p')\n",
    "fh = logging.FileHandler(os.path.join(\"./log/\", now+'.txt'),'w',encoding = \"UTF-8\")\n",
    "fh.setFormatter(logging.Formatter(log_format))\n",
    "logging.getLogger().addHandler(fh)\n",
    "logging.info(args)"
   ]
  },
  {
   "cell_type": "code",
   "execution_count": 5,
   "metadata": {},
   "outputs": [
    {
     "name": "stdout",
     "output_type": "stream",
     "text": [
      "05/03 07:13:31 PM |\t  Gmodelsize:60.506624MB\n",
      "05/03 07:13:31 PM |\t  Dmodelsize:60.506624MB\n"
     ]
    }
   ],
   "source": [
    "GABmodelname = args.G_AB_model_name\n",
    "GBAmodelname = args.G_BA_model_name\n",
    "DAmodelname = args.D_A_model_name\n",
    "DBmodelname = args.D_B_model_name\n",
    "GABpretrained  =  AutoModelForSeq2SeqLM.from_pretrained(GABmodelname)\n",
    "GBApretrained  =  AutoModelForSeq2SeqLM.from_pretrained(GBAmodelname)\n",
    "DApretrained  =  AutoModelForSeq2SeqLM.from_pretrained(DAmodelname)\n",
    "DBpretrained  =  AutoModelForSeq2SeqLM.from_pretrained(DBmodelname)\n",
    "logging.info(f'Gmodelsize:{count_parameters_in_MB(GABpretrained)}MB')\n",
    "logging.info(f'Dmodelsize:{count_parameters_in_MB(DApretrained)}MB')\n",
    "\n",
    "tokenizer = AutoTokenizer.from_pretrained(GABmodelname)\n",
    "# tokenizerBA = AutoTokenizer.from_pretrained(GBAmodelname)#its the same\n"
   ]
  },
  {
   "cell_type": "code",
   "execution_count": 6,
   "metadata": {},
   "outputs": [
    {
     "name": "stdout",
     "output_type": "stream",
     "text": [
      "05/03 07:13:35 PM |\t  Reusing dataset wmt16 (C:\\Users\\kevin\\.cache\\huggingface\\datasets\\wmt16\\de-en\\1.0.0\\0d9fb3e814712c785176ad8cdb9f465fbe6479000ee6546725db30ad8a8b5f8a)\n"
     ]
    },
    {
     "name": "stderr",
     "output_type": "stream",
     "text": [
      "100%|██████████| 3/3 [00:00<00:00, 28.63it/s]\n"
     ]
    }
   ],
   "source": [
    "dataset = load_dataset('wmt16',language+'-en')\n",
    "train = dataset['train']['translation'][:args.train_num_points]\n",
    "valid = dataset['validation']['translation'][:args.valid_num_points]#TODO:\n",
    "\n",
    "\n",
    "train_data = get_Dataset_chaos(train, tokenizer,max_length=args.max_length)\n",
    "train_dataloader = DataLoader(train_data, sampler= RandomSampler(train_data), \n",
    "                        batch_size=args.batch_size, pin_memory=args.num_workers>0, num_workers=args.num_workers)\n",
    "valid_data = get_Dataset(valid, tokenizer,max_length=args.max_length)\n",
    "valid_dataloader = DataLoader(valid_data, sampler=SequentialSampler(valid_data), \n",
    "                        batch_size=args.batch_size, pin_memory=args.num_workers>0, num_workers=args.num_workers)"
   ]
  },
  {
   "cell_type": "code",
   "execution_count": 7,
   "metadata": {},
   "outputs": [],
   "source": [
    "cycleGAN = CycleGAN(args,GABpretrained,GBApretrained,DApretrained,DBpretrained,tokenizer)"
   ]
  },
  {
   "cell_type": "code",
   "execution_count": 8,
   "metadata": {},
   "outputs": [
    {
     "name": "stdout",
     "output_type": "stream",
     "text": [
      "05/03 07:14:13 PM |\t  DB_a_: 0.0,  0.028,  0.038,  0.059,  \n",
      "05/03 07:14:13 PM |\t  DB_pred_dis: 0.037,  0.035,  0.045,  0.049,  \n",
      "05/03 07:14:13 PM |\t  DA_b: 0.0,  0.0,  0.0,  0.0,  \n",
      "05/03 07:14:13 PM |\t  DA_pred_dis: 0.0,  0.0,  0.0,  0.0,  \n",
      "05/03 07:14:13 PM |\t  GABloss:\t2.8480851650238037\n",
      "05/03 07:14:13 PM |\t  GBAloss:\t10.670021057128906\n",
      "05/03 07:14:13 PM |\t  a_decoded[:2]:['India and Japan prime ministers meet in Tokyo', \"India's new prime minister, Narendra Modi, is meeting his Japanese counterpart, Shinzo Abe, in Tokyo to discuss economic and security ties, on his first major foreign visit since winning May's election.\", 'Mr Modi is on a five-day trip to Japan to strengthen economic ties with the third largest economy in the world.', 'High on the agenda are plans for greater nuclear co-operation.']\n",
      "05/03 07:14:13 PM |\t  pred_b_decoded[:2]:['The Prime Ministers of India and Japan met in Tokyo.', 'The new Prime Minister of India, Narendra Modi, will meet his Japanese counterpart Shinzo Abe in Toko on his first important foreign visit since his election victory in May in order to discuss economic and security relations.', 'Mr Modi is on a fifth-day trip to Japan to strengthen economic relations with the third largest economic nation in the world.', 'The agenda for more nuclear cooperation is very high.']\n",
      "05/03 07:14:13 PM |\t  b_decoded[:2]:['Die Premierminister Indiens und Japans trafen sich in Tokio.', 'Indiens neuer Premierminister Narendra Modi trifft bei seinem ersten wichtigen Auslandsbesuch seit seinem Wahlsieg im Mai seinen japanischen Amtskollegen Shinzo Abe in Toko, um wirtschaftliche und sicherheitspolitische Beziehungen zu besprechen.', 'Herr Modi befindet sich auf einer fünftägigen Reise nach Japan, um die wirtschaftlichen Beziehungen mit der drittgrößten Wirtschaftsnation der Welt zu festigen.', 'Pläne für eine stärkere kerntechnische Zusammenarbeit stehen ganz oben auf der Tagesordnung.']\n",
      "05/03 07:14:13 PM |\t  pred_a_decoded[:2]:['In Tokio treffen sich Premierminister Indiens und Japans', 'Der neue indische Premierminister Narendra Modi trifft sein japanisches Amtskollege Shinzo Abe in Tokio, um über die wirtschaftlichen und sicherheitspolitischen Beziehungen zu diskutieren.', 'Herr Modi ist in einer fünftägigen Reise nach Japan, um die wirtschaftlichen Beziehungen zur drittgrößten Volkswirtschaft der Welt zu stärken.', 'Auf der Tagesordnung stehen Pläne für eine verstärkte nukleare Zusammenarbeit.']\n",
      "05/03 07:14:47 PM |\t  computing score...\n",
      "05/03 07:14:47 PM |\t  G_AB GAB sacreBLEU : 25.231759\n",
      "05/03 07:14:47 PM |\t  G_BA GBA sacreBLEU : 24.305373\n",
      "05/03 07:14:47 PM |\t  G_AB GAB test loss : 5.315173\n",
      "05/03 07:14:47 PM |\t  G_BA GBA test loss : 9.185754\n",
      "05/03 07:14:47 PM |\t  \n",
      "\n",
      "  ----------------epoch:0----------------\n",
      "05/03 07:14:47 PM |\t  total iter:[0] \t G_lr:0.0005 \t DA_lr:5e-05 \t DB_lr:5e-05\n",
      "05/03 07:17:44 PM |\t  {'GB_cycle_meter': 1027.7971923828125, 'GA_cycle_meter': 1030.1266235351563, 'GAB_once_meter': 0.0, 'GBA_once_meter': 0.0, 'DA_meter': 0.5000005102157593, 'DB_meter': 0.3934898936748505}\n",
      "05/03 07:17:44 PM |\t  19.2%\n",
      "05/03 07:20:48 PM |\t  {'GB_cycle_meter': 1024.6984204101564, 'GA_cycle_meter': 1027.0212182617188, 'GAB_once_meter': 0.0, 'GBA_once_meter': 0.0, 'DA_meter': 0.5, 'DB_meter': 0.307976713180542}\n",
      "05/03 07:20:48 PM |\t  39.2%\n",
      "05/03 07:23:38 PM |\t  {'GB_cycle_meter': 1026.1780322265624, 'GA_cycle_meter': 1025.5272338867187, 'GAB_once_meter': 0.0, 'GBA_once_meter': 0.0, 'DA_meter': 0.5000000190734863, 'DB_meter': 0.265572612285614}\n",
      "05/03 07:23:38 PM |\t  59.199999999999996%\n",
      "05/03 07:26:17 PM |\t  {'GB_cycle_meter': 1025.6279028320312, 'GA_cycle_meter': 1024.2473828125, 'GAB_once_meter': 0.0, 'GBA_once_meter': 0.0, 'DA_meter': 0.500001494884491, 'DB_meter': 0.25230436503887177}\n",
      "05/03 07:26:17 PM |\t  79.2%\n",
      "05/03 07:28:52 PM |\t  {'GB_cycle_meter': 1024.0195532226562, 'GA_cycle_meter': 1024.4133374023438, 'GAB_once_meter': 0.0, 'GBA_once_meter': 0.0, 'DA_meter': 0.5, 'DB_meter': 0.24521640062332153}\n",
      "05/03 07:28:52 PM |\t  99.2%\n",
      "05/03 07:28:58 PM |\t  DB_a_: 0.343,  0.477,  0.409,  0.488,  \n",
      "05/03 07:28:58 PM |\t  DB_pred_dis: 0.439,  0.475,  0.451,  0.456,  \n",
      "05/03 07:28:58 PM |\t  DA_b: 0.0,  0.0,  0.0,  0.0,  \n",
      "05/03 07:28:58 PM |\t  DA_pred_dis: 0.0,  0.0,  0.0,  0.0,  \n",
      "05/03 07:28:58 PM |\t  GABloss:\t28.03857421875\n",
      "05/03 07:28:58 PM |\t  GBAloss:\t24.05194664001465\n",
      "05/03 07:28:58 PM |\t  a_decoded[:2]:['India and Japan prime ministers meet in Tokyo', \"India's new prime minister, Narendra Modi, is meeting his Japanese counterpart, Shinzo Abe, in Tokyo to discuss economic and security ties, on his first major foreign visit since winning May's election.\", 'Mr Modi is on a five-day trip to Japan to strengthen economic ties with the third largest economy in the world.', 'High on the agenda are plans for greater nuclear co-operation.']\n",
      "05/03 07:28:58 PM |\t  pred_b_decoded[:2]:['The Prime Ministers of India and Japan met in Tokyo.', 'Indiens new Prime Minister Narendra Modi visits his Japanese counterpart Shinzo Abe in Toko for economic and security relations.', 'Mr Modi is on a five-month visit to Japan to consolidate economic relations with the third largest economic nation of the world.', 'Plans for stronger nuclear cooperation are quite above the agenda.']\n",
      "05/03 07:28:58 PM |\t  b_decoded[:2]:['Die Premierminister Indiens und Japans trafen sich in Tokio.', 'Indiens neuer Premierminister Narendra Modi trifft bei seinem ersten wichtigen Auslandsbesuch seit seinem Wahlsieg im Mai seinen japanischen Amtskollegen Shinzo Abe in Toko, um wirtschaftliche und sicherheitspolitische Beziehungen zu besprechen.', 'Herr Modi befindet sich auf einer fünftägigen Reise nach Japan, um die wirtschaftlichen Beziehungen mit der drittgrößten Wirtschaftsnation der Welt zu festigen.', 'Pläne für eine stärkere kerntechnische Zusammenarbeit stehen ganz oben auf der Tagesordnung.']\n",
      "05/03 07:28:58 PM |\t  pred_a_decoded[:2]:['Indien und Japan Premierminister treffen sich in Tokyo.', 'Der neue Premierminister Narendra Modi,                                                                                                        ', 'Herr Modi Modi ist auf einer fünftägige Reise nach Japan,                                                                                                ', 'Hoch auf der Tagesordnung stehen Pläne für eine verstärkte nukleare Zusammenarbeit.']\n",
      "05/03 07:29:48 PM |\t  computing score...\n",
      "05/03 07:29:48 PM |\t  G_AB GAB sacreBLEU : 2.357369\n",
      "05/03 07:29:48 PM |\t  G_BA GBA sacreBLEU : 17.617738\n",
      "05/03 07:29:48 PM |\t  G_AB GAB test loss : 21.282448\n",
      "05/03 07:29:48 PM |\t  G_BA GBA test loss : 23.787278\n",
      "05/03 07:29:48 PM |\t  \n",
      "\n",
      "  ----------------epoch:1----------------\n",
      "05/03 07:29:48 PM |\t  total iter:[500] \t G_lr:0.00040500000000000003 \t DA_lr:5e-05 \t DB_lr:5e-05\n",
      "05/03 07:32:24 PM |\t  {'GB_cycle_meter': 1022.4800390625, 'GA_cycle_meter': 1020.9867895507813, 'GAB_once_meter': 0.0, 'GBA_once_meter': 0.0, 'DA_meter': 0.5, 'DB_meter': 0.238009015917778}\n",
      "05/03 07:32:24 PM |\t  19.2%\n",
      "05/03 07:35:06 PM |\t  {'GB_cycle_meter': 1021.592666015625, 'GA_cycle_meter': 1022.3996899414062, 'GAB_once_meter': 0.0, 'GBA_once_meter': 0.0, 'DA_meter': 0.5, 'DB_meter': 0.2316068083047867}\n",
      "05/03 07:35:06 PM |\t  39.2%\n",
      "05/03 07:37:52 PM |\t  {'GB_cycle_meter': 1025.0989013671874, 'GA_cycle_meter': 1021.27314453125, 'GAB_once_meter': 0.0, 'GBA_once_meter': 0.0, 'DA_meter': 0.5, 'DB_meter': 0.2262723785638809}\n",
      "05/03 07:37:52 PM |\t  59.199999999999996%\n",
      "05/03 07:40:29 PM |\t  {'GB_cycle_meter': 1024.7925073242188, 'GA_cycle_meter': 1022.8660913085937, 'GAB_once_meter': 0.0, 'GBA_once_meter': 0.0, 'DA_meter': 0.5, 'DB_meter': 0.2275376796722412}\n",
      "05/03 07:40:29 PM |\t  79.2%\n",
      "05/03 07:43:14 PM |\t  {'GB_cycle_meter': 1021.2860522460937, 'GA_cycle_meter': 1022.1785131835937, 'GAB_once_meter': 0.0, 'GBA_once_meter': 0.0, 'DA_meter': 0.5, 'DB_meter': 0.2098308926820755}\n",
      "05/03 07:43:14 PM |\t  99.2%\n",
      "05/03 07:43:19 PM |\t  DB_a_: 0.431,  0.542,  0.462,  0.569,  \n",
      "05/03 07:43:19 PM |\t  DB_pred_dis: 0.499,  0.598,  0.526,  0.524,  \n",
      "05/03 07:43:19 PM |\t  DA_b: 0.0,  0.0,  0.0,  0.0,  \n",
      "05/03 07:43:19 PM |\t  DA_pred_dis: 0.0,  0.0,  0.0,  0.0,  \n",
      "05/03 07:43:19 PM |\t  GABloss:\t25.281389236450195\n",
      "05/03 07:43:19 PM |\t  GBAloss:\t20.795141220092773\n",
      "05/03 07:43:19 PM |\t  a_decoded[:2]:['India and Japan prime ministers meet in Tokyo', \"India's new prime minister, Narendra Modi, is meeting his Japanese counterpart, Shinzo Abe, in Tokyo to discuss economic and security ties, on his first major foreign visit since winning May's election.\", 'Mr Modi is on a five-day trip to Japan to strengthen economic ties with the third largest economy in the world.', 'High on the agenda are plans for greater nuclear co-operation.']\n",
      "05/03 07:43:19 PM |\t  pred_b_decoded[:2]:['The Prime Ministers of India and Japan met in Tokyo.', 'Indis new Prime Minister Narendra Modi makes his first important visit to abroad since his victory in May, his Japanese counterpart Shinzo Abe, in Toko, to discuss economic and security relations.', 'Mr Modi is on a five-month visit to Japan to consolidate economic relations with the third largest economy of the world.', 'Plans for stronger nuclear cooperation are quite above the agenda.']\n",
      "05/03 07:43:19 PM |\t  b_decoded[:2]:['Die Premierminister Indiens und Japans trafen sich in Tokio.', 'Indiens neuer Premierminister Narendra Modi trifft bei seinem ersten wichtigen Auslandsbesuch seit seinem Wahlsieg im Mai seinen japanischen Amtskollegen Shinzo Abe in Toko, um wirtschaftliche und sicherheitspolitische Beziehungen zu besprechen.', 'Herr Modi befindet sich auf einer fünftägigen Reise nach Japan, um die wirtschaftlichen Beziehungen mit der drittgrößten Wirtschaftsnation der Welt zu festigen.', 'Pläne für eine stärkere kerntechnische Zusammenarbeit stehen ganz oben auf der Tagesordnung.']\n",
      "05/03 07:43:19 PM |\t  pred_a_decoded[:2]:['Indien und Japan Prime Minister treffen sich in Tokyo und Japan Prime Minister treffen.', 'Indiens neuer Premierminister Narendra Modi, Narendra Modi,                                                                                                 ', 'Herr Modi ist auf einer fünftägigen Reise nach Japan, um die wirtschaftliche Verbindung mit der drittgrößten wirtschaft  in der welt zu  zu stärken.', 'Hoste auf der Tagesordnung sind Pläne für größere nukleare Zusammenarbeit.']\n",
      "05/03 07:44:12 PM |\t  computing score...\n",
      "05/03 07:44:12 PM |\t  G_AB GAB sacreBLEU : 9.221679\n",
      "05/03 07:44:12 PM |\t  G_BA GBA sacreBLEU : 16.252404\n",
      "05/03 07:44:12 PM |\t  G_AB GAB test loss : 22.235793\n",
      "05/03 07:44:12 PM |\t  G_BA GBA test loss : 21.253013\n",
      "05/03 07:44:12 PM |\t  \n",
      "\n",
      "  ----------------epoch:2----------------\n",
      "05/03 07:44:12 PM |\t  total iter:[1000] \t G_lr:0.0003645 \t DA_lr:5e-05 \t DB_lr:5e-05\n",
      "05/03 07:46:56 PM |\t  {'GB_cycle_meter': 1020.8895141601563, 'GA_cycle_meter': 1019.1041186523438, 'GAB_once_meter': 0.0, 'GBA_once_meter': 0.0, 'DA_meter': 0.5, 'DB_meter': 0.2125157618522644}\n",
      "05/03 07:46:56 PM |\t  19.2%\n",
      "05/03 07:49:46 PM |\t  {'GB_cycle_meter': 1024.6927392578125, 'GA_cycle_meter': 1021.4758984375, 'GAB_once_meter': 0.0, 'GBA_once_meter': 0.0, 'DA_meter': 0.5, 'DB_meter': 0.19606871277093887}\n",
      "05/03 07:49:46 PM |\t  39.2%\n",
      "05/03 07:52:30 PM |\t  {'GB_cycle_meter': 1023.3819702148437, 'GA_cycle_meter': 1019.0055297851562, 'GAB_once_meter': 0.0, 'GBA_once_meter': 0.0, 'DA_meter': 0.5, 'DB_meter': 0.2000184452533722}\n",
      "05/03 07:52:30 PM |\t  59.199999999999996%\n",
      "05/03 07:55:17 PM |\t  {'GB_cycle_meter': 1022.0563720703125, 'GA_cycle_meter': 1019.2286450195312, 'GAB_once_meter': 0.0, 'GBA_once_meter': 0.0, 'DA_meter': 0.5, 'DB_meter': 0.19833892613649368}\n",
      "05/03 07:55:17 PM |\t  79.2%\n",
      "05/03 07:58:03 PM |\t  {'GB_cycle_meter': 1019.8808276367188, 'GA_cycle_meter': 1019.3214379882812, 'GAB_once_meter': 0.0, 'GBA_once_meter': 0.0, 'DA_meter': 0.5, 'DB_meter': 0.20782353341579438}\n",
      "05/03 07:58:03 PM |\t  99.2%\n",
      "05/03 07:58:09 PM |\t  DB_a_: 0.452,  0.661,  0.465,  0.551,  \n",
      "05/03 07:58:09 PM |\t  DB_pred_dis: 0.437,  0.691,  0.382,  0.488,  \n",
      "05/03 07:58:09 PM |\t  DA_b: 0.0,  0.0,  0.0,  0.0,  \n",
      "05/03 07:58:09 PM |\t  DA_pred_dis: 0.0,  0.0,  0.0,  0.0,  \n",
      "05/03 07:58:09 PM |\t  GABloss:\t29.63228416442871\n",
      "05/03 07:58:09 PM |\t  GBAloss:\t19.663206100463867\n",
      "05/03 07:58:09 PM |\t  a_decoded[:2]:['India and Japan prime ministers meet in Tokyo', \"India's new prime minister, Narendra Modi, is meeting his Japanese counterpart, Shinzo Abe, in Tokyo to discuss economic and security ties, on his first major foreign visit since winning May's election.\", 'Mr Modi is on a five-day trip to Japan to strengthen economic ties with the third largest economy in the world.', 'High on the agenda are plans for greater nuclear co-operation.']\n",
      "05/03 07:58:09 PM |\t  pred_b_decoded[:2]:['The Prime Minister of India and Japan traf themselves in Tokyo.', 'Indien new Prime Minister Narendra Modi visits his first important foreign visit since his election in May his japan counterpart Shinzo Abe in Toko to discuss economic and security relations.', 'Mr Modi is on a five-month trip to Japan to fest the economic relations with the the third largest economic world.', 'Plans for greater nuclear cooperation are quite top on the agenda.']\n",
      "05/03 07:58:09 PM |\t  b_decoded[:2]:['Die Premierminister Indiens und Japans trafen sich in Tokio.', 'Indiens neuer Premierminister Narendra Modi trifft bei seinem ersten wichtigen Auslandsbesuch seit seinem Wahlsieg im Mai seinen japanischen Amtskollegen Shinzo Abe in Toko, um wirtschaftliche und sicherheitspolitische Beziehungen zu besprechen.', 'Herr Modi befindet sich auf einer fünftägigen Reise nach Japan, um die wirtschaftlichen Beziehungen mit der drittgrößten Wirtschaftsnation der Welt zu festigen.', 'Pläne für eine stärkere kerntechnische Zusammenarbeit stehen ganz oben auf der Tagesordnung.']\n",
      "05/03 07:58:09 PM |\t  pred_a_decoded[:2]:['Indien und Japan Prime Ministertreffen in Tokyo treffen in Tokyo.', 'Indiens neuer Premierminister Narendra Modi, Narendra Modi, trifft sein japanisches Pendant,                                                                                        ', 'Herr Modi ist auf einer fünftägigen Reise nach Japan auf der wirtschaftlichen                                                                                              ', 'Hohe auf der Tagesordnung sind Pläne für eine größere nukleare Zusammenarbeit.']\n",
      "05/03 07:59:10 PM |\t  computing score...\n",
      "05/03 07:59:10 PM |\t  G_AB GAB sacreBLEU : 7.398324\n",
      "05/03 07:59:10 PM |\t  G_BA GBA sacreBLEU : 12.650977\n",
      "05/03 07:59:10 PM |\t  G_AB GAB test loss : 26.713297\n",
      "05/03 07:59:10 PM |\t  G_BA GBA test loss : 20.838822\n",
      "05/03 07:59:10 PM |\t  \n",
      "\n",
      "  ----------------epoch:3----------------\n",
      "05/03 07:59:10 PM |\t  total iter:[1500] \t G_lr:0.00032805000000000003 \t DA_lr:5e-05 \t DB_lr:5e-05\n",
      "05/03 08:01:57 PM |\t  {'GB_cycle_meter': 1022.5890795898438, 'GA_cycle_meter': 1018.19673828125, 'GAB_once_meter': 0.0, 'GBA_once_meter': 0.0, 'DA_meter': 0.5, 'DB_meter': 0.18718214869499206}\n",
      "05/03 08:01:57 PM |\t  19.2%\n",
      "05/03 08:04:46 PM |\t  {'GB_cycle_meter': 1020.89130859375, 'GA_cycle_meter': 1017.6014526367187, 'GAB_once_meter': 0.0, 'GBA_once_meter': 0.0, 'DA_meter': 0.5, 'DB_meter': 0.18382706940174104}\n",
      "05/03 08:04:46 PM |\t  39.2%\n",
      "05/03 08:07:42 PM |\t  {'GB_cycle_meter': 1022.3966430664062, 'GA_cycle_meter': 1013.5666064453125, 'GAB_once_meter': 0.0, 'GBA_once_meter': 0.0, 'DA_meter': 0.5, 'DB_meter': 0.18986970216035842}\n",
      "05/03 08:07:42 PM |\t  59.199999999999996%\n",
      "05/03 08:10:39 PM |\t  {'GB_cycle_meter': 1022.4607104492187, 'GA_cycle_meter': 1017.1537915039063, 'GAB_once_meter': 0.0, 'GBA_once_meter': 0.0, 'DA_meter': 0.5, 'DB_meter': 0.17900064557790757}\n",
      "05/03 08:10:39 PM |\t  79.2%\n",
      "05/03 08:13:27 PM |\t  {'GB_cycle_meter': 1020.3196899414063, 'GA_cycle_meter': 1015.8276416015625, 'GAB_once_meter': 0.0, 'GBA_once_meter': 0.0, 'DA_meter': 0.5, 'DB_meter': 0.19710375964641572}\n",
      "05/03 08:13:27 PM |\t  99.2%\n",
      "05/03 08:13:33 PM |\t  DB_a_: 0.482,  0.721,  0.473,  0.588,  \n",
      "05/03 08:13:33 PM |\t  DB_pred_dis: 0.416,  0.768,  0.415,  0.429,  \n",
      "05/03 08:13:33 PM |\t  DA_b: 0.0,  0.0,  0.0,  0.0,  \n",
      "05/03 08:13:33 PM |\t  DA_pred_dis: 0.0,  0.0,  0.0,  0.0,  \n",
      "05/03 08:13:33 PM |\t  GABloss:\t32.9420280456543\n",
      "05/03 08:13:33 PM |\t  GBAloss:\t19.83392906188965\n",
      "05/03 08:13:33 PM |\t  a_decoded[:2]:['India and Japan prime ministers meet in Tokyo', \"India's new prime minister, Narendra Modi, is meeting his Japanese counterpart, Shinzo Abe, in Tokyo to discuss economic and security ties, on his first major foreign visit since winning May's election.\", 'Mr Modi is on a five-day trip to Japan to strengthen economic ties with the third largest economy in the world.', 'High on the agenda are plans for greater nuclear co-operation.']\n",
      "05/03 08:13:33 PM |\t  pred_b_decoded[:2]:['The Prime Minister of India and Japan met in Tokyo.', \"Indien's new Prime Minister Narendra Modi visits his first important foreign visit since his election in May his presidential office in Toko to discuss economic and security relations.\", 'Mr Modi is on a five-month trip to Japan to fest the economic relations with the third largest economic world.', 'Plans for a stronger nuclear cooperation are quite top on the agenda.']\n",
      "05/03 08:13:33 PM |\t  b_decoded[:2]:['Die Premierminister Indiens und Japans trafen sich in Tokio.', 'Indiens neuer Premierminister Narendra Modi trifft bei seinem ersten wichtigen Auslandsbesuch seit seinem Wahlsieg im Mai seinen japanischen Amtskollegen Shinzo Abe in Toko, um wirtschaftliche und sicherheitspolitische Beziehungen zu besprechen.', 'Herr Modi befindet sich auf einer fünftägigen Reise nach Japan, um die wirtschaftlichen Beziehungen mit der drittgrößten Wirtschaftsnation der Welt zu festigen.', 'Pläne für eine stärkere kerntechnische Zusammenarbeit stehen ganz oben auf der Tagesordnung.']\n",
      "05/03 08:13:33 PM |\t  pred_a_decoded[:2]:['Indien und Japan prime ministers treffen in Tokyo in', 'Indiens neuer Premierminister, Narendra Modi, trifft sein japanisches Pendant, Shinzo Abe,,                                                                                     ', 'Herr Modi ist auf einer fünf-day trip to Japan, um wirtschaftliche Beziehungen mit der                                                                                             ', 'Hoch auf der Tagesordnung stehen Pläne für größere nukleare Zusammenarbeit.']\n",
      "05/03 08:14:32 PM |\t  computing score...\n",
      "05/03 08:14:32 PM |\t  G_AB GAB sacreBLEU : 6.255631\n",
      "05/03 08:14:32 PM |\t  G_BA GBA sacreBLEU : 15.177568\n",
      "05/03 08:14:32 PM |\t  G_AB GAB test loss : 29.317137\n",
      "05/03 08:14:32 PM |\t  G_BA GBA test loss : 21.637355\n",
      "05/03 08:14:32 PM |\t  \n",
      "\n",
      "  ----------------epoch:4----------------\n",
      "05/03 08:14:32 PM |\t  total iter:[2000] \t G_lr:0.000295245 \t DA_lr:5e-05 \t DB_lr:5e-05\n",
      "05/03 08:17:20 PM |\t  {'GB_cycle_meter': 1020.8449340820313, 'GA_cycle_meter': 1017.8706591796876, 'GAB_once_meter': 0.0, 'GBA_once_meter': 0.0, 'DA_meter': 0.5, 'DB_meter': 0.18698334753513335}\n",
      "05/03 08:17:20 PM |\t  19.2%\n",
      "05/03 08:20:11 PM |\t  {'GB_cycle_meter': 1021.6989575195313, 'GA_cycle_meter': 1016.3391162109375, 'GAB_once_meter': 0.0, 'GBA_once_meter': 0.0, 'DA_meter': 0.5, 'DB_meter': 0.18053840965032578}\n",
      "05/03 08:20:11 PM |\t  39.2%\n",
      "05/03 08:23:04 PM |\t  {'GB_cycle_meter': 1020.3919799804687, 'GA_cycle_meter': 1018.2632763671875, 'GAB_once_meter': 0.0, 'GBA_once_meter': 0.0, 'DA_meter': 0.5, 'DB_meter': 0.18906575947999954}\n",
      "05/03 08:23:04 PM |\t  59.199999999999996%\n",
      "05/03 08:25:57 PM |\t  {'GB_cycle_meter': 1022.2299584960938, 'GA_cycle_meter': 1015.0800024414062, 'GAB_once_meter': 0.0, 'GBA_once_meter': 0.0, 'DA_meter': 0.5, 'DB_meter': 0.16982311338186265}\n",
      "05/03 08:25:57 PM |\t  79.2%\n",
      "05/03 08:28:43 PM |\t  {'GB_cycle_meter': 1020.2588208007812, 'GA_cycle_meter': 1016.01603515625, 'GAB_once_meter': 0.0, 'GBA_once_meter': 0.0, 'DA_meter': 0.5, 'DB_meter': 0.20291565477848053}\n",
      "05/03 08:28:43 PM |\t  99.2%\n",
      "05/03 08:28:49 PM |\t  DB_a_: 0.453,  0.740,  0.414,  0.569,  \n",
      "05/03 08:28:49 PM |\t  DB_pred_dis: 0.374,  0.738,  0.367,  0.342,  \n",
      "05/03 08:28:49 PM |\t  DA_b: 0.0,  0.0,  0.0,  0.0,  \n",
      "05/03 08:28:49 PM |\t  DA_pred_dis: 0.0,  0.0,  0.0,  0.0,  \n",
      "05/03 08:28:49 PM |\t  GABloss:\t32.39154052734375\n",
      "05/03 08:28:49 PM |\t  GBAloss:\t19.190349578857422\n",
      "05/03 08:28:49 PM |\t  a_decoded[:2]:['India and Japan prime ministers meet in Tokyo', \"India's new prime minister, Narendra Modi, is meeting his Japanese counterpart, Shinzo Abe, in Tokyo to discuss economic and security ties, on his first major foreign visit since winning May's election.\", 'Mr Modi is on a five-day trip to Japan to strengthen economic ties with the third largest economy in the world.', 'High on the agenda are plans for greater nuclear co-operation.']\n",
      "05/03 08:28:49 PM |\t  pred_b_decoded[:2]:['The Prime Minister Indien and Japan met in Tokyo.', 'Indis new Prime Minister Narendra Modi visits his first important visit in the country since his election in May his Japanese counterpart Shinzo Abe in Toko to discuss economic and security relations.', 'Mr Modi is on a five-month voyage to Japan to fest the economic relations with the third largest economic world.', 'Plans for a strongerker cooperation stehen ganz oben auf the agenda.']\n",
      "05/03 08:28:49 PM |\t  b_decoded[:2]:['Die Premierminister Indiens und Japans trafen sich in Tokio.', 'Indiens neuer Premierminister Narendra Modi trifft bei seinem ersten wichtigen Auslandsbesuch seit seinem Wahlsieg im Mai seinen japanischen Amtskollegen Shinzo Abe in Toko, um wirtschaftliche und sicherheitspolitische Beziehungen zu besprechen.', 'Herr Modi befindet sich auf einer fünftägigen Reise nach Japan, um die wirtschaftlichen Beziehungen mit der drittgrößten Wirtschaftsnation der Welt zu festigen.', 'Pläne für eine stärkere kerntechnische Zusammenarbeit stehen ganz oben auf der Tagesordnung.']\n",
      "05/03 08:28:49 PM |\t  pred_a_decoded[:2]:['Indien und Japan prime ministers treffen in Tokyo in.', 'Indiens neuer Premierminister, Narendra Modi, trifft seine japanische counterpart, Shinzo Abe,,,                                                                                     ', 'Herr Modi ist auf einer fünf-day trip to Japan, um die wirtschaftliche Beziehungen mit der welt zu                                                                                         ', 'Hoch auf der Tagesordnung sind Pläne für größere nukleare Zusammenarbeit.']\n",
      "05/03 08:29:54 PM |\t  computing score...\n",
      "05/03 08:29:54 PM |\t  G_AB GAB sacreBLEU : 8.521094\n",
      "05/03 08:29:54 PM |\t  G_BA GBA sacreBLEU : 11.175613\n",
      "05/03 08:29:54 PM |\t  G_AB GAB test loss : 28.473892\n",
      "05/03 08:29:54 PM |\t  G_BA GBA test loss : 20.450719\n",
      "05/03 08:29:54 PM |\t  \n",
      "\n",
      "  ----------------epoch:5----------------\n",
      "05/03 08:29:54 PM |\t  total iter:[2500] \t G_lr:0.0002657205 \t DA_lr:5e-05 \t DB_lr:5e-05\n",
      "05/03 08:32:41 PM |\t  {'GB_cycle_meter': 1018.473251953125, 'GA_cycle_meter': 1014.7765649414063, 'GAB_once_meter': 0.0, 'GBA_once_meter': 0.0, 'DA_meter': 0.5, 'DB_meter': 0.17971970915794372}\n",
      "05/03 08:32:41 PM |\t  19.2%\n",
      "05/03 08:35:38 PM |\t  {'GB_cycle_meter': 1017.94685546875, 'GA_cycle_meter': 1016.3498364257813, 'GAB_once_meter': 0.0, 'GBA_once_meter': 0.0, 'DA_meter': 0.5, 'DB_meter': 0.1488741245865822}\n",
      "05/03 08:35:38 PM |\t  39.2%\n",
      "05/03 08:38:30 PM |\t  {'GB_cycle_meter': 1019.0436596679688, 'GA_cycle_meter': 1013.3815966796875, 'GAB_once_meter': 0.0, 'GBA_once_meter': 0.0, 'DA_meter': 0.5, 'DB_meter': 0.17419385731220247}\n",
      "05/03 08:38:30 PM |\t  59.199999999999996%\n",
      "05/03 08:41:08 PM |\t  {'GB_cycle_meter': 1018.4668017578125, 'GA_cycle_meter': 1012.9994409179687, 'GAB_once_meter': 0.0, 'GBA_once_meter': 0.0, 'DA_meter': 0.5, 'DB_meter': 0.19816523015499116}\n",
      "05/03 08:41:08 PM |\t  79.2%\n",
      "05/03 08:43:49 PM |\t  {'GB_cycle_meter': 1017.5976123046875, 'GA_cycle_meter': 1014.1920458984375, 'GAB_once_meter': 0.0, 'GBA_once_meter': 0.0, 'DA_meter': 0.5, 'DB_meter': 0.18206052243709564}\n",
      "05/03 08:43:49 PM |\t  99.2%\n",
      "05/03 08:43:55 PM |\t  DB_a_: 0.420,  0.753,  0.374,  0.567,  \n",
      "05/03 08:43:55 PM |\t  DB_pred_dis: 0.407,  0.845,  0.313,  0.295,  \n",
      "05/03 08:43:55 PM |\t  DA_b: 0.0,  0.0,  0.0,  0.0,  \n",
      "05/03 08:43:55 PM |\t  DA_pred_dis: 0.0,  0.0,  0.0,  0.0,  \n",
      "05/03 08:43:55 PM |\t  GABloss:\t31.9325008392334\n",
      "05/03 08:43:55 PM |\t  GBAloss:\t20.192428588867188\n",
      "05/03 08:43:55 PM |\t  a_decoded[:2]:['India and Japan prime ministers meet in Tokyo', \"India's new prime minister, Narendra Modi, is meeting his Japanese counterpart, Shinzo Abe, in Tokyo to discuss economic and security ties, on his first major foreign visit since winning May's election.\", 'Mr Modi is on a five-day trip to Japan to strengthen economic ties with the third largest economy in the world.', 'High on the agenda are plans for greater nuclear co-operation.']\n",
      "05/03 08:43:55 PM |\t  pred_b_decoded[:2]:['The Prime Minister Indiens and Japantraftraftraftraftraftraftraftraftraftraftraftraftraftraftraftraftraftraftraftraftraftraftraftraftraftraftraftraftraftraftraftraftraftraftraftraftraftraftraftraftraftraftraftraftraftraftraftraftraftraftraftraftraftraftraftraftraftraftraftraftraftraftraftraftraftraftraftraftraftraftraftraftraftraftraftraftraftraftraftraftraftraftraftraftraftraftraftraftraftraftraftraftraftraftraftraftraftraftraftraftraftraftraftraftraf', 'Indis new Prime Minister Narendra Moditrifft bei his first important visit to the Toko in May his election to be held in Toko to discuss economic and safety relations.', 'Mr Modi befindet on a five-month travel to Japan to fest the economic relations with the third largest economic world.', 'Plans for a strongerkern cooperation stehen ganz oben auf the agenda.']\n",
      "05/03 08:43:55 PM |\t  b_decoded[:2]:['Die Premierminister Indiens und Japans trafen sich in Tokio.', 'Indiens neuer Premierminister Narendra Modi trifft bei seinem ersten wichtigen Auslandsbesuch seit seinem Wahlsieg im Mai seinen japanischen Amtskollegen Shinzo Abe in Toko, um wirtschaftliche und sicherheitspolitische Beziehungen zu besprechen.', 'Herr Modi befindet sich auf einer fünftägigen Reise nach Japan, um die wirtschaftlichen Beziehungen mit der drittgrößten Wirtschaftsnation der Welt zu festigen.', 'Pläne für eine stärkere kerntechnische Zusammenarbeit stehen ganz oben auf der Tagesordnung.']\n",
      "05/03 08:43:55 PM |\t  pred_a_decoded[:2]:['Indien und Japan prime ministers treffen in Tokyo.', 'Indiens neuer Premierminister, Narendra Modi, ist mit seinem japanischen counterpart, Shinzo Abe,,                                                                                      ', 'Herr Modi ist auf einer fünf-day trip to Japan, um wirtschaftliche                                                                                                 ', 'Hoch auf der Tagesordnung sind Pläne für größere nukleare Zusammenarbeit.']\n",
      "05/03 08:44:50 PM |\t  computing score...\n",
      "05/03 08:44:50 PM |\t  G_AB GAB sacreBLEU : 6.157997\n",
      "05/03 08:44:50 PM |\t  G_BA GBA sacreBLEU : 13.247383\n",
      "05/03 08:44:50 PM |\t  G_AB GAB test loss : 28.323105\n",
      "05/03 08:44:50 PM |\t  G_BA GBA test loss : 21.078329\n",
      "05/03 08:44:50 PM |\t  \n",
      "\n",
      "  ----------------epoch:6----------------\n",
      "05/03 08:44:50 PM |\t  total iter:[3000] \t G_lr:0.00023914845 \t DA_lr:5e-05 \t DB_lr:5e-05\n",
      "05/03 08:47:38 PM |\t  {'GB_cycle_meter': 1019.2497338867188, 'GA_cycle_meter': 1012.7407055664063, 'GAB_once_meter': 0.0, 'GBA_once_meter': 0.0, 'DA_meter': 0.5, 'DB_meter': 0.1946842333674431}\n",
      "05/03 08:47:38 PM |\t  19.2%\n",
      "05/03 08:50:29 PM |\t  {'GB_cycle_meter': 1014.3358447265625, 'GA_cycle_meter': 1013.0652465820312, 'GAB_once_meter': 0.0, 'GBA_once_meter': 0.0, 'DA_meter': 0.5, 'DB_meter': 0.1699035397171974}\n",
      "05/03 08:50:29 PM |\t  39.2%\n"
     ]
    }
   ],
   "source": [
    "if(args.valid_begin==1):\n",
    "    my_test(valid_dataloader,cycleGAN,tokenizer,logging,wandb)\n",
    "total_iter = [0]  \n",
    "for epoch in range(args.epochs):\n",
    "\n",
    "    logging.info(f\"\\n\\n  ----------------epoch:{epoch}----------------\")\n",
    "    my_train(train_dataloader,cycleGAN,total_iter,args,logging,valid_dataloader,tokenizer,wandb)\n",
    "\n"
   ]
  },
  {
   "cell_type": "code",
   "execution_count": null,
   "metadata": {},
   "outputs": [],
   "source": []
  }
 ],
 "metadata": {
  "interpreter": {
   "hash": "65768f95ed3f1ad80799466926a66640b39a99ef5d94bbece814e59aa067606e"
  },
  "kernelspec": {
   "display_name": "Python 3.8.12 ('python38')",
   "language": "python",
   "name": "python3"
  },
  "language_info": {
   "codemirror_mode": {
    "name": "ipython",
    "version": 3
   },
   "file_extension": ".py",
   "mimetype": "text/x-python",
   "name": "python",
   "nbconvert_exporter": "python",
   "pygments_lexer": "ipython3",
   "version": "3.8.12"
  },
  "orig_nbformat": 4
 },
 "nbformat": 4,
 "nbformat_minor": 2
}
