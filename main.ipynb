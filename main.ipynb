{
 "cells": [
  {
   "cell_type": "code",
   "execution_count": 1,
   "metadata": {},
   "outputs": [],
   "source": [
    "\n",
    "import os\n",
    "os.getcwd() \n",
    "os.environ[\"TOKENIZERS_PARALLELISM\"] = \"false\"\n",
    "import warnings\n",
    "from test import *\n",
    "warnings.filterwarnings(\"ignore\")\n",
    "from datasets import load_dataset,load_metric\n",
    "from transformers import AutoTokenizer, AutoModelForSeq2SeqLM, pipeline\n",
    "import torch_optimizer as optim\n",
    "from transformers.optimization import Adafactor, AdafactorSchedule\n",
    "import torch.backends.cudnn as cudnn\n",
    "from utils import *\n",
    "from torch.utils.data import TensorDataset, DataLoader, RandomSampler, SequentialSampler, SubsetRandomSampler\n",
    "from torch.autograd import Variable\n",
    "import logging\n",
    "import sys\n",
    "import transformers\n",
    "from basic_model import *\n",
    "import time\n",
    "import argparse\n",
    "from tqdm import tqdm\n",
    "from torch.utils.tensorboard import SummaryWriter\n",
    "import string\n",
    "from cycle import *\n",
    "from train import *\n",
    "\n",
    "device = torch.device(\"cuda\" if torch.cuda.is_available() else \"cpu\")"
   ]
  },
  {
   "cell_type": "code",
   "execution_count": 2,
   "metadata": {},
   "outputs": [
    {
     "name": "stdout",
     "output_type": "stream",
     "text": [
      "args.test_iter 498\n",
      "args.rep_iter 99\n"
     ]
    }
   ],
   "source": [
    "if(True):\n",
    "    parser = argparse.ArgumentParser(\"main\")\n",
    "\n",
    "    parser.add_argument('--valid_num_points', type=int,             default = 200, help='validation data number')\n",
    "    parser.add_argument('--train_num_points', type=int,             default = 1000, help='train data number')\n",
    "\n",
    "    parser.add_argument('--batch_size', type=int,                   default=3,     help='Batch size')\n",
    "    parser.add_argument('--max_length', type=int,                   default=512,     help='max_length')\n",
    "\n",
    "    parser.add_argument('--gpu', type=int,                          default=0,      help='gpu device id')\n",
    "    parser.add_argument('--G_AB_model_name', type=str,              default='t5-small',      help='model_name')\n",
    "    parser.add_argument('--G_BA_model_name', type=str,              default='Onlydrinkwater/T5-small-de-en',      help='model_name')\n",
    "    parser.add_argument('--D_A_model_name', type=str,               default='t5-small',      help='model_name')\n",
    "    parser.add_argument('--D_B_model_name', type=str,               default='Onlydrinkwater/T5-small-de-en',      help='model_name')\n",
    "    parser.add_argument('--exp_name', type=str,                     default='CYCLE!',      help='experiment name')\n",
    "    parser.add_argument('--rep_num', type=int,                      default=25,      help='report times for 1 epoch')\n",
    "    parser.add_argument('--rep_iter', type=int,                     default=100,      help='report times for 1 epoch')\n",
    "    parser.add_argument('--test_iter', type=int,                    default=500,      help='report times for 1 epoch')\n",
    "    parser.add_argument('--test_num', type=int,                     default=4,      help='test times for 1 epoch')\n",
    "\n",
    "    parser.add_argument('--epochs', type=int,                       default=50,     help='num of training epochs')\n",
    "\n",
    "    parser.add_argument('--G_lr', type=float,                       default=0.00001,   help='learning rate for G')\n",
    "    parser.add_argument('--D_lr', type=float,                       default=0.00001,   help='learning rate for D')\n",
    "    parser.add_argument('--lambda_identity', type=float,            default=0.5,   help='')\n",
    "    parser.add_argument('--lambda_A', type=float,                   default=0,   help='')\n",
    "    parser.add_argument('--lambda_B', type=float,                   default=0,   help='')\n",
    "    parser.add_argument('--lambda_once', type=float,                default=1,   help='')\n",
    "    parser.add_argument('--smoothing', type=float,                  default=0.1,    help='labelsmoothing')\n",
    "\n",
    "\n",
    "    parser.add_argument('--valid_begin', type=int,                  default=1,      help='whether valid before train')\n",
    "    parser.add_argument('--train_G', type=int,                      default=1,      help='whether valid before train')\n",
    "    parser.add_argument('--train_D', type=int,                      default=1,      help='whether valid before train')\n",
    "    parser.add_argument('--D_pretrain_iter', type=int,              default=100,      help='whether valid before train')\n",
    "\n",
    "\n",
    "    args = parser.parse_args(args=[])#(args=['--batch_size', '8',  '--no_cuda'])#used in ipynb\n",
    "    args.test_iter = args.test_iter//args.batch_size * args.batch_size\n",
    "    args.rep_iter = args.rep_iter//args.batch_size * args.batch_size\n",
    "    print('args.test_iter',args.test_iter)\n",
    "    print('args.rep_iter',args.rep_iter)#1"
   ]
  },
  {
   "cell_type": "code",
   "execution_count": 3,
   "metadata": {},
   "outputs": [
    {
     "name": "stderr",
     "output_type": "stream",
     "text": [
      "Failed to detect the name of this notebook, you can set it manually with the WANDB_NOTEBOOK_NAME environment variable to enable code saving.\n",
      "\u001b[34m\u001b[1mwandb\u001b[0m: Currently logged in as: \u001b[33monlydrinkwater\u001b[0m (use `wandb login --relogin` to force relogin)\n"
     ]
    },
    {
     "data": {
      "text/html": [
       "wandb version 0.12.15 is available!  To upgrade, please run:\n",
       " $ pip install wandb --upgrade"
      ],
      "text/plain": [
       "<IPython.core.display.HTML object>"
      ]
     },
     "metadata": {},
     "output_type": "display_data"
    },
    {
     "data": {
      "text/html": [
       "Tracking run with wandb version 0.12.11"
      ],
      "text/plain": [
       "<IPython.core.display.HTML object>"
      ]
     },
     "metadata": {},
     "output_type": "display_data"
    },
    {
     "data": {
      "text/html": [
       "Run data is saved locally in <code>g:\\GitCode\\cycleMT\\wandb\\run-20220427_112801-2w9yf9fg</code>"
      ],
      "text/plain": [
       "<IPython.core.display.HTML object>"
      ]
     },
     "metadata": {},
     "output_type": "display_data"
    },
    {
     "data": {
      "text/html": [
       "Syncing run <strong><a href=\"https://wandb.ai/onlydrinkwater/CYCLEGAN/runs/2w9yf9fg\" target=\"_blank\">CYCLE!</a></strong> to <a href=\"https://wandb.ai/onlydrinkwater/CYCLEGAN\" target=\"_blank\">Weights & Biases</a> (<a href=\"https://wandb.me/run\" target=\"_blank\">docs</a>)<br/>"
      ],
      "text/plain": [
       "<IPython.core.display.HTML object>"
      ]
     },
     "metadata": {},
     "output_type": "display_data"
    },
    {
     "data": {
      "text/html": [
       "<button onClick=\"this.nextSibling.style.display='block';this.style.display='none';\">Display W&B run</button><iframe src=\"https://wandb.ai/onlydrinkwater/CYCLEGAN/runs/2w9yf9fg?jupyter=true\" style=\"border:none;width:100%;height:420px;display:none;\"></iframe>"
      ],
      "text/plain": [
       "<wandb.sdk.wandb_run.Run at 0x271bdccdb20>"
      ]
     },
     "execution_count": 3,
     "metadata": {},
     "output_type": "execute_result"
    }
   ],
   "source": [
    "import wandb\n",
    "os.environ['WANDB_API_KEY']='a166474b1b7ad33a0549adaaec19a2f6d3f91d87'\n",
    "os.environ['WANDB_NAME']=args.exp_name\n",
    "wandb.init(project=\"CYCLEGAN\",config=args)"
   ]
  },
  {
   "cell_type": "code",
   "execution_count": 4,
   "metadata": {},
   "outputs": [
    {
     "name": "stdout",
     "output_type": "stream",
     "text": [
      "04/27 11:28:09 AM |\t  Namespace(D_A_model_name='t5-small', D_B_model_name='Onlydrinkwater/T5-small-de-en', D_lr=1e-05, D_pretrain_iter=100, G_AB_model_name='t5-small', G_BA_model_name='Onlydrinkwater/T5-small-de-en', G_lr=1e-05, batch_size=3, epochs=50, exp_name='CYCLE!', gpu=0, lambda_A=0, lambda_B=0, lambda_identity=0.5, lambda_once=1, max_length=512, rep_iter=99, rep_num=25, smoothing=0.1, test_iter=498, test_num=4, train_D=1, train_G=1, train_num_points=1000, valid_begin=1, valid_num_points=200)\n"
     ]
    }
   ],
   "source": [
    "#logging file\n",
    "now = time.strftime(\"%Y-%m-%d-%H_%M_%S\",time.localtime(time.time())) \n",
    "\n",
    "log_format = '%(asctime)s |\\t  %(message)s'\n",
    "logging.basicConfig(stream=sys.stdout, level=logging.INFO,\n",
    "    format=log_format, datefmt='%m/%d %I:%M:%S %p')\n",
    "fh = logging.FileHandler(os.path.join(\"./log/\", now+'.txt'),'w',encoding = \"UTF-8\")\n",
    "fh.setFormatter(logging.Formatter(log_format))\n",
    "logging.getLogger().addHandler(fh)\n",
    "logging.info(args)"
   ]
  },
  {
   "cell_type": "code",
   "execution_count": 5,
   "metadata": {},
   "outputs": [
    {
     "name": "stdout",
     "output_type": "stream",
     "text": [
      "04/27 11:28:14 AM |\t  Gmodelsize:60.506624MB\n",
      "04/27 11:28:14 AM |\t  Dmodelsize:60.506624MB\n"
     ]
    }
   ],
   "source": [
    "GABmodelname = args.G_AB_model_name\n",
    "GBAmodelname = args.G_BA_model_name\n",
    "DAmodelname = args.D_A_model_name\n",
    "DBmodelname = args.D_B_model_name\n",
    "GABpretrained  =  AutoModelForSeq2SeqLM.from_pretrained(GABmodelname)\n",
    "GBApretrained  =  AutoModelForSeq2SeqLM.from_pretrained(GBAmodelname)\n",
    "DApretrained  =  AutoModelForSeq2SeqLM.from_pretrained(DAmodelname)\n",
    "DBpretrained  =  AutoModelForSeq2SeqLM.from_pretrained(DBmodelname)\n",
    "logging.info(f'Gmodelsize:{count_parameters_in_MB(GABpretrained)}MB')\n",
    "logging.info(f'Dmodelsize:{count_parameters_in_MB(DApretrained)}MB')\n",
    "\n",
    "tokenizer = AutoTokenizer.from_pretrained(GABmodelname)\n",
    "# tokenizerBA = AutoTokenizer.from_pretrained(GBAmodelname)#its the same\n"
   ]
  },
  {
   "cell_type": "code",
   "execution_count": 6,
   "metadata": {},
   "outputs": [
    {
     "name": "stdout",
     "output_type": "stream",
     "text": [
      "04/27 11:28:18 AM |\t  Reusing dataset wmt16 (C:\\Users\\kevin\\.cache\\huggingface\\datasets\\wmt16\\de-en\\1.0.0\\0d9fb3e814712c785176ad8cdb9f465fbe6479000ee6546725db30ad8a8b5f8a)\n"
     ]
    },
    {
     "name": "stderr",
     "output_type": "stream",
     "text": [
      "100%|██████████| 3/3 [00:00<00:00, 33.58it/s]\n"
     ]
    }
   ],
   "source": [
    "dataset = load_dataset('wmt16','de-en')\n",
    "train = dataset['train']['translation'][:args.train_num_points]\n",
    "valid = dataset['train']['translation'][args.train_num_points:(args.train_num_points+args.valid_num_points)]\n",
    "\n",
    "\n",
    "train_data = get_Dataset_chaos(train, tokenizer,max_length=args.max_length)\n",
    "train_dataloader = DataLoader(train_data, sampler= RandomSampler(train_data), \n",
    "                        batch_size=args.batch_size, pin_memory=True, num_workers=2)\n",
    "valid_data = get_Dataset(valid, tokenizer,max_length=args.max_length)\n",
    "valid_dataloader = DataLoader(valid_data, sampler=RandomSampler(valid_data), \n",
    "                        batch_size=args.batch_size, pin_memory=True, num_workers=2)"
   ]
  },
  {
   "cell_type": "code",
   "execution_count": 7,
   "metadata": {},
   "outputs": [],
   "source": [
    "cycleGAN = CycleGAN(args,GABpretrained,GBApretrained,DApretrained,DBpretrained,tokenizer)"
   ]
  },
  {
   "cell_type": "code",
   "execution_count": 8,
   "metadata": {},
   "outputs": [
    {
     "name": "stdout",
     "output_type": "stream",
     "text": [
      "04/27 11:29:22 AM |\t  GABloss:\t7.751707553863525\n",
      "04/27 11:29:22 AM |\t  GBAloss:\t11.074665069580078\n",
      "04/27 11:29:22 AM |\t  a_decoded[:2]:['Finally, we, as British Conservatives, are looking for a change in direction, towards the development of an independent competition authority.', 'If this comes to nothing, then the government has to step in.']\n",
      "04/27 11:29:22 AM |\t  pred_b_decoded[:2]:['Finally, I would like to say that, as a British Conservative, we are seeking a change of direction, a development towards an independent competition authority.', 'If this commitment is misled, then the State must intervene.']\n",
      "04/27 11:29:22 AM |\t  b_decoded[:2]:['Lassen Sie mich abschließend feststellen, daß wir als britische Konservative eine Richtungsänderung anstreben, und zwar eine Entwicklung zu einer unabhängigen Wettbewerbsbehörde.', 'Mißlingt dieses Engagement, dann muß der Staat eingreifen.']\n",
      "04/27 11:29:22 AM |\t  pred_a_decoded[:2]:['Abschließend möchte ich sagen, dass wir als britische Konservative eine nderung in Richtung auf die Entwicklung einer unabhängigen Wettbewerbsbehörde suchen.', 'Portugiesisch: Wenn dies zu nichts kommt, dann muss die Regierung eingreifen.']\n",
      "04/27 11:31:13 AM |\t  computing score...\n",
      "04/27 11:31:13 AM |\t  G_AB GAB sacreBLEU : 20.912466\n",
      "04/27 11:31:13 AM |\t  G_BA GBA sacreBLEU : 28.513720\n",
      "04/27 11:31:13 AM |\t  G_AB GAB test loss : 7.781819\n",
      "04/27 11:31:13 AM |\t  G_BA GBA test loss : 12.043621\n",
      "04/27 11:31:13 AM |\t  \n",
      "\n",
      "  ----------------epoch:0----------------\n",
      "04/27 11:32:44 AM |\t  {'GB_cycle_meter': 9.559789541995887, 'GA_cycle_meter': 9.62367835189357, 'GAB_once_meter': 0.8950555848352837, 'GBA_once_meter': 0.9052801674062555, 'DA_meter': 0.3537262321421594, 'DB_meter': 0.45019808908303577}\n",
      "04/27 11:32:44 AM |\t  \t\t19.46107784431138%\n",
      "04/27 11:33:33 AM |\t  {'GB_cycle_meter': 9.576816790031664, 'GA_cycle_meter': 9.620171026750045, 'GAB_once_meter': 0.8574182969151121, 'GBA_once_meter': 0.8561219211780664, 'DA_meter': 0.2188511495337342, 'DB_meter': 0.33519011374675867}\n",
      "04/27 11:33:33 AM |\t  \t\t29.34131736526946%\n",
      "04/27 11:34:23 AM |\t  {'GB_cycle_meter': 9.587495081352465, 'GA_cycle_meter': 9.603125514406146, 'GAB_once_meter': 0.8016615672545, 'GBA_once_meter': 0.8230840473464041, 'DA_meter': 0.16183033314618198, 'DB_meter': 0.27260492380821344}\n",
      "04/27 11:34:23 AM |\t  \t\t39.221556886227546%\n",
      "04/27 11:35:12 AM |\t  {'GB_cycle_meter': 9.587014024907893, 'GA_cycle_meter': 9.62466031854803, 'GAB_once_meter': 0.8039687420382644, 'GBA_once_meter': 0.7867101936629324, 'DA_meter': 0.11109090393239801, 'DB_meter': 0.22211256126562753}\n",
      "04/27 11:35:12 AM |\t  \t\t49.101796407185624%\n",
      "04/27 11:35:19 AM |\t  GABloss:\t7.673739433288574\n",
      "04/27 11:35:19 AM |\t  GBAloss:\t14.749411582946777\n",
      "04/27 11:35:19 AM |\t  a_decoded[:2]:['Commissioner Monti and his colleagues have a tremendous challenge ahead of them and our worries in the ELDR Group are that there should be no weakening in the thrust of competition policy either in the examination of mergers or the monitoring of restrictive practices.', 'If we want there to be competition then we must establish this link between the requirements of the national economy and the pre-requisites of managerial economics.']\n",
      "04/27 11:35:19 AM |\t  pred_b_decoded[:2]:['Commissioner Monti and his colleagues are facing a huge task and we in the Group of the European Liberal, Democrat and Reform Party believe that competition policy must be safeguarded with regard to the investigation of mergers or the monitoring of restrictive behaviour.', 'If we want to have competition, we have to fight this division between the economic needs and the economic conditions.']\n",
      "04/27 11:35:19 AM |\t  b_decoded[:2]:['Kommissionsmitglied Monti und seine Kollegen stehen vor einer gigantischen Aufgabe, und wir in der ELDR-Fraktion meinen, daß die Schlagkraft der Wettbewerbspolitik in bezug auf die Untersuchung von Fusionen oder die Überwachung von wettbewerbsbeschränkendem Verhalten bewahrt werden muß.', 'Wenn wir Wettbewerb haben wollen, dann müssen wir diese Kopplung zwischen den volkswirtschaftlichen Notwendigkeiten und den betriebswirtschaftlichen Voraussetzungen hinkriegen.']\n",
      "04/27 11:35:19 AM |\t  pred_a_decoded[:2]:['Portugalien und seine Kollegen haben eine große Herausforderung vor sich, und unsere Sorgen in der ELDR-Fraktion sind, dass es weder bei der Prüfung von Fusionen noch bei der Überwachung restriktiver Praktiken eine Schwächung der Wettbewerbspolitik geben sollte.', 'Portugiesisch: Wenn wir wollen, dass es Wettbewerb gibt, dann müssen wir diese Verbindung zwischen den Anforderungen der nationalen Wirtschaft und den Voraussetzungen für die Führungswirtschaft herstellen.']\n",
      "04/27 11:37:05 AM |\t  computing score...\n",
      "04/27 11:37:05 AM |\t  G_AB GAB sacreBLEU : 19.945176\n",
      "04/27 11:37:05 AM |\t  G_BA GBA sacreBLEU : 28.727902\n",
      "04/27 11:37:05 AM |\t  G_AB GAB test loss : 7.697616\n",
      "04/27 11:37:05 AM |\t  G_BA GBA test loss : 12.602455\n",
      "04/27 11:37:49 AM |\t  {'GB_cycle_meter': 9.591631629250266, 'GA_cycle_meter': 9.63020183100845, 'GAB_once_meter': 0.7918929168672273, 'GBA_once_meter': 0.7536221056273489, 'DA_meter': 0.07247526277646874, 'DB_meter': 0.18143059493917407}\n",
      "04/27 11:37:49 AM |\t  \t\t58.982035928143716%\n",
      "04/27 11:38:36 AM |\t  {'GB_cycle_meter': 9.596249262491861, 'GA_cycle_meter': 9.612595298073508, 'GAB_once_meter': 0.7864821047493906, 'GBA_once_meter': 0.7347976926601294, 'DA_meter': 0.05077785871584307, 'DB_meter': 0.13966601838668188}\n",
      "04/27 11:38:36 AM |\t  \t\t68.8622754491018%\n",
      "04/27 11:39:22 AM |\t  {'GB_cycle_meter': 9.585282441341516, 'GA_cycle_meter': 9.610350579926461, 'GAB_once_meter': 0.7931791200782313, 'GBA_once_meter': 0.7250242233276367, 'DA_meter': 0.03612879319398692, 'DB_meter': 0.10751949747403462}\n",
      "04/27 11:39:22 AM |\t  \t\t78.74251497005989%\n",
      "04/27 11:40:08 AM |\t  {'GB_cycle_meter': 9.582155979040897, 'GA_cycle_meter': 9.666397181424228, 'GAB_once_meter': 0.8144517811861905, 'GBA_once_meter': 0.7204120267521251, 'DA_meter': 0.024192886441155817, 'DB_meter': 0.10386116441452142}\n",
      "04/27 11:40:08 AM |\t  \t\t88.62275449101796%\n",
      "04/27 11:40:55 AM |\t  {'GB_cycle_meter': 9.587254495331734, 'GA_cycle_meter': 9.58404575694691, 'GAB_once_meter': 0.8371297626784353, 'GBA_once_meter': 0.7071813941001892, 'DA_meter': 0.023631855076404685, 'DB_meter': 0.06401507883812442}\n",
      "04/27 11:40:55 AM |\t  \t\t98.50299401197606%\n",
      "04/27 11:41:03 AM |\t  GABloss:\t7.7985711097717285\n",
      "04/27 11:41:03 AM |\t  GBAloss:\t11.396416664123535\n",
      "04/27 11:41:03 AM |\t  a_decoded[:2]:['I should like to make it clear that we have the greatest confidence in and respect for Commissioner Monti.', 'I am opposed to this, unlike the majority of this House and indeed the majority of my own group, because I believe that, in competition policy terms, the directly applicable exception system is in every sense inferior to a system of prohibition unless certain conditions are met, and I believe there is a threat of renationalisation.']\n",
      "04/27 11:41:03 AM |\t  pred_b_decoded[:2]:['I would like to make it clear that we have the greatest confidence in Mr Monti, who has our deepest respect.', 'I am opposed to this, unlike the majority of this House and also the majority of my own group, because I believe that the system of legal adoption, a system of prohibition with administrative resources, is clearly a signatory to competition policy and I see the danger of renationalisation.']\n",
      "04/27 11:41:03 AM |\t  b_decoded[:2]:['Ich möchte klarstellen, daß wir größtes Vertrauen zu Herrn Monti haben, der unseren tiefsten Respekt genießt.', 'Ich wende mich dagegen im Gegensatz zur Mehrheit dieses Hauses und auch zur Mehrheit meiner eigenen Fraktion, weil ich der Meinung bin, daß das System der Legalausnahme, ein System des Verbots mit Administrativvorbehalt wettbewerbspolitisch deutlich unterlegen ist und ich die Gefahr einer Renationalisierung sehe.']\n",
      "04/27 11:41:03 AM |\t  pred_a_decoded[:2]:['Portugiesisch möchte ich klarstellen, dass wir das größte Vertrauen und den größten Respekt gegenüber Kommissar Monti haben.', 'Ich bin dagegen, im Gegensatz zu der Mehrheit dieses Hauses und der Mehrheit meiner Fraktion, denn ich glaube, dass das direkt anwendbare Ausnahmesystem in jeder Hinsicht minderwertig ist als ein System des Verbots, wenn nicht bestimmte Bedingungen erfüllt sind, und ich glaube, dass es eine Gefahr der Renationalisierung gibt.']\n",
      "04/27 11:42:50 AM |\t  computing score...\n",
      "04/27 11:42:50 AM |\t  G_AB GAB sacreBLEU : 20.078194\n",
      "04/27 11:42:50 AM |\t  G_BA GBA sacreBLEU : 28.947705\n",
      "04/27 11:42:50 AM |\t  G_AB GAB test loss : 7.578788\n",
      "04/27 11:42:50 AM |\t  G_BA GBA test loss : 13.854020\n",
      "04/27 11:42:53 AM |\t  \n",
      "\n",
      "  ----------------epoch:1----------------\n",
      "04/27 11:44:22 AM |\t  {'GB_cycle_meter': 9.578653773745975, 'GA_cycle_meter': 9.623845177727777, 'GAB_once_meter': 0.8645919448620564, 'GBA_once_meter': 0.7238554430974496, 'DA_meter': 0.02156159963882861, 'DB_meter': 0.05242951311437147}\n",
      "04/27 11:44:22 AM |\t  \t\t19.46107784431138%\n",
      "04/27 11:45:11 AM |\t  {'GB_cycle_meter': 9.58076101360899, 'GA_cycle_meter': 9.626624367453836, 'GAB_once_meter': 0.8551846562009869, 'GBA_once_meter': 0.7032593822840488, 'DA_meter': 0.017382382789175168, 'DB_meter': 0.05339368638780081}\n",
      "04/27 11:45:11 AM |\t  \t\t29.34131736526946%\n",
      "04/27 11:45:59 AM |\t  {'GB_cycle_meter': 9.59235312721946, 'GA_cycle_meter': 9.628518422444662, 'GAB_once_meter': 0.8772131078171007, 'GBA_once_meter': 0.7376355817823699, 'DA_meter': 0.014813766622506646, 'DB_meter': 0.03828792324797674}\n",
      "04/27 11:45:59 AM |\t  \t\t39.221556886227546%\n",
      "04/27 11:46:47 AM |\t  {'GB_cycle_meter': 9.58446470896403, 'GA_cycle_meter': 9.625291737643154, 'GAB_once_meter': 0.9151826970504991, 'GBA_once_meter': 0.7386521290649067, 'DA_meter': 0.01112595606228393, 'DB_meter': 0.038730033870899315}\n",
      "04/27 11:46:47 AM |\t  \t\t49.101796407185624%\n",
      "04/27 11:46:53 AM |\t  GABloss:\t6.725134372711182\n",
      "04/27 11:46:53 AM |\t  GBAloss:\t18.615262985229492\n",
      "04/27 11:46:53 AM |\t  a_decoded[:2]:['If the Commission implements the White Paper objectives, it seems to me that discrimination within the internal market and between external and internal legal advisers will become more pronounced and hence even less acceptable.', 'I know that the Commission is set against this, but the potential exists.']\n",
      "04/27 11:46:53 AM |\t  pred_b_decoded[:2]:['If the Commission were to implement its projects in the White Paper, discrimination in the internal market and between external and internal legal advisers should increase and therefore be even less acceptable.', 'I know that the Commission thinks quite differently, but there is a risk.']\n",
      "04/27 11:46:53 AM |\t  b_decoded[:2]:['Sollte die Kommission ihre Vorhaben aus dem Weißbuch umsetzen, dann dürfte die Diskriminierung im Binnenmarkt und zwischen den externen und internen Rechtsberatern zunehmen und damit noch weniger hinnehmbar sein.', 'Ich weiß, daß die Kommission ganz anders denkt, dennoch besteht diese Gefahr.']\n",
      "04/27 11:46:53 AM |\t  pred_a_decoded[:2]:['Portugiesisch: Wenn die Kommission die Ziele des Weißbuchs umsetzt, scheint es mir, dass die Diskriminierung innerhalb des Binnenmarktes und zwischen externen und internen Rechtsberatern ausgeprägter und damit noch weniger akzeptabel wird.', 'Portugiesisch weiß ich, dass die Kommission dagegen steht, aber das Potenzial besteht.']\n",
      "04/27 11:48:41 AM |\t  computing score...\n",
      "04/27 11:48:41 AM |\t  G_AB GAB sacreBLEU : 19.988957\n",
      "04/27 11:48:41 AM |\t  G_BA GBA sacreBLEU : 28.605789\n",
      "04/27 11:48:41 AM |\t  G_AB GAB test loss : 7.395726\n",
      "04/27 11:48:41 AM |\t  G_BA GBA test loss : 15.446654\n",
      "04/27 11:49:25 AM |\t  {'GB_cycle_meter': 9.603175654555812, 'GA_cycle_meter': 9.624239488081498, 'GAB_once_meter': 0.8943100120082046, 'GBA_once_meter': 0.7588887232722659, 'DA_meter': 0.0175214838871563, 'DB_meter': 0.03140979551244527}\n",
      "04/27 11:49:25 AM |\t  \t\t58.982035928143716%\n",
      "04/27 11:50:12 AM |\t  {'GB_cycle_meter': 9.58768740567294, 'GA_cycle_meter': 9.622626160130356, 'GAB_once_meter': 0.9381868730891835, 'GBA_once_meter': 0.7854692014780912, 'DA_meter': 0.012168783123012294, 'DB_meter': 0.031734000658616424}\n",
      "04/27 11:50:12 AM |\t  \t\t68.8622754491018%\n",
      "04/27 11:50:59 AM |\t  {'GB_cycle_meter': 9.583069830229789, 'GA_cycle_meter': 9.60431804078998, 'GAB_once_meter': 0.884819793881792, 'GBA_once_meter': 0.8199855504613934, 'DA_meter': 0.015674948971013004, 'DB_meter': 0.02306622276294299}\n",
      "04/27 11:50:59 AM |\t  \t\t78.74251497005989%\n",
      "04/27 11:51:45 AM |\t  {'GB_cycle_meter': 9.575902938842773, 'GA_cycle_meter': 9.628237753203422, 'GAB_once_meter': 0.9622771884455825, 'GBA_once_meter': 0.806213454766707, 'DA_meter': 0.01194101676016792, 'DB_meter': 0.0257258736034573}\n",
      "04/27 11:51:45 AM |\t  \t\t88.62275449101796%\n",
      "04/27 11:52:32 AM |\t  {'GB_cycle_meter': 9.594806208755031, 'GA_cycle_meter': 9.603616627779873, 'GAB_once_meter': 0.917451540629069, 'GBA_once_meter': 0.8429618026271011, 'DA_meter': 0.018031921385872094, 'DB_meter': 0.02968931850398693}\n",
      "04/27 11:52:32 AM |\t  \t\t98.50299401197606%\n",
      "04/27 11:52:41 AM |\t  GABloss:\t8.172102928161621\n",
      "04/27 11:52:41 AM |\t  GBAloss:\t17.493785858154297\n",
      "04/27 11:52:41 AM |\t  a_decoded[:2]:['I also agree with the criticism that no emphasis has been put on the implementation of Article 82, especially when we are witnessing abusive conduct in a context of market concentration.', 'A reform of this point was therefore also necessary.']\n",
      "04/27 11:52:41 AM |\t  pred_b_decoded[:2]:['I also share the criticism that there has been no sufficient emphasis on the development of Article 82, especially in view of the abuses we are witnessing in relation to market concentration.', 'It was therefore also necessary to reform this point.']\n",
      "04/27 11:52:41 AM |\t  b_decoded[:2]:['Ich teile auch die Kritik, daß nicht genügend Nachdruck auf die Entwicklung des Artikels 82 gelegt wurde, vor allem angesichts der mißbräuchlichen Verhaltensweisen, die wir im Zusammenhang mit der Marktkonzentration beobachten.', 'Eine Reform dieses Punktes war daher ebenfalls erforderlich.']\n",
      "04/27 11:52:41 AM |\t  pred_a_decoded[:2]:['Ich stimme auch mit der Kritik überein, dass die Umsetzung von Artikel 82 nicht betont wurde, insbesondere wenn wir Zeugen missbräuchlicher Handlungen in einem Kontext der Marktkonzentration sind.', 'Portugiesisch war daher auch eine Reform dieses Punktes notwendig.']\n",
      "04/27 11:54:36 AM |\t  computing score...\n",
      "04/27 11:54:36 AM |\t  G_AB GAB sacreBLEU : 20.009639\n",
      "04/27 11:54:36 AM |\t  G_BA GBA sacreBLEU : 27.338811\n",
      "04/27 11:54:36 AM |\t  G_AB GAB test loss : 7.298510\n",
      "04/27 11:54:36 AM |\t  G_BA GBA test loss : 17.444487\n",
      "04/27 11:54:39 AM |\t  \n",
      "\n",
      "  ----------------epoch:2----------------\n",
      "04/27 11:56:07 AM |\t  {'GB_cycle_meter': 9.576594481597075, 'GA_cycle_meter': 9.632979289905444, 'GAB_once_meter': 0.9309992451925535, 'GBA_once_meter': 0.8419584937997766, 'DA_meter': 0.012349799218022131, 'DB_meter': 0.026266961304021865}\n",
      "04/27 11:56:07 AM |\t  \t\t19.46107784431138%\n",
      "04/27 11:56:57 AM |\t  {'GB_cycle_meter': 9.591246836113207, 'GA_cycle_meter': 9.621784383600408, 'GAB_once_meter': 0.9251308170231906, 'GBA_once_meter': 0.8366761135332512, 'DA_meter': 0.019787730403053996, 'DB_meter': 0.02406008324628188}\n",
      "04/27 11:56:57 AM |\t  \t\t29.34131736526946%\n",
      "04/27 11:57:47 AM |\t  {'GB_cycle_meter': 9.608418580257531, 'GA_cycle_meter': 9.625572233489066, 'GAB_once_meter': 0.9325232234868136, 'GBA_once_meter': 0.890158292019006, 'DA_meter': 0.015935230001835436, 'DB_meter': 0.022293368619020013}\n",
      "04/27 11:57:47 AM |\t  \t\t39.221556886227546%\n",
      "04/27 11:58:37 AM |\t  {'GB_cycle_meter': 9.58778361118201, 'GA_cycle_meter': 9.62297688108502, 'GAB_once_meter': 0.9293703635533651, 'GBA_once_meter': 0.862131983944864, 'DA_meter': 0.014651419880630618, 'DB_meter': 0.017164481436890183}\n",
      "04/27 11:58:37 AM |\t  \t\t49.101796407185624%\n",
      "04/27 11:58:43 AM |\t  GABloss:\t5.613157749176025\n",
      "04/27 11:58:43 AM |\t  GBAloss:\t25.221160888671875\n",
      "04/27 11:58:43 AM |\t  a_decoded[:2]:['Secondly, I understand the worry of industry regarding legal certainty.', 'That is precisely what we do not want in the European Union.']\n",
      "04/27 11:58:43 AM |\t  pred_b_decoded[:2]:['Secondly, I understand the companies that fear a loss of legal certainty.', 'The Portuguese do not want that in the European Union.']\n",
      "04/27 11:58:43 AM |\t  b_decoded[:2]:['Zweitens habe ich Verständnis für die Unternehmen, die einen Verlust an Rechtssicherheit befürchten.', 'Das wollen wir gerade in der Europäischen Union nicht.']\n",
      "04/27 11:58:43 AM |\t  pred_a_decoded[:2]:['Portugiesisch: Zweitens verstehe ich die Sorge der Industrie hinsichtlich der Rechtssicherheit.', 'Portugiesisch: Das ist genau das, was wir in der Europäischen Union nicht wollen.']\n",
      "04/27 12:00:45 PM |\t  computing score...\n",
      "04/27 12:00:45 PM |\t  G_AB GAB sacreBLEU : 20.047001\n",
      "04/27 12:00:45 PM |\t  G_BA GBA sacreBLEU : 26.293424\n",
      "04/27 12:00:45 PM |\t  G_AB GAB test loss : 6.929516\n",
      "04/27 12:00:45 PM |\t  G_BA GBA test loss : 18.305074\n",
      "04/27 12:01:30 PM |\t  {'GB_cycle_meter': 9.574026974764736, 'GA_cycle_meter': 9.636164318431508, 'GAB_once_meter': 0.9488854164426977, 'GBA_once_meter': 0.8831482475454157, 'DA_meter': 0.008901341719496431, 'DB_meter': 0.024459248366342348}\n",
      "04/27 12:01:30 PM |\t  \t\t58.982035928143716%\n",
      "04/27 12:02:16 PM |\t  {'GB_cycle_meter': 9.572824535947857, 'GA_cycle_meter': 9.605440370964281, 'GAB_once_meter': 0.9307513002193335, 'GBA_once_meter': 0.9051464796066284, 'DA_meter': 0.009150370312537152, 'DB_meter': 0.010393054767822226}\n",
      "04/27 12:02:16 PM |\t  \t\t68.8622754491018%\n",
      "04/27 12:03:02 PM |\t  {'GB_cycle_meter': 9.587495110251687, 'GA_cycle_meter': 9.625291679844711, 'GAB_once_meter': 0.9594606937784137, 'GBA_once_meter': 0.8879065965161179, 'DA_meter': 0.008746676419501786, 'DB_meter': 0.02137449715210647}\n",
      "04/27 12:03:02 PM |\t  \t\t78.74251497005989%\n",
      "04/27 12:03:48 PM |\t  {'GB_cycle_meter': 9.59071769136371, 'GA_cycle_meter': 9.611192327557188, 'GAB_once_meter': 0.9338886484955297, 'GBA_once_meter': 0.8934674281062502, 'DA_meter': 0.01157453921570612, 'DB_meter': 0.01590203229076878}\n",
      "04/27 12:03:48 PM |\t  \t\t88.62275449101796%\n",
      "04/27 12:04:35 PM |\t  {'GB_cycle_meter': 9.599568135810621, 'GA_cycle_meter': 9.606773174170291, 'GAB_once_meter': 0.9666958758325288, 'GBA_once_meter': 0.8977173494570183, 'DA_meter': 0.011780386892717092, 'DB_meter': 0.020265500833788377}\n",
      "04/27 12:04:35 PM |\t  \t\t98.50299401197606%\n",
      "04/27 12:04:43 PM |\t  GABloss:\t5.810284614562988\n",
      "04/27 12:04:43 PM |\t  GBAloss:\t19.8330135345459\n",
      "04/27 12:04:43 PM |\t  a_decoded[:2]:['But I really feel that, in the circumstances, we want to know what the implications would be for business.', 'I do not accept that a practical transposition problem should give rise to changing the law.']\n",
      "04/27 12:04:43 PM |\t  pred_b_decoded[:2]:['I really do, however, think that, in the conditions that have been set, it is important to know what the impact of the private sector should be.', 'I do not accept that a problem of implementing is in practice the reason for a change in the legal order.']\n",
      "04/27 12:04:43 PM |\t  b_decoded[:2]:['Ich meine allerdings wirklich, daß es unter den gegebenen Bedingungen wichtig ist zu wissen, mit welchen Auswirkungen die Privatwirtschaft rechnen müßte.', 'Ich akzeptiere nicht, daß ein Umsetzungsproblem in der Praxis der Grund für eine nderung der Rechtsordnung sein soll.']\n",
      "04/27 12:04:43 PM |\t  pred_a_decoded[:2]:['Portugiesisch Portugiesisch. Aber ich glaube wirklich, dass wir unter den Umständen wissen wollen, welche Auswirkungen es für die Wirtschaft haben würde.', 'Portugiesisch: Ich akzeptiere nicht, dass ein praktisches Umsetzungsproblem zu einer nderung des Gesetzes führen sollte.']\n",
      "04/27 12:06:44 PM |\t  computing score...\n",
      "04/27 12:06:45 PM |\t  G_AB GAB sacreBLEU : 17.475452\n",
      "04/27 12:06:45 PM |\t  G_BA GBA sacreBLEU : 24.739773\n",
      "04/27 12:06:45 PM |\t  G_AB GAB test loss : 6.709798\n",
      "04/27 12:06:45 PM |\t  G_BA GBA test loss : 19.393008\n",
      "04/27 12:06:47 PM |\t  \n",
      "\n",
      "  ----------------epoch:3----------------\n",
      "04/27 12:08:16 PM |\t  {'GB_cycle_meter': 9.610356872146195, 'GA_cycle_meter': 9.629350713781408, 'GAB_once_meter': 0.9131112147021938, 'GBA_once_meter': 0.9220064250198571, 'DA_meter': 0.016336655331126947, 'DB_meter': 0.019235351092980375}\n",
      "04/27 12:08:16 PM |\t  \t\t19.46107784431138%\n",
      "04/27 12:09:05 PM |\t  {'GB_cycle_meter': 9.575710498925412, 'GA_cycle_meter': 9.63693584095348, 'GAB_once_meter': 0.9294615225358442, 'GBA_once_meter': 0.916842211376537, 'DA_meter': 0.00843313557561487, 'DB_meter': 0.014846030657998088}\n",
      "04/27 12:09:05 PM |\t  \t\t29.34131736526946%\n",
      "04/27 12:09:54 PM |\t  {'GB_cycle_meter': 9.58855322635535, 'GA_cycle_meter': 9.613437045704234, 'GAB_once_meter': 0.9371569535949014, 'GBA_once_meter': 0.932259693290248, 'DA_meter': 0.006293851886628986, 'DB_meter': 0.00765380369160663}\n",
      "04/27 12:09:54 PM |\t  \t\t39.221556886227546%\n",
      "04/27 12:10:43 PM |\t  {'GB_cycle_meter': 9.572535861622203, 'GA_cycle_meter': 9.623608242381703, 'GAB_once_meter': 0.93733232310324, 'GBA_once_meter': 0.9073548786567919, 'DA_meter': 0.007031306495650135, 'DB_meter': 0.019245301893644148}\n",
      "04/27 12:10:43 PM |\t  \t\t49.101796407185624%\n",
      "04/27 12:10:50 PM |\t  GABloss:\t6.73651123046875\n",
      "04/27 12:10:50 PM |\t  GBAloss:\t25.085922241210938\n",
      "04/27 12:10:50 PM |\t  a_decoded[:2]:['In common with the other Members, I call for Parliament to have codecision rights where competition law is concerned.', 'But a system cannot function in this way: it will only work if the two aspects go hand in hand.']\n",
      "04/27 12:10:50 PM |\t  pred_b_decoded[:2]:['I, like other colleagues, call for the European Parliament to adopt a codecision procedure in the field of competition law.', 'The Portuguese, however, cannot operate a system, but it is only a matter of cogeneration.']\n",
      "04/27 12:10:50 PM |\t  b_decoded[:2]:['Ich fordere genau wie die anderen Kollegen die Mitentscheidung des Europäischen Parlaments im Bereich des Wettbewerbsrechts.', 'Aber so kann ein System nicht funktionieren! Es geht nur in der Kopplung.']\n",
      "04/27 12:10:50 PM |\t  pred_a_decoded[:2]:['Portugiesisch-Portugiesisch: Wie die anderen Abgeordneten fordere ich das Parlament auf, die Mitentscheidungsrechte im Bereich des Wettbewerbsrechts zu haben.', 'Portugiesisch-Portugiesisch: Aber ein System kann nicht so funktionieren: es wird nur funktionieren, wenn die beiden Aspekte Hand in Hand gehen.']\n",
      "04/27 12:12:58 PM |\t  computing score...\n",
      "04/27 12:12:58 PM |\t  G_AB GAB sacreBLEU : 16.311815\n",
      "04/27 12:12:58 PM |\t  G_BA GBA sacreBLEU : 24.176450\n",
      "04/27 12:12:58 PM |\t  G_AB GAB test loss : 6.572308\n",
      "04/27 12:12:58 PM |\t  G_BA GBA test loss : 19.651691\n",
      "04/27 12:13:43 PM |\t  {'GB_cycle_meter': 9.561088041825728, 'GA_cycle_meter': 9.634410626960523, 'GAB_once_meter': 0.9304794976205537, 'GBA_once_meter': 0.9111875277577024, 'DA_meter': 0.006228597618632413, 'DB_meter': 0.01030320289304875}\n",
      "04/27 12:13:43 PM |\t  \t\t58.982035928143716%\n",
      "04/27 12:14:28 PM |\t  {'GB_cycle_meter': 9.574171268578732, 'GA_cycle_meter': 9.599127335981889, 'GAB_once_meter': 0.8962084632931333, 'GBA_once_meter': 0.9439344099073699, 'DA_meter': 0.012745844932258919, 'DB_meter': 0.010772764790365754}\n",
      "04/27 12:14:28 PM |\t  \t\t68.8622754491018%\n",
      "04/27 12:15:15 PM |\t  {'GB_cycle_meter': 9.576961083845658, 'GA_cycle_meter': 9.618908361955123, 'GAB_once_meter': 0.987250622474786, 'GBA_once_meter': 0.9539645187782518, 'DA_meter': 0.0037679255408213726, 'DB_meter': 0.0072215858398880246}\n",
      "04/27 12:15:15 PM |\t  \t\t78.74251497005989%\n",
      "04/27 12:16:00 PM |\t  {'GB_cycle_meter': 9.599471843603885, 'GA_cycle_meter': 9.60144196134625, 'GAB_once_meter': 0.9561088572848927, 'GBA_once_meter': 0.9707371213219382, 'DA_meter': 0.005002857059783612, 'DB_meter': 0.004828884202817624}\n",
      "04/27 12:16:00 PM |\t  \t\t88.62275449101796%\n",
      "04/27 12:16:45 PM |\t  {'GB_cycle_meter': 9.601251631072074, 'GA_cycle_meter': 9.63602401271011, 'GAB_once_meter': 0.9791250228881836, 'GBA_once_meter': 0.9339264035224915, 'DA_meter': 0.004032665833647391, 'DB_meter': 0.009233711666610994}\n",
      "04/27 12:16:45 PM |\t  \t\t98.50299401197606%\n",
      "04/27 12:16:54 PM |\t  GABloss:\t6.085745811462402\n",
      "04/27 12:16:54 PM |\t  GBAloss:\t22.253366470336914\n",
      "04/27 12:16:54 PM |\t  a_decoded[:2]:['However, we must be vigilant in the face of global operators, against whom nation-states are no longer able to impose limits.', 'I should like to make it clear that we have the greatest confidence in and respect for Commissioner Monti.']\n",
      "04/27 12:16:54 PM |\t  pred_b_decoded[:2]:[\"The Portuguese, however, must be able to be able to be able to be able to be able to be able to be able to be able to be able to be able to be able to do so in the face of the world's players, whose national-state action is no longer possible.\", 'I would like to make it clear that we have the greatest confidence in Mr Monti, who has our deepest respect.']\n",
      "04/27 12:16:54 PM |\t  b_decoded[:2]:['Wir müssen aber wachsam sein angesichts der weltweit operierenden Akteure, denen nationalstaatliches Handeln keine Grenzen mehr setzen kann.', 'Ich möchte klarstellen, daß wir größtes Vertrauen zu Herrn Monti haben, der unseren tiefsten Respekt genießt.']\n",
      "04/27 12:16:54 PM |\t  pred_a_decoded[:2]:['Portugiesisch', 'Portugiesisch: Ich möchte Herrn Kommissar Monti deutlich machen, dass wir das größte Vertrauen und den größten Respekt für Kommissar Monti haben.']\n"
     ]
    }
   ],
   "source": [
    "if(args.valid_begin==1):\n",
    "    my_test(valid_dataloader,cycleGAN,tokenizer,logging,wandb)\n",
    "total_iter = 0    \n",
    "for epoch in range(args.epochs):\n",
    "\n",
    "    logging.info(f\"\\n\\n  ----------------epoch:{epoch}----------------\")\n",
    "    my_train(train_dataloader,cycleGAN,total_iter,args,logging,valid_dataloader,tokenizer,wandb)\n",
    "    # my_test(valid_dataloader,cycleGAN,tokenizer,logging,wandb)\n",
    "    #TODO:cycgan.savemodel\n",
    "\n"
   ]
  },
  {
   "cell_type": "code",
   "execution_count": null,
   "metadata": {},
   "outputs": [],
   "source": []
  }
 ],
 "metadata": {
  "interpreter": {
   "hash": "65768f95ed3f1ad80799466926a66640b39a99ef5d94bbece814e59aa067606e"
  },
  "kernelspec": {
   "display_name": "Python 3.8.12 ('python38')",
   "language": "python",
   "name": "python3"
  },
  "language_info": {
   "codemirror_mode": {
    "name": "ipython",
    "version": 3
   },
   "file_extension": ".py",
   "mimetype": "text/x-python",
   "name": "python",
   "nbconvert_exporter": "python",
   "pygments_lexer": "ipython3",
   "version": "3.8.12"
  },
  "orig_nbformat": 4
 },
 "nbformat": 4,
 "nbformat_minor": 2
}
