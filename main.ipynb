{
 "cells": [
  {
   "cell_type": "code",
   "execution_count": 1,
   "metadata": {},
   "outputs": [],
   "source": [
    "\n",
    "import os\n",
    "os.getcwd() \n",
    "os.environ[\"TOKENIZERS_PARALLELISM\"] = \"false\"\n",
    "import warnings\n",
    "from test import *\n",
    "warnings.filterwarnings(\"ignore\")\n",
    "from datasets import load_dataset,load_metric\n",
    "from transformers import AutoTokenizer, AutoModelForSeq2SeqLM, pipeline\n",
    "import torch_optimizer as optim\n",
    "from transformers.optimization import Adafactor, AdafactorSchedule\n",
    "import torch.backends.cudnn as cudnn\n",
    "from utils import *\n",
    "from torch.utils.data import TensorDataset, DataLoader, RandomSampler, SequentialSampler, SubsetRandomSampler\n",
    "from torch.autograd import Variable\n",
    "import logging\n",
    "import sys\n",
    "import transformers\n",
    "from basic_model import *\n",
    "import time\n",
    "import argparse\n",
    "from tqdm import tqdm\n",
    "from torch.utils.tensorboard import SummaryWriter\n",
    "import string\n",
    "from cycle import *\n",
    "from train import *\n",
    "\n",
    "device = torch.device(\"cuda\" if torch.cuda.is_available() else \"cpu\")"
   ]
  },
  {
   "cell_type": "code",
   "execution_count": 2,
   "metadata": {},
   "outputs": [
    {
     "name": "stdout",
     "output_type": "stream",
     "text": [
      "args.test_iter 498\n",
      "args.rep_iter 99\n"
     ]
    }
   ],
   "source": [
    "if(True):\n",
    "    parser = argparse.ArgumentParser(\"main\")\n",
    "\n",
    "    parser.add_argument('--valid_num_points', type=int,             default = 200, help='validation data number')\n",
    "    parser.add_argument('--train_num_points', type=int,             default = 1000, help='train data number')\n",
    "\n",
    "    parser.add_argument('--batch_size', type=int,                   default=3,     help='Batch size')\n",
    "    parser.add_argument('--max_length', type=int,                   default=512,     help='max_length')\n",
    "\n",
    "    parser.add_argument('--gpu', type=int,                          default=0,      help='gpu device id')\n",
    "    parser.add_argument('--G_AB_model_name', type=str,              default='t5-small',      help='model_name')\n",
    "    parser.add_argument('--G_BA_model_name', type=str,              default='Onlydrinkwater/T5-small-de-en',      help='model_name')\n",
    "    parser.add_argument('--D_A_model_name', type=str,               default='t5-small',      help='model_name')\n",
    "    parser.add_argument('--D_B_model_name', type=str,               default='Onlydrinkwater/T5-small-de-en',      help='model_name')\n",
    "    parser.add_argument('--exp_name', type=str,                     default='CYCLE!',      help='experiment name')\n",
    "    parser.add_argument('--rep_num', type=int,                      default=25,      help='report times for 1 epoch')\n",
    "    parser.add_argument('--rep_iter', type=int,                     default=100,      help='report times for 1 epoch')\n",
    "    parser.add_argument('--test_iter', type=int,                    default=500,      help='report times for 1 epoch')\n",
    "    parser.add_argument('--test_num', type=int,                     default=4,      help='test times for 1 epoch')\n",
    "\n",
    "    parser.add_argument('--epochs', type=int,                       default=50,     help='num of training epochs')\n",
    "\n",
    "    parser.add_argument('--G_lr', type=float,                       default=0.00001,   help='learning rate for G')\n",
    "    parser.add_argument('--D_lr', type=float,                       default=0.00001,   help='learning rate for D')\n",
    "    parser.add_argument('--lambda_identity', type=float,            default=0.5,   help='')\n",
    "    parser.add_argument('--lambda_A', type=float,                   default=0.01,   help='')\n",
    "    parser.add_argument('--lambda_B', type=float,                   default=0.01,   help='')\n",
    "    parser.add_argument('--lambda_once', type=float,                default=0,   help='')\n",
    "    parser.add_argument('--smoothing', type=float,                  default=0.1,    help='labelsmoothing')\n",
    "\n",
    "\n",
    "    parser.add_argument('--valid_begin', type=int,                  default=1,      help='whether valid before train')\n",
    "    parser.add_argument('--train_G', type=int,                      default=1,      help='whether valid before train')\n",
    "    parser.add_argument('--train_D', type=int,                      default=1,      help='whether valid before train')\n",
    "    parser.add_argument('--D_pretrain_iter', type=int,              default=100,      help='whether valid before train')\n",
    "\n",
    "\n",
    "    args = parser.parse_args(args=[])#(args=['--batch_size', '8',  '--no_cuda'])#used in ipynb\n",
    "    args.test_iter = args.test_iter//args.batch_size * args.batch_size\n",
    "    args.rep_iter = args.rep_iter//args.batch_size * args.batch_size\n",
    "    print('args.test_iter',args.test_iter)\n",
    "    print('args.rep_iter',args.rep_iter)#1"
   ]
  },
  {
   "cell_type": "code",
   "execution_count": 3,
   "metadata": {},
   "outputs": [
    {
     "name": "stderr",
     "output_type": "stream",
     "text": [
      "Failed to detect the name of this notebook, you can set it manually with the WANDB_NOTEBOOK_NAME environment variable to enable code saving.\n",
      "\u001b[34m\u001b[1mwandb\u001b[0m: Currently logged in as: \u001b[33monlydrinkwater\u001b[0m (use `wandb login --relogin` to force relogin)\n"
     ]
    },
    {
     "data": {
      "text/html": [
       "wandb version 0.12.15 is available!  To upgrade, please run:\n",
       " $ pip install wandb --upgrade"
      ],
      "text/plain": [
       "<IPython.core.display.HTML object>"
      ]
     },
     "metadata": {},
     "output_type": "display_data"
    },
    {
     "data": {
      "text/html": [
       "Tracking run with wandb version 0.12.11"
      ],
      "text/plain": [
       "<IPython.core.display.HTML object>"
      ]
     },
     "metadata": {},
     "output_type": "display_data"
    },
    {
     "data": {
      "text/html": [
       "Run data is saved locally in <code>g:\\GitCode\\cycleMT\\wandb\\run-20220424_001858-bn06u8l3</code>"
      ],
      "text/plain": [
       "<IPython.core.display.HTML object>"
      ]
     },
     "metadata": {},
     "output_type": "display_data"
    },
    {
     "data": {
      "text/html": [
       "Syncing run <strong><a href=\"https://wandb.ai/onlydrinkwater/CYCLEGAN/runs/bn06u8l3\" target=\"_blank\">CYCLE!</a></strong> to <a href=\"https://wandb.ai/onlydrinkwater/CYCLEGAN\" target=\"_blank\">Weights & Biases</a> (<a href=\"https://wandb.me/run\" target=\"_blank\">docs</a>)<br/>"
      ],
      "text/plain": [
       "<IPython.core.display.HTML object>"
      ]
     },
     "metadata": {},
     "output_type": "display_data"
    },
    {
     "data": {
      "text/html": [
       "<button onClick=\"this.nextSibling.style.display='block';this.style.display='none';\">Display W&B run</button><iframe src=\"https://wandb.ai/onlydrinkwater/CYCLEGAN/runs/bn06u8l3?jupyter=true\" style=\"border:none;width:100%;height:420px;display:none;\"></iframe>"
      ],
      "text/plain": [
       "<wandb.sdk.wandb_run.Run at 0x255b00edfd0>"
      ]
     },
     "execution_count": 3,
     "metadata": {},
     "output_type": "execute_result"
    }
   ],
   "source": [
    "import wandb\n",
    "os.environ['WANDB_API_KEY']='a166474b1b7ad33a0549adaaec19a2f6d3f91d87'\n",
    "os.environ['WANDB_NAME']=args.exp_name\n",
    "wandb.init(project=\"CYCLEGAN\",config=args)"
   ]
  },
  {
   "cell_type": "code",
   "execution_count": 4,
   "metadata": {},
   "outputs": [
    {
     "name": "stdout",
     "output_type": "stream",
     "text": [
      "04/24 12:19:06 AM |\t  Namespace(D_A_model_name='t5-small', D_B_model_name='Onlydrinkwater/T5-small-de-en', D_lr=1e-05, D_pretrain_iter=100, G_AB_model_name='t5-small', G_BA_model_name='Onlydrinkwater/T5-small-de-en', G_lr=1e-05, batch_size=3, epochs=50, exp_name='CYCLE!', gpu=0, lambda_A=0.01, lambda_B=0.01, lambda_identity=0.5, lambda_once=0, max_length=512, rep_iter=99, rep_num=25, smoothing=0.1, test_iter=498, test_num=4, train_D=1, train_G=1, train_num_points=1000, valid_begin=1, valid_num_points=200)\n"
     ]
    }
   ],
   "source": [
    "#logging file\n",
    "now = time.strftime(\"%Y-%m-%d-%H_%M_%S\",time.localtime(time.time())) \n",
    "\n",
    "log_format = '%(asctime)s |\\t  %(message)s'\n",
    "logging.basicConfig(stream=sys.stdout, level=logging.INFO,\n",
    "    format=log_format, datefmt='%m/%d %I:%M:%S %p')\n",
    "fh = logging.FileHandler(os.path.join(\"./log/\", now+'.txt'),'w',encoding = \"UTF-8\")\n",
    "fh.setFormatter(logging.Formatter(log_format))\n",
    "logging.getLogger().addHandler(fh)\n",
    "logging.info(args)"
   ]
  },
  {
   "cell_type": "code",
   "execution_count": 5,
   "metadata": {},
   "outputs": [
    {
     "name": "stdout",
     "output_type": "stream",
     "text": [
      "04/24 12:19:11 AM |\t  Gmodelsize:60.506624MB\n",
      "04/24 12:19:11 AM |\t  Dmodelsize:60.506624MB\n"
     ]
    }
   ],
   "source": [
    "GABmodelname = args.G_AB_model_name\n",
    "GBAmodelname = args.G_BA_model_name\n",
    "DAmodelname = args.D_A_model_name\n",
    "DBmodelname = args.D_B_model_name\n",
    "GABpretrained  =  AutoModelForSeq2SeqLM.from_pretrained(GABmodelname)\n",
    "GBApretrained  =  AutoModelForSeq2SeqLM.from_pretrained(GBAmodelname)\n",
    "DApretrained  =  AutoModelForSeq2SeqLM.from_pretrained(DAmodelname)\n",
    "DBpretrained  =  AutoModelForSeq2SeqLM.from_pretrained(DBmodelname)\n",
    "logging.info(f'Gmodelsize:{count_parameters_in_MB(GABpretrained)}MB')\n",
    "logging.info(f'Dmodelsize:{count_parameters_in_MB(DApretrained)}MB')\n",
    "\n",
    "tokenizer = AutoTokenizer.from_pretrained(GABmodelname)\n",
    "# tokenizerBA = AutoTokenizer.from_pretrained(GBAmodelname)#its the same\n"
   ]
  },
  {
   "cell_type": "code",
   "execution_count": 6,
   "metadata": {},
   "outputs": [
    {
     "name": "stdout",
     "output_type": "stream",
     "text": [
      "04/24 12:19:15 AM |\t  Reusing dataset wmt16 (C:\\Users\\kevin\\.cache\\huggingface\\datasets\\wmt16\\de-en\\1.0.0\\0d9fb3e814712c785176ad8cdb9f465fbe6479000ee6546725db30ad8a8b5f8a)\n"
     ]
    },
    {
     "name": "stderr",
     "output_type": "stream",
     "text": [
      "100%|██████████| 3/3 [00:00<00:00,  5.75it/s]\n"
     ]
    }
   ],
   "source": [
    "dataset = load_dataset('wmt16','de-en')\n",
    "train = dataset['train']['translation'][:args.train_num_points]\n",
    "valid = dataset['train']['translation'][args.train_num_points:(args.train_num_points+args.valid_num_points)]\n",
    "\n",
    "\n",
    "train_data = get_Dataset_chaos(train, tokenizer,max_length=args.max_length)\n",
    "train_dataloader = DataLoader(train_data, sampler= RandomSampler(train_data), \n",
    "                        batch_size=args.batch_size, pin_memory=True, num_workers=2)\n",
    "valid_data = get_Dataset(valid, tokenizer,max_length=args.max_length)\n",
    "valid_dataloader = DataLoader(valid_data, sampler=RandomSampler(valid_data), \n",
    "                        batch_size=args.batch_size, pin_memory=True, num_workers=2)"
   ]
  },
  {
   "cell_type": "code",
   "execution_count": 7,
   "metadata": {},
   "outputs": [],
   "source": [
    "cycleGAN = CycleGAN(args,GABpretrained,GBApretrained,DApretrained,DBpretrained,tokenizer)"
   ]
  },
  {
   "cell_type": "code",
   "execution_count": 8,
   "metadata": {},
   "outputs": [
    {
     "name": "stdout",
     "output_type": "stream",
     "text": [
      "04/24 12:20:31 AM |\t  GABloss:\t7.751707553863525\n",
      "04/24 12:20:31 AM |\t  GBAloss:\t11.074665069580078\n",
      "04/24 12:20:31 AM |\t  a_decoded[:2]:['Finally, we, as British Conservatives, are looking for a change in direction, towards the development of an independent competition authority.', 'If this comes to nothing, then the government has to step in.']\n",
      "04/24 12:20:31 AM |\t  pred_b_decoded[:2]:['Finally, I would like to say that, as a British Conservative, we are seeking a change of direction, a development towards an independent competition authority.', 'If this commitment is misled, then the State must intervene.']\n",
      "04/24 12:20:31 AM |\t  b_decoded[:2]:['Lassen Sie mich abschließend feststellen, daß wir als britische Konservative eine Richtungsänderung anstreben, und zwar eine Entwicklung zu einer unabhängigen Wettbewerbsbehörde.', 'Mißlingt dieses Engagement, dann muß der Staat eingreifen.']\n",
      "04/24 12:20:31 AM |\t  pred_a_decoded[:2]:['Abschließend möchte ich sagen, dass wir als britische Konservative eine nderung in Richtung auf die Entwicklung einer unabhängigen Wettbewerbsbehörde suchen.', 'Portugiesisch: Wenn dies zu nichts kommt, dann muss die Regierung eingreifen.']\n",
      "04/24 12:22:18 AM |\t  computing score...\n",
      "04/24 12:22:18 AM |\t  G_AB GAB sacreBLEU : 20.912466\n",
      "04/24 12:22:18 AM |\t  G_BA GBA sacreBLEU : 28.513720\n",
      "04/24 12:22:18 AM |\t  G_AB GAB test loss : 7.781819\n",
      "04/24 12:22:18 AM |\t  G_BA GBA test loss : 12.043621\n",
      "04/24 12:22:18 AM |\t  \n",
      "\n",
      "  ----------------epoch:0----------------\n",
      "04/24 12:22:59 AM |\t  {'GB_cycle_meter': 0, 'GA_cycle_meter': 0, 'GAB_once_meter': 0, 'GBA_once_meter': 0, 'DA_meter': 0.43362115368698584, 'DB_meter': 0.5173720762585149}\n",
      "04/24 12:22:59 AM |\t  \t\t9.580838323353294%\n",
      "04/24 12:23:50 AM |\t  {'GB_cycle_meter': 9.560366746151086, 'GA_cycle_meter': 9.623678322994348, 'GAB_once_meter': 0.9355020216017058, 'GBA_once_meter': 0.9447036132668004, 'DA_meter': 0.38672219984459155, 'DB_meter': 0.4734333302035476}\n",
      "04/24 12:23:50 AM |\t  \t\t19.46107784431138%\n",
      "04/24 12:24:41 AM |\t  {'GB_cycle_meter': 9.577393994186863, 'GA_cycle_meter': 9.619118863886053, 'GAB_once_meter': 0.9055803309787404, 'GBA_once_meter': 0.912891918962652, 'DA_meter': 0.3465926240790974, 'DB_meter': 0.4349521172769142}\n",
      "04/24 12:24:41 AM |\t  \t\t29.34131736526946%\n",
      "04/24 12:25:33 AM |\t  {'GB_cycle_meter': 9.58739878914573, 'GA_cycle_meter': 9.604458317612156, 'GAB_once_meter': 0.8713190248518279, 'GBA_once_meter': 0.8979312922015334, 'DA_meter': 0.31315143270926044, 'DB_meter': 0.3980963591373328}\n",
      "04/24 12:25:33 AM |\t  \t\t39.221556886227546%\n",
      "04/24 12:26:24 AM |\t  {'GB_cycle_meter': 9.585186149134781, 'GA_cycle_meter': 9.623818628715746, 'GAB_once_meter': 0.8666622765136488, 'GBA_once_meter': 0.8688585451154998, 'DA_meter': 0.28002588270288525, 'DB_meter': 0.3660750949021542}\n",
      "04/24 12:26:24 AM |\t  \t\t49.101796407185624%\n",
      "04/24 12:26:32 AM |\t  GABloss:\t8.225838661193848\n",
      "04/24 12:26:32 AM |\t  GBAloss:\t14.639988899230957\n",
      "04/24 12:26:32 AM |\t  a_decoded[:2]:['Commissioner Monti and his colleagues have a tremendous challenge ahead of them and our worries in the ELDR Group are that there should be no weakening in the thrust of competition policy either in the examination of mergers or the monitoring of restrictive practices.', 'If we want there to be competition then we must establish this link between the requirements of the national economy and the pre-requisites of managerial economics.']\n",
      "04/24 12:26:32 AM |\t  pred_b_decoded[:2]:['Mr Monti and his colleagues are facing a huge task, and we in the Group of the European Liberal, Democrat and Reform Party believe that competition policy must be safeguarded with regard to the investigation of mergers or the monitoring of restrictive behaviour.', 'If we want to have competition, we have to fight this division between the economic needs and the economic conditions.']\n",
      "04/24 12:26:32 AM |\t  b_decoded[:2]:['Kommissionsmitglied Monti und seine Kollegen stehen vor einer gigantischen Aufgabe, und wir in der ELDR-Fraktion meinen, daß die Schlagkraft der Wettbewerbspolitik in bezug auf die Untersuchung von Fusionen oder die Überwachung von wettbewerbsbeschränkendem Verhalten bewahrt werden muß.', 'Wenn wir Wettbewerb haben wollen, dann müssen wir diese Kopplung zwischen den volkswirtschaftlichen Notwendigkeiten und den betriebswirtschaftlichen Voraussetzungen hinkriegen.']\n",
      "04/24 12:26:32 AM |\t  pred_a_decoded[:2]:['Herr Kommissar Monti und seine Kollegen haben eine große Herausforderung vor sich, und unsere Bedenken in der ELDR-Fraktion sind, dass es weder bei der Prüfung von Fusionen noch bei der Überwachung restriktiver Praktiken eine Schwächung der Wettbewerbspolitik geben sollte.', 'Wenn wir wollen, daß es Wettbewerb gibt, dann müssen wir diese Verbindung zwischen den Erfordernissen der nationalen Wirtschaft und den Voraussetzungen für die Führungswirtschaft herstellen.']\n",
      "04/24 12:28:20 AM |\t  computing score...\n",
      "04/24 12:28:20 AM |\t  G_AB GAB sacreBLEU : 21.201845\n",
      "04/24 12:28:20 AM |\t  G_BA GBA sacreBLEU : 28.621222\n",
      "04/24 12:28:20 AM |\t  G_AB GAB test loss : 8.305582\n",
      "04/24 12:28:20 AM |\t  G_BA GBA test loss : 12.451323\n",
      "04/24 12:29:09 AM |\t  {'GB_cycle_meter': 9.590044368397106, 'GA_cycle_meter': 9.632095741503166, 'GAB_once_meter': 0.8407716769160647, 'GBA_once_meter': 0.8475658116918622, 'DA_meter': 0.24817991076093732, 'DB_meter': 0.3343642868778922}\n",
      "04/24 12:29:09 AM |\t  \t\t58.982035928143716%\n",
      "04/24 12:29:57 AM |\t  {'GB_cycle_meter': 9.59466197273948, 'GA_cycle_meter': 9.613016186338482, 'GAB_once_meter': 0.81424347559611, 'GBA_once_meter': 0.8346743673989268, 'DA_meter': 0.21713251959193836, 'DB_meter': 0.3014557325478756}\n",
      "04/24 12:29:57 AM |\t  \t\t68.8622754491018%\n",
      "04/24 12:30:47 AM |\t  {'GB_cycle_meter': 9.585474794561213, 'GA_cycle_meter': 9.609158111341072, 'GAB_once_meter': 0.8105437285972364, 'GBA_once_meter': 0.8106675762118716, 'DA_meter': 0.19096679308197714, 'DB_meter': 0.27268821633223334}\n",
      "04/24 12:30:47 AM |\t  \t\t78.74251497005989%\n",
      "04/24 12:31:35 AM |\t  {'GB_cycle_meter': 9.578981283939246, 'GA_cycle_meter': 9.666327071912361, 'GAB_once_meter': 0.7931895382476576, 'GBA_once_meter': 0.7963984717022289, 'DA_meter': 0.1612367503570788, 'DB_meter': 0.2589009173891761}\n",
      "04/24 12:31:35 AM |\t  \t\t88.62275449101796%\n",
      "04/24 12:32:24 AM |\t  {'GB_cycle_meter': 9.585041826421564, 'GA_cycle_meter': 9.581450462341309, 'GAB_once_meter': 0.7843612468603886, 'GBA_once_meter': 0.7821120493339769, 'DA_meter': 0.142679773496859, 'DB_meter': 0.21693179327430148}\n",
      "04/24 12:32:24 AM |\t  \t\t98.50299401197606%\n",
      "04/24 12:32:32 AM |\t  GABloss:\t9.478148460388184\n",
      "04/24 12:32:32 AM |\t  GBAloss:\t11.038116455078125\n",
      "04/24 12:32:32 AM |\t  a_decoded[:2]:['I should like to make it clear that we have the greatest confidence in and respect for Commissioner Monti.', 'I am opposed to this, unlike the majority of this House and indeed the majority of my own group, because I believe that, in competition policy terms, the directly applicable exception system is in every sense inferior to a system of prohibition unless certain conditions are met, and I believe there is a threat of renationalisation.']\n",
      "04/24 12:32:32 AM |\t  pred_b_decoded[:2]:['I would like to make it clear that we have the greatest confidence in Mr Monti, who has our deepest respect.', 'I am opposed to this, unlike the majority of this House and also the majority of my own group, because I believe that the system of legal adoption, a system of prohibition with administrative resources, is clearly a signatory to competition policy and I see the danger of renationalisation.']\n",
      "04/24 12:32:32 AM |\t  b_decoded[:2]:['Ich möchte klarstellen, daß wir größtes Vertrauen zu Herrn Monti haben, der unseren tiefsten Respekt genießt.', 'Ich wende mich dagegen im Gegensatz zur Mehrheit dieses Hauses und auch zur Mehrheit meiner eigenen Fraktion, weil ich der Meinung bin, daß das System der Legalausnahme, ein System des Verbots mit Administrativvorbehalt wettbewerbspolitisch deutlich unterlegen ist und ich die Gefahr einer Renationalisierung sehe.']\n",
      "04/24 12:32:32 AM |\t  pred_a_decoded[:2]:['Portugalien möchte ich klarstellen, dass wir das größte Vertrauen und den größten Respekt für Kommissar Monti haben.', 'Ich bin dagegen, im Gegensatz zu der Mehrheit dieses Hauses und der Mehrheit meiner Fraktion, denn ich glaube, dass das direkt anwendbare Ausnahmesystem in jeder Hinsicht unter einem System des Verbots liegt, sofern nicht bestimmte Bedingungen erfüllt sind, und ich glaube, dass es eine Gefahr der Renationalisierung gibt.']\n",
      "04/24 12:34:19 AM |\t  computing score...\n",
      "04/24 12:34:19 AM |\t  G_AB GAB sacreBLEU : 20.717920\n",
      "04/24 12:34:19 AM |\t  G_BA GBA sacreBLEU : 28.812611\n",
      "04/24 12:34:19 AM |\t  G_AB GAB test loss : 9.218441\n",
      "04/24 12:34:19 AM |\t  G_BA GBA test loss : 13.276797\n",
      "04/24 12:34:22 AM |\t  \n",
      "\n",
      "  ----------------epoch:1----------------\n",
      "04/24 12:35:01 AM |\t  {'GB_cycle_meter': 9.598570585250854, 'GA_cycle_meter': 9.640268087387085, 'GAB_once_meter': 0.7467546314001083, 'GBA_once_meter': 0.7950347065925598, 'DA_meter': 0.12567733429573677, 'DB_meter': 0.1969844980819805}\n",
      "04/24 12:35:01 AM |\t  \t\t9.580838323353294%\n",
      "04/24 12:35:53 AM |\t  {'GB_cycle_meter': 9.575710498925412, 'GA_cycle_meter': 9.621503829956055, 'GAB_once_meter': 0.7645868975104708, 'GBA_once_meter': 0.7392518719037374, 'DA_meter': 0.10377346611384189, 'DB_meter': 0.18092324020284595}\n",
      "04/24 12:35:53 AM |\t  \t\t19.46107784431138%\n",
      "04/24 12:36:43 AM |\t  {'GB_cycle_meter': 9.579510486487186, 'GA_cycle_meter': 9.626904978896633, 'GAB_once_meter': 0.7367273036277655, 'GBA_once_meter': 0.7252562461477338, 'DA_meter': 0.09449737281961874, 'DB_meter': 0.16575620978167563}\n",
      "04/24 12:36:43 AM |\t  \t\t29.34131736526946%\n",
      "04/24 12:37:34 AM |\t  {'GB_cycle_meter': 9.59033289822665, 'GA_cycle_meter': 9.628167614792332, 'GAB_once_meter': 0.7511790087728789, 'GBA_once_meter': 0.728448414441311, 'DA_meter': 0.08165238639622023, 'DB_meter': 0.1466154663851767}\n",
      "04/24 12:37:34 AM |\t  \t\t39.221556886227546%\n",
      "04/24 12:38:25 AM |\t  {'GB_cycle_meter': 9.584320386250814, 'GA_cycle_meter': 9.619750196283514, 'GAB_once_meter': 0.7758736700722666, 'GBA_once_meter': 0.7195844722516609, 'DA_meter': 0.06500628963112831, 'DB_meter': 0.13254261445818524}\n",
      "04/24 12:38:25 AM |\t  \t\t49.101796407185624%\n",
      "04/24 12:38:32 AM |\t  GABloss:\t9.600570678710938\n",
      "04/24 12:38:32 AM |\t  GBAloss:\t16.35978889465332\n",
      "04/24 12:38:32 AM |\t  a_decoded[:2]:['If the Commission implements the White Paper objectives, it seems to me that discrimination within the internal market and between external and internal legal advisers will become more pronounced and hence even less acceptable.', 'I know that the Commission is set against this, but the potential exists.']\n",
      "04/24 12:38:32 AM |\t  pred_b_decoded[:2]:['If the Commission implements its projects in the White Paper, discrimination in the internal market and between external and internal legal advisers should increase and therefore be even less acceptable.', 'I know that the Commission thinks quite differently, but that is a danger.']\n",
      "04/24 12:38:32 AM |\t  b_decoded[:2]:['Sollte die Kommission ihre Vorhaben aus dem Weißbuch umsetzen, dann dürfte die Diskriminierung im Binnenmarkt und zwischen den externen und internen Rechtsberatern zunehmen und damit noch weniger hinnehmbar sein.', 'Ich weiß, daß die Kommission ganz anders denkt, dennoch besteht diese Gefahr.']\n",
      "04/24 12:38:32 AM |\t  pred_a_decoded[:2]:['Portugalien verwirklicht die Ziele des Weißbuchs, so scheint es mir, dass die Diskriminierung innerhalb des Binnenmarktes und zwischen externen und internen Rechtsberatern ausgeprägter und damit noch weniger akzeptabel wird.', 'Ich weiß, dass die Kommission dagegen ist, aber das Potenzial besteht.']\n",
      "04/24 12:40:24 AM |\t  computing score...\n",
      "04/24 12:40:24 AM |\t  G_AB GAB sacreBLEU : 20.371449\n",
      "04/24 12:40:24 AM |\t  G_BA GBA sacreBLEU : 28.694083\n",
      "04/24 12:40:24 AM |\t  G_AB GAB test loss : 9.894067\n",
      "04/24 12:40:24 AM |\t  G_BA GBA test loss : 13.779095\n",
      "04/24 12:41:10 AM |\t  {'GB_cycle_meter': 9.601684512514057, 'GA_cycle_meter': 9.625011126200357, 'GAB_once_meter': 0.7433872259024418, 'GBA_once_meter': 0.7053301840117483, 'DA_meter': 0.06149972839788957, 'DB_meter': 0.11651733066096451}\n",
      "04/24 12:41:10 AM |\t  \t\t58.982035928143716%\n",
      "04/24 12:41:58 AM |\t  {'GB_cycle_meter': 9.587302554737438, 'GA_cycle_meter': 9.619118834986832, 'GAB_once_meter': 0.7662168181303776, 'GBA_once_meter': 0.7060002007267692, 'DA_meter': 0.054008078168738975, 'DB_meter': 0.10484850090561491}\n",
      "04/24 12:41:58 AM |\t  \t\t68.8622754491018%\n",
      "04/24 12:42:46 AM |\t  {'GB_cycle_meter': 9.583550742178252, 'GA_cycle_meter': 9.601652521075625, 'GAB_once_meter': 0.7510848785891677, 'GBA_once_meter': 0.7180949774655428, 'DA_meter': 0.04470376359919707, 'DB_meter': 0.08726635349519325}\n",
      "04/24 12:42:46 AM |\t  \t\t78.74251497005989%\n",
      "04/24 12:43:34 AM |\t  {'GB_cycle_meter': 9.575710556723855, 'GA_cycle_meter': 9.625221541433623, 'GAB_once_meter': 0.7998358824036338, 'GBA_once_meter': 0.6942381786577629, 'DA_meter': 0.03823413332980691, 'DB_meter': 0.08335211748878162}\n",
      "04/24 12:43:34 AM |\t  \t\t88.62275449101796%\n",
      "04/24 12:44:21 AM |\t  {'GB_cycle_meter': 9.594132856889205, 'GA_cycle_meter': 9.600951079166297, 'GAB_once_meter': 0.761897881825765, 'GBA_once_meter': 0.7036397457122803, 'DA_meter': 0.046594280298009064, 'DB_meter': 0.07657270833398357}\n",
      "04/24 12:44:21 AM |\t  \t\t98.50299401197606%\n",
      "04/24 12:44:30 AM |\t  GABloss:\t12.136083602905273\n",
      "04/24 12:44:30 AM |\t  GBAloss:\t13.971742630004883\n",
      "04/24 12:44:30 AM |\t  a_decoded[:2]:['I also agree with the criticism that no emphasis has been put on the implementation of Article 82, especially when we are witnessing abusive conduct in a context of market concentration.', 'A reform of this point was therefore also necessary.']\n",
      "04/24 12:44:30 AM |\t  pred_b_decoded[:2]:['I also share the criticism that there has not been sufficient emphasis on the development of Article 82, especially in view of the abuses we are witnessing in relation to market concentration.', 'It was therefore also necessary to reform this point.']\n",
      "04/24 12:44:30 AM |\t  b_decoded[:2]:['Ich teile auch die Kritik, daß nicht genügend Nachdruck auf die Entwicklung des Artikels 82 gelegt wurde, vor allem angesichts der mißbräuchlichen Verhaltensweisen, die wir im Zusammenhang mit der Marktkonzentration beobachten.', 'Eine Reform dieses Punktes war daher ebenfalls erforderlich.']\n",
      "04/24 12:44:30 AM |\t  pred_a_decoded[:2]:['Ich stimme auch der Kritik zu, dass die Umsetzung von Artikel 82 nicht betont wurde, insbesondere wenn wir Zeugen missbräuchlicher Handlungen in einem Kontext der Marktkonzentration sind.', 'Portugalien war daher auch eine Reform dieses Punktes erforderlich.']\n"
     ]
    },
    {
     "ename": "KeyboardInterrupt",
     "evalue": "",
     "output_type": "error",
     "traceback": [
      "\u001b[1;31m---------------------------------------------------------------------------\u001b[0m",
      "\u001b[1;31mKeyboardInterrupt\u001b[0m                         Traceback (most recent call last)",
      "\u001b[1;32m~\\AppData\\Local\\Temp/ipykernel_331252/3939261347.py\u001b[0m in \u001b[0;36m<module>\u001b[1;34m\u001b[0m\n\u001b[0;32m      5\u001b[0m \u001b[1;33m\u001b[0m\u001b[0m\n\u001b[0;32m      6\u001b[0m     \u001b[0mlogging\u001b[0m\u001b[1;33m.\u001b[0m\u001b[0minfo\u001b[0m\u001b[1;33m(\u001b[0m\u001b[1;34mf\"\\n\\n  ----------------epoch:{epoch}----------------\"\u001b[0m\u001b[1;33m)\u001b[0m\u001b[1;33m\u001b[0m\u001b[1;33m\u001b[0m\u001b[0m\n\u001b[1;32m----> 7\u001b[1;33m     \u001b[0mmy_train\u001b[0m\u001b[1;33m(\u001b[0m\u001b[0mtrain_dataloader\u001b[0m\u001b[1;33m,\u001b[0m\u001b[0mcycleGAN\u001b[0m\u001b[1;33m,\u001b[0m\u001b[0mtotal_iter\u001b[0m\u001b[1;33m,\u001b[0m\u001b[0margs\u001b[0m\u001b[1;33m,\u001b[0m\u001b[0mlogging\u001b[0m\u001b[1;33m,\u001b[0m\u001b[0mvalid_dataloader\u001b[0m\u001b[1;33m,\u001b[0m\u001b[0mtokenizer\u001b[0m\u001b[1;33m,\u001b[0m\u001b[0mwandb\u001b[0m\u001b[1;33m)\u001b[0m\u001b[1;33m\u001b[0m\u001b[1;33m\u001b[0m\u001b[0m\n\u001b[0m\u001b[0;32m      8\u001b[0m     \u001b[1;31m# my_test(valid_dataloader,cycleGAN,tokenizer,logging,wandb)\u001b[0m\u001b[1;33m\u001b[0m\u001b[1;33m\u001b[0m\u001b[1;33m\u001b[0m\u001b[0m\n\u001b[0;32m      9\u001b[0m     \u001b[1;31m#TODO:cycgan.savemodel\u001b[0m\u001b[1;33m\u001b[0m\u001b[1;33m\u001b[0m\u001b[1;33m\u001b[0m\u001b[0m\n",
      "\u001b[1;32mg:\\GitCode\\cycleMT\\train.py\u001b[0m in \u001b[0;36mmy_train\u001b[1;34m(loader, model, total_iter, args, logging, valid_loader, tokenizer, wandb)\u001b[0m\n\u001b[0;32m     23\u001b[0m             \u001b[0mwandb\u001b[0m\u001b[1;33m.\u001b[0m\u001b[0mlog\u001b[0m\u001b[1;33m(\u001b[0m\u001b[0mloss_dict\u001b[0m\u001b[1;33m)\u001b[0m\u001b[1;33m\u001b[0m\u001b[1;33m\u001b[0m\u001b[0m\n\u001b[0;32m     24\u001b[0m         \u001b[1;32mif\u001b[0m\u001b[1;33m(\u001b[0m\u001b[0mtotal_iter\u001b[0m\u001b[1;33m%\u001b[0m\u001b[0margs\u001b[0m\u001b[1;33m.\u001b[0m\u001b[0mtest_iter\u001b[0m \u001b[1;33m==\u001b[0m \u001b[1;36m0\u001b[0m \u001b[1;32mand\u001b[0m \u001b[0mtotal_iter\u001b[0m\u001b[1;33m>\u001b[0m\u001b[0margs\u001b[0m\u001b[1;33m.\u001b[0m\u001b[0mD_pretrain_iter\u001b[0m\u001b[1;33m)\u001b[0m\u001b[1;33m:\u001b[0m\u001b[1;33m\u001b[0m\u001b[1;33m\u001b[0m\u001b[0m\n\u001b[1;32m---> 25\u001b[1;33m             \u001b[0mmy_test\u001b[0m\u001b[1;33m(\u001b[0m\u001b[0mvalid_loader\u001b[0m\u001b[1;33m,\u001b[0m\u001b[0mmodel\u001b[0m\u001b[1;33m,\u001b[0m\u001b[0mtokenizer\u001b[0m\u001b[1;33m,\u001b[0m\u001b[0mlogging\u001b[0m\u001b[1;33m,\u001b[0m\u001b[0mwandb\u001b[0m\u001b[1;33m)\u001b[0m\u001b[1;33m\u001b[0m\u001b[1;33m\u001b[0m\u001b[0m\n\u001b[0m",
      "\u001b[1;32m~\\miniconda3\\envs\\python38\\lib\\site-packages\\torch\\autograd\\grad_mode.py\u001b[0m in \u001b[0;36mdecorate_context\u001b[1;34m(*args, **kwargs)\u001b[0m\n\u001b[0;32m     26\u001b[0m         \u001b[1;32mdef\u001b[0m \u001b[0mdecorate_context\u001b[0m\u001b[1;33m(\u001b[0m\u001b[1;33m*\u001b[0m\u001b[0margs\u001b[0m\u001b[1;33m,\u001b[0m \u001b[1;33m**\u001b[0m\u001b[0mkwargs\u001b[0m\u001b[1;33m)\u001b[0m\u001b[1;33m:\u001b[0m\u001b[1;33m\u001b[0m\u001b[1;33m\u001b[0m\u001b[0m\n\u001b[0;32m     27\u001b[0m             \u001b[1;32mwith\u001b[0m \u001b[0mself\u001b[0m\u001b[1;33m.\u001b[0m\u001b[0m__class__\u001b[0m\u001b[1;33m(\u001b[0m\u001b[1;33m)\u001b[0m\u001b[1;33m:\u001b[0m\u001b[1;33m\u001b[0m\u001b[1;33m\u001b[0m\u001b[0m\n\u001b[1;32m---> 28\u001b[1;33m                 \u001b[1;32mreturn\u001b[0m \u001b[0mfunc\u001b[0m\u001b[1;33m(\u001b[0m\u001b[1;33m*\u001b[0m\u001b[0margs\u001b[0m\u001b[1;33m,\u001b[0m \u001b[1;33m**\u001b[0m\u001b[0mkwargs\u001b[0m\u001b[1;33m)\u001b[0m\u001b[1;33m\u001b[0m\u001b[1;33m\u001b[0m\u001b[0m\n\u001b[0m\u001b[0;32m     29\u001b[0m         \u001b[1;32mreturn\u001b[0m \u001b[0mcast\u001b[0m\u001b[1;33m(\u001b[0m\u001b[0mF\u001b[0m\u001b[1;33m,\u001b[0m \u001b[0mdecorate_context\u001b[0m\u001b[1;33m)\u001b[0m\u001b[1;33m\u001b[0m\u001b[1;33m\u001b[0m\u001b[0m\n\u001b[0;32m     30\u001b[0m \u001b[1;33m\u001b[0m\u001b[0m\n",
      "\u001b[1;32mg:\\GitCode\\cycleMT\\test.py\u001b[0m in \u001b[0;36mmy_test\u001b[1;34m(loader, model, tokenizer, logging, wandb)\u001b[0m\n\u001b[0;32m     33\u001b[0m \u001b[1;33m\u001b[0m\u001b[0m\n\u001b[0;32m     34\u001b[0m         \u001b[0ma_generate\u001b[0m \u001b[1;33m=\u001b[0m \u001b[0mGAB\u001b[0m\u001b[1;33m.\u001b[0m\u001b[0mtest_generate\u001b[0m\u001b[1;33m(\u001b[0m\u001b[0ma\u001b[0m\u001b[1;33m)\u001b[0m\u001b[1;33m\u001b[0m\u001b[1;33m\u001b[0m\u001b[0m\n\u001b[1;32m---> 35\u001b[1;33m         \u001b[0mb_generate\u001b[0m  \u001b[1;33m=\u001b[0m \u001b[0mGBA\u001b[0m\u001b[1;33m.\u001b[0m\u001b[0mtest_generate\u001b[0m\u001b[1;33m(\u001b[0m\u001b[0mb\u001b[0m\u001b[1;33m)\u001b[0m\u001b[1;33m\u001b[0m\u001b[1;33m\u001b[0m\u001b[0m\n\u001b[0m\u001b[0;32m     36\u001b[0m \u001b[1;33m\u001b[0m\u001b[0m\n\u001b[0;32m     37\u001b[0m         \u001b[0ma_label_decoded\u001b[0m \u001b[1;33m=\u001b[0m \u001b[0mtokenizer\u001b[0m\u001b[1;33m.\u001b[0m\u001b[0mbatch_decode\u001b[0m\u001b[1;33m(\u001b[0m\u001b[0ma\u001b[0m\u001b[1;33m,\u001b[0m\u001b[0mskip_special_tokens\u001b[0m\u001b[1;33m=\u001b[0m\u001b[1;32mTrue\u001b[0m\u001b[1;33m)\u001b[0m\u001b[1;33m\u001b[0m\u001b[1;33m\u001b[0m\u001b[0m\n",
      "\u001b[1;32mg:\\GitCode\\cycleMT\\basic_model.py\u001b[0m in \u001b[0;36mtest_generate\u001b[1;34m(self, x, num_beams, max_length)\u001b[0m\n\u001b[0;32m    111\u001b[0m         \u001b[0mprefix\u001b[0m \u001b[1;33m=\u001b[0m \u001b[0mself\u001b[0m\u001b[1;33m.\u001b[0m\u001b[0mtokenzied_prefix\u001b[0m\u001b[1;33m.\u001b[0m\u001b[0mrepeat\u001b[0m\u001b[1;33m(\u001b[0m\u001b[0mx\u001b[0m\u001b[1;33m.\u001b[0m\u001b[0mshape\u001b[0m\u001b[1;33m[\u001b[0m\u001b[1;36m0\u001b[0m\u001b[1;33m]\u001b[0m\u001b[1;33m,\u001b[0m\u001b[1;36m1\u001b[0m\u001b[1;33m)\u001b[0m\u001b[1;33m.\u001b[0m\u001b[0mcuda\u001b[0m\u001b[1;33m(\u001b[0m\u001b[1;33m)\u001b[0m\u001b[1;33m\u001b[0m\u001b[1;33m\u001b[0m\u001b[0m\n\u001b[0;32m    112\u001b[0m         \u001b[0mx\u001b[0m \u001b[1;33m=\u001b[0m \u001b[0mtorch\u001b[0m\u001b[1;33m.\u001b[0m\u001b[0mhstack\u001b[0m\u001b[1;33m(\u001b[0m\u001b[1;33m(\u001b[0m\u001b[0mprefix\u001b[0m\u001b[1;33m,\u001b[0m\u001b[0mx\u001b[0m\u001b[1;33m)\u001b[0m\u001b[1;33m)\u001b[0m\u001b[1;33m\u001b[0m\u001b[1;33m\u001b[0m\u001b[0m\n\u001b[1;32m--> 113\u001b[1;33m         \u001b[0moutput_ids\u001b[0m \u001b[1;33m=\u001b[0m \u001b[0mself\u001b[0m\u001b[1;33m.\u001b[0m\u001b[0mmodel\u001b[0m\u001b[1;33m.\u001b[0m\u001b[0mgenerate\u001b[0m\u001b[1;33m(\u001b[0m \u001b[0minput_ids\u001b[0m \u001b[1;33m=\u001b[0m \u001b[0mx\u001b[0m\u001b[1;33m,\u001b[0m \u001b[0mnum_beams\u001b[0m \u001b[1;33m=\u001b[0m \u001b[0mnum_beams\u001b[0m\u001b[1;33m,\u001b[0m \u001b[0mearly_stopping\u001b[0m \u001b[1;33m=\u001b[0m \u001b[1;32mTrue\u001b[0m\u001b[1;33m,\u001b[0m \u001b[0mmax_length\u001b[0m \u001b[1;33m=\u001b[0m \u001b[0mmax_length\u001b[0m\u001b[1;33m,\u001b[0m \u001b[0mlength_penalty\u001b[0m \u001b[1;33m=\u001b[0m\u001b[1;36m0.6\u001b[0m\u001b[1;33m,\u001b[0m \u001b[0mrepetition_penalty\u001b[0m \u001b[1;33m=\u001b[0m \u001b[1;36m0.8\u001b[0m\u001b[1;33m)\u001b[0m\u001b[1;33m\u001b[0m\u001b[1;33m\u001b[0m\u001b[0m\n\u001b[0m\u001b[0;32m    114\u001b[0m         \u001b[1;32mreturn\u001b[0m \u001b[0moutput_ids\u001b[0m\u001b[1;33m\u001b[0m\u001b[1;33m\u001b[0m\u001b[0m\n\u001b[0;32m    115\u001b[0m     \u001b[1;32mdef\u001b[0m \u001b[0mforward\u001b[0m\u001b[1;33m(\u001b[0m\u001b[0mself\u001b[0m\u001b[1;33m,\u001b[0m \u001b[0minput_ids\u001b[0m\u001b[1;33m,\u001b[0m \u001b[0minput_attn\u001b[0m\u001b[1;33m,\u001b[0m \u001b[0mtarget_ids\u001b[0m \u001b[1;33m=\u001b[0m \u001b[1;32mNone\u001b[0m\u001b[1;33m,\u001b[0m \u001b[0mtarget_attn\u001b[0m \u001b[1;33m=\u001b[0m \u001b[1;32mNone\u001b[0m\u001b[1;33m)\u001b[0m\u001b[1;33m:\u001b[0m\u001b[1;33m\u001b[0m\u001b[1;33m\u001b[0m\u001b[0m\n",
      "\u001b[1;32m~\\miniconda3\\envs\\python38\\lib\\site-packages\\torch\\autograd\\grad_mode.py\u001b[0m in \u001b[0;36mdecorate_context\u001b[1;34m(*args, **kwargs)\u001b[0m\n\u001b[0;32m     26\u001b[0m         \u001b[1;32mdef\u001b[0m \u001b[0mdecorate_context\u001b[0m\u001b[1;33m(\u001b[0m\u001b[1;33m*\u001b[0m\u001b[0margs\u001b[0m\u001b[1;33m,\u001b[0m \u001b[1;33m**\u001b[0m\u001b[0mkwargs\u001b[0m\u001b[1;33m)\u001b[0m\u001b[1;33m:\u001b[0m\u001b[1;33m\u001b[0m\u001b[1;33m\u001b[0m\u001b[0m\n\u001b[0;32m     27\u001b[0m             \u001b[1;32mwith\u001b[0m \u001b[0mself\u001b[0m\u001b[1;33m.\u001b[0m\u001b[0m__class__\u001b[0m\u001b[1;33m(\u001b[0m\u001b[1;33m)\u001b[0m\u001b[1;33m:\u001b[0m\u001b[1;33m\u001b[0m\u001b[1;33m\u001b[0m\u001b[0m\n\u001b[1;32m---> 28\u001b[1;33m                 \u001b[1;32mreturn\u001b[0m \u001b[0mfunc\u001b[0m\u001b[1;33m(\u001b[0m\u001b[1;33m*\u001b[0m\u001b[0margs\u001b[0m\u001b[1;33m,\u001b[0m \u001b[1;33m**\u001b[0m\u001b[0mkwargs\u001b[0m\u001b[1;33m)\u001b[0m\u001b[1;33m\u001b[0m\u001b[1;33m\u001b[0m\u001b[0m\n\u001b[0m\u001b[0;32m     29\u001b[0m         \u001b[1;32mreturn\u001b[0m \u001b[0mcast\u001b[0m\u001b[1;33m(\u001b[0m\u001b[0mF\u001b[0m\u001b[1;33m,\u001b[0m \u001b[0mdecorate_context\u001b[0m\u001b[1;33m)\u001b[0m\u001b[1;33m\u001b[0m\u001b[1;33m\u001b[0m\u001b[0m\n\u001b[0;32m     30\u001b[0m \u001b[1;33m\u001b[0m\u001b[0m\n",
      "\u001b[1;32m~\\miniconda3\\envs\\python38\\lib\\site-packages\\transformers\\generation_utils.py\u001b[0m in \u001b[0;36mgenerate\u001b[1;34m(self, inputs, max_length, min_length, do_sample, early_stopping, num_beams, temperature, top_k, top_p, typical_p, repetition_penalty, bad_words_ids, force_words_ids, bos_token_id, pad_token_id, eos_token_id, length_penalty, no_repeat_ngram_size, encoder_no_repeat_ngram_size, num_return_sequences, max_time, max_new_tokens, decoder_start_token_id, use_cache, num_beam_groups, diversity_penalty, prefix_allowed_tokens_fn, logits_processor, stopping_criteria, constraints, output_attentions, output_hidden_states, output_scores, return_dict_in_generate, forced_bos_token_id, forced_eos_token_id, remove_invalid_values, synced_gpus, exponential_decay_length_penalty, **model_kwargs)\u001b[0m\n\u001b[0;32m   1313\u001b[0m             )\n\u001b[0;32m   1314\u001b[0m             \u001b[1;31m# 12. run beam search\u001b[0m\u001b[1;33m\u001b[0m\u001b[1;33m\u001b[0m\u001b[1;33m\u001b[0m\u001b[0m\n\u001b[1;32m-> 1315\u001b[1;33m             return self.beam_search(\n\u001b[0m\u001b[0;32m   1316\u001b[0m                 \u001b[0minput_ids\u001b[0m\u001b[1;33m,\u001b[0m\u001b[1;33m\u001b[0m\u001b[1;33m\u001b[0m\u001b[0m\n\u001b[0;32m   1317\u001b[0m                 \u001b[0mbeam_scorer\u001b[0m\u001b[1;33m,\u001b[0m\u001b[1;33m\u001b[0m\u001b[1;33m\u001b[0m\u001b[0m\n",
      "\u001b[1;32m~\\miniconda3\\envs\\python38\\lib\\site-packages\\transformers\\generation_utils.py\u001b[0m in \u001b[0;36mbeam_search\u001b[1;34m(self, input_ids, beam_scorer, logits_processor, stopping_criteria, max_length, pad_token_id, eos_token_id, output_attentions, output_hidden_states, output_scores, return_dict_in_generate, synced_gpus, **model_kwargs)\u001b[0m\n\u001b[0;32m   2208\u001b[0m \u001b[1;33m\u001b[0m\u001b[0m\n\u001b[0;32m   2209\u001b[0m             \u001b[1;31m# stateless\u001b[0m\u001b[1;33m\u001b[0m\u001b[1;33m\u001b[0m\u001b[1;33m\u001b[0m\u001b[0m\n\u001b[1;32m-> 2210\u001b[1;33m             beam_outputs = beam_scorer.process(\n\u001b[0m\u001b[0;32m   2211\u001b[0m                 \u001b[0minput_ids\u001b[0m\u001b[1;33m,\u001b[0m\u001b[1;33m\u001b[0m\u001b[1;33m\u001b[0m\u001b[0m\n\u001b[0;32m   2212\u001b[0m                 \u001b[0mnext_token_scores\u001b[0m\u001b[1;33m,\u001b[0m\u001b[1;33m\u001b[0m\u001b[1;33m\u001b[0m\u001b[0m\n",
      "\u001b[1;32m~\\miniconda3\\envs\\python38\\lib\\site-packages\\transformers\\generation_beam_search.py\u001b[0m in \u001b[0;36mprocess\u001b[1;34m(self, input_ids, next_scores, next_tokens, next_indices, pad_token_id, eos_token_id)\u001b[0m\n\u001b[0;32m    247\u001b[0m             \u001b[0mbeam_idx\u001b[0m \u001b[1;33m=\u001b[0m \u001b[1;36m0\u001b[0m\u001b[1;33m\u001b[0m\u001b[1;33m\u001b[0m\u001b[0m\n\u001b[0;32m    248\u001b[0m             for beam_token_rank, (next_token, next_score, next_index) in enumerate(\n\u001b[1;32m--> 249\u001b[1;33m                 \u001b[0mzip\u001b[0m\u001b[1;33m(\u001b[0m\u001b[0mnext_tokens\u001b[0m\u001b[1;33m[\u001b[0m\u001b[0mbatch_idx\u001b[0m\u001b[1;33m]\u001b[0m\u001b[1;33m,\u001b[0m \u001b[0mnext_scores\u001b[0m\u001b[1;33m[\u001b[0m\u001b[0mbatch_idx\u001b[0m\u001b[1;33m]\u001b[0m\u001b[1;33m,\u001b[0m \u001b[0mnext_indices\u001b[0m\u001b[1;33m[\u001b[0m\u001b[0mbatch_idx\u001b[0m\u001b[1;33m]\u001b[0m\u001b[1;33m)\u001b[0m\u001b[1;33m\u001b[0m\u001b[1;33m\u001b[0m\u001b[0m\n\u001b[0m\u001b[0;32m    250\u001b[0m             ):\n\u001b[0;32m    251\u001b[0m                 \u001b[0mbatch_beam_idx\u001b[0m \u001b[1;33m=\u001b[0m \u001b[0mbatch_idx\u001b[0m \u001b[1;33m*\u001b[0m \u001b[0mself\u001b[0m\u001b[1;33m.\u001b[0m\u001b[0mgroup_size\u001b[0m \u001b[1;33m+\u001b[0m \u001b[0mnext_index\u001b[0m\u001b[1;33m\u001b[0m\u001b[1;33m\u001b[0m\u001b[0m\n",
      "\u001b[1;32m~\\miniconda3\\envs\\python38\\lib\\site-packages\\torch\\_tensor.py\u001b[0m in \u001b[0;36m__iter__\u001b[1;34m(self)\u001b[0m\n\u001b[0;32m    646\u001b[0m                           \u001b[1;34m'iterations executed (and might lead to errors or silently give '\u001b[0m\u001b[1;33m\u001b[0m\u001b[1;33m\u001b[0m\u001b[0m\n\u001b[0;32m    647\u001b[0m                           'incorrect results).', category=torch.jit.TracerWarning, stacklevel=2)\n\u001b[1;32m--> 648\u001b[1;33m         \u001b[1;32mreturn\u001b[0m \u001b[0miter\u001b[0m\u001b[1;33m(\u001b[0m\u001b[0mself\u001b[0m\u001b[1;33m.\u001b[0m\u001b[0munbind\u001b[0m\u001b[1;33m(\u001b[0m\u001b[1;36m0\u001b[0m\u001b[1;33m)\u001b[0m\u001b[1;33m)\u001b[0m\u001b[1;33m\u001b[0m\u001b[1;33m\u001b[0m\u001b[0m\n\u001b[0m\u001b[0;32m    649\u001b[0m \u001b[1;33m\u001b[0m\u001b[0m\n\u001b[0;32m    650\u001b[0m     \u001b[1;32mdef\u001b[0m \u001b[0m__hash__\u001b[0m\u001b[1;33m(\u001b[0m\u001b[0mself\u001b[0m\u001b[1;33m)\u001b[0m\u001b[1;33m:\u001b[0m\u001b[1;33m\u001b[0m\u001b[1;33m\u001b[0m\u001b[0m\n",
      "\u001b[1;31mKeyboardInterrupt\u001b[0m: "
     ]
    }
   ],
   "source": [
    "if(args.valid_begin==1):\n",
    "    my_test(valid_dataloader,cycleGAN,tokenizer,logging,wandb)\n",
    "total_iter = 0    \n",
    "for epoch in range(args.epochs):\n",
    "\n",
    "    logging.info(f\"\\n\\n  ----------------epoch:{epoch}----------------\")\n",
    "    my_train(train_dataloader,cycleGAN,total_iter,args,logging,valid_dataloader,tokenizer,wandb)\n",
    "    # my_test(valid_dataloader,cycleGAN,tokenizer,logging,wandb)\n",
    "    #TODO:cycgan.savemodel\n",
    "\n"
   ]
  },
  {
   "cell_type": "code",
   "execution_count": null,
   "metadata": {},
   "outputs": [],
   "source": []
  }
 ],
 "metadata": {
  "interpreter": {
   "hash": "65768f95ed3f1ad80799466926a66640b39a99ef5d94bbece814e59aa067606e"
  },
  "kernelspec": {
   "display_name": "Python 3.8.12 ('python38')",
   "language": "python",
   "name": "python3"
  },
  "language_info": {
   "codemirror_mode": {
    "name": "ipython",
    "version": 3
   },
   "file_extension": ".py",
   "mimetype": "text/x-python",
   "name": "python",
   "nbconvert_exporter": "python",
   "pygments_lexer": "ipython3",
   "version": "3.8.12"
  },
  "orig_nbformat": 4
 },
 "nbformat": 4,
 "nbformat_minor": 2
}
