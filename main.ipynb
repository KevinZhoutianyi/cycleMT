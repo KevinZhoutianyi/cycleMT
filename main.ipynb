{
 "cells": [
  {
   "cell_type": "code",
   "execution_count": 2,
   "metadata": {},
   "outputs": [],
   "source": [
    "import os\n",
    "os.getcwd() \n",
    "import warnings\n",
    "from test import *\n",
    "warnings.filterwarnings(\"ignore\")\n",
    "from datasets import load_dataset,load_metric\n",
    "from transformers import AutoTokenizer, AutoModelForSeq2SeqLM, pipeline\n",
    "import torch_optimizer as optim\n",
    "from transformers.optimization import Adafactor, AdafactorSchedule\n",
    "import torch.backends.cudnn as cudnn\n",
    "from utils import *\n",
    "from torch.utils.data import TensorDataset, DataLoader, RandomSampler, SequentialSampler, SubsetRandomSampler\n",
    "from torch.autograd import Variable\n",
    "import logging\n",
    "import sys\n",
    "import transformers\n",
    "from basic_model import *\n",
    "import time\n",
    "import argparse\n",
    "from tqdm import tqdm\n",
    "from torch.utils.tensorboard import SummaryWriter\n",
    "import string\n",
    "from cycle import *\n",
    "from train import *\n",
    "\n",
    "device = torch.device(\"cuda\" if torch.cuda.is_available() else \"cpu\")"
   ]
  },
  {
   "cell_type": "code",
   "execution_count": 3,
   "metadata": {},
   "outputs": [],
   "source": [
    "if(True):\n",
    "    parser = argparse.ArgumentParser(\"main\")\n",
    "\n",
    "    parser.add_argument('--valid_num_points', type=int,             default = 2000, help='validation data number')\n",
    "    parser.add_argument('--train_num_points', type=int,             default = 100000, help='train data number')\n",
    "\n",
    "    parser.add_argument('--batch_size', type=int,                   default=32,     help='Batch size')\n",
    "    parser.add_argument('--max_length', type=int,                   default=512,     help='max_length')\n",
    "\n",
    "    parser.add_argument('--gpu', type=int,                          default=0,      help='gpu device id')\n",
    "    parser.add_argument('--G_AB_model_name', type=str,              default='t5-small',      help='model_name')\n",
    "    parser.add_argument('--G_BA_model_name', type=str,              default='Onlydrinkwater/T5-small-de-en',      help='model_name')\n",
    "    parser.add_argument('--D_A_model_name', type=str,               default='t5-small',      help='model_name')\n",
    "    parser.add_argument('--D_B_model_name', type=str,               default='Onlydrinkwater/T5-small-de-en',      help='model_name')\n",
    "    parser.add_argument('--exp_name', type=str,                     default='CYCLE!',      help='experiment name')\n",
    "    parser.add_argument('--rep_num', type=int,                      default=25,      help='report times for 1 epoch')\n",
    "    parser.add_argument('--rep_iter', type=int,                     default=1000,      help='report times for 1 epoch')\n",
    "    parser.add_argument('--test_iter', type=int,                    default=5000,      help='report times for 1 epoch')\n",
    "    parser.add_argument('--test_num', type=int,                     default=4,      help='test times for 1 epoch')\n",
    "\n",
    "    parser.add_argument('--epochs', type=int,                       default=50,     help='num of training epochs')\n",
    "\n",
    "    parser.add_argument('--G_lr', type=float,                       default=0.00001,   help='learning rate for G')\n",
    "    parser.add_argument('--D_lr', type=float,                       default=0.00001,   help='learning rate for D')\n",
    "    parser.add_argument('--lambda_identity', type=float,            default=0.5,   help='')\n",
    "    parser.add_argument('--lambda_A', type=float,                   default=1.0,   help='')\n",
    "    parser.add_argument('--lambda_B', type=float,                   default=1.0,   help='')\n",
    "    parser.add_argument('--smoothing', type=float,                  default=0.1,    help='labelsmoothing')\n",
    "\n",
    "\n",
    "    parser.add_argument('--valid_begin', type=int,                  default=1,      help='whether valid before train')\n",
    "\n",
    "\n",
    "    args = parser.parse_args(args=[])#(args=['--batch_size', '8',  '--no_cuda'])#used in ipynb"
   ]
  },
  {
   "cell_type": "code",
   "execution_count": 4,
   "metadata": {},
   "outputs": [
    {
     "name": "stderr",
     "output_type": "stream",
     "text": [
      "Failed to detect the name of this notebook, you can set it manually with the WANDB_NOTEBOOK_NAME environment variable to enable code saving.\n",
      "\u001b[34m\u001b[1mwandb\u001b[0m: Currently logged in as: \u001b[33monlydrinkwater\u001b[0m (use `wandb login --relogin` to force relogin)\n"
     ]
    },
    {
     "data": {
      "text/html": [
       "wandb version 0.12.15 is available!  To upgrade, please run:\n",
       " $ pip install wandb --upgrade"
      ],
      "text/plain": [
       "<IPython.core.display.HTML object>"
      ]
     },
     "metadata": {},
     "output_type": "display_data"
    },
    {
     "data": {
      "text/html": [
       "Tracking run with wandb version 0.12.11"
      ],
      "text/plain": [
       "<IPython.core.display.HTML object>"
      ]
     },
     "metadata": {},
     "output_type": "display_data"
    },
    {
     "data": {
      "text/html": [
       "Run data is saved locally in <code>g:\\GitCode\\cycleMT\\wandb\\run-20220422_200959-1o9slcng</code>"
      ],
      "text/plain": [
       "<IPython.core.display.HTML object>"
      ]
     },
     "metadata": {},
     "output_type": "display_data"
    },
    {
     "data": {
      "text/html": [
       "Syncing run <strong><a href=\"https://wandb.ai/onlydrinkwater/CYCLEGAN/runs/1o9slcng\" target=\"_blank\">CYCLE!</a></strong> to <a href=\"https://wandb.ai/onlydrinkwater/CYCLEGAN\" target=\"_blank\">Weights & Biases</a> (<a href=\"https://wandb.me/run\" target=\"_blank\">docs</a>)<br/>"
      ],
      "text/plain": [
       "<IPython.core.display.HTML object>"
      ]
     },
     "metadata": {},
     "output_type": "display_data"
    },
    {
     "data": {
      "text/html": [
       "<button onClick=\"this.nextSibling.style.display='block';this.style.display='none';\">Display W&B run</button><iframe src=\"https://wandb.ai/onlydrinkwater/CYCLEGAN/runs/1o9slcng?jupyter=true\" style=\"border:none;width:100%;height:420px;display:none;\"></iframe>"
      ],
      "text/plain": [
       "<wandb.sdk.wandb_run.Run at 0x21327cb9b80>"
      ]
     },
     "execution_count": 4,
     "metadata": {},
     "output_type": "execute_result"
    }
   ],
   "source": [
    "import wandb\n",
    "os.environ['WANDB_API_KEY']='a166474b1b7ad33a0549adaaec19a2f6d3f91d87'\n",
    "os.environ['WANDB_NAME']=args.exp_name\n",
    "wandb.init(project=\"CYCLEGAN\",config=args)"
   ]
  },
  {
   "cell_type": "code",
   "execution_count": 5,
   "metadata": {},
   "outputs": [
    {
     "name": "stdout",
     "output_type": "stream",
     "text": [
      "04/22 08:10:08 PM |\t  Namespace(D_A_model_name='t5-small', D_B_model_name='Onlydrinkwater/T5-small-de-en', D_lr=1e-05, G_AB_model_name='t5-small', G_BA_model_name='Onlydrinkwater/T5-small-de-en', G_lr=1e-05, batch_size=4, epochs=50, exp_name='CYCLE!', gpu=0, lambda_A=1.0, lambda_B=1.0, lambda_identity=0.5, max_length=512, rep_iter=100, rep_num=25, smoothing=0.1, test_iter=500, test_num=4, train_num_points=1000, valid_begin=1, valid_num_points=100)\n"
     ]
    }
   ],
   "source": [
    "#logging file\n",
    "now = time.strftime(\"%Y-%m-%d-%H_%M_%S\",time.localtime(time.time())) \n",
    "\n",
    "log_format = '%(asctime)s |\\t  %(message)s'\n",
    "logging.basicConfig(stream=sys.stdout, level=logging.INFO,\n",
    "    format=log_format, datefmt='%m/%d %I:%M:%S %p')\n",
    "fh = logging.FileHandler(os.path.join(\"./log/\", now+'.txt'),'w',encoding = \"UTF-8\")\n",
    "fh.setFormatter(logging.Formatter(log_format))\n",
    "logging.getLogger().addHandler(fh)\n",
    "logging.info(args)"
   ]
  },
  {
   "cell_type": "code",
   "execution_count": 6,
   "metadata": {},
   "outputs": [
    {
     "name": "stdout",
     "output_type": "stream",
     "text": [
      "04/22 08:10:14 PM |\t  Gmodelsize:60.506624MB\n",
      "04/22 08:10:14 PM |\t  Dmodelsize:60.506624MB\n"
     ]
    }
   ],
   "source": [
    "GABmodelname = args.G_AB_model_name\n",
    "GBAmodelname = args.G_BA_model_name\n",
    "DAmodelname = args.D_A_model_name\n",
    "DBmodelname = args.D_B_model_name\n",
    "GABpretrained  =  AutoModelForSeq2SeqLM.from_pretrained(GABmodelname)\n",
    "GBApretrained  =  AutoModelForSeq2SeqLM.from_pretrained(GBAmodelname)\n",
    "DApretrained  =  AutoModelForSeq2SeqLM.from_pretrained(DAmodelname)\n",
    "DBpretrained  =  AutoModelForSeq2SeqLM.from_pretrained(DBmodelname)\n",
    "logging.info(f'Gmodelsize:{count_parameters_in_MB(GABpretrained)}MB')\n",
    "logging.info(f'Dmodelsize:{count_parameters_in_MB(DApretrained)}MB')\n",
    "\n",
    "tokenizer = AutoTokenizer.from_pretrained(GABmodelname)\n",
    "# tokenizerBA = AutoTokenizer.from_pretrained(GBAmodelname)#its the same\n"
   ]
  },
  {
   "cell_type": "code",
   "execution_count": 7,
   "metadata": {},
   "outputs": [
    {
     "name": "stdout",
     "output_type": "stream",
     "text": [
      "04/22 08:10:19 PM |\t  Reusing dataset wmt16 (C:\\Users\\kevin\\.cache\\huggingface\\datasets\\wmt16\\de-en\\1.0.0\\0d9fb3e814712c785176ad8cdb9f465fbe6479000ee6546725db30ad8a8b5f8a)\n"
     ]
    },
    {
     "name": "stderr",
     "output_type": "stream",
     "text": [
      "100%|██████████| 3/3 [00:00<00:00, 32.93it/s]\n"
     ]
    }
   ],
   "source": [
    "dataset = load_dataset('wmt16','de-en')\n",
    "train = dataset['train']['translation'][:args.train_num_points]\n",
    "valid = dataset['train']['translation'][args.train_num_points:(args.train_num_points+args.valid_num_points)]\n",
    "\n",
    "\n",
    "train_data = get_Dataset_chaos(train, tokenizer,max_length=args.max_length)\n",
    "train_dataloader = DataLoader(train_data, sampler= RandomSampler(train_data), \n",
    "                        batch_size=args.batch_size, pin_memory=True, num_workers=2)\n",
    "valid_data = get_Dataset(valid, tokenizer,max_length=args.max_length)\n",
    "valid_dataloader = DataLoader(valid_data, sampler=RandomSampler(valid_data), \n",
    "                        batch_size=args.batch_size, pin_memory=True, num_workers=2)"
   ]
  },
  {
   "cell_type": "code",
   "execution_count": 8,
   "metadata": {},
   "outputs": [],
   "source": [
    "cycleGAN = CycleGAN(args,GABpretrained,GBApretrained,DApretrained,DBpretrained,tokenizer)"
   ]
  },
  {
   "cell_type": "code",
   "execution_count": 9,
   "metadata": {},
   "outputs": [
    {
     "name": "stdout",
     "output_type": "stream",
     "text": [
      "04/22 08:11:30 PM |\t  GABloss:\t6.228126525878906\n",
      "04/22 08:11:30 PM |\t  GBAloss:\t12.865619659423828\n",
      "04/22 08:11:30 PM |\t  a_decoded[:2]:['It is true, there are some European regulations and interpretative statements on the way.', 'Mr President, I would like firstly to express my appreciation to the Commission for the improvement represented by the XXVIIIth report on competition policy in the Union, when compared to previous reports.']\n",
      "04/22 08:11:30 PM |\t  pred_b_decoded[:2]:['It is true that there are Community regulations and interpretative communications.', 'Mr President, I would firstly like to express my appreciation to the Commission for the improvement made in the 28th report on competition policy in the Union in comparison with previous reports.']\n",
      "04/22 08:11:30 PM |\t  a_decoded[:2]:['Gewiß, es gibt gemeinschaftliche Verordnungen und interpretative Mitteilungen.', 'Herr Präsident! Ich möchte zunächst meine Anerkennung gegenüber der Kommission für die Verbesserung zum Ausdruck bringen, die der 28. Bericht über die Wettbewerbspolitik in der Union im Vergleich zu den vorhergegangenen Berichten darstellt.']\n",
      "04/22 08:11:30 PM |\t  pred_b_decoded[:2]:['Es stimmt, dass es einige europäische Regelungen und Auslegungserklärungen gibt.', 'Herr Präsident, zunächst möchte ich der Kommission für die Verbesserung danken, die der XXVIII. Bericht über die Wettbewerbspolitik in der Union im Vergleich zu früheren Berichten darstellt.']\n",
      "04/22 08:12:14 PM |\t  computing score...\n",
      "04/22 08:12:14 PM |\t  G_AB GAB sacreBLEU : 21.055334\n",
      "04/22 08:12:14 PM |\t  G_BA GBA sacreBLEU : 28.863219\n",
      "04/22 08:12:14 PM |\t  G_AB GAB test loss : 7.594815\n",
      "04/22 08:12:14 PM |\t  G_BA GBA test loss : 11.795406\n",
      "04/22 08:12:14 PM |\t  \n",
      "\n",
      "  ----------------epoch:0----------------\n",
      "04/22 08:12:57 PM |\t  {'GB_cycle_meter': 9.590248794555665, 'GA_cycle_meter': 9.598434753417969, 'GAB_once_meter': 0.9730099058151245, 'GBA_once_meter': 0.9688055205345154, 'DA_meter': 0.43672302484512326, 'DB_meter': 0.520871262550354, '_timestamp': 1650683577, '_runtime': 178}\n",
      "04/22 08:13:36 PM |\t  {'GB_cycle_meter': 9.559153518676759, 'GA_cycle_meter': 9.622184982299805, 'GAB_once_meter': 0.9342926716804505, 'GBA_once_meter': 0.952612910270691, 'DA_meter': 0.40380128502845763, 'DB_meter': 0.48802289366722107, '_timestamp': 1650683616, '_runtime': 217}\n",
      "04/22 08:14:15 PM |\t  {'GB_cycle_meter': 9.579153518676758, 'GA_cycle_meter': 9.629684944152832, 'GAB_once_meter': 0.9304319095611572, 'GBA_once_meter': 0.9204159331321716, 'DA_meter': 0.37178175687789916, 'DB_meter': 0.4581367862224579, '_timestamp': 1650683655, '_runtime': 256}\n",
      "04/22 08:14:54 PM |\t  {'GB_cycle_meter': 9.589201164245605, 'GA_cycle_meter': 9.595796012878418, 'GAB_once_meter': 0.8916510653495788, 'GBA_once_meter': 0.9094016337394715, 'DA_meter': 0.34386396408081055, 'DB_meter': 0.42885699272155764, '_timestamp': 1650683694, '_runtime': 295}\n",
      "04/22 08:15:33 PM |\t  {'GB_cycle_meter': 9.581486778259277, 'GA_cycle_meter': 9.621768264770507, 'GAB_once_meter': 0.8917950797080993, 'GBA_once_meter': 0.9014622378349304, 'DA_meter': 0.3114490854740143, 'DB_meter': 0.4011014425754547, '_timestamp': 1650683733, '_runtime': 334}\n",
      "04/22 08:15:38 PM |\t  GABloss:\t7.479952335357666\n",
      "04/22 08:15:38 PM |\t  GBAloss:\t11.715035438537598\n",
      "04/22 08:15:38 PM |\t  a_decoded[:2]:['You will know that there are currently two preliminary issues before the Court of Justice, both brought by German courts, which question the feasibility of applying 81(1) without being able to apply 81(3).', 'I therefore believe that something is missing and I suggest that we establish more regulations, lay down clear rules, which will benefit all of us: businesspeople, investors, workers and the citizens in general.']\n",
      "04/22 08:15:38 PM |\t  pred_b_decoded[:2]:['You know that there are currently two preliminary questions at the Court of Justice that have been tabled by German courts to clarify whether Article 81.1 can be applied if Article 81.3 cannot be applied.', 'That is why I miss my proposal for a stronger regulation and for clear rules that can benefit all entrepreneurs, investors, workers and citizens as a whole.']\n",
      "04/22 08:15:38 PM |\t  a_decoded[:2]:['Sie wissen, daß gegenwärtig zwei Vorfragen beim Gerichtshof anhängig sind, die von deutschen Gerichten eingereicht wurden zur Klärung, ob Artikel 81.1 angewandt werden kann, wenn Artikel 81.3 nicht angewandt werden kann.', 'Deshalb vermisse ich und dahin geht mein Vorschlag eine stärkere Regelung und den Erlaß eindeutiger Spielregeln, die allen den Unternehmern, den Investoren, den Arbeitnehmern und der Bürgerschaft insgesamt Vorteile bringen können.']\n",
      "04/22 08:15:38 PM |\t  pred_b_decoded[:2]:['Sie wissen, dass es gegenwärtig zwei vorläufige Fragen vor dem Gerichtshof gibt, die beide von deutschen Gerichten eingebracht wurden, die die Machbarkeit der Anwendung von 81 Absatz 1 in Frage stellen, ohne 81 Absatz 3 anzuwenden.', 'Deshalb glaube ich, dass etwas fehlt, und ich schlage vor, dass wir mehr Regelungen schaffen, klare Regeln festlegen, die uns allen zugute kommen: Geschäftsleute, Investoren, Arbeitnehmer und Bürger im Allgemeinen.']\n",
      "04/22 08:16:23 PM |\t  computing score...\n",
      "04/22 08:16:23 PM |\t  G_AB GAB sacreBLEU : 21.152825\n",
      "04/22 08:16:23 PM |\t  G_BA GBA sacreBLEU : 29.851476\n",
      "04/22 08:16:23 PM |\t  G_AB GAB test loss : 7.613936\n",
      "04/22 08:16:23 PM |\t  G_BA GBA test loss : 12.309747\n",
      "04/22 08:16:58 PM |\t  {'GB_cycle_meter': 9.591772499084472, 'GA_cycle_meter': 9.638920936584473, 'GAB_once_meter': 0.8613407087326049, 'GBA_once_meter': 0.8744429445266724, 'DA_meter': 0.28776476621627806, 'DB_meter': 0.37652443289756776, '_timestamp': 1650683818, '_runtime': 419}\n",
      "04/22 08:17:34 PM |\t  {'GB_cycle_meter': 9.592058219909667, 'GA_cycle_meter': 9.613712615966797, 'GAB_once_meter': 0.8478783345222474, 'GBA_once_meter': 0.8590696048736572, 'DA_meter': 0.2632229858636856, 'DB_meter': 0.34902339696884155, '_timestamp': 1650683854, '_runtime': 455}\n",
      "04/22 08:18:08 PM |\t  {'GB_cycle_meter': 9.593677253723145, 'GA_cycle_meter': 9.61683765411377, 'GAB_once_meter': 0.8307146787643432, 'GBA_once_meter': 0.8468051314353943, 'DA_meter': 0.24046774744987487, 'DB_meter': 0.32448413372039797, '_timestamp': 1650683888, '_runtime': 489}\n",
      "04/22 08:18:43 PM |\t  {'GB_cycle_meter': 9.574343910217285, 'GA_cycle_meter': 9.648087692260741, 'GAB_once_meter': 0.8262833952903748, 'GBA_once_meter': 0.8291863417625427, 'DA_meter': 0.21208224356174468, 'DB_meter': 0.3079790198802948, '_timestamp': 1650683923, '_runtime': 524}\n",
      "04/22 08:19:19 PM |\t  {'GB_cycle_meter': 9.591439170837402, 'GA_cycle_meter': 9.584962615966797, 'GAB_once_meter': 0.8090634369850158, 'GBA_once_meter': 0.8233617496490478, 'DA_meter': 0.1973066645860672, 'DB_meter': 0.27499136805534363, '_timestamp': 1650683959, '_runtime': 560}\n",
      "04/22 08:19:35 PM |\t  GABloss:\t9.40952205657959\n",
      "04/22 08:19:35 PM |\t  GBAloss:\t8.400053024291992\n",
      "04/22 08:19:35 PM |\t  a_decoded[:2]:['Finally, Commissioner, we cannot forget that large sections of the economy are still firmly in the hands of the state, ranging from state television, which is funded on a mandatory basis by the taxpayer, and the Post Office, to some compulsory insurance schemes, including health and social welfare systems, which are managed by inefficient state monopolies which leave no-one but the wealthy user with any other option.', 'Mr Berenguer made a very accurate analysis, justifying the need and the relevant reforms for improving the dynamics of competition, but my concern is to ensure that the standards and criteria which will be applied through the corresponding administrations in the Member States, are truly identical in all regions.']\n",
      "04/22 08:19:35 PM |\t  pred_b_decoded[:2]:['Finally, we must not forget that major economic sectors are still in the public domain, from public television stations, which are forced to be financed by the taxpayer, to a number of compulsory insurance systems, including health and social security, which are managed by inefficient state monopolies, of which there is only the option of granting exemptions to the public.', 'Mr Berenguer has carried out a very thorough analysis and justified its need and the logical reforms to improve the functioning of competition, but my concern is to ensure that the standards and criteria applied by the appropriate administrations of the Member States are truly identical everywhere.']\n",
      "04/22 08:19:35 PM |\t  a_decoded[:2]:['Schließlich dürfen wir nicht vergessen, daß sich große Wirtschaftsbereiche noch fest in öffentlicher Hand befinden, angefangen bei den öffentlich-rechtlichen Fernsehanstalten, die zwangsweise vom Steuerzahler finanziert werden, über die Postunternehmen bis hin zu einigen Pflichtversicherungssystemen, einschließlich der Kranken- und Sozialversicherung, die von ineffizienten staatlichen Monopolen verwaltet werden, von denen es nur für Besserverdienende Befreiungsmöglichkeiten gibt.', 'Herr Berenguer hat eine sehr treffende Analyse geliefert und ihre Notwendigkeit sowie die folgerichtigen Reformen zur Verbesserung des Funktionierens des Wettbewerbs begründet, aber meine Sorge besteht darin sicherzustellen, daß die von den entsprechenden Verwaltungen der Mitgliedstaaten angewendeten Normen und Kriterien wirklich überall identisch sind.']\n",
      "04/22 08:19:35 PM |\t  pred_b_decoded[:2]:['Schließlich, Herr Kommissar, dürfen wir nicht vergessen, dass große Teile der Wirtschaft immer noch in den Händen des Staates liegen, von staatlichem Fernsehen, das von den Steuerzahlern zwingend finanziert wird, bis hin zu einigen obligatorischen Versicherungssystemen, einschließlich der Gesundheits- und Sozialversicherungssysteme, die von ineffizienten staatlichen Monopolen verwaltet werden, die niemanden, sondern den wohlhabenden Nutzern irgendeine andere', 'Herr Berenguer hat eine sehr präzise Analyse vorgenommen, die die Notwendigkeit und die entsprechenden Reformen zur Verbesserung der Dynamik des Wettbewerbs rechtfertigt, aber ich möchte sicherstellen, dass die Normen und Kriterien, die über die entsprechenden Verwaltungen in den Mitgliedstaaten angewandt werden, in allen Regionen wirklich identisch sind.']\n",
      "04/22 08:20:18 PM |\t  computing score...\n",
      "04/22 08:20:18 PM |\t  G_AB GAB sacreBLEU : 21.080992\n",
      "04/22 08:20:18 PM |\t  G_BA GBA sacreBLEU : 29.398420\n",
      "04/22 08:20:18 PM |\t  G_AB GAB test loss : 7.729015\n",
      "04/22 08:20:18 PM |\t  G_BA GBA test loss : 12.883015\n",
      "04/22 08:20:25 PM |\t  GABloss:\t8.129191398620605\n",
      "04/22 08:20:25 PM |\t  GBAloss:\t11.821404457092285\n",
      "04/22 08:20:25 PM |\t  a_decoded[:2]:['Commissioner, I am asking these questions as a defender of the internal market and I hope that, in this sense, we are all partners and that the discussion between these partners does not remain sterile but can bear fruit.', 'Mr President, I would like, in beginning my speech regarding the White Paper, to congratulate the rapporteur, Mr von Wogau.']\n",
      "04/22 08:20:25 PM |\t  pred_b_decoded[:2]:['Mr President, Commissioner, I welcome these questions as a supporter of the internal market and in the hope that we are all partners here in this sense and that the dialogue between these partners will not be sterile but will bring success.', 'Mr President, I should like to begin by congratulating the rapporteur, Mr von Wogau, on my first words on the White Paper.']\n",
      "04/22 08:20:25 PM |\t  a_decoded[:2]:['Herr Kommissar, ich werfe diese Fragen als Befürworterin des Binnenmarkts und in der Hoffnung auf, daß wir hier in diesem Sinne alle Partner sind und daß das Gespräch zwischen diesen Partnern nicht steril bleibt, sondern Erfolge bringt.', 'Herr Präsident! Meine ersten Worte zu Beginn meines Beitrags über das Weißbuch sollen ein Glückwunsch an den Berichterstatter, Herrn von Wogau, sein.']\n",
      "04/22 08:20:25 PM |\t  pred_b_decoded[:2]:['Herr Kommissar, ich stelle diese Fragen als Verteidiger des Binnenmarktes, und ich hoffe, dass wir alle Partner sind und dass die Diskussion zwischen diesen Partnern nicht steril bleibt, sondern Früchte tragen kann.', 'Herr Präsident, zu Beginn meiner Rede zum Weißbuch möchte ich den Berichterstatter, Herrn von Wogau, beglückwünschen.']\n",
      "04/22 08:21:11 PM |\t  computing score...\n",
      "04/22 08:21:11 PM |\t  G_AB GAB sacreBLEU : 21.080992\n",
      "04/22 08:21:11 PM |\t  G_BA GBA sacreBLEU : 29.398420\n",
      "04/22 08:21:11 PM |\t  G_AB GAB test loss : 7.729015\n",
      "04/22 08:21:11 PM |\t  G_BA GBA test loss : 12.883014\n",
      "04/22 08:21:11 PM |\t  \n",
      "\n",
      "  ----------------epoch:1----------------\n",
      "04/22 08:21:51 PM |\t  {'GB_cycle_meter': 9.578915367126465, 'GA_cycle_meter': 9.588018226623536, 'GAB_once_meter': 0.7950235772132873, 'GBA_once_meter': 0.8046937155723571, 'DA_meter': 0.17518556952476502, 'DB_meter': 0.2535818058252335, '_timestamp': 1650684111, '_runtime': 712}\n",
      "04/22 08:22:29 PM |\t  {'GB_cycle_meter': 9.594105796813965, 'GA_cycle_meter': 9.624754371643066, 'GAB_once_meter': 0.8076647233963012, 'GBA_once_meter': 0.7808954882621765, 'DA_meter': 0.15663075387477876, 'DB_meter': 0.24156576931476592, '_timestamp': 1650684149, '_runtime': 750}\n",
      "04/22 08:23:07 PM |\t  {'GB_cycle_meter': 9.571486854553223, 'GA_cycle_meter': 9.623990440368653, 'GAB_once_meter': 0.7780530405044556, 'GBA_once_meter': 0.7746612000465393, 'DA_meter': 0.13800579696893692, 'DB_meter': 0.22267668306827545, '_timestamp': 1650684187, '_runtime': 788}\n",
      "04/22 08:23:46 PM |\t  {'GB_cycle_meter': 9.592820205688476, 'GA_cycle_meter': 9.63128215789795, 'GAB_once_meter': 0.7603809428215027, 'GBA_once_meter': 0.7590091943740844, 'DA_meter': 0.127698637843132, 'DB_meter': 0.21068355560302734, '_timestamp': 1650684226, '_runtime': 827}\n",
      "04/22 08:24:26 PM |\t  {'GB_cycle_meter': 9.5927725982666, 'GA_cycle_meter': 9.628782043457031, 'GAB_once_meter': 0.758447732925415, 'GBA_once_meter': 0.7632220101356506, 'DA_meter': 0.11301165699958801, 'DB_meter': 0.19179592847824098, '_timestamp': 1650684266, '_runtime': 867}\n",
      "04/22 08:24:31 PM |\t  GABloss:\t6.170135021209717\n",
      "04/22 08:24:31 PM |\t  GBAloss:\t14.885465621948242\n",
      "04/22 08:24:31 PM |\t  a_decoded[:2]:['The voices in favour of its amendment were unanimous.', 'If this comes to nothing, then the government has to step in.']\n",
      "04/22 08:24:31 PM |\t  pred_b_decoded[:2]:['A change was called upon unanimously by Portuguese.', 'If this commitment is misled, then the State must intervene.']\n",
      "04/22 08:24:31 PM |\t  a_decoded[:2]:['Einmütig wurde eine nderung gefordert.', 'Mißlingt dieses Engagement, dann muß der Staat eingreifen.']\n",
      "04/22 08:24:31 PM |\t  pred_b_decoded[:2]:['Portugalien hat sich einstimmig für seinen nderungsantrag ausgesprochen.', 'Portugiesisch: Wenn dies zu nichts kommt, dann muss die Regierung eingreifen.']\n",
      "04/22 08:25:22 PM |\t  computing score...\n",
      "04/22 08:25:22 PM |\t  G_AB GAB sacreBLEU : 20.615470\n",
      "04/22 08:25:22 PM |\t  G_BA GBA sacreBLEU : 29.676439\n",
      "04/22 08:25:22 PM |\t  G_AB GAB test loss : 7.697780\n",
      "04/22 08:25:22 PM |\t  G_BA GBA test loss : 13.368628\n",
      "04/22 08:26:00 PM |\t  {'GB_cycle_meter': 9.57405818939209, 'GA_cycle_meter': 9.637601623535156, 'GAB_once_meter': 0.7748792123794556, 'GBA_once_meter': 0.7256486415863037, 'DA_meter': 0.09221326261758804, 'DB_meter': 0.1816729164123535, '_timestamp': 1650684360, '_runtime': 961}\n",
      "04/22 08:26:37 PM |\t  {'GB_cycle_meter': 9.56748680114746, 'GA_cycle_meter': 9.606490440368653, 'GAB_once_meter': 0.7369099569320678, 'GBA_once_meter': 0.7205503892898559, 'DA_meter': 0.08464845329523087, 'DB_meter': 0.1617744654417038, '_timestamp': 1650684397, '_runtime': 998}\n",
      "04/22 08:27:16 PM |\t  {'GB_cycle_meter': 9.596915321350098, 'GA_cycle_meter': 9.589893226623536, 'GAB_once_meter': 0.7525552463531494, 'GBA_once_meter': 0.7284208011627197, 'DA_meter': 0.0829059848189354, 'DB_meter': 0.13988304376602173, '_timestamp': 1650684436, '_runtime': 1037}\n"
     ]
    },
    {
     "ename": "KeyboardInterrupt",
     "evalue": "",
     "output_type": "error",
     "traceback": [
      "\u001b[1;31m---------------------------------------------------------------------------\u001b[0m",
      "\u001b[1;31mKeyboardInterrupt\u001b[0m                         Traceback (most recent call last)",
      "\u001b[1;32m~\\AppData\\Local\\Temp/ipykernel_180560/4031387101.py\u001b[0m in \u001b[0;36m<module>\u001b[1;34m\u001b[0m\n\u001b[0;32m      5\u001b[0m \u001b[1;33m\u001b[0m\u001b[0m\n\u001b[0;32m      6\u001b[0m     \u001b[0mlogging\u001b[0m\u001b[1;33m.\u001b[0m\u001b[0minfo\u001b[0m\u001b[1;33m(\u001b[0m\u001b[1;34mf\"\\n\\n  ----------------epoch:{epoch}----------------\"\u001b[0m\u001b[1;33m)\u001b[0m\u001b[1;33m\u001b[0m\u001b[1;33m\u001b[0m\u001b[0m\n\u001b[1;32m----> 7\u001b[1;33m     \u001b[0mmy_train\u001b[0m\u001b[1;33m(\u001b[0m\u001b[0mtrain_dataloader\u001b[0m\u001b[1;33m,\u001b[0m\u001b[0mcycleGAN\u001b[0m\u001b[1;33m,\u001b[0m\u001b[0mtotal_iter\u001b[0m\u001b[1;33m,\u001b[0m\u001b[0margs\u001b[0m\u001b[1;33m,\u001b[0m\u001b[0mlogging\u001b[0m\u001b[1;33m,\u001b[0m\u001b[0mvalid_dataloader\u001b[0m\u001b[1;33m,\u001b[0m\u001b[0mtokenizer\u001b[0m\u001b[1;33m,\u001b[0m\u001b[0mwandb\u001b[0m\u001b[1;33m)\u001b[0m\u001b[1;33m\u001b[0m\u001b[1;33m\u001b[0m\u001b[0m\n\u001b[0m\u001b[0;32m      8\u001b[0m     \u001b[0mmy_test\u001b[0m\u001b[1;33m(\u001b[0m\u001b[0mvalid_dataloader\u001b[0m\u001b[1;33m,\u001b[0m\u001b[0mcycleGAN\u001b[0m\u001b[1;33m,\u001b[0m\u001b[0mtokenizer\u001b[0m\u001b[1;33m,\u001b[0m\u001b[0mlogging\u001b[0m\u001b[1;33m,\u001b[0m\u001b[0mwandb\u001b[0m\u001b[1;33m)\u001b[0m\u001b[1;33m\u001b[0m\u001b[1;33m\u001b[0m\u001b[0m\n\u001b[0;32m      9\u001b[0m     \u001b[1;31m#TODO:cycgan.savemodel\u001b[0m\u001b[1;33m\u001b[0m\u001b[1;33m\u001b[0m\u001b[1;33m\u001b[0m\u001b[0m\n",
      "\u001b[1;32mg:\\GitCode\\cycleMT\\train.py\u001b[0m in \u001b[0;36mmy_train\u001b[1;34m(loader, model, total_iter, args, logging, valid_loader, tokenizer, wandb)\u001b[0m\n\u001b[0;32m     16\u001b[0m         \u001b[0mb_attn\u001b[0m \u001b[1;33m=\u001b[0m \u001b[0mVariable\u001b[0m\u001b[1;33m(\u001b[0m\u001b[0mbatch\u001b[0m\u001b[1;33m[\u001b[0m\u001b[1;36m3\u001b[0m\u001b[1;33m]\u001b[0m\u001b[1;33m,\u001b[0m \u001b[0mrequires_grad\u001b[0m\u001b[1;33m=\u001b[0m\u001b[1;32mFalse\u001b[0m\u001b[1;33m)\u001b[0m\u001b[1;33m.\u001b[0m\u001b[0mto\u001b[0m\u001b[1;33m(\u001b[0m\u001b[0mdevice\u001b[0m\u001b[1;33m,\u001b[0m \u001b[0mnon_blocking\u001b[0m\u001b[1;33m=\u001b[0m\u001b[1;32mFalse\u001b[0m\u001b[1;33m)\u001b[0m\u001b[1;33m\u001b[0m\u001b[1;33m\u001b[0m\u001b[0m\n\u001b[0;32m     17\u001b[0m         \u001b[0mmodel\u001b[0m\u001b[1;33m.\u001b[0m\u001b[0mset_input\u001b[0m\u001b[1;33m(\u001b[0m\u001b[0ma\u001b[0m\u001b[1;33m,\u001b[0m\u001b[0ma_attn\u001b[0m\u001b[1;33m,\u001b[0m\u001b[0mb\u001b[0m\u001b[1;33m,\u001b[0m\u001b[0mb_attn\u001b[0m\u001b[1;33m)\u001b[0m\u001b[1;33m\u001b[0m\u001b[1;33m\u001b[0m\u001b[0m\n\u001b[1;32m---> 18\u001b[1;33m         \u001b[0mmodel\u001b[0m\u001b[1;33m.\u001b[0m\u001b[0moptimize_parameters\u001b[0m\u001b[1;33m(\u001b[0m\u001b[1;33m)\u001b[0m\u001b[1;33m\u001b[0m\u001b[1;33m\u001b[0m\u001b[0m\n\u001b[0m\u001b[0;32m     19\u001b[0m         \u001b[1;32mif\u001b[0m\u001b[1;33m(\u001b[0m\u001b[0mtotal_iter\u001b[0m\u001b[1;33m%\u001b[0m\u001b[0margs\u001b[0m\u001b[1;33m.\u001b[0m\u001b[0mrep_iter\u001b[0m \u001b[1;33m==\u001b[0m \u001b[1;36m0\u001b[0m\u001b[1;33m)\u001b[0m\u001b[1;33m:\u001b[0m\u001b[1;33m\u001b[0m\u001b[1;33m\u001b[0m\u001b[0m\n\u001b[0;32m     20\u001b[0m             \u001b[0mloss_dict\u001b[0m \u001b[1;33m=\u001b[0m \u001b[0mmodel\u001b[0m\u001b[1;33m.\u001b[0m\u001b[0mgetLoss\u001b[0m\u001b[1;33m(\u001b[0m\u001b[1;33m)\u001b[0m\u001b[1;33m\u001b[0m\u001b[1;33m\u001b[0m\u001b[0m\n",
      "\u001b[1;32mg:\\GitCode\\cycleMT\\cycle.py\u001b[0m in \u001b[0;36moptimize_parameters\u001b[1;34m(self)\u001b[0m\n\u001b[0;32m     42\u001b[0m         \u001b[0mself\u001b[0m\u001b[1;33m.\u001b[0m\u001b[0mreal_B\u001b[0m\u001b[1;33m,\u001b[0m\u001b[0mself\u001b[0m\u001b[1;33m.\u001b[0m\u001b[0mreal_B_attn\u001b[0m \u001b[1;33m=\u001b[0m \u001b[0mB\u001b[0m\u001b[1;33m,\u001b[0m\u001b[0mB_attn\u001b[0m\u001b[1;33m\u001b[0m\u001b[1;33m\u001b[0m\u001b[0m\n\u001b[0;32m     43\u001b[0m     \u001b[1;32mdef\u001b[0m \u001b[0moptimize_parameters\u001b[0m\u001b[1;33m(\u001b[0m\u001b[0mself\u001b[0m\u001b[1;33m)\u001b[0m\u001b[1;33m:\u001b[0m\u001b[1;33m\u001b[0m\u001b[1;33m\u001b[0m\u001b[0m\n\u001b[1;32m---> 44\u001b[1;33m         \u001b[0mself\u001b[0m\u001b[1;33m.\u001b[0m\u001b[0mforward\u001b[0m\u001b[1;33m(\u001b[0m\u001b[1;33m)\u001b[0m\u001b[1;33m\u001b[0m\u001b[1;33m\u001b[0m\u001b[0m\n\u001b[0m\u001b[0;32m     45\u001b[0m         \u001b[0mself\u001b[0m\u001b[1;33m.\u001b[0m\u001b[0mset_requires_grad\u001b[0m\u001b[1;33m(\u001b[0m\u001b[1;33m[\u001b[0m\u001b[0mself\u001b[0m\u001b[1;33m.\u001b[0m\u001b[0mD_A\u001b[0m\u001b[1;33m,\u001b[0m \u001b[0mself\u001b[0m\u001b[1;33m.\u001b[0m\u001b[0mD_B\u001b[0m\u001b[1;33m]\u001b[0m\u001b[1;33m,\u001b[0m \u001b[1;32mFalse\u001b[0m\u001b[1;33m)\u001b[0m  \u001b[1;31m# Ds require no gradients when optimizing Gs\u001b[0m\u001b[1;33m\u001b[0m\u001b[1;33m\u001b[0m\u001b[0m\n\u001b[0;32m     46\u001b[0m         \u001b[0mself\u001b[0m\u001b[1;33m.\u001b[0m\u001b[0moptimizer_G_AB\u001b[0m\u001b[1;33m.\u001b[0m\u001b[0mzero_grad\u001b[0m\u001b[1;33m(\u001b[0m\u001b[1;33m)\u001b[0m  \u001b[1;31m# set G_A and G_B's gradients to zero\u001b[0m\u001b[1;33m\u001b[0m\u001b[1;33m\u001b[0m\u001b[0m\n",
      "\u001b[1;32mg:\\GitCode\\cycleMT\\cycle.py\u001b[0m in \u001b[0;36mforward\u001b[1;34m(self)\u001b[0m\n\u001b[0;32m     35\u001b[0m     \u001b[1;32mdef\u001b[0m \u001b[0mforward\u001b[0m\u001b[1;33m(\u001b[0m\u001b[0mself\u001b[0m\u001b[1;33m)\u001b[0m\u001b[1;33m:\u001b[0m\u001b[1;31m#TODO: prefix + gumblesoftmax\u001b[0m\u001b[1;33m\u001b[0m\u001b[1;33m\u001b[0m\u001b[0m\n\u001b[0;32m     36\u001b[0m         \u001b[0mself\u001b[0m\u001b[1;33m.\u001b[0m\u001b[0mfake_B\u001b[0m\u001b[1;33m,\u001b[0m\u001b[0mself\u001b[0m\u001b[1;33m.\u001b[0m\u001b[0mfake_B_attn\u001b[0m \u001b[1;33m=\u001b[0m \u001b[0mself\u001b[0m\u001b[1;33m.\u001b[0m\u001b[0mG_AB\u001b[0m\u001b[1;33m.\u001b[0m\u001b[0mgumble_generate\u001b[0m\u001b[1;33m(\u001b[0m\u001b[0mself\u001b[0m\u001b[1;33m.\u001b[0m\u001b[0mreal_A\u001b[0m\u001b[1;33m,\u001b[0m\u001b[0mself\u001b[0m\u001b[1;33m.\u001b[0m\u001b[0mreal_A_attn\u001b[0m\u001b[1;33m)\u001b[0m  \u001b[1;31m# G_A(A)\u001b[0m\u001b[1;33m\u001b[0m\u001b[1;33m\u001b[0m\u001b[0m\n\u001b[1;32m---> 37\u001b[1;33m         \u001b[0mself\u001b[0m\u001b[1;33m.\u001b[0m\u001b[0mrec_A\u001b[0m\u001b[1;33m,\u001b[0m\u001b[0mself\u001b[0m\u001b[1;33m.\u001b[0m\u001b[0mrec_A_attn\u001b[0m \u001b[1;33m=\u001b[0m \u001b[0mself\u001b[0m\u001b[1;33m.\u001b[0m\u001b[0mG_BA\u001b[0m\u001b[1;33m.\u001b[0m\u001b[0mgumble_generate\u001b[0m\u001b[1;33m(\u001b[0m\u001b[0mself\u001b[0m\u001b[1;33m.\u001b[0m\u001b[0mfake_B\u001b[0m\u001b[1;33m,\u001b[0m\u001b[0mself\u001b[0m\u001b[1;33m.\u001b[0m\u001b[0mfake_B_attn\u001b[0m\u001b[1;33m)\u001b[0m   \u001b[1;31m# G_B(G_A(A))\u001b[0m\u001b[1;33m\u001b[0m\u001b[1;33m\u001b[0m\u001b[0m\n\u001b[0m\u001b[0;32m     38\u001b[0m         \u001b[0mself\u001b[0m\u001b[1;33m.\u001b[0m\u001b[0mfake_A\u001b[0m\u001b[1;33m,\u001b[0m\u001b[0mself\u001b[0m\u001b[1;33m.\u001b[0m\u001b[0mfake_A_attn\u001b[0m \u001b[1;33m=\u001b[0m \u001b[0mself\u001b[0m\u001b[1;33m.\u001b[0m\u001b[0mG_BA\u001b[0m\u001b[1;33m.\u001b[0m\u001b[0mgumble_generate\u001b[0m\u001b[1;33m(\u001b[0m\u001b[0mself\u001b[0m\u001b[1;33m.\u001b[0m\u001b[0mreal_B\u001b[0m\u001b[1;33m,\u001b[0m\u001b[0mself\u001b[0m\u001b[1;33m.\u001b[0m\u001b[0mreal_B_attn\u001b[0m\u001b[1;33m)\u001b[0m  \u001b[1;31m# G_B(B)\u001b[0m\u001b[1;33m\u001b[0m\u001b[1;33m\u001b[0m\u001b[0m\n\u001b[0;32m     39\u001b[0m         \u001b[0mself\u001b[0m\u001b[1;33m.\u001b[0m\u001b[0mrec_B\u001b[0m\u001b[1;33m,\u001b[0m\u001b[0mself\u001b[0m\u001b[1;33m.\u001b[0m\u001b[0mrec_B_attn\u001b[0m \u001b[1;33m=\u001b[0m \u001b[0mself\u001b[0m\u001b[1;33m.\u001b[0m\u001b[0mG_AB\u001b[0m\u001b[1;33m.\u001b[0m\u001b[0mgumble_generate\u001b[0m\u001b[1;33m(\u001b[0m\u001b[0mself\u001b[0m\u001b[1;33m.\u001b[0m\u001b[0mfake_A\u001b[0m\u001b[1;33m,\u001b[0m\u001b[0mself\u001b[0m\u001b[1;33m.\u001b[0m\u001b[0mfake_A_attn\u001b[0m\u001b[1;33m)\u001b[0m   \u001b[1;31m# G_A(G_B(B))\u001b[0m\u001b[1;33m\u001b[0m\u001b[1;33m\u001b[0m\u001b[0m\n",
      "\u001b[1;32mg:\\GitCode\\cycleMT\\basic_model.py\u001b[0m in \u001b[0;36mgumble_generate\u001b[1;34m(self, x, x_attn)\u001b[0m\n\u001b[0;32m     82\u001b[0m         \u001b[1;32mif\u001b[0m\u001b[1;33m(\u001b[0m\u001b[0mlen\u001b[0m\u001b[1;33m(\u001b[0m\u001b[0mx\u001b[0m\u001b[1;33m.\u001b[0m\u001b[0mshape\u001b[0m\u001b[1;33m)\u001b[0m\u001b[1;33m==\u001b[0m\u001b[1;36m3\u001b[0m\u001b[1;33m)\u001b[0m\u001b[1;33m:\u001b[0m\u001b[1;33m\u001b[0m\u001b[1;33m\u001b[0m\u001b[0m\n\u001b[0;32m     83\u001b[0m             \u001b[0mx\u001b[0m \u001b[1;33m=\u001b[0m \u001b[0mtorch\u001b[0m\u001b[1;33m.\u001b[0m\u001b[0margmax\u001b[0m\u001b[1;33m(\u001b[0m\u001b[0mx\u001b[0m\u001b[1;33m,\u001b[0m\u001b[1;33m-\u001b[0m\u001b[1;36m1\u001b[0m\u001b[1;33m)\u001b[0m\u001b[1;33m\u001b[0m\u001b[1;33m\u001b[0m\u001b[0m\n\u001b[1;32m---> 84\u001b[1;33m         \u001b[0mgenerate_id\u001b[0m \u001b[1;33m=\u001b[0m \u001b[0mself\u001b[0m\u001b[1;33m.\u001b[0m\u001b[0mmodel\u001b[0m\u001b[1;33m.\u001b[0m\u001b[0mgenerate\u001b[0m\u001b[1;33m(\u001b[0m\u001b[0mx\u001b[0m\u001b[1;33m,\u001b[0m\u001b[0mnum_beams\u001b[0m\u001b[1;33m=\u001b[0m\u001b[1;36m1\u001b[0m\u001b[1;33m)\u001b[0m\u001b[1;33m\u001b[0m\u001b[1;33m\u001b[0m\u001b[0m\n\u001b[0m\u001b[0;32m     85\u001b[0m         \u001b[0matt\u001b[0m \u001b[1;33m=\u001b[0m \u001b[1;33m(\u001b[0m\u001b[0mgenerate_id\u001b[0m\u001b[1;33m>\u001b[0m\u001b[1;36m0.5\u001b[0m\u001b[1;33m)\u001b[0m\u001b[1;33m.\u001b[0m\u001b[0mlong\u001b[0m\u001b[1;33m(\u001b[0m\u001b[1;33m)\u001b[0m\u001b[1;33m\u001b[0m\u001b[1;33m\u001b[0m\u001b[0m\n\u001b[0;32m     86\u001b[0m         \u001b[0mx_emb\u001b[0m \u001b[1;33m=\u001b[0m \u001b[0mself\u001b[0m\u001b[1;33m.\u001b[0m\u001b[0membedding\u001b[0m\u001b[1;33m(\u001b[0m\u001b[0mx_\u001b[0m\u001b[1;33m)\u001b[0m\u001b[1;33m\u001b[0m\u001b[1;33m\u001b[0m\u001b[0m\n",
      "\u001b[1;32m~\\miniconda3\\envs\\python38\\lib\\site-packages\\torch\\autograd\\grad_mode.py\u001b[0m in \u001b[0;36mdecorate_context\u001b[1;34m(*args, **kwargs)\u001b[0m\n\u001b[0;32m     26\u001b[0m         \u001b[1;32mdef\u001b[0m \u001b[0mdecorate_context\u001b[0m\u001b[1;33m(\u001b[0m\u001b[1;33m*\u001b[0m\u001b[0margs\u001b[0m\u001b[1;33m,\u001b[0m \u001b[1;33m**\u001b[0m\u001b[0mkwargs\u001b[0m\u001b[1;33m)\u001b[0m\u001b[1;33m:\u001b[0m\u001b[1;33m\u001b[0m\u001b[1;33m\u001b[0m\u001b[0m\n\u001b[0;32m     27\u001b[0m             \u001b[1;32mwith\u001b[0m \u001b[0mself\u001b[0m\u001b[1;33m.\u001b[0m\u001b[0m__class__\u001b[0m\u001b[1;33m(\u001b[0m\u001b[1;33m)\u001b[0m\u001b[1;33m:\u001b[0m\u001b[1;33m\u001b[0m\u001b[1;33m\u001b[0m\u001b[0m\n\u001b[1;32m---> 28\u001b[1;33m                 \u001b[1;32mreturn\u001b[0m \u001b[0mfunc\u001b[0m\u001b[1;33m(\u001b[0m\u001b[1;33m*\u001b[0m\u001b[0margs\u001b[0m\u001b[1;33m,\u001b[0m \u001b[1;33m**\u001b[0m\u001b[0mkwargs\u001b[0m\u001b[1;33m)\u001b[0m\u001b[1;33m\u001b[0m\u001b[1;33m\u001b[0m\u001b[0m\n\u001b[0m\u001b[0;32m     29\u001b[0m         \u001b[1;32mreturn\u001b[0m \u001b[0mcast\u001b[0m\u001b[1;33m(\u001b[0m\u001b[0mF\u001b[0m\u001b[1;33m,\u001b[0m \u001b[0mdecorate_context\u001b[0m\u001b[1;33m)\u001b[0m\u001b[1;33m\u001b[0m\u001b[1;33m\u001b[0m\u001b[0m\n\u001b[0;32m     30\u001b[0m \u001b[1;33m\u001b[0m\u001b[0m\n",
      "\u001b[1;32m~\\miniconda3\\envs\\python38\\lib\\site-packages\\transformers\\generation_utils.py\u001b[0m in \u001b[0;36mgenerate\u001b[1;34m(self, inputs, max_length, min_length, do_sample, early_stopping, num_beams, temperature, top_k, top_p, typical_p, repetition_penalty, bad_words_ids, bos_token_id, pad_token_id, eos_token_id, length_penalty, no_repeat_ngram_size, encoder_no_repeat_ngram_size, num_return_sequences, max_time, max_new_tokens, decoder_start_token_id, use_cache, num_beam_groups, diversity_penalty, prefix_allowed_tokens_fn, logits_processor, stopping_criteria, constraints, output_attentions, output_hidden_states, output_scores, return_dict_in_generate, forced_bos_token_id, forced_eos_token_id, remove_invalid_values, synced_gpus, **model_kwargs)\u001b[0m\n\u001b[0;32m   1188\u001b[0m \u001b[1;33m\u001b[0m\u001b[0m\n\u001b[0;32m   1189\u001b[0m             \u001b[1;31m# 10. run greedy search\u001b[0m\u001b[1;33m\u001b[0m\u001b[1;33m\u001b[0m\u001b[1;33m\u001b[0m\u001b[0m\n\u001b[1;32m-> 1190\u001b[1;33m             return self.greedy_search(\n\u001b[0m\u001b[0;32m   1191\u001b[0m                 \u001b[0minput_ids\u001b[0m\u001b[1;33m,\u001b[0m\u001b[1;33m\u001b[0m\u001b[1;33m\u001b[0m\u001b[0m\n\u001b[0;32m   1192\u001b[0m                 \u001b[0mlogits_processor\u001b[0m\u001b[1;33m=\u001b[0m\u001b[0mlogits_processor\u001b[0m\u001b[1;33m,\u001b[0m\u001b[1;33m\u001b[0m\u001b[1;33m\u001b[0m\u001b[0m\n",
      "\u001b[1;32m~\\miniconda3\\envs\\python38\\lib\\site-packages\\transformers\\generation_utils.py\u001b[0m in \u001b[0;36mgreedy_search\u001b[1;34m(self, input_ids, logits_processor, stopping_criteria, max_length, pad_token_id, eos_token_id, output_attentions, output_hidden_states, output_scores, return_dict_in_generate, synced_gpus, **model_kwargs)\u001b[0m\n\u001b[0;32m   1528\u001b[0m \u001b[1;33m\u001b[0m\u001b[0m\n\u001b[0;32m   1529\u001b[0m             \u001b[1;31m# forward pass to get next token\u001b[0m\u001b[1;33m\u001b[0m\u001b[1;33m\u001b[0m\u001b[1;33m\u001b[0m\u001b[0m\n\u001b[1;32m-> 1530\u001b[1;33m             outputs = self(\n\u001b[0m\u001b[0;32m   1531\u001b[0m                 \u001b[1;33m**\u001b[0m\u001b[0mmodel_inputs\u001b[0m\u001b[1;33m,\u001b[0m\u001b[1;33m\u001b[0m\u001b[1;33m\u001b[0m\u001b[0m\n\u001b[0;32m   1532\u001b[0m                 \u001b[0mreturn_dict\u001b[0m\u001b[1;33m=\u001b[0m\u001b[1;32mTrue\u001b[0m\u001b[1;33m,\u001b[0m\u001b[1;33m\u001b[0m\u001b[1;33m\u001b[0m\u001b[0m\n",
      "\u001b[1;32m~\\miniconda3\\envs\\python38\\lib\\site-packages\\torch\\nn\\modules\\module.py\u001b[0m in \u001b[0;36m_call_impl\u001b[1;34m(self, *input, **kwargs)\u001b[0m\n\u001b[0;32m   1100\u001b[0m         if not (self._backward_hooks or self._forward_hooks or self._forward_pre_hooks or _global_backward_hooks\n\u001b[0;32m   1101\u001b[0m                 or _global_forward_hooks or _global_forward_pre_hooks):\n\u001b[1;32m-> 1102\u001b[1;33m             \u001b[1;32mreturn\u001b[0m \u001b[0mforward_call\u001b[0m\u001b[1;33m(\u001b[0m\u001b[1;33m*\u001b[0m\u001b[0minput\u001b[0m\u001b[1;33m,\u001b[0m \u001b[1;33m**\u001b[0m\u001b[0mkwargs\u001b[0m\u001b[1;33m)\u001b[0m\u001b[1;33m\u001b[0m\u001b[1;33m\u001b[0m\u001b[0m\n\u001b[0m\u001b[0;32m   1103\u001b[0m         \u001b[1;31m# Do not call functions when jit is used\u001b[0m\u001b[1;33m\u001b[0m\u001b[1;33m\u001b[0m\u001b[1;33m\u001b[0m\u001b[0m\n\u001b[0;32m   1104\u001b[0m         \u001b[0mfull_backward_hooks\u001b[0m\u001b[1;33m,\u001b[0m \u001b[0mnon_full_backward_hooks\u001b[0m \u001b[1;33m=\u001b[0m \u001b[1;33m[\u001b[0m\u001b[1;33m]\u001b[0m\u001b[1;33m,\u001b[0m \u001b[1;33m[\u001b[0m\u001b[1;33m]\u001b[0m\u001b[1;33m\u001b[0m\u001b[1;33m\u001b[0m\u001b[0m\n",
      "\u001b[1;32m~\\miniconda3\\envs\\python38\\lib\\site-packages\\transformers\\models\\t5\\modeling_t5.py\u001b[0m in \u001b[0;36mforward\u001b[1;34m(self, input_ids, attention_mask, decoder_input_ids, decoder_attention_mask, head_mask, decoder_head_mask, cross_attn_head_mask, encoder_outputs, past_key_values, inputs_embeds, decoder_inputs_embeds, labels, use_cache, output_attentions, output_hidden_states, return_dict)\u001b[0m\n\u001b[0;32m   1633\u001b[0m \u001b[1;33m\u001b[0m\u001b[0m\n\u001b[0;32m   1634\u001b[0m         \u001b[1;31m# Decode\u001b[0m\u001b[1;33m\u001b[0m\u001b[1;33m\u001b[0m\u001b[1;33m\u001b[0m\u001b[0m\n\u001b[1;32m-> 1635\u001b[1;33m         decoder_outputs = self.decoder(\n\u001b[0m\u001b[0;32m   1636\u001b[0m             \u001b[0minput_ids\u001b[0m\u001b[1;33m=\u001b[0m\u001b[0mdecoder_input_ids\u001b[0m\u001b[1;33m,\u001b[0m\u001b[1;33m\u001b[0m\u001b[1;33m\u001b[0m\u001b[0m\n\u001b[0;32m   1637\u001b[0m             \u001b[0mattention_mask\u001b[0m\u001b[1;33m=\u001b[0m\u001b[0mdecoder_attention_mask\u001b[0m\u001b[1;33m,\u001b[0m\u001b[1;33m\u001b[0m\u001b[1;33m\u001b[0m\u001b[0m\n",
      "\u001b[1;32m~\\miniconda3\\envs\\python38\\lib\\site-packages\\torch\\nn\\modules\\module.py\u001b[0m in \u001b[0;36m_call_impl\u001b[1;34m(self, *input, **kwargs)\u001b[0m\n\u001b[0;32m   1100\u001b[0m         if not (self._backward_hooks or self._forward_hooks or self._forward_pre_hooks or _global_backward_hooks\n\u001b[0;32m   1101\u001b[0m                 or _global_forward_hooks or _global_forward_pre_hooks):\n\u001b[1;32m-> 1102\u001b[1;33m             \u001b[1;32mreturn\u001b[0m \u001b[0mforward_call\u001b[0m\u001b[1;33m(\u001b[0m\u001b[1;33m*\u001b[0m\u001b[0minput\u001b[0m\u001b[1;33m,\u001b[0m \u001b[1;33m**\u001b[0m\u001b[0mkwargs\u001b[0m\u001b[1;33m)\u001b[0m\u001b[1;33m\u001b[0m\u001b[1;33m\u001b[0m\u001b[0m\n\u001b[0m\u001b[0;32m   1103\u001b[0m         \u001b[1;31m# Do not call functions when jit is used\u001b[0m\u001b[1;33m\u001b[0m\u001b[1;33m\u001b[0m\u001b[1;33m\u001b[0m\u001b[0m\n\u001b[0;32m   1104\u001b[0m         \u001b[0mfull_backward_hooks\u001b[0m\u001b[1;33m,\u001b[0m \u001b[0mnon_full_backward_hooks\u001b[0m \u001b[1;33m=\u001b[0m \u001b[1;33m[\u001b[0m\u001b[1;33m]\u001b[0m\u001b[1;33m,\u001b[0m \u001b[1;33m[\u001b[0m\u001b[1;33m]\u001b[0m\u001b[1;33m\u001b[0m\u001b[1;33m\u001b[0m\u001b[0m\n",
      "\u001b[1;32m~\\miniconda3\\envs\\python38\\lib\\site-packages\\transformers\\models\\t5\\modeling_t5.py\u001b[0m in \u001b[0;36mforward\u001b[1;34m(self, input_ids, attention_mask, encoder_hidden_states, encoder_attention_mask, inputs_embeds, head_mask, cross_attn_head_mask, past_key_values, use_cache, output_attentions, output_hidden_states, return_dict)\u001b[0m\n\u001b[0;32m   1028\u001b[0m                 )\n\u001b[0;32m   1029\u001b[0m             \u001b[1;32melse\u001b[0m\u001b[1;33m:\u001b[0m\u001b[1;33m\u001b[0m\u001b[1;33m\u001b[0m\u001b[0m\n\u001b[1;32m-> 1030\u001b[1;33m                 layer_outputs = layer_module(\n\u001b[0m\u001b[0;32m   1031\u001b[0m                     \u001b[0mhidden_states\u001b[0m\u001b[1;33m,\u001b[0m\u001b[1;33m\u001b[0m\u001b[1;33m\u001b[0m\u001b[0m\n\u001b[0;32m   1032\u001b[0m                     \u001b[0mattention_mask\u001b[0m\u001b[1;33m=\u001b[0m\u001b[0mextended_attention_mask\u001b[0m\u001b[1;33m,\u001b[0m\u001b[1;33m\u001b[0m\u001b[1;33m\u001b[0m\u001b[0m\n",
      "\u001b[1;32m~\\miniconda3\\envs\\python38\\lib\\site-packages\\torch\\nn\\modules\\module.py\u001b[0m in \u001b[0;36m_call_impl\u001b[1;34m(self, *input, **kwargs)\u001b[0m\n\u001b[0;32m   1100\u001b[0m         if not (self._backward_hooks or self._forward_hooks or self._forward_pre_hooks or _global_backward_hooks\n\u001b[0;32m   1101\u001b[0m                 or _global_forward_hooks or _global_forward_pre_hooks):\n\u001b[1;32m-> 1102\u001b[1;33m             \u001b[1;32mreturn\u001b[0m \u001b[0mforward_call\u001b[0m\u001b[1;33m(\u001b[0m\u001b[1;33m*\u001b[0m\u001b[0minput\u001b[0m\u001b[1;33m,\u001b[0m \u001b[1;33m**\u001b[0m\u001b[0mkwargs\u001b[0m\u001b[1;33m)\u001b[0m\u001b[1;33m\u001b[0m\u001b[1;33m\u001b[0m\u001b[0m\n\u001b[0m\u001b[0;32m   1103\u001b[0m         \u001b[1;31m# Do not call functions when jit is used\u001b[0m\u001b[1;33m\u001b[0m\u001b[1;33m\u001b[0m\u001b[1;33m\u001b[0m\u001b[0m\n\u001b[0;32m   1104\u001b[0m         \u001b[0mfull_backward_hooks\u001b[0m\u001b[1;33m,\u001b[0m \u001b[0mnon_full_backward_hooks\u001b[0m \u001b[1;33m=\u001b[0m \u001b[1;33m[\u001b[0m\u001b[1;33m]\u001b[0m\u001b[1;33m,\u001b[0m \u001b[1;33m[\u001b[0m\u001b[1;33m]\u001b[0m\u001b[1;33m\u001b[0m\u001b[1;33m\u001b[0m\u001b[0m\n",
      "\u001b[1;32m~\\miniconda3\\envs\\python38\\lib\\site-packages\\transformers\\models\\t5\\modeling_t5.py\u001b[0m in \u001b[0;36mforward\u001b[1;34m(self, hidden_states, attention_mask, position_bias, encoder_hidden_states, encoder_attention_mask, encoder_decoder_position_bias, layer_head_mask, cross_attn_layer_head_mask, past_key_value, use_cache, output_attentions, return_dict)\u001b[0m\n\u001b[0;32m    689\u001b[0m                 \u001b[0mquery_length\u001b[0m \u001b[1;33m=\u001b[0m \u001b[1;32mNone\u001b[0m\u001b[1;33m\u001b[0m\u001b[1;33m\u001b[0m\u001b[0m\n\u001b[0;32m    690\u001b[0m \u001b[1;33m\u001b[0m\u001b[0m\n\u001b[1;32m--> 691\u001b[1;33m             cross_attention_outputs = self.layer[1](\n\u001b[0m\u001b[0;32m    692\u001b[0m                 \u001b[0mhidden_states\u001b[0m\u001b[1;33m,\u001b[0m\u001b[1;33m\u001b[0m\u001b[1;33m\u001b[0m\u001b[0m\n\u001b[0;32m    693\u001b[0m                 \u001b[0mkey_value_states\u001b[0m\u001b[1;33m=\u001b[0m\u001b[0mencoder_hidden_states\u001b[0m\u001b[1;33m,\u001b[0m\u001b[1;33m\u001b[0m\u001b[1;33m\u001b[0m\u001b[0m\n",
      "\u001b[1;32m~\\miniconda3\\envs\\python38\\lib\\site-packages\\torch\\nn\\modules\\module.py\u001b[0m in \u001b[0;36m_call_impl\u001b[1;34m(self, *input, **kwargs)\u001b[0m\n\u001b[0;32m   1100\u001b[0m         if not (self._backward_hooks or self._forward_hooks or self._forward_pre_hooks or _global_backward_hooks\n\u001b[0;32m   1101\u001b[0m                 or _global_forward_hooks or _global_forward_pre_hooks):\n\u001b[1;32m-> 1102\u001b[1;33m             \u001b[1;32mreturn\u001b[0m \u001b[0mforward_call\u001b[0m\u001b[1;33m(\u001b[0m\u001b[1;33m*\u001b[0m\u001b[0minput\u001b[0m\u001b[1;33m,\u001b[0m \u001b[1;33m**\u001b[0m\u001b[0mkwargs\u001b[0m\u001b[1;33m)\u001b[0m\u001b[1;33m\u001b[0m\u001b[1;33m\u001b[0m\u001b[0m\n\u001b[0m\u001b[0;32m   1103\u001b[0m         \u001b[1;31m# Do not call functions when jit is used\u001b[0m\u001b[1;33m\u001b[0m\u001b[1;33m\u001b[0m\u001b[1;33m\u001b[0m\u001b[0m\n\u001b[0;32m   1104\u001b[0m         \u001b[0mfull_backward_hooks\u001b[0m\u001b[1;33m,\u001b[0m \u001b[0mnon_full_backward_hooks\u001b[0m \u001b[1;33m=\u001b[0m \u001b[1;33m[\u001b[0m\u001b[1;33m]\u001b[0m\u001b[1;33m,\u001b[0m \u001b[1;33m[\u001b[0m\u001b[1;33m]\u001b[0m\u001b[1;33m\u001b[0m\u001b[1;33m\u001b[0m\u001b[0m\n",
      "\u001b[1;32m~\\miniconda3\\envs\\python38\\lib\\site-packages\\transformers\\models\\t5\\modeling_t5.py\u001b[0m in \u001b[0;36mforward\u001b[1;34m(self, hidden_states, key_value_states, attention_mask, position_bias, layer_head_mask, past_key_value, use_cache, query_length, output_attentions)\u001b[0m\n\u001b[0;32m    604\u001b[0m     ):\n\u001b[0;32m    605\u001b[0m         \u001b[0mnormed_hidden_states\u001b[0m \u001b[1;33m=\u001b[0m \u001b[0mself\u001b[0m\u001b[1;33m.\u001b[0m\u001b[0mlayer_norm\u001b[0m\u001b[1;33m(\u001b[0m\u001b[0mhidden_states\u001b[0m\u001b[1;33m)\u001b[0m\u001b[1;33m\u001b[0m\u001b[1;33m\u001b[0m\u001b[0m\n\u001b[1;32m--> 606\u001b[1;33m         attention_output = self.EncDecAttention(\n\u001b[0m\u001b[0;32m    607\u001b[0m             \u001b[0mnormed_hidden_states\u001b[0m\u001b[1;33m,\u001b[0m\u001b[1;33m\u001b[0m\u001b[1;33m\u001b[0m\u001b[0m\n\u001b[0;32m    608\u001b[0m             \u001b[0mmask\u001b[0m\u001b[1;33m=\u001b[0m\u001b[0mattention_mask\u001b[0m\u001b[1;33m,\u001b[0m\u001b[1;33m\u001b[0m\u001b[1;33m\u001b[0m\u001b[0m\n",
      "\u001b[1;32m~\\miniconda3\\envs\\python38\\lib\\site-packages\\torch\\nn\\modules\\module.py\u001b[0m in \u001b[0;36m_call_impl\u001b[1;34m(self, *input, **kwargs)\u001b[0m\n\u001b[0;32m   1100\u001b[0m         if not (self._backward_hooks or self._forward_hooks or self._forward_pre_hooks or _global_backward_hooks\n\u001b[0;32m   1101\u001b[0m                 or _global_forward_hooks or _global_forward_pre_hooks):\n\u001b[1;32m-> 1102\u001b[1;33m             \u001b[1;32mreturn\u001b[0m \u001b[0mforward_call\u001b[0m\u001b[1;33m(\u001b[0m\u001b[1;33m*\u001b[0m\u001b[0minput\u001b[0m\u001b[1;33m,\u001b[0m \u001b[1;33m**\u001b[0m\u001b[0mkwargs\u001b[0m\u001b[1;33m)\u001b[0m\u001b[1;33m\u001b[0m\u001b[1;33m\u001b[0m\u001b[0m\n\u001b[0m\u001b[0;32m   1103\u001b[0m         \u001b[1;31m# Do not call functions when jit is used\u001b[0m\u001b[1;33m\u001b[0m\u001b[1;33m\u001b[0m\u001b[1;33m\u001b[0m\u001b[0m\n\u001b[0;32m   1104\u001b[0m         \u001b[0mfull_backward_hooks\u001b[0m\u001b[1;33m,\u001b[0m \u001b[0mnon_full_backward_hooks\u001b[0m \u001b[1;33m=\u001b[0m \u001b[1;33m[\u001b[0m\u001b[1;33m]\u001b[0m\u001b[1;33m,\u001b[0m \u001b[1;33m[\u001b[0m\u001b[1;33m]\u001b[0m\u001b[1;33m\u001b[0m\u001b[1;33m\u001b[0m\u001b[0m\n",
      "\u001b[1;32m~\\miniconda3\\envs\\python38\\lib\\site-packages\\transformers\\models\\t5\\modeling_t5.py\u001b[0m in \u001b[0;36mforward\u001b[1;34m(self, hidden_states, mask, key_value_states, position_bias, past_key_value, layer_head_mask, query_length, use_cache, output_attentions)\u001b[0m\n\u001b[0;32m    529\u001b[0m                 \u001b[0mposition_bias\u001b[0m \u001b[1;33m=\u001b[0m \u001b[0mposition_bias\u001b[0m \u001b[1;33m+\u001b[0m \u001b[0mmask\u001b[0m  \u001b[1;31m# (batch_size, n_heads, seq_length, key_length)\u001b[0m\u001b[1;33m\u001b[0m\u001b[1;33m\u001b[0m\u001b[0m\n\u001b[0;32m    530\u001b[0m \u001b[1;33m\u001b[0m\u001b[0m\n\u001b[1;32m--> 531\u001b[1;33m         \u001b[0mscores\u001b[0m \u001b[1;33m+=\u001b[0m \u001b[0mposition_bias\u001b[0m\u001b[1;33m\u001b[0m\u001b[1;33m\u001b[0m\u001b[0m\n\u001b[0m\u001b[0;32m    532\u001b[0m         attn_weights = nn.functional.softmax(scores.float(), dim=-1).type_as(\n\u001b[0;32m    533\u001b[0m             \u001b[0mscores\u001b[0m\u001b[1;33m\u001b[0m\u001b[1;33m\u001b[0m\u001b[0m\n",
      "\u001b[1;31mKeyboardInterrupt\u001b[0m: "
     ]
    }
   ],
   "source": [
    "if(args.valid_begin==1):\n",
    "    my_test(valid_dataloader,cycleGAN,tokenizer,logging,wandb)\n",
    "total_iter = 0    \n",
    "for epoch in range(args.epochs):\n",
    "\n",
    "    logging.info(f\"\\n\\n  ----------------epoch:{epoch}----------------\")\n",
    "    my_train(train_dataloader,cycleGAN,total_iter,args,logging,valid_dataloader,tokenizer,wandb)\n",
    "    my_test(valid_dataloader,cycleGAN,tokenizer,logging,wandb)\n",
    "    #TODO:cycgan.savemodel\n",
    "\n"
   ]
  },
  {
   "cell_type": "code",
   "execution_count": null,
   "metadata": {},
   "outputs": [],
   "source": []
  }
 ],
 "metadata": {
  "interpreter": {
   "hash": "65768f95ed3f1ad80799466926a66640b39a99ef5d94bbece814e59aa067606e"
  },
  "kernelspec": {
   "display_name": "Python 3.8.12 ('python38')",
   "language": "python",
   "name": "python3"
  },
  "language_info": {
   "codemirror_mode": {
    "name": "ipython",
    "version": 3
   },
   "file_extension": ".py",
   "mimetype": "text/x-python",
   "name": "python",
   "nbconvert_exporter": "python",
   "pygments_lexer": "ipython3",
   "version": "3.8.12"
  },
  "orig_nbformat": 4
 },
 "nbformat": 4,
 "nbformat_minor": 2
}
